{
  "cells": [
    {
      "cell_type": "markdown",
      "metadata": {
        "id": "8md3dGQC4qaY"
      },
      "source": [
        "# Drive Mount"
      ]
    },
    {
      "cell_type": "code",
      "execution_count": null,
      "metadata": {
        "colab": {
          "base_uri": "https://localhost:8080/"
        },
        "id": "OqntZ8oYARLN",
        "outputId": "5d27a4ab-c6df-43c4-da9e-fc2f1528ba53"
      },
      "outputs": [
        {
          "name": "stdout",
          "output_type": "stream",
          "text": [
            "Mounted at /content/gdrive\n"
          ]
        }
      ],
      "source": [
        "from google.colab import drive\n",
        "drive.mount('/content/gdrive', force_remount=True)\n",
        "# drive.flush_and_unmount()"
      ]
    },
    {
      "cell_type": "markdown",
      "metadata": {
        "id": "TkyWqVCO5F9f"
      },
      "source": [
        "# Installation and Imports"
      ]
    },
    {
      "cell_type": "code",
      "execution_count": null,
      "metadata": {
        "id": "bT2CiuoumpAh"
      },
      "outputs": [],
      "source": [
        "#  print(transformer. __version__)\n",
        "# !python --version"
      ]
    },
    {
      "cell_type": "code",
      "execution_count": null,
      "metadata": {
        "colab": {
          "base_uri": "https://localhost:8080/"
        },
        "id": "JuBCs6ARcpfk",
        "outputId": "70245322-1ffa-4326-c957-f20179c17392"
      },
      "outputs": [
        {
          "name": "stdout",
          "output_type": "stream",
          "text": [
            "Collecting tensorflow==2.9.*\n",
            "  Downloading tensorflow-2.9.3-cp310-cp310-manylinux_2_17_x86_64.manylinux2014_x86_64.whl (511.8 MB)\n",
            "\u001b[2K     \u001b[90m━━━━━━━━━━━━━━━━━━━━━━━━━━━━━━━━━━━━━━━\u001b[0m \u001b[32m511.8/511.8 MB\u001b[0m \u001b[31m3.4 MB/s\u001b[0m eta \u001b[36m0:00:00\u001b[0m\n",
            "\u001b[?25hRequirement already satisfied: absl-py>=1.0.0 in /usr/local/lib/python3.10/dist-packages (from tensorflow==2.9.*) (1.4.0)\n",
            "Requirement already satisfied: astunparse>=1.6.0 in /usr/local/lib/python3.10/dist-packages (from tensorflow==2.9.*) (1.6.3)\n",
            "Collecting flatbuffers<2,>=1.12 (from tensorflow==2.9.*)\n",
            "  Downloading flatbuffers-1.12-py2.py3-none-any.whl (15 kB)\n",
            "Requirement already satisfied: gast<=0.4.0,>=0.2.1 in /usr/local/lib/python3.10/dist-packages (from tensorflow==2.9.*) (0.4.0)\n",
            "Requirement already satisfied: google-pasta>=0.1.1 in /usr/local/lib/python3.10/dist-packages (from tensorflow==2.9.*) (0.2.0)\n",
            "Requirement already satisfied: grpcio<2.0,>=1.24.3 in /usr/local/lib/python3.10/dist-packages (from tensorflow==2.9.*) (1.56.2)\n",
            "Requirement already satisfied: h5py>=2.9.0 in /usr/local/lib/python3.10/dist-packages (from tensorflow==2.9.*) (3.8.0)\n",
            "Collecting keras<2.10.0,>=2.9.0rc0 (from tensorflow==2.9.*)\n",
            "  Downloading keras-2.9.0-py2.py3-none-any.whl (1.6 MB)\n",
            "\u001b[2K     \u001b[90m━━━━━━━━━━━━━━━━━━━━━━━━━━━━━━━━━━━━━━━━\u001b[0m \u001b[32m1.6/1.6 MB\u001b[0m \u001b[31m88.7 MB/s\u001b[0m eta \u001b[36m0:00:00\u001b[0m\n",
            "\u001b[?25hCollecting keras-preprocessing>=1.1.1 (from tensorflow==2.9.*)\n",
            "  Downloading Keras_Preprocessing-1.1.2-py2.py3-none-any.whl (42 kB)\n",
            "\u001b[2K     \u001b[90m━━━━━━━━━━━━━━━━━━━━━━━━━━━━━━━━━━━━━━━━\u001b[0m \u001b[32m42.6/42.6 kB\u001b[0m \u001b[31m5.1 MB/s\u001b[0m eta \u001b[36m0:00:00\u001b[0m\n",
            "\u001b[?25hRequirement already satisfied: libclang>=13.0.0 in /usr/local/lib/python3.10/dist-packages (from tensorflow==2.9.*) (16.0.6)\n",
            "Requirement already satisfied: numpy>=1.20 in /usr/local/lib/python3.10/dist-packages (from tensorflow==2.9.*) (1.22.4)\n",
            "Requirement already satisfied: opt-einsum>=2.3.2 in /usr/local/lib/python3.10/dist-packages (from tensorflow==2.9.*) (3.3.0)\n",
            "Requirement already satisfied: packaging in /usr/local/lib/python3.10/dist-packages (from tensorflow==2.9.*) (23.1)\n",
            "Collecting protobuf<3.20,>=3.9.2 (from tensorflow==2.9.*)\n",
            "  Downloading protobuf-3.19.6-cp310-cp310-manylinux_2_17_x86_64.manylinux2014_x86_64.whl (1.1 MB)\n",
            "\u001b[2K     \u001b[90m━━━━━━━━━━━━━━━━━━━━━━━━━━━━━━━━━━━━━━━━\u001b[0m \u001b[32m1.1/1.1 MB\u001b[0m \u001b[31m73.5 MB/s\u001b[0m eta \u001b[36m0:00:00\u001b[0m\n",
            "\u001b[?25hRequirement already satisfied: setuptools in /usr/local/lib/python3.10/dist-packages (from tensorflow==2.9.*) (67.7.2)\n",
            "Requirement already satisfied: six>=1.12.0 in /usr/local/lib/python3.10/dist-packages (from tensorflow==2.9.*) (1.16.0)\n",
            "Collecting tensorboard<2.10,>=2.9 (from tensorflow==2.9.*)\n",
            "  Downloading tensorboard-2.9.1-py3-none-any.whl (5.8 MB)\n",
            "\u001b[2K     \u001b[90m━━━━━━━━━━━━━━━━━━━━━━━━━━━━━━━━━━━━━━━━\u001b[0m \u001b[32m5.8/5.8 MB\u001b[0m \u001b[31m80.5 MB/s\u001b[0m eta \u001b[36m0:00:00\u001b[0m\n",
            "\u001b[?25hRequirement already satisfied: tensorflow-io-gcs-filesystem>=0.23.1 in /usr/local/lib/python3.10/dist-packages (from tensorflow==2.9.*) (0.32.0)\n",
            "Collecting tensorflow-estimator<2.10.0,>=2.9.0rc0 (from tensorflow==2.9.*)\n",
            "  Downloading tensorflow_estimator-2.9.0-py2.py3-none-any.whl (438 kB)\n",
            "\u001b[2K     \u001b[90m━━━━━━━━━━━━━━━━━━━━━━━━━━━━━━━━━━━━━━\u001b[0m \u001b[32m438.7/438.7 kB\u001b[0m \u001b[31m33.7 MB/s\u001b[0m eta \u001b[36m0:00:00\u001b[0m\n",
            "\u001b[?25hRequirement already satisfied: termcolor>=1.1.0 in /usr/local/lib/python3.10/dist-packages (from tensorflow==2.9.*) (2.3.0)\n",
            "Requirement already satisfied: typing-extensions>=3.6.6 in /usr/local/lib/python3.10/dist-packages (from tensorflow==2.9.*) (4.7.1)\n",
            "Requirement already satisfied: wrapt>=1.11.0 in /usr/local/lib/python3.10/dist-packages (from tensorflow==2.9.*) (1.14.1)\n",
            "Requirement already satisfied: wheel<1.0,>=0.23.0 in /usr/local/lib/python3.10/dist-packages (from astunparse>=1.6.0->tensorflow==2.9.*) (0.41.0)\n",
            "Requirement already satisfied: google-auth<3,>=1.6.3 in /usr/local/lib/python3.10/dist-packages (from tensorboard<2.10,>=2.9->tensorflow==2.9.*) (2.17.3)\n",
            "Collecting google-auth-oauthlib<0.5,>=0.4.1 (from tensorboard<2.10,>=2.9->tensorflow==2.9.*)\n",
            "  Downloading google_auth_oauthlib-0.4.6-py2.py3-none-any.whl (18 kB)\n",
            "Requirement already satisfied: markdown>=2.6.8 in /usr/local/lib/python3.10/dist-packages (from tensorboard<2.10,>=2.9->tensorflow==2.9.*) (3.4.4)\n",
            "Requirement already satisfied: requests<3,>=2.21.0 in /usr/local/lib/python3.10/dist-packages (from tensorboard<2.10,>=2.9->tensorflow==2.9.*) (2.27.1)\n",
            "Collecting tensorboard-data-server<0.7.0,>=0.6.0 (from tensorboard<2.10,>=2.9->tensorflow==2.9.*)\n",
            "  Downloading tensorboard_data_server-0.6.1-py3-none-manylinux2010_x86_64.whl (4.9 MB)\n",
            "\u001b[2K     \u001b[90m━━━━━━━━━━━━━━━━━━━━━━━━━━━━━━━━━━━━━━━━\u001b[0m \u001b[32m4.9/4.9 MB\u001b[0m \u001b[31m114.5 MB/s\u001b[0m eta \u001b[36m0:00:00\u001b[0m\n",
            "\u001b[?25hCollecting tensorboard-plugin-wit>=1.6.0 (from tensorboard<2.10,>=2.9->tensorflow==2.9.*)\n",
            "  Downloading tensorboard_plugin_wit-1.8.1-py3-none-any.whl (781 kB)\n",
            "\u001b[2K     \u001b[90m━━━━━━━━━━━━━━━━━━━━━━━━━━━━━━━━━━━━━━\u001b[0m \u001b[32m781.3/781.3 kB\u001b[0m \u001b[31m55.1 MB/s\u001b[0m eta \u001b[36m0:00:00\u001b[0m\n",
            "\u001b[?25hRequirement already satisfied: werkzeug>=1.0.1 in /usr/local/lib/python3.10/dist-packages (from tensorboard<2.10,>=2.9->tensorflow==2.9.*) (2.3.6)\n",
            "Requirement already satisfied: cachetools<6.0,>=2.0.0 in /usr/local/lib/python3.10/dist-packages (from google-auth<3,>=1.6.3->tensorboard<2.10,>=2.9->tensorflow==2.9.*) (5.3.1)\n",
            "Requirement already satisfied: pyasn1-modules>=0.2.1 in /usr/local/lib/python3.10/dist-packages (from google-auth<3,>=1.6.3->tensorboard<2.10,>=2.9->tensorflow==2.9.*) (0.3.0)\n",
            "Requirement already satisfied: rsa<5,>=3.1.4 in /usr/local/lib/python3.10/dist-packages (from google-auth<3,>=1.6.3->tensorboard<2.10,>=2.9->tensorflow==2.9.*) (4.9)\n",
            "Requirement already satisfied: requests-oauthlib>=0.7.0 in /usr/local/lib/python3.10/dist-packages (from google-auth-oauthlib<0.5,>=0.4.1->tensorboard<2.10,>=2.9->tensorflow==2.9.*) (1.3.1)\n",
            "Requirement already satisfied: urllib3<1.27,>=1.21.1 in /usr/local/lib/python3.10/dist-packages (from requests<3,>=2.21.0->tensorboard<2.10,>=2.9->tensorflow==2.9.*) (1.26.16)\n",
            "Requirement already satisfied: certifi>=2017.4.17 in /usr/local/lib/python3.10/dist-packages (from requests<3,>=2.21.0->tensorboard<2.10,>=2.9->tensorflow==2.9.*) (2023.7.22)\n",
            "Requirement already satisfied: charset-normalizer~=2.0.0 in /usr/local/lib/python3.10/dist-packages (from requests<3,>=2.21.0->tensorboard<2.10,>=2.9->tensorflow==2.9.*) (2.0.12)\n",
            "Requirement already satisfied: idna<4,>=2.5 in /usr/local/lib/python3.10/dist-packages (from requests<3,>=2.21.0->tensorboard<2.10,>=2.9->tensorflow==2.9.*) (3.4)\n",
            "Requirement already satisfied: MarkupSafe>=2.1.1 in /usr/local/lib/python3.10/dist-packages (from werkzeug>=1.0.1->tensorboard<2.10,>=2.9->tensorflow==2.9.*) (2.1.3)\n",
            "Requirement already satisfied: pyasn1<0.6.0,>=0.4.6 in /usr/local/lib/python3.10/dist-packages (from pyasn1-modules>=0.2.1->google-auth<3,>=1.6.3->tensorboard<2.10,>=2.9->tensorflow==2.9.*) (0.5.0)\n",
            "Requirement already satisfied: oauthlib>=3.0.0 in /usr/local/lib/python3.10/dist-packages (from requests-oauthlib>=0.7.0->google-auth-oauthlib<0.5,>=0.4.1->tensorboard<2.10,>=2.9->tensorflow==2.9.*) (3.2.2)\n",
            "Installing collected packages: tensorboard-plugin-wit, keras, flatbuffers, tensorflow-estimator, tensorboard-data-server, protobuf, keras-preprocessing, google-auth-oauthlib, tensorboard, tensorflow\n",
            "  Attempting uninstall: keras\n",
            "    Found existing installation: keras 2.12.0\n",
            "    Uninstalling keras-2.12.0:\n",
            "      Successfully uninstalled keras-2.12.0\n",
            "  Attempting uninstall: flatbuffers\n",
            "    Found existing installation: flatbuffers 23.5.26\n",
            "    Uninstalling flatbuffers-23.5.26:\n",
            "      Successfully uninstalled flatbuffers-23.5.26\n",
            "  Attempting uninstall: tensorflow-estimator\n",
            "    Found existing installation: tensorflow-estimator 2.12.0\n",
            "    Uninstalling tensorflow-estimator-2.12.0:\n",
            "      Successfully uninstalled tensorflow-estimator-2.12.0\n",
            "  Attempting uninstall: tensorboard-data-server\n",
            "    Found existing installation: tensorboard-data-server 0.7.1\n",
            "    Uninstalling tensorboard-data-server-0.7.1:\n",
            "      Successfully uninstalled tensorboard-data-server-0.7.1\n",
            "  Attempting uninstall: protobuf\n",
            "    Found existing installation: protobuf 3.20.3\n",
            "    Uninstalling protobuf-3.20.3:\n",
            "      Successfully uninstalled protobuf-3.20.3\n",
            "  Attempting uninstall: google-auth-oauthlib\n",
            "    Found existing installation: google-auth-oauthlib 1.0.0\n",
            "    Uninstalling google-auth-oauthlib-1.0.0:\n",
            "      Successfully uninstalled google-auth-oauthlib-1.0.0\n",
            "  Attempting uninstall: tensorboard\n",
            "    Found existing installation: tensorboard 2.12.3\n",
            "    Uninstalling tensorboard-2.12.3:\n",
            "      Successfully uninstalled tensorboard-2.12.3\n",
            "  Attempting uninstall: tensorflow\n",
            "    Found existing installation: tensorflow 2.12.0\n",
            "    Uninstalling tensorflow-2.12.0:\n",
            "      Successfully uninstalled tensorflow-2.12.0\n",
            "\u001b[31mERROR: pip's dependency resolver does not currently take into account all the packages that are installed. This behaviour is the source of the following dependency conflicts.\n",
            "tensorflow-datasets 4.9.2 requires protobuf>=3.20, but you have protobuf 3.19.6 which is incompatible.\n",
            "tensorflow-metadata 1.13.1 requires protobuf<5,>=3.20.3, but you have protobuf 3.19.6 which is incompatible.\u001b[0m\u001b[31m\n",
            "\u001b[0mSuccessfully installed flatbuffers-1.12 google-auth-oauthlib-0.4.6 keras-2.9.0 keras-preprocessing-1.1.2 protobuf-3.19.6 tensorboard-2.9.1 tensorboard-data-server-0.6.1 tensorboard-plugin-wit-1.8.1 tensorflow-2.9.3 tensorflow-estimator-2.9.0\n"
          ]
        },
        {
          "data": {
            "application/vnd.colab-display-data+json": {
              "pip_warning": {
                "packages": [
                  "google"
                ]
              }
            }
          },
          "metadata": {},
          "output_type": "display_data"
        },
        {
          "name": "stdout",
          "output_type": "stream",
          "text": [
            "Collecting tensorflow-text==2.9.*\n",
            "  Downloading tensorflow_text-2.9.0-cp310-cp310-manylinux_2_17_x86_64.manylinux2014_x86_64.whl (4.6 MB)\n",
            "\u001b[?25l     \u001b[90m━━━━━━━━━━━━━━━━━━━━━━━━━━━━━━━━━━━━━━━━\u001b[0m \u001b[32m0.0/4.6 MB\u001b[0m \u001b[31m?\u001b[0m eta \u001b[36m-:--:--\u001b[0m\r\u001b[2K     \u001b[91m╸\u001b[0m\u001b[90m━━━━━━━━━━━━━━━━━━━━━━━━━━━━━━━━━━━━━━━\u001b[0m \u001b[32m0.1/4.6 MB\u001b[0m \u001b[31m3.3 MB/s\u001b[0m eta \u001b[36m0:00:02\u001b[0m\r\u001b[2K     \u001b[91m━━━━━━━━━━━━━━━━━━━━━━━━━━\u001b[0m\u001b[90m╺\u001b[0m\u001b[90m━━━━━━━━━━━━━\u001b[0m \u001b[32m3.0/4.6 MB\u001b[0m \u001b[31m44.0 MB/s\u001b[0m eta \u001b[36m0:00:01\u001b[0m\r\u001b[2K     \u001b[91m━━━━━━━━━━━━━━━━━━━━━━━━━━━━━━━━━━━━━━━\u001b[0m\u001b[91m╸\u001b[0m \u001b[32m4.6/4.6 MB\u001b[0m \u001b[31m55.3 MB/s\u001b[0m eta \u001b[36m0:00:01\u001b[0m\r\u001b[2K     \u001b[90m━━━━━━━━━━━━━━━━━━━━━━━━━━━━━━━━━━━━━━━━\u001b[0m \u001b[32m4.6/4.6 MB\u001b[0m \u001b[31m42.8 MB/s\u001b[0m eta \u001b[36m0:00:00\u001b[0m\n",
            "\u001b[?25hRequirement already satisfied: tensorflow-hub>=0.8.0 in /usr/local/lib/python3.10/dist-packages (from tensorflow-text==2.9.*) (0.14.0)\n",
            "Requirement already satisfied: tensorflow<2.10,>=2.9.0 in /usr/local/lib/python3.10/dist-packages (from tensorflow-text==2.9.*) (2.9.3)\n",
            "Requirement already satisfied: absl-py>=1.0.0 in /usr/local/lib/python3.10/dist-packages (from tensorflow<2.10,>=2.9.0->tensorflow-text==2.9.*) (1.4.0)\n",
            "Requirement already satisfied: astunparse>=1.6.0 in /usr/local/lib/python3.10/dist-packages (from tensorflow<2.10,>=2.9.0->tensorflow-text==2.9.*) (1.6.3)\n",
            "Requirement already satisfied: flatbuffers<2,>=1.12 in /usr/local/lib/python3.10/dist-packages (from tensorflow<2.10,>=2.9.0->tensorflow-text==2.9.*) (1.12)\n",
            "Requirement already satisfied: gast<=0.4.0,>=0.2.1 in /usr/local/lib/python3.10/dist-packages (from tensorflow<2.10,>=2.9.0->tensorflow-text==2.9.*) (0.4.0)\n",
            "Requirement already satisfied: google-pasta>=0.1.1 in /usr/local/lib/python3.10/dist-packages (from tensorflow<2.10,>=2.9.0->tensorflow-text==2.9.*) (0.2.0)\n",
            "Requirement already satisfied: grpcio<2.0,>=1.24.3 in /usr/local/lib/python3.10/dist-packages (from tensorflow<2.10,>=2.9.0->tensorflow-text==2.9.*) (1.56.2)\n",
            "Requirement already satisfied: h5py>=2.9.0 in /usr/local/lib/python3.10/dist-packages (from tensorflow<2.10,>=2.9.0->tensorflow-text==2.9.*) (3.8.0)\n",
            "Requirement already satisfied: keras<2.10.0,>=2.9.0rc0 in /usr/local/lib/python3.10/dist-packages (from tensorflow<2.10,>=2.9.0->tensorflow-text==2.9.*) (2.9.0)\n",
            "Requirement already satisfied: keras-preprocessing>=1.1.1 in /usr/local/lib/python3.10/dist-packages (from tensorflow<2.10,>=2.9.0->tensorflow-text==2.9.*) (1.1.2)\n",
            "Requirement already satisfied: libclang>=13.0.0 in /usr/local/lib/python3.10/dist-packages (from tensorflow<2.10,>=2.9.0->tensorflow-text==2.9.*) (16.0.6)\n",
            "Requirement already satisfied: numpy>=1.20 in /usr/local/lib/python3.10/dist-packages (from tensorflow<2.10,>=2.9.0->tensorflow-text==2.9.*) (1.22.4)\n",
            "Requirement already satisfied: opt-einsum>=2.3.2 in /usr/local/lib/python3.10/dist-packages (from tensorflow<2.10,>=2.9.0->tensorflow-text==2.9.*) (3.3.0)\n",
            "Requirement already satisfied: packaging in /usr/local/lib/python3.10/dist-packages (from tensorflow<2.10,>=2.9.0->tensorflow-text==2.9.*) (23.1)\n",
            "Requirement already satisfied: protobuf<3.20,>=3.9.2 in /usr/local/lib/python3.10/dist-packages (from tensorflow<2.10,>=2.9.0->tensorflow-text==2.9.*) (3.19.6)\n",
            "Requirement already satisfied: setuptools in /usr/local/lib/python3.10/dist-packages (from tensorflow<2.10,>=2.9.0->tensorflow-text==2.9.*) (67.7.2)\n",
            "Requirement already satisfied: six>=1.12.0 in /usr/local/lib/python3.10/dist-packages (from tensorflow<2.10,>=2.9.0->tensorflow-text==2.9.*) (1.16.0)\n",
            "Requirement already satisfied: tensorboard<2.10,>=2.9 in /usr/local/lib/python3.10/dist-packages (from tensorflow<2.10,>=2.9.0->tensorflow-text==2.9.*) (2.9.1)\n",
            "Requirement already satisfied: tensorflow-io-gcs-filesystem>=0.23.1 in /usr/local/lib/python3.10/dist-packages (from tensorflow<2.10,>=2.9.0->tensorflow-text==2.9.*) (0.32.0)\n",
            "Requirement already satisfied: tensorflow-estimator<2.10.0,>=2.9.0rc0 in /usr/local/lib/python3.10/dist-packages (from tensorflow<2.10,>=2.9.0->tensorflow-text==2.9.*) (2.9.0)\n",
            "Requirement already satisfied: termcolor>=1.1.0 in /usr/local/lib/python3.10/dist-packages (from tensorflow<2.10,>=2.9.0->tensorflow-text==2.9.*) (2.3.0)\n",
            "Requirement already satisfied: typing-extensions>=3.6.6 in /usr/local/lib/python3.10/dist-packages (from tensorflow<2.10,>=2.9.0->tensorflow-text==2.9.*) (4.7.1)\n",
            "Requirement already satisfied: wrapt>=1.11.0 in /usr/local/lib/python3.10/dist-packages (from tensorflow<2.10,>=2.9.0->tensorflow-text==2.9.*) (1.14.1)\n",
            "Requirement already satisfied: wheel<1.0,>=0.23.0 in /usr/local/lib/python3.10/dist-packages (from astunparse>=1.6.0->tensorflow<2.10,>=2.9.0->tensorflow-text==2.9.*) (0.41.0)\n",
            "Requirement already satisfied: google-auth<3,>=1.6.3 in /usr/local/lib/python3.10/dist-packages (from tensorboard<2.10,>=2.9->tensorflow<2.10,>=2.9.0->tensorflow-text==2.9.*) (2.17.3)\n",
            "Requirement already satisfied: google-auth-oauthlib<0.5,>=0.4.1 in /usr/local/lib/python3.10/dist-packages (from tensorboard<2.10,>=2.9->tensorflow<2.10,>=2.9.0->tensorflow-text==2.9.*) (0.4.6)\n",
            "Requirement already satisfied: markdown>=2.6.8 in /usr/local/lib/python3.10/dist-packages (from tensorboard<2.10,>=2.9->tensorflow<2.10,>=2.9.0->tensorflow-text==2.9.*) (3.4.4)\n",
            "Requirement already satisfied: requests<3,>=2.21.0 in /usr/local/lib/python3.10/dist-packages (from tensorboard<2.10,>=2.9->tensorflow<2.10,>=2.9.0->tensorflow-text==2.9.*) (2.27.1)\n",
            "Requirement already satisfied: tensorboard-data-server<0.7.0,>=0.6.0 in /usr/local/lib/python3.10/dist-packages (from tensorboard<2.10,>=2.9->tensorflow<2.10,>=2.9.0->tensorflow-text==2.9.*) (0.6.1)\n",
            "Requirement already satisfied: tensorboard-plugin-wit>=1.6.0 in /usr/local/lib/python3.10/dist-packages (from tensorboard<2.10,>=2.9->tensorflow<2.10,>=2.9.0->tensorflow-text==2.9.*) (1.8.1)\n",
            "Requirement already satisfied: werkzeug>=1.0.1 in /usr/local/lib/python3.10/dist-packages (from tensorboard<2.10,>=2.9->tensorflow<2.10,>=2.9.0->tensorflow-text==2.9.*) (2.3.6)\n",
            "Requirement already satisfied: cachetools<6.0,>=2.0.0 in /usr/local/lib/python3.10/dist-packages (from google-auth<3,>=1.6.3->tensorboard<2.10,>=2.9->tensorflow<2.10,>=2.9.0->tensorflow-text==2.9.*) (5.3.1)\n",
            "Requirement already satisfied: pyasn1-modules>=0.2.1 in /usr/local/lib/python3.10/dist-packages (from google-auth<3,>=1.6.3->tensorboard<2.10,>=2.9->tensorflow<2.10,>=2.9.0->tensorflow-text==2.9.*) (0.3.0)\n",
            "Requirement already satisfied: rsa<5,>=3.1.4 in /usr/local/lib/python3.10/dist-packages (from google-auth<3,>=1.6.3->tensorboard<2.10,>=2.9->tensorflow<2.10,>=2.9.0->tensorflow-text==2.9.*) (4.9)\n",
            "Requirement already satisfied: requests-oauthlib>=0.7.0 in /usr/local/lib/python3.10/dist-packages (from google-auth-oauthlib<0.5,>=0.4.1->tensorboard<2.10,>=2.9->tensorflow<2.10,>=2.9.0->tensorflow-text==2.9.*) (1.3.1)\n",
            "Requirement already satisfied: urllib3<1.27,>=1.21.1 in /usr/local/lib/python3.10/dist-packages (from requests<3,>=2.21.0->tensorboard<2.10,>=2.9->tensorflow<2.10,>=2.9.0->tensorflow-text==2.9.*) (1.26.16)\n",
            "Requirement already satisfied: certifi>=2017.4.17 in /usr/local/lib/python3.10/dist-packages (from requests<3,>=2.21.0->tensorboard<2.10,>=2.9->tensorflow<2.10,>=2.9.0->tensorflow-text==2.9.*) (2023.7.22)\n",
            "Requirement already satisfied: charset-normalizer~=2.0.0 in /usr/local/lib/python3.10/dist-packages (from requests<3,>=2.21.0->tensorboard<2.10,>=2.9->tensorflow<2.10,>=2.9.0->tensorflow-text==2.9.*) (2.0.12)\n",
            "Requirement already satisfied: idna<4,>=2.5 in /usr/local/lib/python3.10/dist-packages (from requests<3,>=2.21.0->tensorboard<2.10,>=2.9->tensorflow<2.10,>=2.9.0->tensorflow-text==2.9.*) (3.4)\n",
            "Requirement already satisfied: MarkupSafe>=2.1.1 in /usr/local/lib/python3.10/dist-packages (from werkzeug>=1.0.1->tensorboard<2.10,>=2.9->tensorflow<2.10,>=2.9.0->tensorflow-text==2.9.*) (2.1.3)\n",
            "Requirement already satisfied: pyasn1<0.6.0,>=0.4.6 in /usr/local/lib/python3.10/dist-packages (from pyasn1-modules>=0.2.1->google-auth<3,>=1.6.3->tensorboard<2.10,>=2.9->tensorflow<2.10,>=2.9.0->tensorflow-text==2.9.*) (0.5.0)\n",
            "Requirement already satisfied: oauthlib>=3.0.0 in /usr/local/lib/python3.10/dist-packages (from requests-oauthlib>=0.7.0->google-auth-oauthlib<0.5,>=0.4.1->tensorboard<2.10,>=2.9->tensorflow<2.10,>=2.9.0->tensorflow-text==2.9.*) (3.2.2)\n",
            "Installing collected packages: tensorflow-text\n",
            "Successfully installed tensorflow-text-2.9.0\n",
            "Collecting tensorflow-addons\n",
            "  Downloading tensorflow_addons-0.21.0-cp310-cp310-manylinux_2_17_x86_64.manylinux2014_x86_64.whl (612 kB)\n",
            "\u001b[2K     \u001b[90m━━━━━━━━━━━━━━━━━━━━━━━━━━━━━━━━━━━━━━━\u001b[0m \u001b[32m612.1/612.1 kB\u001b[0m \u001b[31m8.2 MB/s\u001b[0m eta \u001b[36m0:00:00\u001b[0m\n",
            "\u001b[?25hRequirement already satisfied: packaging in /usr/local/lib/python3.10/dist-packages (from tensorflow-addons) (23.1)\n",
            "Collecting typeguard<3.0.0,>=2.7 (from tensorflow-addons)\n",
            "  Downloading typeguard-2.13.3-py3-none-any.whl (17 kB)\n",
            "Installing collected packages: typeguard, tensorflow-addons\n",
            "Successfully installed tensorflow-addons-0.21.0 typeguard-2.13.3\n"
          ]
        }
      ],
      "source": [
        "!pip install -U \"tensorflow==2.9.*\"\n",
        "!pip install -U \"tensorflow-text==2.9.*\"\n",
        "!pip install tensorflow-addons"
      ]
    },
    {
      "cell_type": "code",
      "execution_count": null,
      "metadata": {
        "colab": {
          "base_uri": "https://localhost:8080/"
        },
        "id": "TI2179PHAYex",
        "outputId": "1027c5b2-ad54-4490-b8ec-7deb907949b9"
      },
      "outputs": [
        {
          "name": "stdout",
          "output_type": "stream",
          "text": [
            "Collecting transformers\n",
            "  Downloading transformers-4.31.0-py3-none-any.whl (7.4 MB)\n",
            "\u001b[2K     \u001b[90m━━━━━━━━━━━━━━━━━━━━━━━━━━━━━━━━━━━━━━━━\u001b[0m \u001b[32m7.4/7.4 MB\u001b[0m \u001b[31m36.2 MB/s\u001b[0m eta \u001b[36m0:00:00\u001b[0m\n",
            "\u001b[?25hRequirement already satisfied: filelock in /usr/local/lib/python3.10/dist-packages (from transformers) (3.12.2)\n",
            "Collecting huggingface-hub<1.0,>=0.14.1 (from transformers)\n",
            "  Downloading huggingface_hub-0.16.4-py3-none-any.whl (268 kB)\n",
            "\u001b[2K     \u001b[90m━━━━━━━━━━━━━━━━━━━━━━━━━━━━━━━━━━━━━━\u001b[0m \u001b[32m268.8/268.8 kB\u001b[0m \u001b[31m21.6 MB/s\u001b[0m eta \u001b[36m0:00:00\u001b[0m\n",
            "\u001b[?25hRequirement already satisfied: numpy>=1.17 in /usr/local/lib/python3.10/dist-packages (from transformers) (1.22.4)\n",
            "Requirement already satisfied: packaging>=20.0 in /usr/local/lib/python3.10/dist-packages (from transformers) (23.1)\n",
            "Requirement already satisfied: pyyaml>=5.1 in /usr/local/lib/python3.10/dist-packages (from transformers) (6.0.1)\n",
            "Requirement already satisfied: regex!=2019.12.17 in /usr/local/lib/python3.10/dist-packages (from transformers) (2022.10.31)\n",
            "Requirement already satisfied: requests in /usr/local/lib/python3.10/dist-packages (from transformers) (2.27.1)\n",
            "Collecting tokenizers!=0.11.3,<0.14,>=0.11.1 (from transformers)\n",
            "  Downloading tokenizers-0.13.3-cp310-cp310-manylinux_2_17_x86_64.manylinux2014_x86_64.whl (7.8 MB)\n",
            "\u001b[2K     \u001b[90m━━━━━━━━━━━━━━━━━━━━━━━━━━━━━━━━━━━━━━━━\u001b[0m \u001b[32m7.8/7.8 MB\u001b[0m \u001b[31m95.5 MB/s\u001b[0m eta \u001b[36m0:00:00\u001b[0m\n",
            "\u001b[?25hCollecting safetensors>=0.3.1 (from transformers)\n",
            "  Downloading safetensors-0.3.1-cp310-cp310-manylinux_2_17_x86_64.manylinux2014_x86_64.whl (1.3 MB)\n",
            "\u001b[2K     \u001b[90m━━━━━━━━━━━━━━━━━━━━━━━━━━━━━━━━━━━━━━━━\u001b[0m \u001b[32m1.3/1.3 MB\u001b[0m \u001b[31m67.6 MB/s\u001b[0m eta \u001b[36m0:00:00\u001b[0m\n",
            "\u001b[?25hRequirement already satisfied: tqdm>=4.27 in /usr/local/lib/python3.10/dist-packages (from transformers) (4.65.0)\n",
            "Requirement already satisfied: fsspec in /usr/local/lib/python3.10/dist-packages (from huggingface-hub<1.0,>=0.14.1->transformers) (2023.6.0)\n",
            "Requirement already satisfied: typing-extensions>=3.7.4.3 in /usr/local/lib/python3.10/dist-packages (from huggingface-hub<1.0,>=0.14.1->transformers) (4.7.1)\n",
            "Requirement already satisfied: urllib3<1.27,>=1.21.1 in /usr/local/lib/python3.10/dist-packages (from requests->transformers) (1.26.16)\n",
            "Requirement already satisfied: certifi>=2017.4.17 in /usr/local/lib/python3.10/dist-packages (from requests->transformers) (2023.7.22)\n",
            "Requirement already satisfied: charset-normalizer~=2.0.0 in /usr/local/lib/python3.10/dist-packages (from requests->transformers) (2.0.12)\n",
            "Requirement already satisfied: idna<4,>=2.5 in /usr/local/lib/python3.10/dist-packages (from requests->transformers) (3.4)\n",
            "Installing collected packages: tokenizers, safetensors, huggingface-hub, transformers\n",
            "Successfully installed huggingface-hub-0.16.4 safetensors-0.3.1 tokenizers-0.13.3 transformers-4.31.0\n",
            "Requirement already satisfied: torch in /usr/local/lib/python3.10/dist-packages (2.0.1+cu118)\n",
            "Requirement already satisfied: filelock in /usr/local/lib/python3.10/dist-packages (from torch) (3.12.2)\n",
            "Requirement already satisfied: typing-extensions in /usr/local/lib/python3.10/dist-packages (from torch) (4.7.1)\n",
            "Requirement already satisfied: sympy in /usr/local/lib/python3.10/dist-packages (from torch) (1.11.1)\n",
            "Requirement already satisfied: networkx in /usr/local/lib/python3.10/dist-packages (from torch) (3.1)\n",
            "Requirement already satisfied: jinja2 in /usr/local/lib/python3.10/dist-packages (from torch) (3.1.2)\n",
            "Requirement already satisfied: triton==2.0.0 in /usr/local/lib/python3.10/dist-packages (from torch) (2.0.0)\n",
            "Requirement already satisfied: cmake in /usr/local/lib/python3.10/dist-packages (from triton==2.0.0->torch) (3.25.2)\n",
            "Requirement already satisfied: lit in /usr/local/lib/python3.10/dist-packages (from triton==2.0.0->torch) (16.0.6)\n",
            "Requirement already satisfied: MarkupSafe>=2.0 in /usr/local/lib/python3.10/dist-packages (from jinja2->torch) (2.1.3)\n",
            "Requirement already satisfied: mpmath>=0.19 in /usr/local/lib/python3.10/dist-packages (from sympy->torch) (1.3.0)\n"
          ]
        }
      ],
      "source": [
        "!pip install transformers\n",
        "!pip install torch\n",
        "# !pip install tensorflow\n",
        "# !pip install tensorflow-addons"
      ]
    },
    {
      "cell_type": "code",
      "execution_count": null,
      "metadata": {
        "colab": {
          "base_uri": "https://localhost:8080/"
        },
        "id": "rKT7M-fQTJPo",
        "outputId": "3c6fe8b0-59aa-4ed4-9771-f38de3c437d1"
      },
      "outputs": [
        {
          "name": "stderr",
          "output_type": "stream",
          "text": [
            "/usr/local/lib/python3.10/dist-packages/tensorflow_addons/utils/tfa_eol_msg.py:23: UserWarning: \n",
            "\n",
            "TensorFlow Addons (TFA) has ended development and introduction of new features.\n",
            "TFA has entered a minimal maintenance and release mode until a planned end of life in May 2024.\n",
            "Please modify downstream libraries to take dependencies from other repositories in our TensorFlow community (e.g. Keras, Keras-CV, and Keras-NLP). \n",
            "\n",
            "For more information see: https://github.com/tensorflow/addons/issues/2807 \n",
            "\n",
            "  warnings.warn(\n",
            "/usr/local/lib/python3.10/dist-packages/tensorflow_addons/utils/ensure_tf_install.py:53: UserWarning: Tensorflow Addons supports using Python ops for all Tensorflow versions above or equal to 2.11.0 and strictly below 2.14.0 (nightly versions are not supported). \n",
            " The versions of TensorFlow you are currently using is 2.9.3 and is not supported. \n",
            "Some things might work, some things might not.\n",
            "If you were to encounter a bug, do not file an issue.\n",
            "If you want to make sure you're using a tested and supported configuration, either change the TensorFlow version or the TensorFlow Addons's version. \n",
            "You can find the compatibility matrix in TensorFlow Addon's readme:\n",
            "https://github.com/tensorflow/addons\n",
            "  warnings.warn(\n"
          ]
        }
      ],
      "source": [
        "import pandas as pd\n",
        "from transformers import BertTokenizer, AutoTokenizer, BertModel, AlbertModel, DistilBertModel, GPT2Model, AutoModel\n",
        "import tensorflow as tf\n",
        "# import tensorflow_hub as hub\n",
        "# import tensorflow_text as text\n",
        "import tensorflow_addons as tfa\n",
        "from sklearn.utils import shuffle\n",
        "\n",
        "import torch\n",
        "from torch import nn\n",
        "import numpy as np\n",
        "from gensim.models import Word2Vec"
      ]
    },
    {
      "cell_type": "markdown",
      "metadata": {
        "id": "NPtXTNbSeqUG"
      },
      "source": [
        "# File Read"
      ]
    },
    {
      "cell_type": "code",
      "execution_count": null,
      "metadata": {
        "colab": {
          "base_uri": "https://localhost:8080/"
        },
        "id": "vp6d6G0TTMpf",
        "outputId": "9f4f93d0-e8d9-456b-b3be-e3001f4fd5d7"
      },
      "outputs": [
        {
          "name": "stdout",
          "output_type": "stream",
          "text": [
            "(5000, 3) (5000, 3) (1800, 4) (1800, 3)\n",
            "(4400, 3) (4400, 3) (1800, 4) (1800, 3)\n"
          ]
        }
      ],
      "source": [
        "root_dir = '/content/gdrive/MyDrive/Research/Thesis/SarcasmDataset/'\n",
        "twitterTraining = root_dir + '/twitter/sarcasm_detection_shared_task_twitter_training.jsonl'\n",
        "twitterTesting = root_dir + 'twitter/sarcasm_detection_shared_task_twitter_testing.jsonl'\n",
        "redditTraining = root_dir + 'reddit/sarcasm_detection_shared_task_reddit_training.jsonl'\n",
        "redditTesting = root_dir + 'reddit/sarcasm_detection_shared_task_reddit_testing.jsonl'\n",
        "\n",
        "folder = 'spacyPreprocessed/'\n",
        "twitterTrainingProcessed = root_dir + folder + 'processedFileTwitterNew4.jsonl'\n",
        "twitterTestingProcessed = root_dir +  folder + 'processed_twitter_testing.jsonl'\n",
        "redditTrainingProcessed = root_dir +  folder + 'processed_reddit_training.jsonl'\n",
        "redditTestingProcessed = root_dir +  folder + 'processed_reddit_testing.jsonl'\n",
        "\n",
        "\n",
        "df11 = pd.read_json(twitterTraining, lines=True)\n",
        "df12 = pd.read_json(twitterTrainingProcessed, lines=True)\n",
        "\n",
        "df13 = pd.read_json(twitterTesting, lines=True)\n",
        "df14 = pd.read_json(twitterTestingProcessed, lines=True)\n",
        "\n",
        "df21 = pd.read_json(redditTraining, lines=True)\n",
        "df22 = pd.read_json(redditTrainingProcessed, lines=True)\n",
        "\n",
        "df23 = pd.read_json(redditTesting, lines=True)\n",
        "df24 = pd.read_json(redditTestingProcessed, lines=True)\n",
        "\n",
        "print(df11.shape, df12.shape, df13.shape, df14.shape)\n",
        "print(df21.shape, df22.shape, df23.shape, df24.shape)\n",
        "\n"
      ]
    },
    {
      "cell_type": "code",
      "execution_count": null,
      "metadata": {
        "id": "jSeT-1YyWBa3"
      },
      "outputs": [],
      "source": [
        "df12 = df12.append(df22)\n",
        "df12 = df12.dropna() # remove all None rows.\n",
        "df12 = shuffle(df12)\n",
        "\n",
        "\n",
        "df12['contextString'] = df12['context'].apply(lambda x: ' '.join(x))\n",
        "df12['sarcasm']=df12['label'].apply(lambda x: 1 if x=='SARCASM' else 0)\n",
        "\n",
        "\n",
        "df14['contextString'] = df14['context'].apply(lambda x: ' '.join(x))\n",
        "df14['sarcasm']=df14['label'].apply(lambda x: 1 if x=='SARCASM' else 0)\n",
        "df24['contextString'] = df24['context'].apply(lambda x: ' '.join(x))\n",
        "df24['sarcasm']=df24['label'].apply(lambda x: 1 if x=='SARCASM' else 0)"
      ]
    },
    {
      "cell_type": "code",
      "execution_count": null,
      "metadata": {
        "id": "XiZHu909asRP"
      },
      "outputs": [],
      "source": [
        "# Define the text columns and label column\n",
        "text_col_1 = \"contextString\"\n",
        "text_col_2 = \"response\"\n",
        "label_col = \"sarcasm\"\n",
        "\n",
        "filepath = \"/content/gdrive/MyDrive/embeddings/spacy/\""
      ]
    },
    {
      "cell_type": "markdown",
      "metadata": {
        "id": "X04RZXAQW2SB"
      },
      "source": [
        "# Generate Embedding"
      ]
    },
    {
      "cell_type": "markdown",
      "metadata": {
        "id": "FaRgxxGuS3Hf"
      },
      "source": [
        "The following code will generate -\n",
        "\n",
        "\n",
        "*   BERT-base-uncased embedding\n",
        "*   BERT-large-uncased embedding\n",
        "*   ROBERTa embedding\n",
        "*   DistilBERT embedding\n",
        "*   AlBERT embedding\n",
        "*   GPT embedding (For gpt2 embedding, you have to uncomment the comment out snippet starting with `for GPT2` in the code)\n",
        "\n",
        "The `generateEmbeddings()` function takes 3 parameters\n",
        "* the dataframe where the text data to be embedded is assigned\n",
        "* the `train\\` or `test\\twitter\\` or `test\\reddit` directory to save the embeddings\n",
        "* the 3rd parameter is for which embeddings are done being generated. This is a precaution in case of system crashes. For example, if 'bert-base-uncased' and 'bert-large-uncased' are already generated, to start from the next embedding generation, this parameter will be 2. This is set according to the indices of the embedding in the`strings` list.\n",
        "\n",
        "\n",
        "\n"
      ]
    },
    {
      "cell_type": "code",
      "execution_count": null,
      "metadata": {
        "id": "jH6GSZvLlHe1"
      },
      "outputs": [],
      "source": [
        "filepath = \"/content/gdrive/MyDrive/embeddings/spacy/\"\n",
        "\n",
        "def generateEmbeddings(df, dir, done):\n",
        "  tokenizer = AutoTokenizer\n",
        "  models = [BertModel, BertModel, BertModel, DistilBertModel, AutoModel, GPT2Model]\n",
        "  strings= ['bert-base-uncased','bert-large-uncased', 'roberta-base','distilbert-base-cased', 'albert-base-v2',  'gpt2',]\n",
        "\n",
        "  temp1Path = filepath+dir+'temp1.npy'\n",
        "  temp2Path = filepath+dir+'temp2.npy'\n",
        "\n",
        "  embeddings_1 = []\n",
        "  embeddings_2 = []\n",
        "\n",
        "\n",
        "  for k in range(len(models)):\n",
        "    if k<done:\n",
        "      print(\"continue\")\n",
        "      continue\n",
        "\n",
        "    tokenizer = AutoTokenizer.from_pretrained(strings[k]) # BertTokenizer.from_pretrained\n",
        "    model = models[k].from_pretrained(strings[k])\n",
        "\n",
        "\n",
        "    for i in range(len(df)):\n",
        "\n",
        "      text_1 = df.iloc[i][text_col_1]\n",
        "      text_2 = df.iloc[i][text_col_2]\n",
        "      # # for GPT2\n",
        "      # if len(text_1)<1:\n",
        "      #   text_2 = \" \"\n",
        "      # if len(text_2)<1:\n",
        "      #   text_2 = \" \"\n",
        "\n",
        "      input_ids_1 = tokenizer.encode(text_1, return_tensors='pt',max_length=512, truncation=True)\n",
        "      last_hidden_states_1 = model(input_ids_1)[0]\n",
        "      embeddings_1.append(last_hidden_states_1[0][0].detach().numpy())\n",
        "\n",
        "\n",
        "      input_ids_2 = tokenizer.encode(text_2, return_tensors='pt',max_length=512, truncation=True)\n",
        "      last_hidden_states_2 = model(input_ids_2)[0]\n",
        "      embeddings_2.append(last_hidden_states_2[0][0].detach().numpy())\n",
        "\n",
        "\n",
        "    embeddings_12 = np.array(list(zip(embeddings_1, embeddings_2)))\n",
        "    embeddings_12 = embeddings_12.reshape(embeddings_12.shape[0],embeddings_12.shape[1],embeddings_12.shape[2])\n",
        "\n",
        "    np.save(filepath+dir+strings[k], np.array(embeddings_12))\n",
        "    array = df12[label_col].to_numpy()\n",
        "    np.save(filepath+dir+strings[k]+'_Y', array)\n",
        "    print(embeddings_12.shape)\n",
        "\n",
        "    print(strings[k]+\" - done\\n\")\n",
        "    embeddings_1.clear()\n",
        "    embeddings_2.clear()\n",
        "\n"
      ]
    },
    {
      "cell_type": "markdown",
      "metadata": {
        "id": "DYXaUl6KVRlr"
      },
      "source": [
        "The following code simply calls the `generateEmbeddings()` function"
      ]
    },
    {
      "cell_type": "code",
      "execution_count": null,
      "metadata": {
        "id": "0PskVtMEVQeu"
      },
      "outputs": [],
      "source": [
        "# generateEmbeddings(df12, \"train/\", 0)\n",
        "# generateEmbeddings(df14, \"test/twitter/\", 0)\n",
        "# generateEmbeddings(df24, \"test/reddit/\", 0)"
      ]
    },
    {
      "cell_type": "markdown",
      "metadata": {
        "id": "tn_PcZYH5j69"
      },
      "source": [
        "# init variables"
      ]
    },
    {
      "cell_type": "code",
      "execution_count": null,
      "metadata": {
        "id": "JYcAUEsQ5irR"
      },
      "outputs": [],
      "source": [
        "# filepath = \"/content/gdrive/MyDrive/embeddings/spacy/\"\n",
        "filepath = \"path/to/saved/embeddings/directory\""
      ]
    },
    {
      "cell_type": "code",
      "execution_count": null,
      "metadata": {
        "id": "JWx8bdGqlvO2"
      },
      "outputs": [],
      "source": [
        "# embeddingModel = 'bert-base-uncased'\n",
        "embeddingModel = 'bert-large-uncased'\n",
        "# embeddingModel = 'roberta-base'\n",
        "# embeddingModel = 'distilbert-base-cased'\n",
        "# embeddingModel = 'gpt2'\n",
        "# embeddingModel = 'albert-base-v2'"
      ]
    },
    {
      "cell_type": "code",
      "execution_count": null,
      "metadata": {
        "id": "NUADP_WxmR2T"
      },
      "outputs": [],
      "source": [
        "x_train = np.load(filepath+'train/'+embeddingModel+'.npy')\n",
        "y_train = np.load(filepath+'train/'+embeddingModel+'_Y'+'.npy')\n",
        "\n",
        "samples = x_train.shape[0]\n",
        "feature_number = x_train.shape[2]\n",
        "dim = x_train.shape[1]"
      ]
    },
    {
      "cell_type": "code",
      "execution_count": null,
      "metadata": {
        "id": "zNKWwk3_K6iF"
      },
      "outputs": [],
      "source": [
        "# TWITTER TEST DATASET\n",
        "x_test = np.load(filepath+'/test/twitter/'+embeddingModel+'.npy')\n",
        "y_test = np.array(df14[label_col]).reshape(len(df14[label_col]),1)\n",
        "\n",
        "# REDDIT TEST DATASET\n",
        "x_test2 = np.load(filepath+'/test/reddit/'+embeddingModel+'.npy')\n",
        "y_test2 = np.array(df24[label_col]).reshape(len(df24[label_col]),1)\n",
        "\n",
        "# COMBINED TEST DATASET\n",
        "x_test_ = np.concatenate((x_test, x_test2))\n",
        "y_test_ = np.append(y_test, y_test2)"
      ]
    },
    {
      "cell_type": "markdown",
      "metadata": {
        "id": "Q9BDWwAKPAFg"
      },
      "source": [
        "# Loss functions and Callback"
      ]
    },
    {
      "cell_type": "code",
      "execution_count": null,
      "metadata": {
        "id": "0fPm59k-PTDf"
      },
      "outputs": [],
      "source": [
        "early_stop = tf.keras.callbacks.EarlyStopping(\n",
        "  monitor='val_loss',   # monitor the validation loss\n",
        "  patience=10,          # stop training after 10 epochs with no improvement\n",
        "  restore_best_weights=True  # restore the weights from the best epoch\n",
        ")"
      ]
    },
    {
      "cell_type": "code",
      "execution_count": null,
      "metadata": {
        "id": "GOQa_MqwPBUB"
      },
      "outputs": [],
      "source": [
        "# Contrastive loss\n",
        "def contrastive_loss(y_true, y_pred):\n",
        "    \"\"\"Contrastive loss function.\n",
        "\n",
        "    Args:\n",
        "        y_true: Ground truth labels.\n",
        "        y_pred: Predicted labels.\n",
        "\n",
        "    Returns:\n",
        "        Loss value.\n",
        "    \"\"\"\n",
        "    y_true = tf.cast(y_true, tf.float32)  # Cast y_true to float32\n",
        "    loss = tf.reduce_mean(tf.square(y_true - y_pred))\n",
        "    return loss\n"
      ]
    },
    {
      "cell_type": "markdown",
      "metadata": {
        "id": "_Idw2vUO7Iqp"
      },
      "source": [
        "# model3 - 0.67, 0.72, 0.69"
      ]
    },
    {
      "cell_type": "code",
      "execution_count": null,
      "metadata": {
        "id": "b118vtX37Dmm"
      },
      "outputs": [],
      "source": [
        "from tensorflow.keras.layers import Input, Reshape, Lambda, LSTM, concatenate, Dense, Dropout, Attention\n",
        "from tensorflow.keras.models import Model\n",
        "from tensorflow.keras import backend as K"
      ]
    },
    {
      "cell_type": "markdown",
      "metadata": {
        "id": "6WuQloKgYB07"
      },
      "source": [
        "The following function `genModel()` generates classification model."
      ]
    },
    {
      "cell_type": "code",
      "execution_count": null,
      "metadata": {
        "id": "vpNU8YyXHX_r"
      },
      "outputs": [],
      "source": [
        "import tensorflow as tf\n",
        "\n",
        "def attention_merge(lstm_1, lstm_2):\n",
        "  attention = Attention()([lstm_1, lstm_2])\n",
        "  merged_lstm = attention * lstm_1 + (1 - attention) * lstm_2\n",
        "  return merged_lstm\n",
        "\n",
        "def addition_merge(lstm_1, lstm_2):\n",
        "  merged_lstm = lstm_1 + lstm_2\n",
        "  return merged_lstm\n",
        "\n",
        "def concatenate_merge(lstm_1, lstm_2):\n",
        "  merged_lstm = concatenate([lstm_1, lstm_2], axis=2)\n",
        "  return merged_lstm\n",
        "\n",
        "def genModel(merge):\n",
        "    input_1 = Input(shape=(None, feature_number))\n",
        "    input_2 = Input(shape=(None, feature_number))\n",
        "\n",
        "    # Reshape inputs to 3D tensors\n",
        "    lstm_input_1 = Reshape((-1, feature_number))(input_1)\n",
        "    lstm_input_2 = Reshape((-1, feature_number))(input_2)\n",
        "\n",
        "    lstm_1 = LSTM(units=256, return_sequences=True, activation='sigmoid')(lstm_input_1)\n",
        "    lstm_2 = LSTM(units=256, return_sequences=True, activation='sigmoid')(lstm_input_2)\n",
        "\n",
        "\n",
        "    lstm_1 = LSTM(units=128, return_sequences=True, activation='sigmoid')(lstm_input_1)\n",
        "    lstm_2 = LSTM(units=128, return_sequences=True,  activation='sigmoid')(lstm_input_2)\n",
        "\n",
        "    # merged_lstm = attention_merge(lstm_1, lstm_2)\n",
        "    # merged_lstm = addition_merge(lstm_1, lstm_2)\n",
        "    # merged_lstm = concatenate_merge(lstm_1, lstm_2)\n",
        "    merged_lstm = merge(lstm_1, lstm_2)\n",
        "\n",
        "    merged_lstm = Reshape((1, merged_lstm.shape[2]))(merged_lstm)\n",
        "\n",
        "\n",
        "    merged_lstm = LSTM(units=128, activation='relu')(merged_lstm)\n",
        "    merged_lstm = Dropout(rate=0.1)(merged_lstm)\n",
        "    merged_lstm = Dense(units=256, activation='relu')(merged_lstm)\n",
        "    merged_lstm = Dropout(rate=0.1)(merged_lstm)\n",
        "\n",
        "    merged_lstm = Dense(units=256, activation='relu')(merged_lstm)\n",
        "    merged_lstm = Reshape((1, merged_lstm.shape[1]))(merged_lstm)\n",
        "    merged_lstm = Dropout(rate=0.1)(merged_lstm)\n",
        "    merged_lstm = LSTM(units=128, activation='relu')(merged_lstm)\n",
        "\n",
        "    merged_lstm = Dense(units=128, activation='relu')(merged_lstm)\n",
        "    merged_lstm = Reshape((1, merged_lstm.shape[1]))(merged_lstm)\n",
        "    merged_lstm = Dropout(rate=0.1)(merged_lstm)\n",
        "    merged_lstm = LSTM(units=128, activation='relu')(merged_lstm)\n",
        "\n",
        "\n",
        "    output_layer = Dense(units=1, activation='sigmoid')(merged_lstm)\n",
        "\n",
        "    model = Model(inputs=[input_1, input_2], outputs=output_layer)\n",
        "\n",
        "    return model\n"
      ]
    },
    {
      "cell_type": "markdown",
      "metadata": {
        "id": "JSDFPR83YQYK"
      },
      "source": [
        "The following function `run()` compiles and evaluates the model with 3 test datasets - Twitter dataset, Reddit Dataset, and their Combined Dataset."
      ]
    },
    {
      "cell_type": "code",
      "execution_count": null,
      "metadata": {
        "id": "cfqGzzVU7Dm1"
      },
      "outputs": [],
      "source": [
        "def run(model, name):\n",
        "    opt = tf.keras.optimizers.Adamax(learning_rate=1e-3)\n",
        "\n",
        "\n",
        "    metrics = [tf.keras.metrics.TruePositives(name='tp'),\n",
        "              tf.keras.metrics.FalsePositives(name='fp'),\n",
        "              tf.keras.metrics.TrueNegatives(name='tn'),\n",
        "              tf.keras.metrics.FalseNegatives(name='fn'),\n",
        "              tf.keras.metrics.BinaryAccuracy(name='accuracy'),\n",
        "              tf.keras.metrics.Precision(name='precision'),\n",
        "              tf.keras.metrics.Recall(name='recall'),\n",
        "              tfa.metrics.F1Score(num_classes=2, average='micro', threshold=0.2557),\n",
        "              tf.keras.metrics.AUC(name='auc')]\n",
        "\n",
        "    # Compile the model\n",
        "    model.compile(optimizer=opt, loss=contrastive_loss, metrics=metrics)\n",
        "\n",
        "    model.fit(x=[x_train[:, 0], x_train[:, 1]], y=y_train, batch_size=256, epochs=729, validation_split=0.3, callbacks = [early_stop])\n",
        "\n",
        "    test_ = model.evaluate(x=[x_test_[:, 0], x_test_[:, 1]], y=y_test_)\n",
        "    test2 = model.evaluate(x=[x_test2[:, 0], x_test2[:, 1]], y=y_test2)\n",
        "    test = model.evaluate(x=[x_test[:, 0], x_test[:, 1]], y=y_test)\n",
        "\n",
        "    model.save(name)\n",
        "\n",
        "\n",
        "    return [test_, test2, test]\n",
        "\n"
      ]
    },
    {
      "cell_type": "markdown",
      "metadata": {
        "id": "fAI3Bbo4YhUi"
      },
      "source": [
        "The following are the function calls for generating model, compiling and evaluating them."
      ]
    },
    {
      "cell_type": "code",
      "execution_count": null,
      "metadata": {
        "colab": {
          "base_uri": "https://localhost:8080/"
        },
        "id": "b5PFPTsg7Dm2",
        "outputId": "6ce543be-8a3d-4f73-a883-3bf86a0b67e9"
      },
      "outputs": [
        {
          "name": "stdout",
          "output_type": "stream",
          "text": [
            "Epoch 1/729\n"
          ]
        },
        {
          "name": "stderr",
          "output_type": "stream",
          "text": [
            "WARNING:tensorflow:Model was constructed with shape (None, None, 1024) for input KerasTensor(type_spec=TensorSpec(shape=(None, None, 1024), dtype=tf.float32, name='input_1'), name='input_1', description=\"created by layer 'input_1'\"), but it was called on an input with incompatible shape (None, 1024).\n",
            "WARNING:tensorflow:Model was constructed with shape (None, None, 1024) for input KerasTensor(type_spec=TensorSpec(shape=(None, None, 1024), dtype=tf.float32, name='input_2'), name='input_2', description=\"created by layer 'input_2'\"), but it was called on an input with incompatible shape (None, 1024).\n",
            "WARNING:tensorflow:Model was constructed with shape (None, None, 1024) for input KerasTensor(type_spec=TensorSpec(shape=(None, None, 1024), dtype=tf.float32, name='input_1'), name='input_1', description=\"created by layer 'input_1'\"), but it was called on an input with incompatible shape (None, 1024).\n",
            "WARNING:tensorflow:Model was constructed with shape (None, None, 1024) for input KerasTensor(type_spec=TensorSpec(shape=(None, None, 1024), dtype=tf.float32, name='input_2'), name='input_2', description=\"created by layer 'input_2'\"), but it was called on an input with incompatible shape (None, 1024).\n"
          ]
        },
        {
          "name": "stdout",
          "output_type": "stream",
          "text": [
            "26/26 [==============================] - ETA: 0s - loss: 0.2500 - tp: 3162.0000 - fp: 3163.0000 - tn: 122.0000 - fn: 133.0000 - accuracy: 0.4991 - precision: 0.4999 - recall: 0.9596 - f1_score: 0.6673 - auc: 0.5000"
          ]
        },
        {
          "name": "stderr",
          "output_type": "stream",
          "text": [
            "WARNING:tensorflow:Model was constructed with shape (None, None, 1024) for input KerasTensor(type_spec=TensorSpec(shape=(None, None, 1024), dtype=tf.float32, name='input_1'), name='input_1', description=\"created by layer 'input_1'\"), but it was called on an input with incompatible shape (None, 1024).\n",
            "WARNING:tensorflow:Model was constructed with shape (None, None, 1024) for input KerasTensor(type_spec=TensorSpec(shape=(None, None, 1024), dtype=tf.float32, name='input_2'), name='input_2', description=\"created by layer 'input_2'\"), but it was called on an input with incompatible shape (None, 1024).\n"
          ]
        },
        {
          "name": "stdout",
          "output_type": "stream",
          "text": [
            "\b\b\b\b\b\b\b\b\b\b\b\b\b\b\b\b\b\b\b\b\b\b\b\b\b\b\b\b\b\b\b\b\b\b\b\b\b\b\b\b\b\b\b\b\b\b\b\b\b\b\b\b\b\b\b\b\b\b\b\b\b\b\b\b\b\b\b\b\b\b\b\b\b\b\b\b\b\b\b\b\b\b\b\b\b\b\b\b\b\b\b\b\b\b\b\b\b\b\b\b\b\b\b\b\b\b\b\b\b\b\b\b\b\b\b\b\b\b\b\b\b\b\b\b\b\b\b\b\b\b\b\b\b\b\b\b\b\b\b\b\b\b\b\b\b\b\b\b\b\b\b\b\b\b\b\b\b\b\b\b\b\b\b\b\b\b\b\b\b\b\b\b\b\b\b\b\b\b\b\b\b\b\b\b\b\b\b\b\b\b\b\b\b\b\b\b\b\b\b\b\b\b\b\b\b\b\b\b\b\b\b\b\b\b\r26/26 [==============================] - 30s 293ms/step - loss: 0.2500 - tp: 3162.0000 - fp: 3163.0000 - tn: 122.0000 - fn: 133.0000 - accuracy: 0.4991 - precision: 0.4999 - recall: 0.9596 - f1_score: 0.6673 - auc: 0.5000 - val_loss: 0.2500 - val_tp: 1405.0000 - val_fp: 1415.0000 - val_tn: 0.0000e+00 - val_fn: 0.0000e+00 - val_accuracy: 0.4982 - val_precision: 0.4982 - val_recall: 1.0000 - val_f1_score: 0.6651 - val_auc: 0.5000\n",
            "Epoch 2/729\n",
            "26/26 [==============================] - 2s 80ms/step - loss: 0.2499 - tp: 3295.0000 - fp: 3285.0000 - tn: 0.0000e+00 - fn: 0.0000e+00 - accuracy: 0.5008 - precision: 0.5008 - recall: 1.0000 - f1_score: 0.6673 - auc: 0.5248 - val_loss: 0.2498 - val_tp: 1405.0000 - val_fp: 1415.0000 - val_tn: 0.0000e+00 - val_fn: 0.0000e+00 - val_accuracy: 0.4982 - val_precision: 0.4982 - val_recall: 1.0000 - val_f1_score: 0.6651 - val_auc: 0.5749\n",
            "Epoch 3/729\n",
            "26/26 [==============================] - 3s 111ms/step - loss: 0.2484 - tp: 3243.0000 - fp: 3043.0000 - tn: 242.0000 - fn: 52.0000 - accuracy: 0.5296 - precision: 0.5159 - recall: 0.9842 - f1_score: 0.6673 - auc: 0.5888 - val_loss: 0.2470 - val_tp: 1391.0000 - val_fp: 1259.0000 - val_tn: 156.0000 - val_fn: 14.0000 - val_accuracy: 0.5486 - val_precision: 0.5249 - val_recall: 0.9900 - val_f1_score: 0.6651 - val_auc: 0.6217\n",
            "Epoch 4/729\n",
            "26/26 [==============================] - 4s 141ms/step - loss: 0.2428 - tp: 2674.0000 - fp: 2024.0000 - tn: 1261.0000 - fn: 621.0000 - accuracy: 0.5980 - precision: 0.5692 - recall: 0.8115 - f1_score: 0.6673 - auc: 0.6368 - val_loss: 0.2426 - val_tp: 832.0000 - val_fp: 567.0000 - val_tn: 848.0000 - val_fn: 573.0000 - val_accuracy: 0.5957 - val_precision: 0.5947 - val_recall: 0.5922 - val_f1_score: 0.6651 - val_auc: 0.6277\n",
            "Epoch 5/729\n",
            "26/26 [==============================] - 4s 142ms/step - loss: 0.2331 - tp: 2127.0000 - fp: 1360.0000 - tn: 1925.0000 - fn: 1168.0000 - accuracy: 0.6158 - precision: 0.6100 - recall: 0.6455 - f1_score: 0.6688 - auc: 0.6542 - val_loss: 0.2339 - val_tp: 665.0000 - val_fp: 415.0000 - val_tn: 1000.0000 - val_fn: 740.0000 - val_accuracy: 0.5904 - val_precision: 0.6157 - val_recall: 0.4733 - val_f1_score: 0.6859 - val_auc: 0.6574\n",
            "Epoch 6/729\n",
            "26/26 [==============================] - 3s 101ms/step - loss: 0.2245 - tp: 2140.0000 - fp: 1316.0000 - tn: 1969.0000 - fn: 1155.0000 - accuracy: 0.6245 - precision: 0.6192 - recall: 0.6495 - f1_score: 0.6819 - auc: 0.6801 - val_loss: 0.2260 - val_tp: 1004.0000 - val_fp: 686.0000 - val_tn: 729.0000 - val_fn: 401.0000 - val_accuracy: 0.6145 - val_precision: 0.5941 - val_recall: 0.7146 - val_f1_score: 0.6954 - val_auc: 0.6683\n",
            "Epoch 7/729\n",
            "26/26 [==============================] - 2s 82ms/step - loss: 0.2214 - tp: 2372.0000 - fp: 1504.0000 - tn: 1781.0000 - fn: 923.0000 - accuracy: 0.6312 - precision: 0.6120 - recall: 0.7199 - f1_score: 0.6950 - auc: 0.6887 - val_loss: 0.2242 - val_tp: 886.0000 - val_fp: 577.0000 - val_tn: 838.0000 - val_fn: 519.0000 - val_accuracy: 0.6113 - val_precision: 0.6056 - val_recall: 0.6306 - val_f1_score: 0.6976 - val_auc: 0.6732\n",
            "Epoch 8/729\n",
            "26/26 [==============================] - 2s 80ms/step - loss: 0.2156 - tp: 2349.0000 - fp: 1365.0000 - tn: 1920.0000 - fn: 946.0000 - accuracy: 0.6488 - precision: 0.6325 - recall: 0.7129 - f1_score: 0.7007 - auc: 0.7061 - val_loss: 0.2245 - val_tp: 1148.0000 - val_fp: 833.0000 - val_tn: 582.0000 - val_fn: 257.0000 - val_accuracy: 0.6135 - val_precision: 0.5795 - val_recall: 0.8171 - val_f1_score: 0.6973 - val_auc: 0.6797\n",
            "Epoch 9/729\n",
            "26/26 [==============================] - 2s 80ms/step - loss: 0.2134 - tp: 2347.0000 - fp: 1334.0000 - tn: 1951.0000 - fn: 948.0000 - accuracy: 0.6532 - precision: 0.6376 - recall: 0.7123 - f1_score: 0.7057 - auc: 0.7133 - val_loss: 0.2250 - val_tp: 1204.0000 - val_fp: 900.0000 - val_tn: 515.0000 - val_fn: 201.0000 - val_accuracy: 0.6096 - val_precision: 0.5722 - val_recall: 0.8569 - val_f1_score: 0.6921 - val_auc: 0.6855\n",
            "Epoch 10/729\n",
            "26/26 [==============================] - 2s 82ms/step - loss: 0.2123 - tp: 2474.0000 - fp: 1395.0000 - tn: 1890.0000 - fn: 821.0000 - accuracy: 0.6632 - precision: 0.6394 - recall: 0.7508 - f1_score: 0.7050 - auc: 0.7185 - val_loss: 0.2214 - val_tp: 897.0000 - val_fp: 563.0000 - val_tn: 852.0000 - val_fn: 508.0000 - val_accuracy: 0.6202 - val_precision: 0.6144 - val_recall: 0.6384 - val_f1_score: 0.7062 - val_auc: 0.6871\n",
            "Epoch 11/729\n",
            "26/26 [==============================] - 3s 127ms/step - loss: 0.2075 - tp: 2439.0000 - fp: 1337.0000 - tn: 1948.0000 - fn: 856.0000 - accuracy: 0.6667 - precision: 0.6459 - recall: 0.7402 - f1_score: 0.7062 - auc: 0.7325 - val_loss: 0.2213 - val_tp: 1014.0000 - val_fp: 641.0000 - val_tn: 774.0000 - val_fn: 391.0000 - val_accuracy: 0.6340 - val_precision: 0.6127 - val_recall: 0.7217 - val_f1_score: 0.7067 - val_auc: 0.6901\n",
            "Epoch 12/729\n",
            "26/26 [==============================] - 4s 140ms/step - loss: 0.2045 - tp: 2471.0000 - fp: 1288.0000 - tn: 1997.0000 - fn: 824.0000 - accuracy: 0.6790 - precision: 0.6574 - recall: 0.7499 - f1_score: 0.7135 - auc: 0.7414 - val_loss: 0.2198 - val_tp: 1032.0000 - val_fp: 674.0000 - val_tn: 741.0000 - val_fn: 373.0000 - val_accuracy: 0.6287 - val_precision: 0.6049 - val_recall: 0.7345 - val_f1_score: 0.7029 - val_auc: 0.6938\n",
            "Epoch 13/729\n",
            "26/26 [==============================] - 3s 134ms/step - loss: 0.2013 - tp: 2470.0000 - fp: 1229.0000 - tn: 2056.0000 - fn: 825.0000 - accuracy: 0.6878 - precision: 0.6677 - recall: 0.7496 - f1_score: 0.7175 - auc: 0.7505 - val_loss: 0.2212 - val_tp: 953.0000 - val_fp: 581.0000 - val_tn: 834.0000 - val_fn: 452.0000 - val_accuracy: 0.6337 - val_precision: 0.6213 - val_recall: 0.6783 - val_f1_score: 0.7051 - val_auc: 0.6928\n",
            "Epoch 14/729\n",
            "26/26 [==============================] - 2s 85ms/step - loss: 0.1997 - tp: 2443.0000 - fp: 1222.0000 - tn: 2063.0000 - fn: 852.0000 - accuracy: 0.6848 - precision: 0.6666 - recall: 0.7414 - f1_score: 0.7169 - auc: 0.7553 - val_loss: 0.2218 - val_tp: 1057.0000 - val_fp: 703.0000 - val_tn: 712.0000 - val_fn: 348.0000 - val_accuracy: 0.6273 - val_precision: 0.6006 - val_recall: 0.7523 - val_f1_score: 0.6996 - val_auc: 0.6943\n",
            "Epoch 15/729\n",
            "26/26 [==============================] - 2s 81ms/step - loss: 0.1973 - tp: 2484.0000 - fp: 1165.0000 - tn: 2120.0000 - fn: 811.0000 - accuracy: 0.6997 - precision: 0.6807 - recall: 0.7539 - f1_score: 0.7228 - auc: 0.7614 - val_loss: 0.2220 - val_tp: 1033.0000 - val_fp: 684.0000 - val_tn: 731.0000 - val_fn: 372.0000 - val_accuracy: 0.6255 - val_precision: 0.6016 - val_recall: 0.7352 - val_f1_score: 0.7038 - val_auc: 0.6945\n",
            "Epoch 16/729\n",
            "26/26 [==============================] - 2s 81ms/step - loss: 0.1983 - tp: 2446.0000 - fp: 1186.0000 - tn: 2099.0000 - fn: 849.0000 - accuracy: 0.6907 - precision: 0.6735 - recall: 0.7423 - f1_score: 0.7204 - auc: 0.7584 - val_loss: 0.2206 - val_tp: 1094.0000 - val_fp: 709.0000 - val_tn: 706.0000 - val_fn: 311.0000 - val_accuracy: 0.6383 - val_precision: 0.6068 - val_recall: 0.7786 - val_f1_score: 0.7021 - val_auc: 0.6960\n",
            "Epoch 17/729\n",
            "26/26 [==============================] - 2s 80ms/step - loss: 0.1928 - tp: 2547.0000 - fp: 1186.0000 - tn: 2099.0000 - fn: 748.0000 - accuracy: 0.7061 - precision: 0.6823 - recall: 0.7730 - f1_score: 0.7263 - auc: 0.7723 - val_loss: 0.2262 - val_tp: 848.0000 - val_fp: 482.0000 - val_tn: 933.0000 - val_fn: 557.0000 - val_accuracy: 0.6316 - val_precision: 0.6376 - val_recall: 0.6036 - val_f1_score: 0.6990 - val_auc: 0.6964\n",
            "Epoch 18/729\n",
            "26/26 [==============================] - 2s 96ms/step - loss: 0.1917 - tp: 2509.0000 - fp: 1144.0000 - tn: 2141.0000 - fn: 786.0000 - accuracy: 0.7067 - precision: 0.6868 - recall: 0.7615 - f1_score: 0.7299 - auc: 0.7759 - val_loss: 0.2240 - val_tp: 1027.0000 - val_fp: 650.0000 - val_tn: 765.0000 - val_fn: 378.0000 - val_accuracy: 0.6355 - val_precision: 0.6124 - val_recall: 0.7310 - val_f1_score: 0.7036 - val_auc: 0.6949\n",
            "Epoch 19/729\n",
            "26/26 [==============================] - 3s 133ms/step - loss: 0.1877 - tp: 2553.0000 - fp: 1133.0000 - tn: 2152.0000 - fn: 742.0000 - accuracy: 0.7150 - precision: 0.6926 - recall: 0.7748 - f1_score: 0.7374 - auc: 0.7842 - val_loss: 0.2260 - val_tp: 850.0000 - val_fp: 481.0000 - val_tn: 934.0000 - val_fn: 555.0000 - val_accuracy: 0.6326 - val_precision: 0.6386 - val_recall: 0.6050 - val_f1_score: 0.6982 - val_auc: 0.6938\n",
            "Epoch 20/729\n",
            "26/26 [==============================] - 4s 140ms/step - loss: 0.1861 - tp: 2576.0000 - fp: 1117.0000 - tn: 2168.0000 - fn: 719.0000 - accuracy: 0.7210 - precision: 0.6975 - recall: 0.7818 - f1_score: 0.7386 - auc: 0.7883 - val_loss: 0.2246 - val_tp: 898.0000 - val_fp: 527.0000 - val_tn: 888.0000 - val_fn: 507.0000 - val_accuracy: 0.6333 - val_precision: 0.6302 - val_recall: 0.6391 - val_f1_score: 0.7023 - val_auc: 0.6944\n",
            "Epoch 21/729\n",
            "26/26 [==============================] - 3s 117ms/step - loss: 0.1805 - tp: 2581.0000 - fp: 1027.0000 - tn: 2258.0000 - fn: 714.0000 - accuracy: 0.7354 - precision: 0.7154 - recall: 0.7833 - f1_score: 0.7435 - auc: 0.8002 - val_loss: 0.2295 - val_tp: 1125.0000 - val_fp: 767.0000 - val_tn: 648.0000 - val_fn: 280.0000 - val_accuracy: 0.6287 - val_precision: 0.5946 - val_recall: 0.8007 - val_f1_score: 0.6980 - val_auc: 0.6921\n",
            "Epoch 22/729\n",
            "26/26 [==============================] - 2s 82ms/step - loss: 0.1820 - tp: 2573.0000 - fp: 1064.0000 - tn: 2221.0000 - fn: 722.0000 - accuracy: 0.7286 - precision: 0.7075 - recall: 0.7809 - f1_score: 0.7432 - auc: 0.7977 - val_loss: 0.2303 - val_tp: 827.0000 - val_fp: 458.0000 - val_tn: 957.0000 - val_fn: 578.0000 - val_accuracy: 0.6326 - val_precision: 0.6436 - val_recall: 0.5886 - val_f1_score: 0.6933 - val_auc: 0.6924\n",
            "113/113 [==============================] - 1s 9ms/step - loss: 0.2332 - tp: 1291.0000 - fp: 912.0000 - tn: 888.0000 - fn: 509.0000 - accuracy: 0.6053 - precision: 0.5860 - recall: 0.7172 - f1_score: 0.6873 - auc: 0.6497\n"
          ]
        },
        {
          "name": "stderr",
          "output_type": "stream",
          "text": [
            "WARNING:tensorflow:Model was constructed with shape (None, None, 1024) for input KerasTensor(type_spec=TensorSpec(shape=(None, None, 1024), dtype=tf.float32, name='input_1'), name='input_1', description=\"created by layer 'input_1'\"), but it was called on an input with incompatible shape (None, 1024).\n",
            "WARNING:tensorflow:Model was constructed with shape (None, None, 1024) for input KerasTensor(type_spec=TensorSpec(shape=(None, None, 1024), dtype=tf.float32, name='input_2'), name='input_2', description=\"created by layer 'input_2'\"), but it was called on an input with incompatible shape (None, 1024).\n"
          ]
        },
        {
          "name": "stdout",
          "output_type": "stream",
          "text": [
            "57/57 [==============================] - 3s 11ms/step - loss: 0.2580 - tp: 674.0000 - fp: 597.0000 - tn: 303.0000 - fn: 226.0000 - accuracy: 0.5428 - precision: 0.5303 - recall: 0.7489 - f1_score: 0.6679 - auc: 0.5669\n",
            "57/57 [==============================] - 1s 10ms/step - loss: 0.2084 - tp: 617.0000 - fp: 315.0000 - tn: 585.0000 - fn: 283.0000 - accuracy: 0.6678 - precision: 0.6620 - recall: 0.6856 - f1_score: 0.7088 - auc: 0.7330\n",
            "Epoch 1/729\n"
          ]
        },
        {
          "name": "stderr",
          "output_type": "stream",
          "text": [
            "WARNING:tensorflow:Model was constructed with shape (None, None, 1024) for input KerasTensor(type_spec=TensorSpec(shape=(None, None, 1024), dtype=tf.float32, name='input_3'), name='input_3', description=\"created by layer 'input_3'\"), but it was called on an input with incompatible shape (None, 1024).\n",
            "WARNING:tensorflow:Model was constructed with shape (None, None, 1024) for input KerasTensor(type_spec=TensorSpec(shape=(None, None, 1024), dtype=tf.float32, name='input_4'), name='input_4', description=\"created by layer 'input_4'\"), but it was called on an input with incompatible shape (None, 1024).\n",
            "WARNING:tensorflow:Model was constructed with shape (None, None, 1024) for input KerasTensor(type_spec=TensorSpec(shape=(None, None, 1024), dtype=tf.float32, name='input_3'), name='input_3', description=\"created by layer 'input_3'\"), but it was called on an input with incompatible shape (None, 1024).\n",
            "WARNING:tensorflow:Model was constructed with shape (None, None, 1024) for input KerasTensor(type_spec=TensorSpec(shape=(None, None, 1024), dtype=tf.float32, name='input_4'), name='input_4', description=\"created by layer 'input_4'\"), but it was called on an input with incompatible shape (None, 1024).\n"
          ]
        },
        {
          "name": "stdout",
          "output_type": "stream",
          "text": [
            "26/26 [==============================] - ETA: 0s - loss: 0.2500 - tp: 200.0000 - fp: 232.0000 - tn: 3053.0000 - fn: 3095.0000 - accuracy: 0.4944 - precision: 0.4630 - recall: 0.0607 - f1_score: 0.6673 - auc: 0.5000"
          ]
        },
        {
          "name": "stderr",
          "output_type": "stream",
          "text": [
            "WARNING:tensorflow:Model was constructed with shape (None, None, 1024) for input KerasTensor(type_spec=TensorSpec(shape=(None, None, 1024), dtype=tf.float32, name='input_3'), name='input_3', description=\"created by layer 'input_3'\"), but it was called on an input with incompatible shape (None, 1024).\n",
            "WARNING:tensorflow:Model was constructed with shape (None, None, 1024) for input KerasTensor(type_spec=TensorSpec(shape=(None, None, 1024), dtype=tf.float32, name='input_4'), name='input_4', description=\"created by layer 'input_4'\"), but it was called on an input with incompatible shape (None, 1024).\n"
          ]
        },
        {
          "name": "stdout",
          "output_type": "stream",
          "text": [
            "\b\b\b\b\b\b\b\b\b\b\b\b\b\b\b\b\b\b\b\b\b\b\b\b\b\b\b\b\b\b\b\b\b\b\b\b\b\b\b\b\b\b\b\b\b\b\b\b\b\b\b\b\b\b\b\b\b\b\b\b\b\b\b\b\b\b\b\b\b\b\b\b\b\b\b\b\b\b\b\b\b\b\b\b\b\b\b\b\b\b\b\b\b\b\b\b\b\b\b\b\b\b\b\b\b\b\b\b\b\b\b\b\b\b\b\b\b\b\b\b\b\b\b\b\b\b\b\b\b\b\b\b\b\b\b\b\b\b\b\b\b\b\b\b\b\b\b\b\b\b\b\b\b\b\b\b\b\b\b\b\b\b\b\b\b\b\b\b\b\b\b\b\b\b\b\b\b\b\b\b\b\b\b\b\b\b\b\b\b\b\b\b\b\b\b\b\b\b\b\b\b\b\b\b\b\b\b\b\b\b\b\b\b\b\r26/26 [==============================] - 16s 158ms/step - loss: 0.2500 - tp: 200.0000 - fp: 232.0000 - tn: 3053.0000 - fn: 3095.0000 - accuracy: 0.4944 - precision: 0.4630 - recall: 0.0607 - f1_score: 0.6673 - auc: 0.5000 - val_loss: 0.2500 - val_tp: 492.0000 - val_fp: 348.0000 - val_tn: 1067.0000 - val_fn: 913.0000 - val_accuracy: 0.5528 - val_precision: 0.5857 - val_recall: 0.3502 - val_f1_score: 0.6651 - val_auc: 0.5000\n",
            "Epoch 2/729\n",
            "26/26 [==============================] - 2s 82ms/step - loss: 0.2496 - tp: 2439.0000 - fp: 2040.0000 - tn: 1245.0000 - fn: 856.0000 - accuracy: 0.5599 - precision: 0.5445 - recall: 0.7402 - f1_score: 0.6673 - auc: 0.5553 - val_loss: 0.2480 - val_tp: 1210.0000 - val_fp: 951.0000 - val_tn: 464.0000 - val_fn: 195.0000 - val_accuracy: 0.5936 - val_precision: 0.5599 - val_recall: 0.8612 - val_f1_score: 0.6651 - val_auc: 0.6219\n",
            "Epoch 3/729\n",
            "26/26 [==============================] - 2s 83ms/step - loss: 0.2404 - tp: 2201.0000 - fp: 1611.0000 - tn: 1674.0000 - fn: 1094.0000 - accuracy: 0.5889 - precision: 0.5774 - recall: 0.6680 - f1_score: 0.6712 - auc: 0.6138 - val_loss: 0.2328 - val_tp: 823.0000 - val_fp: 561.0000 - val_tn: 854.0000 - val_fn: 582.0000 - val_accuracy: 0.5947 - val_precision: 0.5947 - val_recall: 0.5858 - val_f1_score: 0.7004 - val_auc: 0.6401\n",
            "Epoch 4/729\n",
            "26/26 [==============================] - 3s 112ms/step - loss: 0.2274 - tp: 2416.0000 - fp: 1650.0000 - tn: 1635.0000 - fn: 879.0000 - accuracy: 0.6157 - precision: 0.5942 - recall: 0.7332 - f1_score: 0.6914 - auc: 0.6583 - val_loss: 0.2237 - val_tp: 1171.0000 - val_fp: 841.0000 - val_tn: 574.0000 - val_fn: 234.0000 - val_accuracy: 0.6188 - val_precision: 0.5820 - val_recall: 0.8335 - val_f1_score: 0.7007 - val_auc: 0.6712\n",
            "Epoch 5/729\n",
            "26/26 [==============================] - 5s 176ms/step - loss: 0.2214 - tp: 2559.0000 - fp: 1713.0000 - tn: 1572.0000 - fn: 736.0000 - accuracy: 0.6278 - precision: 0.5990 - recall: 0.7766 - f1_score: 0.7022 - auc: 0.6770 - val_loss: 0.2216 - val_tp: 1122.0000 - val_fp: 772.0000 - val_tn: 643.0000 - val_fn: 283.0000 - val_accuracy: 0.6259 - val_precision: 0.5924 - val_recall: 0.7986 - val_f1_score: 0.7037 - val_auc: 0.6807\n",
            "Epoch 6/729\n",
            "26/26 [==============================] - 4s 140ms/step - loss: 0.2200 - tp: 2497.0000 - fp: 1594.0000 - tn: 1691.0000 - fn: 798.0000 - accuracy: 0.6365 - precision: 0.6104 - recall: 0.7578 - f1_score: 0.7027 - auc: 0.6871 - val_loss: 0.2264 - val_tp: 1285.0000 - val_fp: 970.0000 - val_tn: 445.0000 - val_fn: 120.0000 - val_accuracy: 0.6135 - val_precision: 0.5698 - val_recall: 0.9146 - val_f1_score: 0.6891 - val_auc: 0.6877\n",
            "Epoch 7/729\n",
            "26/26 [==============================] - 3s 96ms/step - loss: 0.2166 - tp: 2619.0000 - fp: 1655.0000 - tn: 1630.0000 - fn: 676.0000 - accuracy: 0.6457 - precision: 0.6128 - recall: 0.7948 - f1_score: 0.7060 - auc: 0.6963 - val_loss: 0.2195 - val_tp: 1138.0000 - val_fp: 791.0000 - val_tn: 624.0000 - val_fn: 267.0000 - val_accuracy: 0.6248 - val_precision: 0.5899 - val_recall: 0.8100 - val_f1_score: 0.7074 - val_auc: 0.6882\n",
            "Epoch 8/729\n",
            "26/26 [==============================] - 2s 82ms/step - loss: 0.2124 - tp: 2560.0000 - fp: 1553.0000 - tn: 1732.0000 - fn: 735.0000 - accuracy: 0.6523 - precision: 0.6224 - recall: 0.7769 - f1_score: 0.7113 - auc: 0.7110 - val_loss: 0.2196 - val_tp: 1092.0000 - val_fp: 738.0000 - val_tn: 677.0000 - val_fn: 313.0000 - val_accuracy: 0.6273 - val_precision: 0.5967 - val_recall: 0.7772 - val_f1_score: 0.7052 - val_auc: 0.6916\n",
            "Epoch 9/729\n",
            "26/26 [==============================] - 2s 83ms/step - loss: 0.2094 - tp: 2516.0000 - fp: 1435.0000 - tn: 1850.0000 - fn: 779.0000 - accuracy: 0.6635 - precision: 0.6368 - recall: 0.7636 - f1_score: 0.7121 - auc: 0.7219 - val_loss: 0.2205 - val_tp: 963.0000 - val_fp: 600.0000 - val_tn: 815.0000 - val_fn: 442.0000 - val_accuracy: 0.6305 - val_precision: 0.6161 - val_recall: 0.6854 - val_f1_score: 0.7063 - val_auc: 0.6922\n",
            "Epoch 10/729\n",
            "26/26 [==============================] - 2s 82ms/step - loss: 0.2076 - tp: 2532.0000 - fp: 1455.0000 - tn: 1830.0000 - fn: 763.0000 - accuracy: 0.6629 - precision: 0.6351 - recall: 0.7684 - f1_score: 0.7157 - auc: 0.7289 - val_loss: 0.2261 - val_tp: 763.0000 - val_fp: 426.0000 - val_tn: 989.0000 - val_fn: 642.0000 - val_accuracy: 0.6213 - val_precision: 0.6417 - val_recall: 0.5431 - val_f1_score: 0.7062 - val_auc: 0.6956\n",
            "Epoch 11/729\n",
            "26/26 [==============================] - 2s 96ms/step - loss: 0.2045 - tp: 2549.0000 - fp: 1389.0000 - tn: 1896.0000 - fn: 746.0000 - accuracy: 0.6755 - precision: 0.6473 - recall: 0.7736 - f1_score: 0.7148 - auc: 0.7400 - val_loss: 0.2202 - val_tp: 999.0000 - val_fp: 630.0000 - val_tn: 785.0000 - val_fn: 406.0000 - val_accuracy: 0.6326 - val_precision: 0.6133 - val_recall: 0.7110 - val_f1_score: 0.7046 - val_auc: 0.6976\n",
            "Epoch 12/729\n",
            "26/26 [==============================] - 4s 141ms/step - loss: 0.2012 - tp: 2479.0000 - fp: 1282.0000 - tn: 2003.0000 - fn: 816.0000 - accuracy: 0.6812 - precision: 0.6591 - recall: 0.7524 - f1_score: 0.7217 - auc: 0.7478 - val_loss: 0.2193 - val_tp: 965.0000 - val_fp: 594.0000 - val_tn: 821.0000 - val_fn: 440.0000 - val_accuracy: 0.6333 - val_precision: 0.6190 - val_recall: 0.6868 - val_f1_score: 0.7076 - val_auc: 0.6982\n",
            "Epoch 13/729\n",
            "26/26 [==============================] - 4s 141ms/step - loss: 0.2003 - tp: 2479.0000 - fp: 1289.0000 - tn: 1996.0000 - fn: 816.0000 - accuracy: 0.6801 - precision: 0.6579 - recall: 0.7524 - f1_score: 0.7218 - auc: 0.7516 - val_loss: 0.2208 - val_tp: 1148.0000 - val_fp: 789.0000 - val_tn: 626.0000 - val_fn: 257.0000 - val_accuracy: 0.6291 - val_precision: 0.5927 - val_recall: 0.8171 - val_f1_score: 0.7032 - val_auc: 0.6986\n",
            "Epoch 14/729\n",
            "26/26 [==============================] - 3s 118ms/step - loss: 0.1976 - tp: 2498.0000 - fp: 1249.0000 - tn: 2036.0000 - fn: 797.0000 - accuracy: 0.6891 - precision: 0.6667 - recall: 0.7581 - f1_score: 0.7257 - auc: 0.7592 - val_loss: 0.2197 - val_tp: 841.0000 - val_fp: 477.0000 - val_tn: 938.0000 - val_fn: 564.0000 - val_accuracy: 0.6309 - val_precision: 0.6381 - val_recall: 0.5986 - val_f1_score: 0.7081 - val_auc: 0.6991\n",
            "Epoch 15/729\n",
            "26/26 [==============================] - 2s 81ms/step - loss: 0.1947 - tp: 2554.0000 - fp: 1222.0000 - tn: 2063.0000 - fn: 741.0000 - accuracy: 0.7017 - precision: 0.6764 - recall: 0.7751 - f1_score: 0.7271 - auc: 0.7672 - val_loss: 0.2194 - val_tp: 913.0000 - val_fp: 541.0000 - val_tn: 874.0000 - val_fn: 492.0000 - val_accuracy: 0.6337 - val_precision: 0.6279 - val_recall: 0.6498 - val_f1_score: 0.7094 - val_auc: 0.6982\n",
            "Epoch 16/729\n",
            "26/26 [==============================] - 2s 83ms/step - loss: 0.1907 - tp: 2535.0000 - fp: 1164.0000 - tn: 2121.0000 - fn: 760.0000 - accuracy: 0.7076 - precision: 0.6853 - recall: 0.7693 - f1_score: 0.7313 - auc: 0.7769 - val_loss: 0.2211 - val_tp: 963.0000 - val_fp: 608.0000 - val_tn: 807.0000 - val_fn: 442.0000 - val_accuracy: 0.6277 - val_precision: 0.6130 - val_recall: 0.6854 - val_f1_score: 0.7061 - val_auc: 0.6999\n",
            "Epoch 17/729\n",
            "26/26 [==============================] - 2s 81ms/step - loss: 0.1875 - tp: 2572.0000 - fp: 1164.0000 - tn: 2121.0000 - fn: 723.0000 - accuracy: 0.7132 - precision: 0.6884 - recall: 0.7806 - f1_score: 0.7361 - auc: 0.7847 - val_loss: 0.2311 - val_tp: 1068.0000 - val_fp: 704.0000 - val_tn: 711.0000 - val_fn: 337.0000 - val_accuracy: 0.6309 - val_precision: 0.6027 - val_recall: 0.7601 - val_f1_score: 0.7042 - val_auc: 0.6989\n",
            "Epoch 18/729\n",
            "26/26 [==============================] - 2s 82ms/step - loss: 0.1856 - tp: 2572.0000 - fp: 1096.0000 - tn: 2189.0000 - fn: 723.0000 - accuracy: 0.7236 - precision: 0.7012 - recall: 0.7806 - f1_score: 0.7349 - auc: 0.7898 - val_loss: 0.2244 - val_tp: 1024.0000 - val_fp: 662.0000 - val_tn: 753.0000 - val_fn: 381.0000 - val_accuracy: 0.6301 - val_precision: 0.6074 - val_recall: 0.7288 - val_f1_score: 0.7038 - val_auc: 0.6964\n",
            "Epoch 19/729\n",
            "26/26 [==============================] - 3s 116ms/step - loss: 0.1840 - tp: 2564.0000 - fp: 1083.0000 - tn: 2202.0000 - fn: 731.0000 - accuracy: 0.7243 - precision: 0.7030 - recall: 0.7781 - f1_score: 0.7450 - auc: 0.7917 - val_loss: 0.2226 - val_tp: 1083.0000 - val_fp: 711.0000 - val_tn: 704.0000 - val_fn: 322.0000 - val_accuracy: 0.6337 - val_precision: 0.6037 - val_recall: 0.7708 - val_f1_score: 0.7089 - val_auc: 0.6989\n",
            "Epoch 20/729\n",
            "26/26 [==============================] - 4s 140ms/step - loss: 0.1847 - tp: 2620.0000 - fp: 1148.0000 - tn: 2137.0000 - fn: 675.0000 - accuracy: 0.7229 - precision: 0.6953 - recall: 0.7951 - f1_score: 0.7362 - auc: 0.7926 - val_loss: 0.2301 - val_tp: 958.0000 - val_fp: 590.0000 - val_tn: 825.0000 - val_fn: 447.0000 - val_accuracy: 0.6323 - val_precision: 0.6189 - val_recall: 0.6819 - val_f1_score: 0.7013 - val_auc: 0.6988\n",
            "Epoch 21/729\n",
            "26/26 [==============================] - 4s 142ms/step - loss: 0.1790 - tp: 2591.0000 - fp: 1026.0000 - tn: 2259.0000 - fn: 704.0000 - accuracy: 0.7371 - precision: 0.7163 - recall: 0.7863 - f1_score: 0.7489 - auc: 0.8033 - val_loss: 0.2269 - val_tp: 1021.0000 - val_fp: 659.0000 - val_tn: 756.0000 - val_fn: 384.0000 - val_accuracy: 0.6301 - val_precision: 0.6077 - val_recall: 0.7267 - val_f1_score: 0.7050 - val_auc: 0.6935\n",
            "Epoch 22/729\n",
            "26/26 [==============================] - 3s 96ms/step - loss: 0.1747 - tp: 2633.0000 - fp: 1027.0000 - tn: 2258.0000 - fn: 662.0000 - accuracy: 0.7433 - precision: 0.7194 - recall: 0.7991 - f1_score: 0.7528 - auc: 0.8128 - val_loss: 0.2355 - val_tp: 1045.0000 - val_fp: 680.0000 - val_tn: 735.0000 - val_fn: 360.0000 - val_accuracy: 0.6312 - val_precision: 0.6058 - val_recall: 0.7438 - val_f1_score: 0.7017 - val_auc: 0.6987\n",
            "113/113 [==============================] - 1s 10ms/step - loss: 0.2368 - tp: 1238.0000 - fp: 859.0000 - tn: 941.0000 - fn: 562.0000 - accuracy: 0.6053 - precision: 0.5904 - recall: 0.6878 - f1_score: 0.6917 - auc: 0.6494\n"
          ]
        },
        {
          "name": "stderr",
          "output_type": "stream",
          "text": [
            "WARNING:tensorflow:Model was constructed with shape (None, None, 1024) for input KerasTensor(type_spec=TensorSpec(shape=(None, None, 1024), dtype=tf.float32, name='input_3'), name='input_3', description=\"created by layer 'input_3'\"), but it was called on an input with incompatible shape (None, 1024).\n",
            "WARNING:tensorflow:Model was constructed with shape (None, None, 1024) for input KerasTensor(type_spec=TensorSpec(shape=(None, None, 1024), dtype=tf.float32, name='input_4'), name='input_4', description=\"created by layer 'input_4'\"), but it was called on an input with incompatible shape (None, 1024).\n"
          ]
        },
        {
          "name": "stdout",
          "output_type": "stream",
          "text": [
            "57/57 [==============================] - 4s 11ms/step - loss: 0.2656 - tp: 652.0000 - fp: 583.0000 - tn: 317.0000 - fn: 248.0000 - accuracy: 0.5383 - precision: 0.5279 - recall: 0.7244 - f1_score: 0.6662 - auc: 0.5578\n",
            "57/57 [==============================] - 1s 11ms/step - loss: 0.2079 - tp: 586.0000 - fp: 276.0000 - tn: 624.0000 - fn: 314.0000 - accuracy: 0.6722 - precision: 0.6798 - recall: 0.6511 - f1_score: 0.7218 - auc: 0.7435\n",
            "Epoch 1/729\n"
          ]
        },
        {
          "name": "stderr",
          "output_type": "stream",
          "text": [
            "WARNING:tensorflow:Model was constructed with shape (None, None, 1024) for input KerasTensor(type_spec=TensorSpec(shape=(None, None, 1024), dtype=tf.float32, name='input_5'), name='input_5', description=\"created by layer 'input_5'\"), but it was called on an input with incompatible shape (None, 1024).\n",
            "WARNING:tensorflow:Model was constructed with shape (None, None, 1024) for input KerasTensor(type_spec=TensorSpec(shape=(None, None, 1024), dtype=tf.float32, name='input_6'), name='input_6', description=\"created by layer 'input_6'\"), but it was called on an input with incompatible shape (None, 1024).\n",
            "WARNING:tensorflow:Model was constructed with shape (None, None, 1024) for input KerasTensor(type_spec=TensorSpec(shape=(None, None, 1024), dtype=tf.float32, name='input_5'), name='input_5', description=\"created by layer 'input_5'\"), but it was called on an input with incompatible shape (None, 1024).\n",
            "WARNING:tensorflow:Model was constructed with shape (None, None, 1024) for input KerasTensor(type_spec=TensorSpec(shape=(None, None, 1024), dtype=tf.float32, name='input_6'), name='input_6', description=\"created by layer 'input_6'\"), but it was called on an input with incompatible shape (None, 1024).\n"
          ]
        },
        {
          "name": "stdout",
          "output_type": "stream",
          "text": [
            "26/26 [==============================] - ETA: 0s - loss: 0.2500 - tp: 2492.0000 - fp: 2542.0000 - tn: 743.0000 - fn: 803.0000 - accuracy: 0.4916 - precision: 0.4950 - recall: 0.7563 - f1_score: 0.6673 - auc: 0.5000"
          ]
        },
        {
          "name": "stderr",
          "output_type": "stream",
          "text": [
            "WARNING:tensorflow:Model was constructed with shape (None, None, 1024) for input KerasTensor(type_spec=TensorSpec(shape=(None, None, 1024), dtype=tf.float32, name='input_5'), name='input_5', description=\"created by layer 'input_5'\"), but it was called on an input with incompatible shape (None, 1024).\n",
            "WARNING:tensorflow:Model was constructed with shape (None, None, 1024) for input KerasTensor(type_spec=TensorSpec(shape=(None, None, 1024), dtype=tf.float32, name='input_6'), name='input_6', description=\"created by layer 'input_6'\"), but it was called on an input with incompatible shape (None, 1024).\n"
          ]
        },
        {
          "name": "stdout",
          "output_type": "stream",
          "text": [
            "\b\b\b\b\b\b\b\b\b\b\b\b\b\b\b\b\b\b\b\b\b\b\b\b\b\b\b\b\b\b\b\b\b\b\b\b\b\b\b\b\b\b\b\b\b\b\b\b\b\b\b\b\b\b\b\b\b\b\b\b\b\b\b\b\b\b\b\b\b\b\b\b\b\b\b\b\b\b\b\b\b\b\b\b\b\b\b\b\b\b\b\b\b\b\b\b\b\b\b\b\b\b\b\b\b\b\b\b\b\b\b\b\b\b\b\b\b\b\b\b\b\b\b\b\b\b\b\b\b\b\b\b\b\b\b\b\b\b\b\b\b\b\b\b\b\b\b\b\b\b\b\b\b\b\b\b\b\b\b\b\b\b\b\b\b\b\b\b\b\b\b\b\b\b\b\b\b\b\b\b\b\b\b\b\b\b\b\b\b\b\b\b\b\b\b\b\b\b\b\b\b\b\b\b\b\b\b\b\b\b\b\b\b\b\r26/26 [==============================] - 15s 178ms/step - loss: 0.2500 - tp: 2492.0000 - fp: 2542.0000 - tn: 743.0000 - fn: 803.0000 - accuracy: 0.4916 - precision: 0.4950 - recall: 0.7563 - f1_score: 0.6673 - auc: 0.5000 - val_loss: 0.2500 - val_tp: 1405.0000 - val_fp: 1415.0000 - val_tn: 0.0000e+00 - val_fn: 0.0000e+00 - val_accuracy: 0.4982 - val_precision: 0.4982 - val_recall: 1.0000 - val_f1_score: 0.6651 - val_auc: 0.5000\n",
            "Epoch 2/729\n",
            "26/26 [==============================] - 2s 85ms/step - loss: 0.2499 - tp: 931.0000 - fp: 876.0000 - tn: 2409.0000 - fn: 2364.0000 - accuracy: 0.5076 - precision: 0.5152 - recall: 0.2825 - f1_score: 0.6673 - auc: 0.5252 - val_loss: 0.2495 - val_tp: 756.0000 - val_fp: 577.0000 - val_tn: 838.0000 - val_fn: 649.0000 - val_accuracy: 0.5652 - val_precision: 0.5671 - val_recall: 0.5381 - val_f1_score: 0.6651 - val_auc: 0.5775\n",
            "Epoch 3/729\n",
            "26/26 [==============================] - 2s 85ms/step - loss: 0.2457 - tp: 1171.0000 - fp: 789.0000 - tn: 2496.0000 - fn: 2124.0000 - accuracy: 0.5573 - precision: 0.5974 - recall: 0.3554 - f1_score: 0.6681 - auc: 0.5927 - val_loss: 0.2363 - val_tp: 971.0000 - val_fp: 728.0000 - val_tn: 687.0000 - val_fn: 434.0000 - val_accuracy: 0.5879 - val_precision: 0.5715 - val_recall: 0.6911 - val_f1_score: 0.6695 - val_auc: 0.6321\n",
            "Epoch 4/729\n",
            "26/26 [==============================] - 3s 100ms/step - loss: 0.2323 - tp: 2607.0000 - fp: 1930.0000 - tn: 1355.0000 - fn: 688.0000 - accuracy: 0.6021 - precision: 0.5746 - recall: 0.7912 - f1_score: 0.6890 - auc: 0.6303 - val_loss: 0.2292 - val_tp: 1307.0000 - val_fp: 1006.0000 - val_tn: 409.0000 - val_fn: 98.0000 - val_accuracy: 0.6085 - val_precision: 0.5651 - val_recall: 0.9302 - val_f1_score: 0.6859 - val_auc: 0.6626\n",
            "Epoch 5/729\n",
            "26/26 [==============================] - 4s 147ms/step - loss: 0.2253 - tp: 2627.0000 - fp: 1841.0000 - tn: 1444.0000 - fn: 668.0000 - accuracy: 0.6187 - precision: 0.5880 - recall: 0.7973 - f1_score: 0.6993 - auc: 0.6600 - val_loss: 0.2230 - val_tp: 1209.0000 - val_fp: 882.0000 - val_tn: 533.0000 - val_fn: 196.0000 - val_accuracy: 0.6177 - val_precision: 0.5782 - val_recall: 0.8605 - val_f1_score: 0.7013 - val_auc: 0.6717\n",
            "Epoch 6/729\n",
            "26/26 [==============================] - 4s 146ms/step - loss: 0.2221 - tp: 2700.0000 - fp: 1843.0000 - tn: 1442.0000 - fn: 595.0000 - accuracy: 0.6295 - precision: 0.5943 - recall: 0.8194 - f1_score: 0.7034 - auc: 0.6711 - val_loss: 0.2227 - val_tp: 1016.0000 - val_fp: 670.0000 - val_tn: 745.0000 - val_fn: 389.0000 - val_accuracy: 0.6245 - val_precision: 0.6026 - val_recall: 0.7231 - val_f1_score: 0.7062 - val_auc: 0.6726\n",
            "Epoch 7/729\n",
            "26/26 [==============================] - 3s 112ms/step - loss: 0.2212 - tp: 2536.0000 - fp: 1710.0000 - tn: 1575.0000 - fn: 759.0000 - accuracy: 0.6248 - precision: 0.5973 - recall: 0.7697 - f1_score: 0.7044 - auc: 0.6740 - val_loss: 0.2228 - val_tp: 941.0000 - val_fp: 608.0000 - val_tn: 807.0000 - val_fn: 464.0000 - val_accuracy: 0.6199 - val_precision: 0.6075 - val_recall: 0.6698 - val_f1_score: 0.7049 - val_auc: 0.6753\n",
            "Epoch 8/729\n",
            "26/26 [==============================] - 2s 86ms/step - loss: 0.2179 - tp: 2673.0000 - fp: 1742.0000 - tn: 1543.0000 - fn: 622.0000 - accuracy: 0.6407 - precision: 0.6054 - recall: 0.8112 - f1_score: 0.7055 - auc: 0.6913 - val_loss: 0.2206 - val_tp: 1161.0000 - val_fp: 826.0000 - val_tn: 589.0000 - val_fn: 244.0000 - val_accuracy: 0.6206 - val_precision: 0.5843 - val_recall: 0.8263 - val_f1_score: 0.7043 - val_auc: 0.6848\n",
            "Epoch 9/729\n",
            "26/26 [==============================] - 2s 86ms/step - loss: 0.2155 - tp: 2597.0000 - fp: 1650.0000 - tn: 1635.0000 - fn: 698.0000 - accuracy: 0.6432 - precision: 0.6115 - recall: 0.7882 - f1_score: 0.7082 - auc: 0.7025 - val_loss: 0.2256 - val_tp: 813.0000 - val_fp: 491.0000 - val_tn: 924.0000 - val_fn: 592.0000 - val_accuracy: 0.6160 - val_precision: 0.6235 - val_recall: 0.5786 - val_f1_score: 0.7060 - val_auc: 0.6818\n",
            "Epoch 10/729\n",
            "26/26 [==============================] - 2s 85ms/step - loss: 0.2141 - tp: 2529.0000 - fp: 1538.0000 - tn: 1747.0000 - fn: 766.0000 - accuracy: 0.6498 - precision: 0.6218 - recall: 0.7675 - f1_score: 0.7098 - auc: 0.7084 - val_loss: 0.2255 - val_tp: 753.0000 - val_fp: 433.0000 - val_tn: 982.0000 - val_fn: 652.0000 - val_accuracy: 0.6152 - val_precision: 0.6349 - val_recall: 0.5359 - val_f1_score: 0.7067 - val_auc: 0.6855\n",
            "Epoch 11/729\n",
            "26/26 [==============================] - 2s 84ms/step - loss: 0.2109 - tp: 2515.0000 - fp: 1492.0000 - tn: 1793.0000 - fn: 780.0000 - accuracy: 0.6547 - precision: 0.6277 - recall: 0.7633 - f1_score: 0.7128 - auc: 0.7158 - val_loss: 0.2188 - val_tp: 1104.0000 - val_fp: 756.0000 - val_tn: 659.0000 - val_fn: 301.0000 - val_accuracy: 0.6252 - val_precision: 0.5935 - val_recall: 0.7858 - val_f1_score: 0.7042 - val_auc: 0.6944\n",
            "Epoch 12/729\n",
            "26/26 [==============================] - 4s 145ms/step - loss: 0.2071 - tp: 2552.0000 - fp: 1460.0000 - tn: 1825.0000 - fn: 743.0000 - accuracy: 0.6652 - precision: 0.6361 - recall: 0.7745 - f1_score: 0.7150 - auc: 0.7300 - val_loss: 0.2188 - val_tp: 937.0000 - val_fp: 577.0000 - val_tn: 838.0000 - val_fn: 468.0000 - val_accuracy: 0.6294 - val_precision: 0.6189 - val_recall: 0.6669 - val_f1_score: 0.7081 - val_auc: 0.6948\n",
            "Epoch 13/729\n",
            "26/26 [==============================] - 4s 143ms/step - loss: 0.2039 - tp: 2506.0000 - fp: 1349.0000 - tn: 1936.0000 - fn: 789.0000 - accuracy: 0.6751 - precision: 0.6501 - recall: 0.7605 - f1_score: 0.7189 - auc: 0.7395 - val_loss: 0.2170 - val_tp: 978.0000 - val_fp: 603.0000 - val_tn: 812.0000 - val_fn: 427.0000 - val_accuracy: 0.6348 - val_precision: 0.6186 - val_recall: 0.6961 - val_f1_score: 0.7077 - val_auc: 0.6984\n",
            "Epoch 14/729\n",
            "26/26 [==============================] - 3s 128ms/step - loss: 0.2022 - tp: 2491.0000 - fp: 1335.0000 - tn: 1950.0000 - fn: 804.0000 - accuracy: 0.6749 - precision: 0.6511 - recall: 0.7560 - f1_score: 0.7207 - auc: 0.7444 - val_loss: 0.2167 - val_tp: 1060.0000 - val_fp: 696.0000 - val_tn: 719.0000 - val_fn: 345.0000 - val_accuracy: 0.6309 - val_precision: 0.6036 - val_recall: 0.7544 - val_f1_score: 0.7088 - val_auc: 0.7004\n",
            "Epoch 15/729\n",
            "26/26 [==============================] - 3s 108ms/step - loss: 0.2013 - tp: 2491.0000 - fp: 1305.0000 - tn: 1980.0000 - fn: 804.0000 - accuracy: 0.6795 - precision: 0.6562 - recall: 0.7560 - f1_score: 0.7206 - auc: 0.7476 - val_loss: 0.2170 - val_tp: 1061.0000 - val_fp: 693.0000 - val_tn: 722.0000 - val_fn: 344.0000 - val_accuracy: 0.6323 - val_precision: 0.6049 - val_recall: 0.7552 - val_f1_score: 0.7052 - val_auc: 0.6996\n",
            "Epoch 16/729\n",
            "26/26 [==============================] - 2s 84ms/step - loss: 0.1975 - tp: 2531.0000 - fp: 1279.0000 - tn: 2006.0000 - fn: 764.0000 - accuracy: 0.6895 - precision: 0.6643 - recall: 0.7681 - f1_score: 0.7222 - auc: 0.7582 - val_loss: 0.2177 - val_tp: 979.0000 - val_fp: 621.0000 - val_tn: 794.0000 - val_fn: 426.0000 - val_accuracy: 0.6287 - val_precision: 0.6119 - val_recall: 0.6968 - val_f1_score: 0.7078 - val_auc: 0.7002\n",
            "Epoch 17/729\n",
            "26/26 [==============================] - 2s 83ms/step - loss: 0.1977 - tp: 2435.0000 - fp: 1156.0000 - tn: 2129.0000 - fn: 860.0000 - accuracy: 0.6936 - precision: 0.6781 - recall: 0.7390 - f1_score: 0.7251 - auc: 0.7590 - val_loss: 0.2268 - val_tp: 1280.0000 - val_fp: 971.0000 - val_tn: 444.0000 - val_fn: 125.0000 - val_accuracy: 0.6113 - val_precision: 0.5686 - val_recall: 0.9110 - val_f1_score: 0.6888 - val_auc: 0.6932\n",
            "Epoch 18/729\n",
            "26/26 [==============================] - 2s 84ms/step - loss: 0.1968 - tp: 2535.0000 - fp: 1282.0000 - tn: 2003.0000 - fn: 760.0000 - accuracy: 0.6897 - precision: 0.6641 - recall: 0.7693 - f1_score: 0.7208 - auc: 0.7622 - val_loss: 0.2208 - val_tp: 895.0000 - val_fp: 525.0000 - val_tn: 890.0000 - val_fn: 510.0000 - val_accuracy: 0.6330 - val_precision: 0.6303 - val_recall: 0.6370 - val_f1_score: 0.7065 - val_auc: 0.7031\n",
            "Epoch 19/729\n",
            "26/26 [==============================] - 4s 139ms/step - loss: 0.1943 - tp: 2462.0000 - fp: 1188.0000 - tn: 2097.0000 - fn: 833.0000 - accuracy: 0.6929 - precision: 0.6745 - recall: 0.7472 - f1_score: 0.7246 - auc: 0.7687 - val_loss: 0.2215 - val_tp: 860.0000 - val_fp: 488.0000 - val_tn: 927.0000 - val_fn: 545.0000 - val_accuracy: 0.6337 - val_precision: 0.6380 - val_recall: 0.6121 - val_f1_score: 0.7082 - val_auc: 0.7039\n",
            "Epoch 20/729\n",
            "26/26 [==============================] - 4s 146ms/step - loss: 0.1894 - tp: 2537.0000 - fp: 1130.0000 - tn: 2155.0000 - fn: 758.0000 - accuracy: 0.7131 - precision: 0.6918 - recall: 0.7700 - f1_score: 0.7334 - auc: 0.7793 - val_loss: 0.2237 - val_tp: 809.0000 - val_fp: 443.0000 - val_tn: 972.0000 - val_fn: 596.0000 - val_accuracy: 0.6316 - val_precision: 0.6462 - val_recall: 0.5758 - val_f1_score: 0.7074 - val_auc: 0.7017\n",
            "Epoch 21/729\n",
            "26/26 [==============================] - 4s 144ms/step - loss: 0.1880 - tp: 2506.0000 - fp: 1102.0000 - tn: 2183.0000 - fn: 789.0000 - accuracy: 0.7126 - precision: 0.6946 - recall: 0.7605 - f1_score: 0.7355 - auc: 0.7841 - val_loss: 0.2236 - val_tp: 1103.0000 - val_fp: 725.0000 - val_tn: 690.0000 - val_fn: 302.0000 - val_accuracy: 0.6358 - val_precision: 0.6034 - val_recall: 0.7851 - val_f1_score: 0.7018 - val_auc: 0.6978\n",
            "Epoch 22/729\n",
            "26/26 [==============================] - 2s 83ms/step - loss: 0.1865 - tp: 2593.0000 - fp: 1154.0000 - tn: 2131.0000 - fn: 702.0000 - accuracy: 0.7179 - precision: 0.6920 - recall: 0.7869 - f1_score: 0.7348 - auc: 0.7873 - val_loss: 0.2217 - val_tp: 857.0000 - val_fp: 484.0000 - val_tn: 931.0000 - val_fn: 548.0000 - val_accuracy: 0.6340 - val_precision: 0.6391 - val_recall: 0.6100 - val_f1_score: 0.7082 - val_auc: 0.7028\n",
            "Epoch 23/729\n",
            "26/26 [==============================] - 2s 86ms/step - loss: 0.1837 - tp: 2510.0000 - fp: 1038.0000 - tn: 2247.0000 - fn: 785.0000 - accuracy: 0.7229 - precision: 0.7074 - recall: 0.7618 - f1_score: 0.7393 - auc: 0.7941 - val_loss: 0.2258 - val_tp: 781.0000 - val_fp: 425.0000 - val_tn: 990.0000 - val_fn: 624.0000 - val_accuracy: 0.6280 - val_precision: 0.6476 - val_recall: 0.5559 - val_f1_score: 0.7047 - val_auc: 0.6992\n",
            "Epoch 24/729\n",
            "26/26 [==============================] - 2s 83ms/step - loss: 0.1794 - tp: 2601.0000 - fp: 1061.0000 - tn: 2224.0000 - fn: 694.0000 - accuracy: 0.7333 - precision: 0.7103 - recall: 0.7894 - f1_score: 0.7416 - auc: 0.8038 - val_loss: 0.2271 - val_tp: 931.0000 - val_fp: 547.0000 - val_tn: 868.0000 - val_fn: 474.0000 - val_accuracy: 0.6379 - val_precision: 0.6299 - val_recall: 0.6626 - val_f1_score: 0.7036 - val_auc: 0.7011\n",
            "113/113 [==============================] - 1s 10ms/step - loss: 0.2322 - tp: 1342.0000 - fp: 944.0000 - tn: 856.0000 - fn: 458.0000 - accuracy: 0.6106 - precision: 0.5871 - recall: 0.7456 - f1_score: 0.6943 - auc: 0.6494\n"
          ]
        },
        {
          "name": "stderr",
          "output_type": "stream",
          "text": [
            "WARNING:tensorflow:Model was constructed with shape (None, None, 1024) for input KerasTensor(type_spec=TensorSpec(shape=(None, None, 1024), dtype=tf.float32, name='input_5'), name='input_5', description=\"created by layer 'input_5'\"), but it was called on an input with incompatible shape (None, 1024).\n",
            "WARNING:tensorflow:Model was constructed with shape (None, None, 1024) for input KerasTensor(type_spec=TensorSpec(shape=(None, None, 1024), dtype=tf.float32, name='input_6'), name='input_6', description=\"created by layer 'input_6'\"), but it was called on an input with incompatible shape (None, 1024).\n"
          ]
        },
        {
          "name": "stdout",
          "output_type": "stream",
          "text": [
            "57/57 [==============================] - 5s 16ms/step - loss: 0.2590 - tp: 711.0000 - fp: 635.0000 - tn: 265.0000 - fn: 189.0000 - accuracy: 0.5422 - precision: 0.5282 - recall: 0.7900 - f1_score: 0.6715 - auc: 0.5581\n",
            "57/57 [==============================] - 1s 17ms/step - loss: 0.2054 - tp: 631.0000 - fp: 309.0000 - tn: 591.0000 - fn: 269.0000 - accuracy: 0.6789 - precision: 0.6713 - recall: 0.7011 - f1_score: 0.7202 - auc: 0.7414\n",
            "\n",
            "[0.23315934836864471, 1291.0, 912.0, 888.0, 509.0, 0.6052777767181396, 0.5860190391540527, 0.7172222137451172, 0.6873126029968262, 0.6496695876121521] \n",
            " [0.257959246635437, 674.0, 597.0, 303.0, 226.0, 0.5427777767181396, 0.5302910804748535, 0.7488889098167419, 0.6679345965385437, 0.5669234991073608] \n",
            " [0.2083594650030136, 617.0, 315.0, 585.0, 283.0, 0.6677777767181396, 0.6620171666145325, 0.6855555772781372, 0.7087541818618774, 0.7330247163772583] \n",
            "\n",
            "\n",
            "[0.2367784082889557, 1238.0, 859.0, 941.0, 562.0, 0.6052777767181396, 0.5903671979904175, 0.6877777576446533, 0.6917481422424316, 0.6494038105010986] \n",
            " [0.26564034819602966, 652.0, 583.0, 317.0, 248.0, 0.5383333563804626, 0.5279352068901062, 0.7244444489479065, 0.6661532521247864, 0.5578420162200928] \n",
            " [0.20791658759117126, 586.0, 276.0, 624.0, 314.0, 0.6722221970558167, 0.6798143982887268, 0.6511111259460449, 0.7217705249786377, 0.7435018420219421] \n",
            "\n",
            "\n",
            "[0.2322084605693817, 1342.0, 944.0, 856.0, 458.0, 0.6105555295944214, 0.5870516300201416, 0.745555579662323, 0.6943213939666748, 0.6494337916374207] \n",
            " [0.25902068614959717, 711.0, 635.0, 265.0, 189.0, 0.5422222018241882, 0.5282317996025085, 0.7900000214576721, 0.6714719533920288, 0.558078408241272] \n",
            " [0.20539619028568268, 631.0, 309.0, 591.0, 269.0, 0.6788889169692993, 0.6712765693664551, 0.7011111378669739, 0.7201716899871826, 0.7414413690567017] \n",
            "\n",
            "\n"
          ]
        }
      ],
      "source": [
        "model1 = genModel(attention_merge)\n",
        "model2 = genModel(addition_merge)\n",
        "model3 = genModel(concatenate_merge)\n",
        "\n",
        "res1 = run(model1, 'model1.h5')\n",
        "res2 = run(model2, 'model2.h5')\n",
        "res3 = run(model3, 'model3.h5')\n",
        "\n",
        "\n",
        "print()\n",
        "print(res1[0], '\\n', res1[1], '\\n', res1[2], '\\n\\n')\n",
        "print(res2[0], '\\n', res2[1], '\\n', res2[2], '\\n\\n')\n",
        "print(res3[0], '\\n', res3[1], '\\n', res3[2], '\\n\\n')"
      ]
    },
    {
      "cell_type": "markdown",
      "metadata": {
        "id": "jroM0ND2YuC1"
      },
      "source": [
        "The following snippet will print coherent result of the evaluation of each datasets."
      ]
    },
    {
      "cell_type": "code",
      "execution_count": null,
      "metadata": {
        "colab": {
          "base_uri": "https://localhost:8080/"
        },
        "id": "sl4j_s5SSH-8",
        "outputId": "bdb9e87f-add4-4e2c-97ea-b57f00d4dea9"
      },
      "outputs": [
        {
          "name": "stdout",
          "output_type": "stream",
          "text": [
            "loss: 0.23315934836864471 - tp: 1291.0 - fp: 912.0 - tn: 888.0 - fn: 509.0 - accuracy: 0.6052777767181396 - precision: 0.5860190391540527 - recall: 0.7172222137451172 - f1-score: 0.6873126029968262 - auc: 0.6496695876121521 - \n",
            "loss: 0.257959246635437 - tp: 674.0 - fp: 597.0 - tn: 303.0 - fn: 226.0 - accuracy: 0.5427777767181396 - precision: 0.5302910804748535 - recall: 0.7488889098167419 - f1-score: 0.6679345965385437 - auc: 0.5669234991073608 - \n",
            "loss: 0.2083594650030136 - tp: 617.0 - fp: 315.0 - tn: 585.0 - fn: 283.0 - accuracy: 0.6677777767181396 - precision: 0.6620171666145325 - recall: 0.6855555772781372 - f1-score: 0.7087541818618774 - auc: 0.7330247163772583 - \n",
            "\n",
            "loss: 0.2367784082889557 - tp: 1238.0 - fp: 859.0 - tn: 941.0 - fn: 562.0 - accuracy: 0.6052777767181396 - precision: 0.5903671979904175 - recall: 0.6877777576446533 - f1-score: 0.6917481422424316 - auc: 0.6494038105010986 - \n",
            "loss: 0.26564034819602966 - tp: 652.0 - fp: 583.0 - tn: 317.0 - fn: 248.0 - accuracy: 0.5383333563804626 - precision: 0.5279352068901062 - recall: 0.7244444489479065 - f1-score: 0.6661532521247864 - auc: 0.5578420162200928 - \n",
            "loss: 0.20791658759117126 - tp: 586.0 - fp: 276.0 - tn: 624.0 - fn: 314.0 - accuracy: 0.6722221970558167 - precision: 0.6798143982887268 - recall: 0.6511111259460449 - f1-score: 0.7217705249786377 - auc: 0.7435018420219421 - \n",
            "\n",
            "loss: 0.2322084605693817 - tp: 1342.0 - fp: 944.0 - tn: 856.0 - fn: 458.0 - accuracy: 0.6105555295944214 - precision: 0.5870516300201416 - recall: 0.745555579662323 - f1-score: 0.6943213939666748 - auc: 0.6494337916374207 - \n",
            "loss: 0.25902068614959717 - tp: 711.0 - fp: 635.0 - tn: 265.0 - fn: 189.0 - accuracy: 0.5422222018241882 - precision: 0.5282317996025085 - recall: 0.7900000214576721 - f1-score: 0.6714719533920288 - auc: 0.558078408241272 - \n",
            "loss: 0.20539619028568268 - tp: 631.0 - fp: 309.0 - tn: 591.0 - fn: 269.0 - accuracy: 0.6788889169692993 - precision: 0.6712765693664551 - recall: 0.7011111378669739 - f1-score: 0.7201716899871826 - auc: 0.7414413690567017 - \n",
            "\n"
          ]
        }
      ],
      "source": [
        "def printing(results):\n",
        "  dataset = ['Combined Dataset: ', 'Reddit Dataset: ', 'Twitter Dataset: ']\n",
        "  name = ['loss', 'tp', 'fp', 'tn', 'fn', 'accuracy', 'precision', 'recall', 'f1-score', 'auc']\n",
        "  for result in results:\n",
        "    j=0\n",
        "    op=''\n",
        "    print(dataset[j])\n",
        "    j+=1\n",
        "    for i in range(len(name)):\n",
        "      op+=name[i]+\": \"+ str(result[i]) +\" - \"\n",
        "    print(op)\n",
        "  print()\n",
        "\n",
        "\n",
        "\n",
        "print(\"Attention Merge:\")\n",
        "printing(res1)\n",
        "print(\"Addition Merge:\")\n",
        "printing(res2)\n",
        "print(\"Concatenation Merge:\")\n",
        "printing(res3)\n",
        "\n"
      ]
    },
    {
      "cell_type": "code",
      "execution_count": null,
      "metadata": {
        "colab": {
          "base_uri": "https://localhost:8080/"
        },
        "id": "5Y6rGFYVa6GJ",
        "outputId": "5b451430-e98e-4c10-a0cf-74514d4251af"
      },
      "outputs": [
        {
          "name": "stdout",
          "output_type": "stream",
          "text": [
            "Model: \"model_2\"\n",
            "__________________________________________________________________________________________________\n",
            " Layer (type)                   Output Shape         Param #     Connected to                     \n",
            "==================================================================================================\n",
            " input_5 (InputLayer)           [(None, None, 1024)  0           []                               \n",
            "                                ]                                                                 \n",
            "                                                                                                  \n",
            " input_6 (InputLayer)           [(None, None, 1024)  0           []                               \n",
            "                                ]                                                                 \n",
            "                                                                                                  \n",
            " reshape_10 (Reshape)           (None, None, 1024)   0           ['input_5[0][0]']                \n",
            "                                                                                                  \n",
            " reshape_11 (Reshape)           (None, None, 1024)   0           ['input_6[0][0]']                \n",
            "                                                                                                  \n",
            " lstm_16 (LSTM)                 (None, None, 128)    590336      ['reshape_10[0][0]']             \n",
            "                                                                                                  \n",
            " lstm_17 (LSTM)                 (None, None, 128)    590336      ['reshape_11[0][0]']             \n",
            "                                                                                                  \n",
            " concatenate (Concatenate)      (None, None, 256)    0           ['lstm_16[0][0]',                \n",
            "                                                                  'lstm_17[0][0]']                \n",
            "                                                                                                  \n",
            " reshape_12 (Reshape)           (None, 1, 256)       0           ['concatenate[0][0]']            \n",
            "                                                                                                  \n",
            " lstm_18 (LSTM)                 (None, 128)          197120      ['reshape_12[0][0]']             \n",
            "                                                                                                  \n",
            " dropout_8 (Dropout)            (None, 128)          0           ['lstm_18[0][0]']                \n",
            "                                                                                                  \n",
            " dense_8 (Dense)                (None, 256)          33024       ['dropout_8[0][0]']              \n",
            "                                                                                                  \n",
            " dropout_9 (Dropout)            (None, 256)          0           ['dense_8[0][0]']                \n",
            "                                                                                                  \n",
            " dense_9 (Dense)                (None, 256)          65792       ['dropout_9[0][0]']              \n",
            "                                                                                                  \n",
            " reshape_13 (Reshape)           (None, 1, 256)       0           ['dense_9[0][0]']                \n",
            "                                                                                                  \n",
            " dropout_10 (Dropout)           (None, 1, 256)       0           ['reshape_13[0][0]']             \n",
            "                                                                                                  \n",
            " lstm_19 (LSTM)                 (None, 128)          197120      ['dropout_10[0][0]']             \n",
            "                                                                                                  \n",
            " dense_10 (Dense)               (None, 128)          16512       ['lstm_19[0][0]']                \n",
            "                                                                                                  \n",
            " reshape_14 (Reshape)           (None, 1, 128)       0           ['dense_10[0][0]']               \n",
            "                                                                                                  \n",
            " dropout_11 (Dropout)           (None, 1, 128)       0           ['reshape_14[0][0]']             \n",
            "                                                                                                  \n",
            " lstm_20 (LSTM)                 (None, 128)          131584      ['dropout_11[0][0]']             \n",
            "                                                                                                  \n",
            " dense_11 (Dense)               (None, 1)            129         ['lstm_20[0][0]']                \n",
            "                                                                                                  \n",
            "==================================================================================================\n",
            "Total params: 1,821,953\n",
            "Trainable params: 1,821,953\n",
            "Non-trainable params: 0\n",
            "__________________________________________________________________________________________________\n"
          ]
        }
      ],
      "source": [
        "# modelpath = \"/content/gdrive/MyDrive/embeddings/MODELS/model694_67_72.h5\"\n",
        "# model = tf.keras.models.load_model(modelpath, custom_objects={'contrastive_loss': contrastive_loss})\n",
        "\n",
        "# # Print the model summary\n",
        "# model.summary()"
      ]
    },
    {
      "cell_type": "code",
      "execution_count": null,
      "metadata": {
        "colab": {
          "base_uri": "https://localhost:8080/",
          "height": 36
        },
        "id": "R6XF3rKKgWrU",
        "outputId": "9137e075-6458-4c7c-b46e-606dc196bd7a"
      },
      "outputs": [
        {
          "data": {
            "application/vnd.google.colaboratory.intrinsic+json": {
              "type": "string"
            },
            "text/plain": [
              "'/content/gdrive/MyDrive/embeddings/MODELS/model694_67_72.h5'"
            ]
          },
          "execution_count": 25,
          "metadata": {},
          "output_type": "execute_result"
        }
      ],
      "source": [
        "## new_model = tf.keras.models.load_model('model1.h5', custom_objects={'contrastive_loss': contrastive_loss})\n",
        "\n",
        "# # run(new_model)\n",
        "# import shutil\n",
        "# source_path = \"/content/model3.h5\"\n",
        "# destination_path = \"/content/gdrive/MyDrive/embeddings/MODELS/model694_67_72.h5\"\n",
        "# shutil.copyfile(source_path, destination_path)"
      ]
    },
    {
      "cell_type": "markdown",
      "metadata": {
        "id": "StamwLOW13_E"
      },
      "source": [
        "# model - 0.67, 0.72, 0.6965"
      ]
    },
    {
      "cell_type": "code",
      "execution_count": null,
      "metadata": {
        "id": "OlyjbZ6D13_P"
      },
      "outputs": [],
      "source": [
        "from tensorflow.keras.layers import Input, Reshape, Lambda, LSTM, concatenate, Dense, Dropout, Attention\n",
        "from tensorflow.keras.models import Model\n",
        "from tensorflow.keras import backend as K"
      ]
    },
    {
      "cell_type": "markdown",
      "metadata": {
        "id": "y98iNCeYZloe"
      },
      "source": [
        "The following function `genModel()` generates classification model."
      ]
    },
    {
      "cell_type": "code",
      "execution_count": null,
      "metadata": {
        "id": "OYmlXbc613_R"
      },
      "outputs": [],
      "source": [
        "import tensorflow as tf\n",
        "import datetime\n",
        "\n",
        "def attention_merge(lstm_1, lstm_2):\n",
        "  attention = Attention()([lstm_1, lstm_2])\n",
        "  merged_lstm = attention * lstm_1 + (1 - attention) * lstm_2\n",
        "  return merged_lstm\n",
        "\n",
        "def addition_merge(lstm_1, lstm_2):\n",
        "  merged_lstm = lstm_1 + lstm_2\n",
        "  return merged_lstm\n",
        "\n",
        "def concatenate_merge(lstm_1, lstm_2):\n",
        "  merged_lstm = concatenate([lstm_1, lstm_2], axis=2)\n",
        "  return merged_lstm\n",
        "\n",
        "def genModel(merge):\n",
        "    input_1 = Input(shape=(None, feature_number))\n",
        "    input_2 = Input(shape=(None, feature_number))\n",
        "\n",
        "    # Reshape inputs to 3D tensors\n",
        "    lstm_input_1 = Reshape((-1, feature_number))(input_1)\n",
        "    lstm_input_2 = Reshape((-1, feature_number))(input_2)\n",
        "\n",
        "    lstm_1 = LSTM(units=256, return_sequences=True)(lstm_input_1)\n",
        "    lstm_2 = LSTM(units=256, return_sequences=True)(lstm_input_2)\n",
        "\n",
        "    # merged_lstm = attention_merge(lstm_1, lstm_2)\n",
        "    # merged_lstm = addition_merge(lstm_1, lstm_2)\n",
        "    # merged_lstm = concatenate_merge(lstm_1, lstm_2)\n",
        "    merged_lstm = merge(lstm_1, lstm_2)\n",
        "\n",
        "    merged_lstm = LSTM(units=128)(merged_lstm)\n",
        "    merged_lstm = Dropout(rate=0.1)(merged_lstm)\n",
        "    merged_lstm = Dense(units=256)(merged_lstm)\n",
        "    merged_lstm = Dropout(rate=0.1)(merged_lstm)\n",
        "\n",
        "    merged_lstm = Dense(units=256, activation='relu')(merged_lstm)\n",
        "    merged_lstm = Reshape((1, merged_lstm.shape[1]))(merged_lstm)\n",
        "    merged_lstm = Dropout(rate=0.1)(merged_lstm)\n",
        "    merged_lstm = LSTM(units=128, activation='relu')(merged_lstm)\n",
        "\n",
        "    merged_lstm = Dense(units=128, activation='relu')(merged_lstm)\n",
        "    merged_lstm = Reshape((1, merged_lstm.shape[1]))(merged_lstm)\n",
        "    merged_lstm = Dropout(rate=0.1)(merged_lstm)\n",
        "    merged_lstm = LSTM(units=256, activation='relu')(merged_lstm)\n",
        "    # merged_lstm = Dropout(rate=0.1)(merged_lstm)\n",
        "\n",
        "\n",
        "    output_layer = Dense(units=1, activation='sigmoid')(merged_lstm)\n",
        "\n",
        "    model = Model(inputs=[input_1, input_2], outputs=output_layer)\n",
        "\n",
        "    # # Add logging statements to save the model graph\n",
        "    # # Save the model graph using TensorBoard's callback\n",
        "    # log_dir = \"logs/\" + datetime.datetime.now().strftime(\"%Y%m%d-%H%M%S\")\n",
        "    # tensorboard_callback = tf.keras.callbacks.TensorBoard(log_dir=log_dir)\n",
        "\n",
        "    # model.compile(optimizer='adam', loss='binary_crossentropy', metrics=['accuracy'])\n",
        "\n",
        "    # # Train the model with a dummy dataset to generate the graph\n",
        "    # dummy_x = tf.zeros((1, 1, feature_number))\n",
        "    # model.fit([dummy_x, dummy_x], tf.zeros((1, 1)), callbacks=[tensorboard_callback])\n",
        "\n",
        "\n",
        "\n",
        "\n",
        "    return model\n"
      ]
    },
    {
      "cell_type": "markdown",
      "metadata": {
        "id": "ailS-nhpZlop"
      },
      "source": [
        "The following function `run()` compiles and evaluates the model with 3 test datasets - Twitter dataset, Reddit Dataset, and their Combined Dataset."
      ]
    },
    {
      "cell_type": "code",
      "execution_count": null,
      "metadata": {
        "id": "cDxUj2aj13_R"
      },
      "outputs": [],
      "source": [
        "def run(model, name):\n",
        "    opt = tf.keras.optimizers.Adam(learning_rate=1e-3)\n",
        "\n",
        "\n",
        "    metrics = [tf.keras.metrics.TruePositives(name='tp'),\n",
        "              tf.keras.metrics.FalsePositives(name='fp'),\n",
        "              tf.keras.metrics.TrueNegatives(name='tn'),\n",
        "              tf.keras.metrics.FalseNegatives(name='fn'),\n",
        "              tf.keras.metrics.BinaryAccuracy(name='accuracy'),\n",
        "              tf.keras.metrics.Precision(name='precision'),\n",
        "              tf.keras.metrics.Recall(name='recall'),\n",
        "              tfa.metrics.F1Score(num_classes=2, average='micro', threshold=0.2555),\n",
        "              tf.keras.metrics.AUC(name='auc')]\n",
        "\n",
        "    # Compile the model\n",
        "    model.compile(optimizer=opt, loss=contrastive_loss, metrics=metrics)\n",
        "    # model.compile(loss='binary_crossentropy', optimizer='RMSprop', metrics=['accuracy'])\n",
        "\n",
        "    model.fit(x=[x_train[:, 0], x_train[:, 1]], y=y_train, batch_size=256, epochs=1000, validation_split=0.3, callbacks = [early_stop])\n",
        "\n",
        "    test_ = model.evaluate(x=[x_test_[:, 0], x_test_[:, 1]], y=y_test_)\n",
        "    test2 = model.evaluate(x=[x_test2[:, 0], x_test2[:, 1]], y=y_test2)\n",
        "    test = model.evaluate(x=[x_test[:, 0], x_test[:, 1]], y=y_test)\n",
        "\n",
        "    model.save(name)\n",
        "\n",
        "\n",
        "    return [test_, test2, test]\n",
        "\n"
      ]
    },
    {
      "cell_type": "markdown",
      "metadata": {
        "id": "ccXw7mqEZloq"
      },
      "source": [
        "The following are the function calls for generating model, compiling and evaluating them."
      ]
    },
    {
      "cell_type": "code",
      "execution_count": null,
      "metadata": {
        "colab": {
          "base_uri": "https://localhost:8080/"
        },
        "id": "isaPO8z113_S",
        "outputId": "c73c91dc-02c0-415f-930c-7fd8defe849e"
      },
      "outputs": [
        {
          "name": "stdout",
          "output_type": "stream",
          "text": [
            "Epoch 1/1000\n"
          ]
        },
        {
          "name": "stderr",
          "output_type": "stream",
          "text": [
            "WARNING:tensorflow:Model was constructed with shape (None, None, 1024) for input KerasTensor(type_spec=TensorSpec(shape=(None, None, 1024), dtype=tf.float32, name='input_1'), name='input_1', description=\"created by layer 'input_1'\"), but it was called on an input with incompatible shape (None, 1024).\n",
            "WARNING:tensorflow:Model was constructed with shape (None, None, 1024) for input KerasTensor(type_spec=TensorSpec(shape=(None, None, 1024), dtype=tf.float32, name='input_2'), name='input_2', description=\"created by layer 'input_2'\"), but it was called on an input with incompatible shape (None, 1024).\n",
            "WARNING:tensorflow:Model was constructed with shape (None, None, 1024) for input KerasTensor(type_spec=TensorSpec(shape=(None, None, 1024), dtype=tf.float32, name='input_1'), name='input_1', description=\"created by layer 'input_1'\"), but it was called on an input with incompatible shape (None, 1024).\n",
            "WARNING:tensorflow:Model was constructed with shape (None, None, 1024) for input KerasTensor(type_spec=TensorSpec(shape=(None, None, 1024), dtype=tf.float32, name='input_2'), name='input_2', description=\"created by layer 'input_2'\"), but it was called on an input with incompatible shape (None, 1024).\n"
          ]
        },
        {
          "name": "stdout",
          "output_type": "stream",
          "text": [
            "26/26 [==============================] - ETA: 0s - loss: 0.2500 - tp: 1893.0000 - fp: 1771.0000 - tn: 1514.0000 - fn: 1402.0000 - accuracy: 0.5178 - precision: 0.5166 - recall: 0.5745 - f1_score: 0.6673 - auc: 0.5003"
          ]
        },
        {
          "name": "stderr",
          "output_type": "stream",
          "text": [
            "WARNING:tensorflow:Model was constructed with shape (None, None, 1024) for input KerasTensor(type_spec=TensorSpec(shape=(None, None, 1024), dtype=tf.float32, name='input_1'), name='input_1', description=\"created by layer 'input_1'\"), but it was called on an input with incompatible shape (None, 1024).\n",
            "WARNING:tensorflow:Model was constructed with shape (None, None, 1024) for input KerasTensor(type_spec=TensorSpec(shape=(None, None, 1024), dtype=tf.float32, name='input_2'), name='input_2', description=\"created by layer 'input_2'\"), but it was called on an input with incompatible shape (None, 1024).\n"
          ]
        },
        {
          "name": "stdout",
          "output_type": "stream",
          "text": [
            "\b\b\b\b\b\b\b\b\b\b\b\b\b\b\b\b\b\b\b\b\b\b\b\b\b\b\b\b\b\b\b\b\b\b\b\b\b\b\b\b\b\b\b\b\b\b\b\b\b\b\b\b\b\b\b\b\b\b\b\b\b\b\b\b\b\b\b\b\b\b\b\b\b\b\b\b\b\b\b\b\b\b\b\b\b\b\b\b\b\b\b\b\b\b\b\b\b\b\b\b\b\b\b\b\b\b\b\b\b\b\b\b\b\b\b\b\b\b\b\b\b\b\b\b\b\b\b\b\b\b\b\b\b\b\b\b\b\b\b\b\b\b\b\b\b\b\b\b\b\b\b\b\b\b\b\b\b\b\b\b\b\b\b\b\b\b\b\b\b\b\b\b\b\b\b\b\b\b\b\b\b\b\b\b\b\b\b\b\b\b\b\b\b\b\b\b\b\b\b\b\b\b\b\b\b\b\b\b\b\b\b\b\b\b\b\b\r26/26 [==============================] - 39s 357ms/step - loss: 0.2500 - tp: 1893.0000 - fp: 1771.0000 - tn: 1514.0000 - fn: 1402.0000 - accuracy: 0.5178 - precision: 0.5166 - recall: 0.5745 - f1_score: 0.6673 - auc: 0.5003 - val_loss: 0.2496 - val_tp: 1001.0000 - val_fp: 794.0000 - val_tn: 621.0000 - val_fn: 404.0000 - val_accuracy: 0.5752 - val_precision: 0.5577 - val_recall: 0.7125 - val_f1_score: 0.6651 - val_auc: 0.5898\n",
            "Epoch 2/1000\n",
            "26/26 [==============================] - 4s 146ms/step - loss: 0.2401 - tp: 2157.0000 - fp: 1582.0000 - tn: 1703.0000 - fn: 1138.0000 - accuracy: 0.5866 - precision: 0.5769 - recall: 0.6546 - f1_score: 0.6737 - auc: 0.6094 - val_loss: 0.2296 - val_tp: 1036.0000 - val_fp: 754.0000 - val_tn: 661.0000 - val_fn: 369.0000 - val_accuracy: 0.6018 - val_precision: 0.5788 - val_recall: 0.7374 - val_f1_score: 0.6992 - val_auc: 0.6451\n",
            "Epoch 3/1000\n",
            "26/26 [==============================] - 4s 136ms/step - loss: 0.2216 - tp: 2435.0000 - fp: 1567.0000 - tn: 1718.0000 - fn: 860.0000 - accuracy: 0.6312 - precision: 0.6084 - recall: 0.7390 - f1_score: 0.6976 - auc: 0.6816 - val_loss: 0.2363 - val_tp: 526.0000 - val_fp: 287.0000 - val_tn: 1128.0000 - val_fn: 879.0000 - val_accuracy: 0.5865 - val_precision: 0.6470 - val_recall: 0.3744 - val_f1_score: 0.6956 - val_auc: 0.6657\n",
            "Epoch 4/1000\n",
            "26/26 [==============================] - 6s 241ms/step - loss: 0.2182 - tp: 2299.0000 - fp: 1379.0000 - tn: 1906.0000 - fn: 996.0000 - accuracy: 0.6391 - precision: 0.6251 - recall: 0.6977 - f1_score: 0.6967 - auc: 0.6997 - val_loss: 0.2247 - val_tp: 762.0000 - val_fp: 465.0000 - val_tn: 950.0000 - val_fn: 643.0000 - val_accuracy: 0.6071 - val_precision: 0.6210 - val_recall: 0.5423 - val_f1_score: 0.7044 - val_auc: 0.6733\n",
            "Epoch 5/1000\n",
            "26/26 [==============================] - 5s 201ms/step - loss: 0.2078 - tp: 2368.0000 - fp: 1257.0000 - tn: 2028.0000 - fn: 927.0000 - accuracy: 0.6681 - precision: 0.6532 - recall: 0.7187 - f1_score: 0.7064 - auc: 0.7322 - val_loss: 0.2227 - val_tp: 909.0000 - val_fp: 568.0000 - val_tn: 847.0000 - val_fn: 496.0000 - val_accuracy: 0.6227 - val_precision: 0.6154 - val_recall: 0.6470 - val_f1_score: 0.6859 - val_auc: 0.6836\n",
            "Epoch 6/1000\n",
            "26/26 [==============================] - 4s 140ms/step - loss: 0.1993 - tp: 2284.0000 - fp: 1050.0000 - tn: 2235.0000 - fn: 1011.0000 - accuracy: 0.6868 - precision: 0.6851 - recall: 0.6932 - f1_score: 0.7167 - auc: 0.7562 - val_loss: 0.2370 - val_tp: 1308.0000 - val_fp: 1054.0000 - val_tn: 361.0000 - val_fn: 97.0000 - val_accuracy: 0.5918 - val_precision: 0.5538 - val_recall: 0.9310 - val_f1_score: 0.6796 - val_auc: 0.6736\n",
            "Epoch 7/1000\n",
            "26/26 [==============================] - 4s 147ms/step - loss: 0.1940 - tp: 2364.0000 - fp: 1063.0000 - tn: 2222.0000 - fn: 931.0000 - accuracy: 0.6970 - precision: 0.6898 - recall: 0.7175 - f1_score: 0.7195 - auc: 0.7707 - val_loss: 0.2258 - val_tp: 974.0000 - val_fp: 643.0000 - val_tn: 772.0000 - val_fn: 431.0000 - val_accuracy: 0.6191 - val_precision: 0.6024 - val_recall: 0.6932 - val_f1_score: 0.6987 - val_auc: 0.6872\n",
            "Epoch 8/1000\n",
            "26/26 [==============================] - 5s 210ms/step - loss: 0.1817 - tp: 2472.0000 - fp: 995.0000 - tn: 2290.0000 - fn: 823.0000 - accuracy: 0.7237 - precision: 0.7130 - recall: 0.7502 - f1_score: 0.7313 - auc: 0.8009 - val_loss: 0.2293 - val_tp: 1007.0000 - val_fp: 703.0000 - val_tn: 712.0000 - val_fn: 398.0000 - val_accuracy: 0.6096 - val_precision: 0.5889 - val_recall: 0.7167 - val_f1_score: 0.6941 - val_auc: 0.6793\n",
            "Epoch 9/1000\n",
            "26/26 [==============================] - 6s 235ms/step - loss: 0.1644 - tp: 2618.0000 - fp: 909.0000 - tn: 2376.0000 - fn: 677.0000 - accuracy: 0.7590 - precision: 0.7423 - recall: 0.7945 - f1_score: 0.7574 - auc: 0.8381 - val_loss: 0.2419 - val_tp: 1038.0000 - val_fp: 725.0000 - val_tn: 690.0000 - val_fn: 367.0000 - val_accuracy: 0.6128 - val_precision: 0.5888 - val_recall: 0.7388 - val_f1_score: 0.6911 - val_auc: 0.6748\n",
            "Epoch 10/1000\n",
            "26/26 [==============================] - 3s 129ms/step - loss: 0.1616 - tp: 2590.0000 - fp: 871.0000 - tn: 2414.0000 - fn: 705.0000 - accuracy: 0.7605 - precision: 0.7483 - recall: 0.7860 - f1_score: 0.7651 - auc: 0.8429 - val_loss: 0.2386 - val_tp: 1237.0000 - val_fp: 929.0000 - val_tn: 486.0000 - val_fn: 168.0000 - val_accuracy: 0.6110 - val_precision: 0.5711 - val_recall: 0.8804 - val_f1_score: 0.6983 - val_auc: 0.6815\n",
            "Epoch 11/1000\n",
            "26/26 [==============================] - 3s 133ms/step - loss: 0.1525 - tp: 2593.0000 - fp: 801.0000 - tn: 2484.0000 - fn: 702.0000 - accuracy: 0.7716 - precision: 0.7640 - recall: 0.7869 - f1_score: 0.7762 - auc: 0.8603 - val_loss: 0.2773 - val_tp: 1210.0000 - val_fp: 956.0000 - val_tn: 459.0000 - val_fn: 195.0000 - val_accuracy: 0.5918 - val_precision: 0.5586 - val_recall: 0.8612 - val_f1_score: 0.6891 - val_auc: 0.6726\n",
            "Epoch 12/1000\n",
            "26/26 [==============================] - 5s 192ms/step - loss: 0.1355 - tp: 2709.0000 - fp: 677.0000 - tn: 2608.0000 - fn: 586.0000 - accuracy: 0.8081 - precision: 0.8001 - recall: 0.8222 - f1_score: 0.7962 - auc: 0.8875 - val_loss: 0.2566 - val_tp: 978.0000 - val_fp: 637.0000 - val_tn: 778.0000 - val_fn: 427.0000 - val_accuracy: 0.6227 - val_precision: 0.6056 - val_recall: 0.6961 - val_f1_score: 0.6771 - val_auc: 0.6751\n",
            "Epoch 13/1000\n",
            "26/26 [==============================] - 6s 250ms/step - loss: 0.1227 - tp: 2764.0000 - fp: 618.0000 - tn: 2667.0000 - fn: 531.0000 - accuracy: 0.8254 - precision: 0.8173 - recall: 0.8388 - f1_score: 0.8159 - auc: 0.9065 - val_loss: 0.2700 - val_tp: 1019.0000 - val_fp: 679.0000 - val_tn: 736.0000 - val_fn: 386.0000 - val_accuracy: 0.6223 - val_precision: 0.6001 - val_recall: 0.7253 - val_f1_score: 0.7022 - val_auc: 0.6692\n",
            "Epoch 14/1000\n",
            "26/26 [==============================] - 4s 145ms/step - loss: 0.1195 - tp: 2760.0000 - fp: 556.0000 - tn: 2729.0000 - fn: 535.0000 - accuracy: 0.8342 - precision: 0.8323 - recall: 0.8376 - f1_score: 0.8205 - auc: 0.9101 - val_loss: 0.2703 - val_tp: 992.0000 - val_fp: 652.0000 - val_tn: 763.0000 - val_fn: 413.0000 - val_accuracy: 0.6223 - val_precision: 0.6034 - val_recall: 0.7060 - val_f1_score: 0.6852 - val_auc: 0.6728\n",
            "Epoch 15/1000\n",
            "26/26 [==============================] - 4s 148ms/step - loss: 0.1012 - tp: 2883.0000 - fp: 493.0000 - tn: 2792.0000 - fn: 412.0000 - accuracy: 0.8625 - precision: 0.8540 - recall: 0.8750 - f1_score: 0.8505 - auc: 0.9318 - val_loss: 0.2931 - val_tp: 923.0000 - val_fp: 594.0000 - val_tn: 821.0000 - val_fn: 482.0000 - val_accuracy: 0.6184 - val_precision: 0.6084 - val_recall: 0.6569 - val_f1_score: 0.6602 - val_auc: 0.6580\n",
            "113/113 [==============================] - 2s 17ms/step - loss: 0.2327 - tp: 1119.0000 - fp: 797.0000 - tn: 1003.0000 - fn: 681.0000 - accuracy: 0.5894 - precision: 0.5840 - recall: 0.6217 - f1_score: 0.6793 - auc: 0.6421\n"
          ]
        },
        {
          "name": "stderr",
          "output_type": "stream",
          "text": [
            "WARNING:tensorflow:Model was constructed with shape (None, None, 1024) for input KerasTensor(type_spec=TensorSpec(shape=(None, None, 1024), dtype=tf.float32, name='input_1'), name='input_1', description=\"created by layer 'input_1'\"), but it was called on an input with incompatible shape (None, 1024).\n",
            "WARNING:tensorflow:Model was constructed with shape (None, None, 1024) for input KerasTensor(type_spec=TensorSpec(shape=(None, None, 1024), dtype=tf.float32, name='input_2'), name='input_2', description=\"created by layer 'input_2'\"), but it was called on an input with incompatible shape (None, 1024).\n"
          ]
        },
        {
          "name": "stdout",
          "output_type": "stream",
          "text": [
            "57/57 [==============================] - 8s 25ms/step - loss: 0.2508 - tp: 565.0000 - fp: 510.0000 - tn: 390.0000 - fn: 335.0000 - accuracy: 0.5306 - precision: 0.5256 - recall: 0.6278 - f1_score: 0.6669 - auc: 0.5604\n",
            "57/57 [==============================] - 1s 15ms/step - loss: 0.2145 - tp: 554.0000 - fp: 287.0000 - tn: 613.0000 - fn: 346.0000 - accuracy: 0.6483 - precision: 0.6587 - recall: 0.6156 - f1_score: 0.6921 - auc: 0.7226\n",
            "Epoch 1/1000\n"
          ]
        },
        {
          "name": "stderr",
          "output_type": "stream",
          "text": [
            "WARNING:tensorflow:Model was constructed with shape (None, None, 1024) for input KerasTensor(type_spec=TensorSpec(shape=(None, None, 1024), dtype=tf.float32, name='input_3'), name='input_3', description=\"created by layer 'input_3'\"), but it was called on an input with incompatible shape (None, 1024).\n",
            "WARNING:tensorflow:Model was constructed with shape (None, None, 1024) for input KerasTensor(type_spec=TensorSpec(shape=(None, None, 1024), dtype=tf.float32, name='input_4'), name='input_4', description=\"created by layer 'input_4'\"), but it was called on an input with incompatible shape (None, 1024).\n",
            "WARNING:tensorflow:Model was constructed with shape (None, None, 1024) for input KerasTensor(type_spec=TensorSpec(shape=(None, None, 1024), dtype=tf.float32, name='input_3'), name='input_3', description=\"created by layer 'input_3'\"), but it was called on an input with incompatible shape (None, 1024).\n",
            "WARNING:tensorflow:Model was constructed with shape (None, None, 1024) for input KerasTensor(type_spec=TensorSpec(shape=(None, None, 1024), dtype=tf.float32, name='input_4'), name='input_4', description=\"created by layer 'input_4'\"), but it was called on an input with incompatible shape (None, 1024).\n"
          ]
        },
        {
          "name": "stdout",
          "output_type": "stream",
          "text": [
            "26/26 [==============================] - ETA: 0s - loss: 0.2497 - tp: 736.0000 - fp: 581.0000 - tn: 2704.0000 - fn: 2559.0000 - accuracy: 0.5228 - precision: 0.5588 - recall: 0.2234 - f1_score: 0.6673 - auc: 0.5285"
          ]
        },
        {
          "name": "stderr",
          "output_type": "stream",
          "text": [
            "WARNING:tensorflow:Model was constructed with shape (None, None, 1024) for input KerasTensor(type_spec=TensorSpec(shape=(None, None, 1024), dtype=tf.float32, name='input_3'), name='input_3', description=\"created by layer 'input_3'\"), but it was called on an input with incompatible shape (None, 1024).\n",
            "WARNING:tensorflow:Model was constructed with shape (None, None, 1024) for input KerasTensor(type_spec=TensorSpec(shape=(None, None, 1024), dtype=tf.float32, name='input_4'), name='input_4', description=\"created by layer 'input_4'\"), but it was called on an input with incompatible shape (None, 1024).\n"
          ]
        },
        {
          "name": "stdout",
          "output_type": "stream",
          "text": [
            "\b\b\b\b\b\b\b\b\b\b\b\b\b\b\b\b\b\b\b\b\b\b\b\b\b\b\b\b\b\b\b\b\b\b\b\b\b\b\b\b\b\b\b\b\b\b\b\b\b\b\b\b\b\b\b\b\b\b\b\b\b\b\b\b\b\b\b\b\b\b\b\b\b\b\b\b\b\b\b\b\b\b\b\b\b\b\b\b\b\b\b\b\b\b\b\b\b\b\b\b\b\b\b\b\b\b\b\b\b\b\b\b\b\b\b\b\b\b\b\b\b\b\b\b\b\b\b\b\b\b\b\b\b\b\b\b\b\b\b\b\b\b\b\b\b\b\b\b\b\b\b\b\b\b\b\b\b\b\b\b\b\b\b\b\b\b\b\b\b\b\b\b\b\b\b\b\b\b\b\b\b\b\b\b\b\b\b\b\b\b\b\b\b\b\b\b\b\b\b\b\b\b\b\b\b\b\b\b\b\b\b\b\b\b\r26/26 [==============================] - 22s 362ms/step - loss: 0.2497 - tp: 736.0000 - fp: 581.0000 - tn: 2704.0000 - fn: 2559.0000 - accuracy: 0.5228 - precision: 0.5588 - recall: 0.2234 - f1_score: 0.6673 - auc: 0.5285 - val_loss: 0.2482 - val_tp: 60.0000 - val_fp: 33.0000 - val_tn: 1382.0000 - val_fn: 1345.0000 - val_accuracy: 0.5113 - val_precision: 0.6452 - val_recall: 0.0427 - val_f1_score: 0.6651 - val_auc: 0.6078\n",
            "Epoch 2/1000\n",
            "26/26 [==============================] - 4s 140ms/step - loss: 0.2356 - tp: 2601.0000 - fp: 2004.0000 - tn: 1281.0000 - fn: 694.0000 - accuracy: 0.5900 - precision: 0.5648 - recall: 0.7894 - f1_score: 0.6884 - auc: 0.6018 - val_loss: 0.2258 - val_tp: 1258.0000 - val_fp: 922.0000 - val_tn: 493.0000 - val_fn: 147.0000 - val_accuracy: 0.6209 - val_precision: 0.5771 - val_recall: 0.8954 - val_f1_score: 0.6985 - val_auc: 0.6643\n",
            "Epoch 3/1000\n",
            "26/26 [==============================] - 5s 177ms/step - loss: 0.2239 - tp: 2729.0000 - fp: 1870.0000 - tn: 1415.0000 - fn: 566.0000 - accuracy: 0.6298 - precision: 0.5934 - recall: 0.8282 - f1_score: 0.7011 - auc: 0.6654 - val_loss: 0.2213 - val_tp: 1212.0000 - val_fp: 871.0000 - val_tn: 544.0000 - val_fn: 193.0000 - val_accuracy: 0.6227 - val_precision: 0.5819 - val_recall: 0.8626 - val_f1_score: 0.7007 - val_auc: 0.6789\n",
            "Epoch 4/1000\n",
            "26/26 [==============================] - 6s 247ms/step - loss: 0.2157 - tp: 2413.0000 - fp: 1451.0000 - tn: 1834.0000 - fn: 882.0000 - accuracy: 0.6454 - precision: 0.6245 - recall: 0.7323 - f1_score: 0.7075 - auc: 0.7026 - val_loss: 0.2178 - val_tp: 1040.0000 - val_fp: 668.0000 - val_tn: 747.0000 - val_fn: 365.0000 - val_accuracy: 0.6337 - val_precision: 0.6089 - val_recall: 0.7402 - val_f1_score: 0.7059 - val_auc: 0.6889\n",
            "Epoch 5/1000\n",
            "26/26 [==============================] - 4s 160ms/step - loss: 0.2170 - tp: 2563.0000 - fp: 1672.0000 - tn: 1613.0000 - fn: 732.0000 - accuracy: 0.6347 - precision: 0.6052 - recall: 0.7778 - f1_score: 0.6996 - auc: 0.7035 - val_loss: 0.2154 - val_tp: 939.0000 - val_fp: 542.0000 - val_tn: 873.0000 - val_fn: 466.0000 - val_accuracy: 0.6426 - val_precision: 0.6340 - val_recall: 0.6683 - val_f1_score: 0.7073 - val_auc: 0.7031\n",
            "Epoch 6/1000\n",
            "26/26 [==============================] - 6s 219ms/step - loss: 0.2063 - tp: 2367.0000 - fp: 1266.0000 - tn: 2019.0000 - fn: 928.0000 - accuracy: 0.6666 - precision: 0.6515 - recall: 0.7184 - f1_score: 0.7141 - auc: 0.7347 - val_loss: 0.2177 - val_tp: 1055.0000 - val_fp: 684.0000 - val_tn: 731.0000 - val_fn: 350.0000 - val_accuracy: 0.6333 - val_precision: 0.6067 - val_recall: 0.7509 - val_f1_score: 0.7087 - val_auc: 0.7024\n",
            "Epoch 7/1000\n",
            "26/26 [==============================] - 6s 241ms/step - loss: 0.1971 - tp: 2488.0000 - fp: 1255.0000 - tn: 2030.0000 - fn: 807.0000 - accuracy: 0.6866 - precision: 0.6647 - recall: 0.7551 - f1_score: 0.7258 - auc: 0.7619 - val_loss: 0.2279 - val_tp: 835.0000 - val_fp: 476.0000 - val_tn: 939.0000 - val_fn: 570.0000 - val_accuracy: 0.6291 - val_precision: 0.6369 - val_recall: 0.5943 - val_f1_score: 0.7035 - val_auc: 0.7022\n",
            "Epoch 8/1000\n",
            "26/26 [==============================] - 7s 259ms/step - loss: 0.1845 - tp: 2490.0000 - fp: 1061.0000 - tn: 2224.0000 - fn: 805.0000 - accuracy: 0.7164 - precision: 0.7012 - recall: 0.7557 - f1_score: 0.7364 - auc: 0.7934 - val_loss: 0.2336 - val_tp: 1256.0000 - val_fp: 939.0000 - val_tn: 476.0000 - val_fn: 149.0000 - val_accuracy: 0.6142 - val_precision: 0.5722 - val_recall: 0.8940 - val_f1_score: 0.7001 - val_auc: 0.6941\n",
            "Epoch 9/1000\n",
            "26/26 [==============================] - 5s 192ms/step - loss: 0.1828 - tp: 2460.0000 - fp: 1031.0000 - tn: 2254.0000 - fn: 835.0000 - accuracy: 0.7164 - precision: 0.7047 - recall: 0.7466 - f1_score: 0.7337 - auc: 0.7980 - val_loss: 0.2327 - val_tp: 656.0000 - val_fp: 301.0000 - val_tn: 1114.0000 - val_fn: 749.0000 - val_accuracy: 0.6277 - val_precision: 0.6855 - val_recall: 0.4669 - val_f1_score: 0.6828 - val_auc: 0.6894\n",
            "Epoch 10/1000\n",
            "26/26 [==============================] - 6s 226ms/step - loss: 0.1705 - tp: 2542.0000 - fp: 931.0000 - tn: 2354.0000 - fn: 753.0000 - accuracy: 0.7441 - precision: 0.7319 - recall: 0.7715 - f1_score: 0.7536 - auc: 0.8246 - val_loss: 0.2461 - val_tp: 1246.0000 - val_fp: 929.0000 - val_tn: 486.0000 - val_fn: 159.0000 - val_accuracy: 0.6142 - val_precision: 0.5729 - val_recall: 0.8868 - val_f1_score: 0.6994 - val_auc: 0.6905\n",
            "Epoch 11/1000\n",
            "26/26 [==============================] - 5s 204ms/step - loss: 0.1636 - tp: 2565.0000 - fp: 871.0000 - tn: 2414.0000 - fn: 730.0000 - accuracy: 0.7567 - precision: 0.7465 - recall: 0.7785 - f1_score: 0.7610 - auc: 0.8388 - val_loss: 0.2409 - val_tp: 1028.0000 - val_fp: 641.0000 - val_tn: 774.0000 - val_fn: 377.0000 - val_accuracy: 0.6390 - val_precision: 0.6159 - val_recall: 0.7317 - val_f1_score: 0.6963 - val_auc: 0.6988\n",
            "Epoch 12/1000\n",
            "26/26 [==============================] - 6s 231ms/step - loss: 0.1514 - tp: 2653.0000 - fp: 783.0000 - tn: 2502.0000 - fn: 642.0000 - accuracy: 0.7834 - precision: 0.7721 - recall: 0.8052 - f1_score: 0.7745 - auc: 0.8607 - val_loss: 0.2340 - val_tp: 883.0000 - val_fp: 531.0000 - val_tn: 884.0000 - val_fn: 522.0000 - val_accuracy: 0.6266 - val_precision: 0.6245 - val_recall: 0.6285 - val_f1_score: 0.7021 - val_auc: 0.6933\n",
            "Epoch 13/1000\n",
            "26/26 [==============================] - 4s 142ms/step - loss: 0.1511 - tp: 2587.0000 - fp: 734.0000 - tn: 2551.0000 - fn: 708.0000 - accuracy: 0.7809 - precision: 0.7790 - recall: 0.7851 - f1_score: 0.7708 - auc: 0.8622 - val_loss: 0.2395 - val_tp: 576.0000 - val_fp: 282.0000 - val_tn: 1133.0000 - val_fn: 829.0000 - val_accuracy: 0.6060 - val_precision: 0.6713 - val_recall: 0.4100 - val_f1_score: 0.6920 - val_auc: 0.6961\n",
            "Epoch 14/1000\n",
            "26/26 [==============================] - 3s 135ms/step - loss: 0.1315 - tp: 2728.0000 - fp: 650.0000 - tn: 2635.0000 - fn: 567.0000 - accuracy: 0.8150 - precision: 0.8076 - recall: 0.8279 - f1_score: 0.8013 - auc: 0.8933 - val_loss: 0.2654 - val_tp: 1077.0000 - val_fp: 704.0000 - val_tn: 711.0000 - val_fn: 328.0000 - val_accuracy: 0.6340 - val_precision: 0.6047 - val_recall: 0.7665 - val_f1_score: 0.6935 - val_auc: 0.6847\n",
            "Epoch 15/1000\n",
            "26/26 [==============================] - 4s 163ms/step - loss: 0.1152 - tp: 2783.0000 - fp: 546.0000 - tn: 2739.0000 - fn: 512.0000 - accuracy: 0.8392 - precision: 0.8360 - recall: 0.8446 - f1_score: 0.8278 - auc: 0.9162 - val_loss: 0.2749 - val_tp: 745.0000 - val_fp: 412.0000 - val_tn: 1003.0000 - val_fn: 660.0000 - val_accuracy: 0.6199 - val_precision: 0.6439 - val_recall: 0.5302 - val_f1_score: 0.6671 - val_auc: 0.6883\n",
            "113/113 [==============================] - 3s 24ms/step - loss: 0.2292 - tp: 1177.0000 - fp: 808.0000 - tn: 992.0000 - fn: 623.0000 - accuracy: 0.6025 - precision: 0.5929 - recall: 0.6539 - f1_score: 0.6965 - auc: 0.6508\n"
          ]
        },
        {
          "name": "stderr",
          "output_type": "stream",
          "text": [
            "WARNING:tensorflow:Model was constructed with shape (None, None, 1024) for input KerasTensor(type_spec=TensorSpec(shape=(None, None, 1024), dtype=tf.float32, name='input_3'), name='input_3', description=\"created by layer 'input_3'\"), but it was called on an input with incompatible shape (None, 1024).\n",
            "WARNING:tensorflow:Model was constructed with shape (None, None, 1024) for input KerasTensor(type_spec=TensorSpec(shape=(None, None, 1024), dtype=tf.float32, name='input_4'), name='input_4', description=\"created by layer 'input_4'\"), but it was called on an input with incompatible shape (None, 1024).\n"
          ]
        },
        {
          "name": "stdout",
          "output_type": "stream",
          "text": [
            "57/57 [==============================] - 7s 15ms/step - loss: 0.2514 - tp: 615.0000 - fp: 549.0000 - tn: 351.0000 - fn: 285.0000 - accuracy: 0.5367 - precision: 0.5284 - recall: 0.6833 - f1_score: 0.6709 - auc: 0.5611\n",
            "57/57 [==============================] - 1s 17ms/step - loss: 0.2069 - tp: 562.0000 - fp: 259.0000 - tn: 641.0000 - fn: 338.0000 - accuracy: 0.6683 - precision: 0.6845 - recall: 0.6244 - f1_score: 0.7253 - auc: 0.7436\n",
            "Epoch 1/1000\n"
          ]
        },
        {
          "name": "stderr",
          "output_type": "stream",
          "text": [
            "WARNING:tensorflow:Model was constructed with shape (None, None, 1024) for input KerasTensor(type_spec=TensorSpec(shape=(None, None, 1024), dtype=tf.float32, name='input_5'), name='input_5', description=\"created by layer 'input_5'\"), but it was called on an input with incompatible shape (None, 1024).\n",
            "WARNING:tensorflow:Model was constructed with shape (None, None, 1024) for input KerasTensor(type_spec=TensorSpec(shape=(None, None, 1024), dtype=tf.float32, name='input_6'), name='input_6', description=\"created by layer 'input_6'\"), but it was called on an input with incompatible shape (None, 1024).\n",
            "WARNING:tensorflow:Model was constructed with shape (None, None, 1024) for input KerasTensor(type_spec=TensorSpec(shape=(None, None, 1024), dtype=tf.float32, name='input_5'), name='input_5', description=\"created by layer 'input_5'\"), but it was called on an input with incompatible shape (None, 1024).\n",
            "WARNING:tensorflow:Model was constructed with shape (None, None, 1024) for input KerasTensor(type_spec=TensorSpec(shape=(None, None, 1024), dtype=tf.float32, name='input_6'), name='input_6', description=\"created by layer 'input_6'\"), but it was called on an input with incompatible shape (None, 1024).\n"
          ]
        },
        {
          "name": "stdout",
          "output_type": "stream",
          "text": [
            "26/26 [==============================] - ETA: 0s - loss: 0.2498 - tp: 372.0000 - fp: 281.0000 - tn: 3004.0000 - fn: 2923.0000 - accuracy: 0.5131 - precision: 0.5697 - recall: 0.1129 - f1_score: 0.6673 - auc: 0.5293"
          ]
        },
        {
          "name": "stderr",
          "output_type": "stream",
          "text": [
            "WARNING:tensorflow:Model was constructed with shape (None, None, 1024) for input KerasTensor(type_spec=TensorSpec(shape=(None, None, 1024), dtype=tf.float32, name='input_5'), name='input_5', description=\"created by layer 'input_5'\"), but it was called on an input with incompatible shape (None, 1024).\n",
            "WARNING:tensorflow:Model was constructed with shape (None, None, 1024) for input KerasTensor(type_spec=TensorSpec(shape=(None, None, 1024), dtype=tf.float32, name='input_6'), name='input_6', description=\"created by layer 'input_6'\"), but it was called on an input with incompatible shape (None, 1024).\n"
          ]
        },
        {
          "name": "stdout",
          "output_type": "stream",
          "text": [
            "\b\b\b\b\b\b\b\b\b\b\b\b\b\b\b\b\b\b\b\b\b\b\b\b\b\b\b\b\b\b\b\b\b\b\b\b\b\b\b\b\b\b\b\b\b\b\b\b\b\b\b\b\b\b\b\b\b\b\b\b\b\b\b\b\b\b\b\b\b\b\b\b\b\b\b\b\b\b\b\b\b\b\b\b\b\b\b\b\b\b\b\b\b\b\b\b\b\b\b\b\b\b\b\b\b\b\b\b\b\b\b\b\b\b\b\b\b\b\b\b\b\b\b\b\b\b\b\b\b\b\b\b\b\b\b\b\b\b\b\b\b\b\b\b\b\b\b\b\b\b\b\b\b\b\b\b\b\b\b\b\b\b\b\b\b\b\b\b\b\b\b\b\b\b\b\b\b\b\b\b\b\b\b\b\b\b\b\b\b\b\b\b\b\b\b\b\b\b\b\b\b\b\b\b\b\b\b\b\b\b\b\b\b\b\r26/26 [==============================] - 21s 266ms/step - loss: 0.2498 - tp: 372.0000 - fp: 281.0000 - tn: 3004.0000 - fn: 2923.0000 - accuracy: 0.5131 - precision: 0.5697 - recall: 0.1129 - f1_score: 0.6673 - auc: 0.5293 - val_loss: 0.2468 - val_tp: 636.0000 - val_fp: 457.0000 - val_tn: 958.0000 - val_fn: 769.0000 - val_accuracy: 0.5652 - val_precision: 0.5819 - val_recall: 0.4527 - val_f1_score: 0.6651 - val_auc: 0.6108\n",
            "Epoch 2/1000\n",
            "26/26 [==============================] - 4s 142ms/step - loss: 0.2358 - tp: 2629.0000 - fp: 1994.0000 - tn: 1291.0000 - fn: 666.0000 - accuracy: 0.5957 - precision: 0.5687 - recall: 0.7979 - f1_score: 0.6877 - auc: 0.6112 - val_loss: 0.2265 - val_tp: 1241.0000 - val_fp: 909.0000 - val_tn: 506.0000 - val_fn: 164.0000 - val_accuracy: 0.6195 - val_precision: 0.5772 - val_recall: 0.8833 - val_f1_score: 0.6972 - val_auc: 0.6582\n",
            "Epoch 3/1000\n",
            "26/26 [==============================] - 6s 235ms/step - loss: 0.2242 - tp: 2890.0000 - fp: 2084.0000 - tn: 1201.0000 - fn: 405.0000 - accuracy: 0.6217 - precision: 0.5810 - recall: 0.8771 - f1_score: 0.7030 - auc: 0.6538 - val_loss: 0.2215 - val_tp: 1242.0000 - val_fp: 905.0000 - val_tn: 510.0000 - val_fn: 163.0000 - val_accuracy: 0.6213 - val_precision: 0.5785 - val_recall: 0.8840 - val_f1_score: 0.7030 - val_auc: 0.6725\n",
            "Epoch 4/1000\n",
            "26/26 [==============================] - 5s 202ms/step - loss: 0.2156 - tp: 2726.0000 - fp: 1786.0000 - tn: 1499.0000 - fn: 569.0000 - accuracy: 0.6421 - precision: 0.6042 - recall: 0.8273 - f1_score: 0.7138 - auc: 0.6921 - val_loss: 0.2196 - val_tp: 986.0000 - val_fp: 623.0000 - val_tn: 792.0000 - val_fn: 419.0000 - val_accuracy: 0.6305 - val_precision: 0.6128 - val_recall: 0.7018 - val_f1_score: 0.7086 - val_auc: 0.6810\n",
            "Epoch 5/1000\n",
            "26/26 [==============================] - 3s 131ms/step - loss: 0.2095 - tp: 2518.0000 - fp: 1518.0000 - tn: 1767.0000 - fn: 777.0000 - accuracy: 0.6512 - precision: 0.6239 - recall: 0.7642 - f1_score: 0.7159 - auc: 0.7203 - val_loss: 0.2168 - val_tp: 1189.0000 - val_fp: 827.0000 - val_tn: 588.0000 - val_fn: 216.0000 - val_accuracy: 0.6301 - val_precision: 0.5898 - val_recall: 0.8463 - val_f1_score: 0.7072 - val_auc: 0.6977\n",
            "Epoch 6/1000\n",
            "26/26 [==============================] - 4s 147ms/step - loss: 0.2000 - tp: 2618.0000 - fp: 1430.0000 - tn: 1855.0000 - fn: 677.0000 - accuracy: 0.6798 - precision: 0.6467 - recall: 0.7945 - f1_score: 0.7246 - auc: 0.7501 - val_loss: 0.2315 - val_tp: 1256.0000 - val_fp: 928.0000 - val_tn: 487.0000 - val_fn: 149.0000 - val_accuracy: 0.6181 - val_precision: 0.5751 - val_recall: 0.8940 - val_f1_score: 0.6975 - val_auc: 0.6929\n",
            "Epoch 7/1000\n",
            "26/26 [==============================] - 5s 213ms/step - loss: 0.1968 - tp: 2573.0000 - fp: 1388.0000 - tn: 1897.0000 - fn: 722.0000 - accuracy: 0.6793 - precision: 0.6496 - recall: 0.7809 - f1_score: 0.7288 - auc: 0.7570 - val_loss: 0.2225 - val_tp: 915.0000 - val_fp: 536.0000 - val_tn: 879.0000 - val_fn: 490.0000 - val_accuracy: 0.6362 - val_precision: 0.6306 - val_recall: 0.6512 - val_f1_score: 0.7052 - val_auc: 0.7036\n",
            "Epoch 8/1000\n",
            "26/26 [==============================] - 6s 237ms/step - loss: 0.1852 - tp: 2524.0000 - fp: 1122.0000 - tn: 2163.0000 - fn: 771.0000 - accuracy: 0.7123 - precision: 0.6923 - recall: 0.7660 - f1_score: 0.7371 - auc: 0.7899 - val_loss: 0.2266 - val_tp: 1138.0000 - val_fp: 766.0000 - val_tn: 649.0000 - val_fn: 267.0000 - val_accuracy: 0.6337 - val_precision: 0.5977 - val_recall: 0.8100 - val_f1_score: 0.7075 - val_auc: 0.7034\n",
            "Epoch 9/1000\n",
            "26/26 [==============================] - 4s 147ms/step - loss: 0.1765 - tp: 2553.0000 - fp: 1060.0000 - tn: 2225.0000 - fn: 742.0000 - accuracy: 0.7261 - precision: 0.7066 - recall: 0.7748 - f1_score: 0.7468 - auc: 0.8104 - val_loss: 0.2326 - val_tp: 1046.0000 - val_fp: 687.0000 - val_tn: 728.0000 - val_fn: 359.0000 - val_accuracy: 0.6291 - val_precision: 0.6036 - val_recall: 0.7445 - val_f1_score: 0.6986 - val_auc: 0.6934\n",
            "Epoch 10/1000\n",
            "26/26 [==============================] - 4s 145ms/step - loss: 0.1638 - tp: 2543.0000 - fp: 877.0000 - tn: 2408.0000 - fn: 752.0000 - accuracy: 0.7524 - precision: 0.7436 - recall: 0.7718 - f1_score: 0.7627 - auc: 0.8384 - val_loss: 0.2390 - val_tp: 1049.0000 - val_fp: 702.0000 - val_tn: 713.0000 - val_fn: 356.0000 - val_accuracy: 0.6248 - val_precision: 0.5991 - val_recall: 0.7466 - val_f1_score: 0.7004 - val_auc: 0.6938\n",
            "Epoch 11/1000\n",
            "26/26 [==============================] - 5s 194ms/step - loss: 0.1626 - tp: 2554.0000 - fp: 869.0000 - tn: 2416.0000 - fn: 741.0000 - accuracy: 0.7553 - precision: 0.7461 - recall: 0.7751 - f1_score: 0.7654 - auc: 0.8407 - val_loss: 0.2446 - val_tp: 897.0000 - val_fp: 513.0000 - val_tn: 902.0000 - val_fn: 508.0000 - val_accuracy: 0.6379 - val_precision: 0.6362 - val_recall: 0.6384 - val_f1_score: 0.6828 - val_auc: 0.6886\n",
            "Epoch 12/1000\n",
            "26/26 [==============================] - 7s 261ms/step - loss: 0.1486 - tp: 2720.0000 - fp: 868.0000 - tn: 2417.0000 - fn: 575.0000 - accuracy: 0.7807 - precision: 0.7581 - recall: 0.8255 - f1_score: 0.7803 - auc: 0.8666 - val_loss: 0.2640 - val_tp: 730.0000 - val_fp: 403.0000 - val_tn: 1012.0000 - val_fn: 675.0000 - val_accuracy: 0.6177 - val_precision: 0.6443 - val_recall: 0.5196 - val_f1_score: 0.6637 - val_auc: 0.6863\n",
            "Epoch 13/1000\n",
            "26/26 [==============================] - 4s 143ms/step - loss: 0.1338 - tp: 2696.0000 - fp: 657.0000 - tn: 2628.0000 - fn: 599.0000 - accuracy: 0.8091 - precision: 0.8041 - recall: 0.8182 - f1_score: 0.7983 - auc: 0.8916 - val_loss: 0.2450 - val_tp: 555.0000 - val_fp: 276.0000 - val_tn: 1139.0000 - val_fn: 850.0000 - val_accuracy: 0.6007 - val_precision: 0.6679 - val_recall: 0.3950 - val_f1_score: 0.6730 - val_auc: 0.6737\n",
            "Epoch 14/1000\n",
            "26/26 [==============================] - 4s 148ms/step - loss: 0.1177 - tp: 2771.0000 - fp: 579.0000 - tn: 2706.0000 - fn: 524.0000 - accuracy: 0.8324 - precision: 0.8272 - recall: 0.8410 - f1_score: 0.8236 - auc: 0.9134 - val_loss: 0.2683 - val_tp: 726.0000 - val_fp: 411.0000 - val_tn: 1004.0000 - val_fn: 679.0000 - val_accuracy: 0.6135 - val_precision: 0.6385 - val_recall: 0.5167 - val_f1_score: 0.6601 - val_auc: 0.6711\n",
            "Epoch 15/1000\n",
            "26/26 [==============================] - 5s 180ms/step - loss: 0.1119 - tp: 2817.0000 - fp: 574.0000 - tn: 2711.0000 - fn: 478.0000 - accuracy: 0.8401 - precision: 0.8307 - recall: 0.8549 - f1_score: 0.8400 - auc: 0.9201 - val_loss: 0.2604 - val_tp: 1037.0000 - val_fp: 654.0000 - val_tn: 761.0000 - val_fn: 368.0000 - val_accuracy: 0.6376 - val_precision: 0.6132 - val_recall: 0.7381 - val_f1_score: 0.6986 - val_auc: 0.6740\n",
            "113/113 [==============================] - 2s 15ms/step - loss: 0.2358 - tp: 1470.0000 - fp: 1110.0000 - tn: 690.0000 - fn: 330.0000 - accuracy: 0.6000 - precision: 0.5698 - recall: 0.8167 - f1_score: 0.6923 - auc: 0.6458\n"
          ]
        },
        {
          "name": "stderr",
          "output_type": "stream",
          "text": [
            "WARNING:tensorflow:Model was constructed with shape (None, None, 1024) for input KerasTensor(type_spec=TensorSpec(shape=(None, None, 1024), dtype=tf.float32, name='input_5'), name='input_5', description=\"created by layer 'input_5'\"), but it was called on an input with incompatible shape (None, 1024).\n",
            "WARNING:tensorflow:Model was constructed with shape (None, None, 1024) for input KerasTensor(type_spec=TensorSpec(shape=(None, None, 1024), dtype=tf.float32, name='input_6'), name='input_6', description=\"created by layer 'input_6'\"), but it was called on an input with incompatible shape (None, 1024).\n"
          ]
        },
        {
          "name": "stdout",
          "output_type": "stream",
          "text": [
            "57/57 [==============================] - 5s 26ms/step - loss: 0.2645 - tp: 793.0000 - fp: 735.0000 - tn: 165.0000 - fn: 107.0000 - accuracy: 0.5322 - precision: 0.5190 - recall: 0.8811 - f1_score: 0.6694 - auc: 0.5562\n",
            "57/57 [==============================] - 2s 28ms/step - loss: 0.2072 - tp: 677.0000 - fp: 375.0000 - tn: 525.0000 - fn: 223.0000 - accuracy: 0.6678 - precision: 0.6435 - recall: 0.7522 - f1_score: 0.7183 - auc: 0.7412\n",
            "\n",
            "[0.23265738785266876, 1119.0, 797.0, 1003.0, 681.0, 0.5894444584846497, 0.5840292572975159, 0.621666669845581, 0.6792523860931396, 0.6420741081237793] \n",
            " [0.2507690489292145, 565.0, 510.0, 390.0, 335.0, 0.5305555462837219, 0.525581419467926, 0.6277777552604675, 0.666913628578186, 0.5603586435317993] \n",
            " [0.21454572677612305, 554.0, 287.0, 613.0, 346.0, 0.6483333110809326, 0.6587395668029785, 0.6155555844306946, 0.6920709013938904, 0.7225968837738037] \n",
            "\n",
            "\n",
            "[0.22915342450141907, 1177.0, 808.0, 992.0, 623.0, 0.6025000214576721, 0.5929471254348755, 0.6538888812065125, 0.6965174078941345, 0.6508259773254395] \n",
            " [0.25138840079307556, 615.0, 549.0, 351.0, 285.0, 0.5366666913032532, 0.5283505320549011, 0.6833333373069763, 0.670928955078125, 0.5611197352409363] \n",
            " [0.20691823959350586, 562.0, 259.0, 641.0, 338.0, 0.6683333516120911, 0.684531033039093, 0.6244444251060486, 0.7252748012542725, 0.7436462640762329] \n",
            "\n",
            "\n",
            "[0.23580873012542725, 1470.0, 1110.0, 690.0, 330.0, 0.6000000238418579, 0.569767415523529, 0.8166666626930237, 0.6923231482505798, 0.6458080410957336] \n",
            " [0.2644619047641754, 793.0, 735.0, 165.0, 107.0, 0.5322222113609314, 0.5189790725708008, 0.8811110854148865, 0.6694308519363403, 0.5561870336532593] \n",
            " [0.20715545117855072, 677.0, 375.0, 525.0, 223.0, 0.6677777767181396, 0.6435361504554749, 0.7522222399711609, 0.7183219790458679, 0.7411653995513916] \n",
            "\n",
            "\n"
          ]
        }
      ],
      "source": [
        "model1 = genModel(attention_merge)\n",
        "model2 = genModel(addition_merge)\n",
        "model3 = genModel(concatenate_merge)\n",
        "\n",
        "res1 = run(model1, 'model1.h5')\n",
        "res2 = run(model2, 'model2.h5')\n",
        "res3 = run(model3, 'model3.h5')\n",
        "\n",
        "\n",
        "print()\n",
        "print(res1[0], '\\n', res1[1], '\\n', res1[2], '\\n\\n')\n",
        "print(res2[0], '\\n', res2[1], '\\n', res2[2], '\\n\\n')\n",
        "print(res3[0], '\\n', res3[1], '\\n', res3[2], '\\n\\n')\n",
        "\n",
        "\n",
        "# [0.23526369035243988, 1291.0, 920.0, 880.0, 509.0, 0.6030555367469788, 0.583898663520813, 0.7172222137451172, 0.6907175183296204, 0.6467068195343018]\n",
        "#  [0.26385217905044556, 688.0, 616.0, 284.0, 212.0, 0.5400000214576721, 0.5276073813438416, 0.7644444704055786, 0.6702495217323303, 0.556041955947876]\n",
        "#  [0.20667509734630585, 603.0, 304.0, 596.0, 297.0, 0.6661111116409302, 0.6648291349411011, 0.6700000166893005, 0.7136110067367554, 0.7400975227355957]\n",
        "\n",
        "\n",
        "# [0.2339325249195099, 1298.0, 938.0, 862.0, 502.0, 0.6000000238418579, 0.5805009007453918, 0.7211111187934875, 0.693041205406189, 0.6494448781013489]\n",
        "#  [0.26384076476097107, 684.0, 637.0, 263.0, 216.0, 0.5261111259460449, 0.5177895426750183, 0.7599999904632568, 0.6692102551460266, 0.5541383028030396]\n",
        "#  [0.2040243297815323, 614.0, 301.0, 599.0, 286.0, 0.6738888621330261, 0.6710382699966431, 0.6822222471237183, 0.7201040387153625, 0.7484722137451172]\n",
        "\n",
        "\n",
        "# [0.23441022634506226, 1251.0, 878.0, 922.0, 549.0, 0.6036111116409302, 0.5875998139381409, 0.6949999928474426, 0.6898384690284729, 0.6492932438850403]\n",
        "#  [0.26328444480895996, 675.0, 602.0, 298.0, 225.0, 0.5405555367469788, 0.5285826325416565, 0.75, 0.6682045459747314, 0.5561617612838745]\n",
        "#  [0.20553605258464813, 576.0, 276.0, 624.0, 324.0, 0.6666666865348816, 0.6760563254356384, 0.6399999856948853, 0.7144105434417725, 0.7462906837463379]\n",
        "\n"
      ]
    },
    {
      "cell_type": "markdown",
      "metadata": {
        "id": "HynGJyUpZRfV"
      },
      "source": [
        "The following snippet will print coherent result of the evaluation of each datasets."
      ]
    },
    {
      "cell_type": "code",
      "execution_count": null,
      "metadata": {
        "colab": {
          "base_uri": "https://localhost:8080/"
        },
        "id": "C2ZynDWgZRfs",
        "outputId": "bdb9e87f-add4-4e2c-97ea-b57f00d4dea9"
      },
      "outputs": [
        {
          "name": "stdout",
          "output_type": "stream",
          "text": [
            "loss: 0.23315934836864471 - tp: 1291.0 - fp: 912.0 - tn: 888.0 - fn: 509.0 - accuracy: 0.6052777767181396 - precision: 0.5860190391540527 - recall: 0.7172222137451172 - f1-score: 0.6873126029968262 - auc: 0.6496695876121521 - \n",
            "loss: 0.257959246635437 - tp: 674.0 - fp: 597.0 - tn: 303.0 - fn: 226.0 - accuracy: 0.5427777767181396 - precision: 0.5302910804748535 - recall: 0.7488889098167419 - f1-score: 0.6679345965385437 - auc: 0.5669234991073608 - \n",
            "loss: 0.2083594650030136 - tp: 617.0 - fp: 315.0 - tn: 585.0 - fn: 283.0 - accuracy: 0.6677777767181396 - precision: 0.6620171666145325 - recall: 0.6855555772781372 - f1-score: 0.7087541818618774 - auc: 0.7330247163772583 - \n",
            "\n",
            "loss: 0.2367784082889557 - tp: 1238.0 - fp: 859.0 - tn: 941.0 - fn: 562.0 - accuracy: 0.6052777767181396 - precision: 0.5903671979904175 - recall: 0.6877777576446533 - f1-score: 0.6917481422424316 - auc: 0.6494038105010986 - \n",
            "loss: 0.26564034819602966 - tp: 652.0 - fp: 583.0 - tn: 317.0 - fn: 248.0 - accuracy: 0.5383333563804626 - precision: 0.5279352068901062 - recall: 0.7244444489479065 - f1-score: 0.6661532521247864 - auc: 0.5578420162200928 - \n",
            "loss: 0.20791658759117126 - tp: 586.0 - fp: 276.0 - tn: 624.0 - fn: 314.0 - accuracy: 0.6722221970558167 - precision: 0.6798143982887268 - recall: 0.6511111259460449 - f1-score: 0.7217705249786377 - auc: 0.7435018420219421 - \n",
            "\n",
            "loss: 0.2322084605693817 - tp: 1342.0 - fp: 944.0 - tn: 856.0 - fn: 458.0 - accuracy: 0.6105555295944214 - precision: 0.5870516300201416 - recall: 0.745555579662323 - f1-score: 0.6943213939666748 - auc: 0.6494337916374207 - \n",
            "loss: 0.25902068614959717 - tp: 711.0 - fp: 635.0 - tn: 265.0 - fn: 189.0 - accuracy: 0.5422222018241882 - precision: 0.5282317996025085 - recall: 0.7900000214576721 - f1-score: 0.6714719533920288 - auc: 0.558078408241272 - \n",
            "loss: 0.20539619028568268 - tp: 631.0 - fp: 309.0 - tn: 591.0 - fn: 269.0 - accuracy: 0.6788889169692993 - precision: 0.6712765693664551 - recall: 0.7011111378669739 - f1-score: 0.7201716899871826 - auc: 0.7414413690567017 - \n",
            "\n"
          ]
        }
      ],
      "source": [
        "def printing(results):\n",
        "  dataset = ['Combined Dataset: ', 'Reddit Dataset: ', 'Twitter Dataset: ']\n",
        "  name = ['loss', 'tp', 'fp', 'tn', 'fn', 'accuracy', 'precision', 'recall', 'f1-score', 'auc']\n",
        "  for result in results:\n",
        "    j=0\n",
        "    op=''\n",
        "    print(dataset[j])\n",
        "    j+=1\n",
        "    for i in range(len(name)):\n",
        "      op+=name[i]+\": \"+ str(result[i]) +\" - \"\n",
        "    print(op)\n",
        "  print()\n",
        "\n",
        "\n",
        "\n",
        "print(\"Attention Merge:\")\n",
        "printing(res1)\n",
        "print(\"Addition Merge:\")\n",
        "printing(res2)\n",
        "print(\"Concatenation Merge:\")\n",
        "printing(res3)\n",
        "\n"
      ]
    },
    {
      "cell_type": "code",
      "execution_count": null,
      "metadata": {
        "id": "cOogCxg-13_T"
      },
      "outputs": [],
      "source": [
        "# modelpath = \"/content/gdrive/MyDrive/embeddings/MODELS/model6979.h5\"\n",
        "# model = tf.keras.models.load_model(modelpath, custom_objects={'contrastive_loss': contrastive_loss})\n",
        "\n",
        "# # Print the model summary\n",
        "# model.summary()"
      ]
    },
    {
      "cell_type": "code",
      "execution_count": null,
      "metadata": {
        "id": "cAtn7IQ813_T"
      },
      "outputs": [],
      "source": [
        "# # new_model = tf.keras.models.load_model('model1.h5', custom_objects={'contrastive_loss': contrastive_loss})\n",
        "\n",
        "# # run(new_model)\n",
        "# import shutil\n",
        "# source_path = \"/content/model2.h5\"\n",
        "# destination_path = \"/content/gdrive/MyDrive/embeddings/MODELS/model6965_67_725.h5\"\n",
        "# shutil.copyfile(source_path, destination_path)"
      ]
    },
    {
      "cell_type": "markdown",
      "metadata": {
        "id": "v5ahAmtxXPwb"
      },
      "source": [
        "# model - 0.66, 0.728, 0.695"
      ]
    },
    {
      "cell_type": "code",
      "execution_count": null,
      "metadata": {
        "id": "3MFiXfzlXPwu"
      },
      "outputs": [],
      "source": [
        "from tensorflow.keras.layers import Input, Reshape, Lambda, LSTM, concatenate, Dense, Dropout, Attention\n",
        "from tensorflow.keras.models import Model\n",
        "from tensorflow.keras import backend as K"
      ]
    },
    {
      "cell_type": "markdown",
      "metadata": {
        "id": "M6yJvha-aI_G"
      },
      "source": [
        "The following function `genModel()` generates classification model."
      ]
    },
    {
      "cell_type": "code",
      "execution_count": null,
      "metadata": {
        "id": "bD1Zxkkgu8Is"
      },
      "outputs": [],
      "source": [
        "import tensorflow as tf\n",
        "import datetime\n",
        "\n",
        "def attention_merge(lstm_1, lstm_2):\n",
        "  attention = Attention()([lstm_1, lstm_2])\n",
        "  merged_lstm = attention * lstm_1 + (1 - attention) * lstm_2\n",
        "  return merged_lstm\n",
        "\n",
        "def addition_merge(lstm_1, lstm_2):\n",
        "  merged_lstm = lstm_1 + lstm_2\n",
        "  return merged_lstm\n",
        "\n",
        "def concatenate_merge(lstm_1, lstm_2):\n",
        "  merged_lstm = concatenate([lstm_1, lstm_2], axis=2)\n",
        "  return merged_lstm\n",
        "\n",
        "def genModel(merge):\n",
        "    input_1 = Input(shape=(None, feature_number))\n",
        "    input_2 = Input(shape=(None, feature_number))\n",
        "\n",
        "    # Reshape inputs to 3D tensors\n",
        "    lstm_input_1 = Reshape((-1, feature_number))(input_1)\n",
        "    lstm_input_2 = Reshape((-1, feature_number))(input_2)\n",
        "\n",
        "    lstm_1 = LSTM(units=256, return_sequences=True)(lstm_input_1)\n",
        "    lstm_2 = LSTM(units=256, return_sequences=True)(lstm_input_2)\n",
        "\n",
        "    # merged_lstm = attention_merge(lstm_1, lstm_2)\n",
        "    # merged_lstm = addition_merge(lstm_1, lstm_2)\n",
        "    # merged_lstm = concatenate_merge(lstm_1, lstm_2)\n",
        "    merged_lstm = merge(lstm_1, lstm_2)\n",
        "\n",
        "    merged_lstm = LSTM(units=128)(merged_lstm)\n",
        "    merged_lstm = Dropout(rate=0.1)(merged_lstm)\n",
        "    merged_lstm = Dense(units=256)(merged_lstm)\n",
        "    merged_lstm = Dropout(rate=0.05)(merged_lstm)\n",
        "\n",
        "    merged_lstm = Dense(units=256, activation='relu')(merged_lstm)\n",
        "    merged_lstm = Reshape((1, merged_lstm.shape[1]))(merged_lstm)\n",
        "    merged_lstm = Dropout(rate=0.05)(merged_lstm)\n",
        "    merged_lstm = LSTM(units=128, activation='relu')(merged_lstm)\n",
        "\n",
        "    merged_lstm = Dense(units=128, activation='relu')(merged_lstm)\n",
        "    merged_lstm = Reshape((1, merged_lstm.shape[1]))(merged_lstm)\n",
        "    merged_lstm = Dropout(rate=0.05)(merged_lstm)\n",
        "    merged_lstm = LSTM(units=256, activation='relu')(merged_lstm)\n",
        "    # merged_lstm = Dropout(rate=0.1)(merged_lstm)\n",
        "\n",
        "\n",
        "    output_layer = Dense(units=1, activation='sigmoid')(merged_lstm)\n",
        "\n",
        "    model = Model(inputs=[input_1, input_2], outputs=output_layer)\n",
        "\n",
        "    # # Add logging statements to save the model graph\n",
        "    # # Save the model graph using TensorBoard's callback\n",
        "    # log_dir = \"logs/\" + datetime.datetime.now().strftime(\"%Y%m%d-%H%M%S\")\n",
        "    # tensorboard_callback = tf.keras.callbacks.TensorBoard(log_dir=log_dir)\n",
        "\n",
        "    # model.compile(optimizer='adam', loss='binary_crossentropy', metrics=['accuracy'])\n",
        "\n",
        "    # # Train the model with a dummy dataset to generate the graph\n",
        "    # dummy_x = tf.zeros((1, 1, feature_number))\n",
        "    # model.fit([dummy_x, dummy_x], tf.zeros((1, 1)), callbacks=[tensorboard_callback])\n",
        "\n",
        "\n",
        "\n",
        "\n",
        "    return model\n"
      ]
    },
    {
      "cell_type": "markdown",
      "metadata": {
        "id": "OmLH2LpeaI_d"
      },
      "source": [
        "The following function `run()` compiles and evaluates the model with 3 test datasets - Twitter dataset, Reddit Dataset, and their Combined Dataset."
      ]
    },
    {
      "cell_type": "code",
      "execution_count": null,
      "metadata": {
        "id": "Mm1488PfXPww"
      },
      "outputs": [],
      "source": [
        "def run(model, name):\n",
        "    opt = tf.keras.optimizers.Adam(learning_rate=1e-3)\n",
        "\n",
        "\n",
        "    metrics = [tf.keras.metrics.TruePositives(name='tp'),\n",
        "              tf.keras.metrics.FalsePositives(name='fp'),\n",
        "              tf.keras.metrics.TrueNegatives(name='tn'),\n",
        "              tf.keras.metrics.FalseNegatives(name='fn'),\n",
        "              tf.keras.metrics.BinaryAccuracy(name='accuracy'),\n",
        "              tf.keras.metrics.Precision(name='precision'),\n",
        "              tf.keras.metrics.Recall(name='recall'),\n",
        "              tfa.metrics.F1Score(num_classes=2, average='micro', threshold=0.2555),\n",
        "              tf.keras.metrics.AUC(name='auc')]\n",
        "\n",
        "    # Compile the model\n",
        "    model.compile(optimizer=opt, loss=contrastive_loss, metrics=metrics)\n",
        "    # model.compile(loss='binary_crossentropy', optimizer='RMSprop', metrics=['accuracy'])\n",
        "\n",
        "    model.fit(x=[x_train[:, 0], x_train[:, 1]], y=y_train, batch_size=256, epochs=729, validation_split=0.3, callbacks = [early_stop])\n",
        "\n",
        "    test_ = model.evaluate(x=[x_test_[:, 0], x_test_[:, 1]], y=y_test_)\n",
        "    test2 = model.evaluate(x=[x_test2[:, 0], x_test2[:, 1]], y=y_test2)\n",
        "    test = model.evaluate(x=[x_test[:, 0], x_test[:, 1]], y=y_test)\n",
        "\n",
        "    model.save(name)\n",
        "\n",
        "\n",
        "    return [test_, test2, test]\n",
        "\n"
      ]
    },
    {
      "cell_type": "markdown",
      "metadata": {
        "id": "gWywq-rgaI_d"
      },
      "source": [
        "The following are the function calls for generating model, compiling and evaluating them."
      ]
    },
    {
      "cell_type": "code",
      "execution_count": null,
      "metadata": {
        "colab": {
          "base_uri": "https://localhost:8080/"
        },
        "id": "m-hO8ArrXPww",
        "outputId": "abbd6928-39f4-4094-b71c-0969a01af885"
      },
      "outputs": [
        {
          "name": "stdout",
          "output_type": "stream",
          "text": [
            "Epoch 1/729\n"
          ]
        },
        {
          "name": "stderr",
          "output_type": "stream",
          "text": [
            "WARNING:tensorflow:Model was constructed with shape (None, None, 1024) for input KerasTensor(type_spec=TensorSpec(shape=(None, None, 1024), dtype=tf.float32, name='input_55'), name='input_55', description=\"created by layer 'input_55'\"), but it was called on an input with incompatible shape (None, 1024).\n",
            "WARNING:tensorflow:Model was constructed with shape (None, None, 1024) for input KerasTensor(type_spec=TensorSpec(shape=(None, None, 1024), dtype=tf.float32, name='input_56'), name='input_56', description=\"created by layer 'input_56'\"), but it was called on an input with incompatible shape (None, 1024).\n",
            "WARNING:tensorflow:Model was constructed with shape (None, None, 1024) for input KerasTensor(type_spec=TensorSpec(shape=(None, None, 1024), dtype=tf.float32, name='input_55'), name='input_55', description=\"created by layer 'input_55'\"), but it was called on an input with incompatible shape (None, 1024).\n",
            "WARNING:tensorflow:Model was constructed with shape (None, None, 1024) for input KerasTensor(type_spec=TensorSpec(shape=(None, None, 1024), dtype=tf.float32, name='input_56'), name='input_56', description=\"created by layer 'input_56'\"), but it was called on an input with incompatible shape (None, 1024).\n"
          ]
        },
        {
          "name": "stdout",
          "output_type": "stream",
          "text": [
            "26/26 [==============================] - ETA: 0s - loss: 0.2498 - tp: 2678.0000 - fp: 2478.0000 - tn: 807.0000 - fn: 617.0000 - accuracy: 0.5296 - precision: 0.5194 - recall: 0.8127 - f1_score: 0.6673 - auc: 0.5292"
          ]
        },
        {
          "name": "stderr",
          "output_type": "stream",
          "text": [
            "WARNING:tensorflow:Model was constructed with shape (None, None, 1024) for input KerasTensor(type_spec=TensorSpec(shape=(None, None, 1024), dtype=tf.float32, name='input_55'), name='input_55', description=\"created by layer 'input_55'\"), but it was called on an input with incompatible shape (None, 1024).\n",
            "WARNING:tensorflow:Model was constructed with shape (None, None, 1024) for input KerasTensor(type_spec=TensorSpec(shape=(None, None, 1024), dtype=tf.float32, name='input_56'), name='input_56', description=\"created by layer 'input_56'\"), but it was called on an input with incompatible shape (None, 1024).\n"
          ]
        },
        {
          "name": "stdout",
          "output_type": "stream",
          "text": [
            "\b\b\b\b\b\b\b\b\b\b\b\b\b\b\b\b\b\b\b\b\b\b\b\b\b\b\b\b\b\b\b\b\b\b\b\b\b\b\b\b\b\b\b\b\b\b\b\b\b\b\b\b\b\b\b\b\b\b\b\b\b\b\b\b\b\b\b\b\b\b\b\b\b\b\b\b\b\b\b\b\b\b\b\b\b\b\b\b\b\b\b\b\b\b\b\b\b\b\b\b\b\b\b\b\b\b\b\b\b\b\b\b\b\b\b\b\b\b\b\b\b\b\b\b\b\b\b\b\b\b\b\b\b\b\b\b\b\b\b\b\b\b\b\b\b\b\b\b\b\b\b\b\b\b\b\b\b\b\b\b\b\b\b\b\b\b\b\b\b\b\b\b\b\b\b\b\b\b\b\b\b\b\b\b\b\b\b\b\b\b\b\b\b\b\b\b\b\b\b\b\b\b\b\b\b\b\b\b\b\b\b\b\b\b\r26/26 [==============================] - 25s 256ms/step - loss: 0.2498 - tp: 2678.0000 - fp: 2478.0000 - tn: 807.0000 - fn: 617.0000 - accuracy: 0.5296 - precision: 0.5194 - recall: 0.8127 - f1_score: 0.6673 - auc: 0.5292 - val_loss: 0.2474 - val_tp: 1145.0000 - val_fp: 943.0000 - val_tn: 472.0000 - val_fn: 260.0000 - val_accuracy: 0.5734 - val_precision: 0.5484 - val_recall: 0.8149 - val_f1_score: 0.6651 - val_auc: 0.6193\n",
            "Epoch 2/729\n",
            "26/26 [==============================] - 4s 141ms/step - loss: 0.2321 - tp: 2458.0000 - fp: 1715.0000 - tn: 1570.0000 - fn: 837.0000 - accuracy: 0.6122 - precision: 0.5890 - recall: 0.7460 - f1_score: 0.6836 - auc: 0.6436 - val_loss: 0.2269 - val_tp: 1236.0000 - val_fp: 926.0000 - val_tn: 489.0000 - val_fn: 169.0000 - val_accuracy: 0.6117 - val_precision: 0.5717 - val_recall: 0.8797 - val_f1_score: 0.6916 - val_auc: 0.6620\n",
            "Epoch 3/729\n",
            "26/26 [==============================] - 6s 248ms/step - loss: 0.2221 - tp: 2377.0000 - fp: 1532.0000 - tn: 1753.0000 - fn: 918.0000 - accuracy: 0.6277 - precision: 0.6081 - recall: 0.7214 - f1_score: 0.6960 - auc: 0.6819 - val_loss: 0.2352 - val_tp: 660.0000 - val_fp: 423.0000 - val_tn: 992.0000 - val_fn: 745.0000 - val_accuracy: 0.5858 - val_precision: 0.6094 - val_recall: 0.4698 - val_f1_score: 0.6999 - val_auc: 0.6602\n",
            "Epoch 4/729\n",
            "26/26 [==============================] - 5s 177ms/step - loss: 0.2161 - tp: 2295.0000 - fp: 1381.0000 - tn: 1904.0000 - fn: 1000.0000 - accuracy: 0.6381 - precision: 0.6243 - recall: 0.6965 - f1_score: 0.6987 - auc: 0.7051 - val_loss: 0.2183 - val_tp: 1027.0000 - val_fp: 691.0000 - val_tn: 724.0000 - val_fn: 378.0000 - val_accuracy: 0.6209 - val_precision: 0.5978 - val_recall: 0.7310 - val_f1_score: 0.7051 - val_auc: 0.6898\n",
            "Epoch 5/729\n",
            "26/26 [==============================] - 4s 138ms/step - loss: 0.2036 - tp: 2390.0000 - fp: 1262.0000 - tn: 2023.0000 - fn: 905.0000 - accuracy: 0.6707 - precision: 0.6544 - recall: 0.7253 - f1_score: 0.7135 - auc: 0.7427 - val_loss: 0.2270 - val_tp: 651.0000 - val_fp: 360.0000 - val_tn: 1055.0000 - val_fn: 754.0000 - val_accuracy: 0.6050 - val_precision: 0.6439 - val_recall: 0.4633 - val_f1_score: 0.7071 - val_auc: 0.6896\n",
            "Epoch 6/729\n",
            "26/26 [==============================] - 3s 131ms/step - loss: 0.1937 - tp: 2474.0000 - fp: 1131.0000 - tn: 2154.0000 - fn: 821.0000 - accuracy: 0.7033 - precision: 0.6863 - recall: 0.7508 - f1_score: 0.7223 - auc: 0.7718 - val_loss: 0.2267 - val_tp: 763.0000 - val_fp: 414.0000 - val_tn: 1001.0000 - val_fn: 642.0000 - val_accuracy: 0.6255 - val_precision: 0.6483 - val_recall: 0.5431 - val_f1_score: 0.7004 - val_auc: 0.6911\n",
            "Epoch 7/729\n",
            "26/26 [==============================] - 6s 222ms/step - loss: 0.1903 - tp: 2380.0000 - fp: 1055.0000 - tn: 2230.0000 - fn: 915.0000 - accuracy: 0.7006 - precision: 0.6929 - recall: 0.7223 - f1_score: 0.7250 - auc: 0.7787 - val_loss: 0.2324 - val_tp: 952.0000 - val_fp: 586.0000 - val_tn: 829.0000 - val_fn: 453.0000 - val_accuracy: 0.6316 - val_precision: 0.6190 - val_recall: 0.6776 - val_f1_score: 0.6940 - val_auc: 0.6866\n",
            "Epoch 8/729\n",
            "26/26 [==============================] - 6s 236ms/step - loss: 0.1728 - tp: 2516.0000 - fp: 965.0000 - tn: 2320.0000 - fn: 779.0000 - accuracy: 0.7350 - precision: 0.7228 - recall: 0.7636 - f1_score: 0.7459 - auc: 0.8210 - val_loss: 0.2353 - val_tp: 1047.0000 - val_fp: 703.0000 - val_tn: 712.0000 - val_fn: 358.0000 - val_accuracy: 0.6238 - val_precision: 0.5983 - val_recall: 0.7452 - val_f1_score: 0.6974 - val_auc: 0.6800\n",
            "Epoch 9/729\n",
            "26/26 [==============================] - 4s 138ms/step - loss: 0.1652 - tp: 2585.0000 - fp: 919.0000 - tn: 2366.0000 - fn: 710.0000 - accuracy: 0.7524 - precision: 0.7377 - recall: 0.7845 - f1_score: 0.7558 - auc: 0.8364 - val_loss: 0.2412 - val_tp: 695.0000 - val_fp: 352.0000 - val_tn: 1063.0000 - val_fn: 710.0000 - val_accuracy: 0.6234 - val_precision: 0.6638 - val_recall: 0.4947 - val_f1_score: 0.6752 - val_auc: 0.6848\n",
            "Epoch 10/729\n",
            "26/26 [==============================] - 3s 134ms/step - loss: 0.1624 - tp: 2423.0000 - fp: 778.0000 - tn: 2507.0000 - fn: 872.0000 - accuracy: 0.7492 - precision: 0.7570 - recall: 0.7354 - f1_score: 0.7615 - auc: 0.8423 - val_loss: 0.2330 - val_tp: 1099.0000 - val_fp: 710.0000 - val_tn: 705.0000 - val_fn: 306.0000 - val_accuracy: 0.6397 - val_precision: 0.6075 - val_recall: 0.7822 - val_f1_score: 0.7009 - val_auc: 0.6838\n",
            "Epoch 11/729\n",
            "26/26 [==============================] - 4s 155ms/step - loss: 0.1411 - tp: 2677.0000 - fp: 714.0000 - tn: 2571.0000 - fn: 618.0000 - accuracy: 0.7976 - precision: 0.7894 - recall: 0.8124 - f1_score: 0.7834 - auc: 0.8798 - val_loss: 0.2680 - val_tp: 974.0000 - val_fp: 624.0000 - val_tn: 791.0000 - val_fn: 431.0000 - val_accuracy: 0.6259 - val_precision: 0.6095 - val_recall: 0.6932 - val_f1_score: 0.6709 - val_auc: 0.6739\n",
            "Epoch 12/729\n",
            "26/26 [==============================] - 6s 230ms/step - loss: 0.1253 - tp: 2749.0000 - fp: 623.0000 - tn: 2662.0000 - fn: 546.0000 - accuracy: 0.8223 - precision: 0.8152 - recall: 0.8343 - f1_score: 0.8123 - auc: 0.9034 - val_loss: 0.2685 - val_tp: 706.0000 - val_fp: 379.0000 - val_tn: 1036.0000 - val_fn: 699.0000 - val_accuracy: 0.6177 - val_precision: 0.6507 - val_recall: 0.5025 - val_f1_score: 0.6654 - val_auc: 0.6832\n",
            "Epoch 13/729\n",
            "26/26 [==============================] - 5s 180ms/step - loss: 0.1171 - tp: 2787.0000 - fp: 595.0000 - tn: 2690.0000 - fn: 508.0000 - accuracy: 0.8324 - precision: 0.8241 - recall: 0.8458 - f1_score: 0.8231 - auc: 0.9144 - val_loss: 0.2853 - val_tp: 923.0000 - val_fp: 569.0000 - val_tn: 846.0000 - val_fn: 482.0000 - val_accuracy: 0.6273 - val_precision: 0.6186 - val_recall: 0.6569 - val_f1_score: 0.6656 - val_auc: 0.6719\n",
            "Epoch 14/729\n",
            "26/26 [==============================] - 4s 146ms/step - loss: 0.1126 - tp: 2834.0000 - fp: 595.0000 - tn: 2690.0000 - fn: 461.0000 - accuracy: 0.8395 - precision: 0.8265 - recall: 0.8601 - f1_score: 0.8310 - auc: 0.9206 - val_loss: 0.2832 - val_tp: 1101.0000 - val_fp: 746.0000 - val_tn: 669.0000 - val_fn: 304.0000 - val_accuracy: 0.6277 - val_precision: 0.5961 - val_recall: 0.7836 - val_f1_score: 0.6944 - val_auc: 0.6722\n",
            "113/113 [==============================] - 2s 21ms/step - loss: 0.2319 - tp: 1290.0000 - fp: 933.0000 - tn: 867.0000 - fn: 510.0000 - accuracy: 0.5992 - precision: 0.5803 - recall: 0.7167 - f1_score: 0.6883 - auc: 0.6473\n"
          ]
        },
        {
          "name": "stderr",
          "output_type": "stream",
          "text": [
            "WARNING:tensorflow:Model was constructed with shape (None, None, 1024) for input KerasTensor(type_spec=TensorSpec(shape=(None, None, 1024), dtype=tf.float32, name='input_55'), name='input_55', description=\"created by layer 'input_55'\"), but it was called on an input with incompatible shape (None, 1024).\n",
            "WARNING:tensorflow:Model was constructed with shape (None, None, 1024) for input KerasTensor(type_spec=TensorSpec(shape=(None, None, 1024), dtype=tf.float32, name='input_56'), name='input_56', description=\"created by layer 'input_56'\"), but it was called on an input with incompatible shape (None, 1024).\n"
          ]
        },
        {
          "name": "stdout",
          "output_type": "stream",
          "text": [
            "57/57 [==============================] - 7s 26ms/step - loss: 0.2523 - tp: 676.0000 - fp: 602.0000 - tn: 298.0000 - fn: 224.0000 - accuracy: 0.5411 - precision: 0.5290 - recall: 0.7511 - f1_score: 0.6697 - auc: 0.5731\n",
            "57/57 [==============================] - 2s 35ms/step - loss: 0.2114 - tp: 614.0000 - fp: 331.0000 - tn: 569.0000 - fn: 286.0000 - accuracy: 0.6572 - precision: 0.6497 - recall: 0.6822 - f1_score: 0.7089 - auc: 0.7232\n",
            "Epoch 1/729\n"
          ]
        },
        {
          "name": "stderr",
          "output_type": "stream",
          "text": [
            "WARNING:tensorflow:Model was constructed with shape (None, None, 1024) for input KerasTensor(type_spec=TensorSpec(shape=(None, None, 1024), dtype=tf.float32, name='input_57'), name='input_57', description=\"created by layer 'input_57'\"), but it was called on an input with incompatible shape (None, 1024).\n",
            "WARNING:tensorflow:Model was constructed with shape (None, None, 1024) for input KerasTensor(type_spec=TensorSpec(shape=(None, None, 1024), dtype=tf.float32, name='input_58'), name='input_58', description=\"created by layer 'input_58'\"), but it was called on an input with incompatible shape (None, 1024).\n",
            "WARNING:tensorflow:Model was constructed with shape (None, None, 1024) for input KerasTensor(type_spec=TensorSpec(shape=(None, None, 1024), dtype=tf.float32, name='input_57'), name='input_57', description=\"created by layer 'input_57'\"), but it was called on an input with incompatible shape (None, 1024).\n",
            "WARNING:tensorflow:Model was constructed with shape (None, None, 1024) for input KerasTensor(type_spec=TensorSpec(shape=(None, None, 1024), dtype=tf.float32, name='input_58'), name='input_58', description=\"created by layer 'input_58'\"), but it was called on an input with incompatible shape (None, 1024).\n"
          ]
        },
        {
          "name": "stdout",
          "output_type": "stream",
          "text": [
            "26/26 [==============================] - ETA: 0s - loss: 0.2495 - tp: 3115.0000 - fp: 2986.0000 - tn: 299.0000 - fn: 180.0000 - accuracy: 0.5188 - precision: 0.5106 - recall: 0.9454 - f1_score: 0.6673 - auc: 0.5484"
          ]
        },
        {
          "name": "stderr",
          "output_type": "stream",
          "text": [
            "WARNING:tensorflow:Model was constructed with shape (None, None, 1024) for input KerasTensor(type_spec=TensorSpec(shape=(None, None, 1024), dtype=tf.float32, name='input_57'), name='input_57', description=\"created by layer 'input_57'\"), but it was called on an input with incompatible shape (None, 1024).\n",
            "WARNING:tensorflow:Model was constructed with shape (None, None, 1024) for input KerasTensor(type_spec=TensorSpec(shape=(None, None, 1024), dtype=tf.float32, name='input_58'), name='input_58', description=\"created by layer 'input_58'\"), but it was called on an input with incompatible shape (None, 1024).\n"
          ]
        },
        {
          "name": "stdout",
          "output_type": "stream",
          "text": [
            "\b\b\b\b\b\b\b\b\b\b\b\b\b\b\b\b\b\b\b\b\b\b\b\b\b\b\b\b\b\b\b\b\b\b\b\b\b\b\b\b\b\b\b\b\b\b\b\b\b\b\b\b\b\b\b\b\b\b\b\b\b\b\b\b\b\b\b\b\b\b\b\b\b\b\b\b\b\b\b\b\b\b\b\b\b\b\b\b\b\b\b\b\b\b\b\b\b\b\b\b\b\b\b\b\b\b\b\b\b\b\b\b\b\b\b\b\b\b\b\b\b\b\b\b\b\b\b\b\b\b\b\b\b\b\b\b\b\b\b\b\b\b\b\b\b\b\b\b\b\b\b\b\b\b\b\b\b\b\b\b\b\b\b\b\b\b\b\b\b\b\b\b\b\b\b\b\b\b\b\b\b\b\b\b\b\b\b\b\b\b\b\b\b\b\b\b\b\b\b\b\b\b\b\b\b\b\b\b\b\b\b\b\b\b\r26/26 [==============================] - 21s 417ms/step - loss: 0.2495 - tp: 3115.0000 - fp: 2986.0000 - tn: 299.0000 - fn: 180.0000 - accuracy: 0.5188 - precision: 0.5106 - recall: 0.9454 - f1_score: 0.6673 - auc: 0.5484 - val_loss: 0.2452 - val_tp: 1165.0000 - val_fp: 890.0000 - val_tn: 525.0000 - val_fn: 240.0000 - val_accuracy: 0.5993 - val_precision: 0.5669 - val_recall: 0.8292 - val_f1_score: 0.6651 - val_auc: 0.6333\n",
            "Epoch 2/729\n",
            "26/26 [==============================] - 7s 254ms/step - loss: 0.2397 - tp: 2094.0000 - fp: 1479.0000 - tn: 1806.0000 - fn: 1201.0000 - accuracy: 0.5927 - precision: 0.5861 - recall: 0.6355 - f1_score: 0.6744 - auc: 0.6189 - val_loss: 0.2263 - val_tp: 1197.0000 - val_fp: 892.0000 - val_tn: 523.0000 - val_fn: 208.0000 - val_accuracy: 0.6099 - val_precision: 0.5730 - val_recall: 0.8520 - val_f1_score: 0.6977 - val_auc: 0.6681\n",
            "Epoch 3/729\n",
            "26/26 [==============================] - 4s 157ms/step - loss: 0.2263 - tp: 2388.0000 - fp: 1600.0000 - tn: 1685.0000 - fn: 907.0000 - accuracy: 0.6190 - precision: 0.5988 - recall: 0.7247 - f1_score: 0.6937 - auc: 0.6623 - val_loss: 0.2236 - val_tp: 983.0000 - val_fp: 660.0000 - val_tn: 755.0000 - val_fn: 422.0000 - val_accuracy: 0.6163 - val_precision: 0.5983 - val_recall: 0.6996 - val_f1_score: 0.7042 - val_auc: 0.6722\n",
            "Epoch 4/729\n",
            "26/26 [==============================] - 5s 189ms/step - loss: 0.2161 - tp: 2537.0000 - fp: 1606.0000 - tn: 1679.0000 - fn: 758.0000 - accuracy: 0.6407 - precision: 0.6124 - recall: 0.7700 - f1_score: 0.7089 - auc: 0.6985 - val_loss: 0.2237 - val_tp: 810.0000 - val_fp: 467.0000 - val_tn: 948.0000 - val_fn: 595.0000 - val_accuracy: 0.6234 - val_precision: 0.6343 - val_recall: 0.5765 - val_f1_score: 0.7026 - val_auc: 0.6882\n",
            "Epoch 5/729\n",
            "26/26 [==============================] - 7s 254ms/step - loss: 0.2081 - tp: 2367.0000 - fp: 1300.0000 - tn: 1985.0000 - fn: 928.0000 - accuracy: 0.6614 - precision: 0.6455 - recall: 0.7184 - f1_score: 0.7124 - auc: 0.7281 - val_loss: 0.2169 - val_tp: 1061.0000 - val_fp: 670.0000 - val_tn: 745.0000 - val_fn: 344.0000 - val_accuracy: 0.6404 - val_precision: 0.6129 - val_recall: 0.7552 - val_f1_score: 0.7011 - val_auc: 0.6993\n",
            "Epoch 6/729\n",
            "26/26 [==============================] - 4s 141ms/step - loss: 0.2029 - tp: 2399.0000 - fp: 1235.0000 - tn: 2050.0000 - fn: 896.0000 - accuracy: 0.6761 - precision: 0.6602 - recall: 0.7281 - f1_score: 0.7174 - auc: 0.7448 - val_loss: 0.2244 - val_tp: 719.0000 - val_fp: 387.0000 - val_tn: 1028.0000 - val_fn: 686.0000 - val_accuracy: 0.6195 - val_precision: 0.6501 - val_recall: 0.5117 - val_f1_score: 0.7063 - val_auc: 0.7000\n",
            "Epoch 7/729\n",
            "26/26 [==============================] - 4s 142ms/step - loss: 0.1956 - tp: 2415.0000 - fp: 1166.0000 - tn: 2119.0000 - fn: 880.0000 - accuracy: 0.6891 - precision: 0.6744 - recall: 0.7329 - f1_score: 0.7251 - auc: 0.7648 - val_loss: 0.2258 - val_tp: 786.0000 - val_fp: 432.0000 - val_tn: 983.0000 - val_fn: 619.0000 - val_accuracy: 0.6273 - val_precision: 0.6453 - val_recall: 0.5594 - val_f1_score: 0.7091 - val_auc: 0.6981\n",
            "Epoch 8/729\n",
            "26/26 [==============================] - 4s 163ms/step - loss: 0.1909 - tp: 2404.0000 - fp: 1034.0000 - tn: 2251.0000 - fn: 891.0000 - accuracy: 0.7074 - precision: 0.6992 - recall: 0.7296 - f1_score: 0.7258 - auc: 0.7793 - val_loss: 0.2189 - val_tp: 772.0000 - val_fp: 405.0000 - val_tn: 1010.0000 - val_fn: 633.0000 - val_accuracy: 0.6319 - val_precision: 0.6559 - val_recall: 0.5495 - val_f1_score: 0.7001 - val_auc: 0.6966\n",
            "Epoch 9/729\n",
            "26/26 [==============================] - 6s 233ms/step - loss: 0.1795 - tp: 2392.0000 - fp: 932.0000 - tn: 2353.0000 - fn: 903.0000 - accuracy: 0.7211 - precision: 0.7196 - recall: 0.7259 - f1_score: 0.7438 - auc: 0.8043 - val_loss: 0.2423 - val_tp: 602.0000 - val_fp: 269.0000 - val_tn: 1146.0000 - val_fn: 803.0000 - val_accuracy: 0.6199 - val_precision: 0.6912 - val_recall: 0.4285 - val_f1_score: 0.6770 - val_auc: 0.6884\n",
            "Epoch 10/729\n",
            "26/26 [==============================] - 4s 146ms/step - loss: 0.1690 - tp: 2529.0000 - fp: 882.0000 - tn: 2403.0000 - fn: 766.0000 - accuracy: 0.7495 - precision: 0.7414 - recall: 0.7675 - f1_score: 0.7526 - auc: 0.8278 - val_loss: 0.2370 - val_tp: 784.0000 - val_fp: 427.0000 - val_tn: 988.0000 - val_fn: 621.0000 - val_accuracy: 0.6284 - val_precision: 0.6474 - val_recall: 0.5580 - val_f1_score: 0.6973 - val_auc: 0.6929\n",
            "Epoch 11/729\n",
            "26/26 [==============================] - 3s 126ms/step - loss: 0.1585 - tp: 2483.0000 - fp: 755.0000 - tn: 2530.0000 - fn: 812.0000 - accuracy: 0.7619 - precision: 0.7668 - recall: 0.7536 - f1_score: 0.7673 - auc: 0.8492 - val_loss: 0.2430 - val_tp: 961.0000 - val_fp: 605.0000 - val_tn: 810.0000 - val_fn: 444.0000 - val_accuracy: 0.6280 - val_precision: 0.6137 - val_recall: 0.6840 - val_f1_score: 0.6986 - val_auc: 0.6891\n",
            "Epoch 12/729\n",
            "26/26 [==============================] - 4s 140ms/step - loss: 0.1520 - tp: 2620.0000 - fp: 822.0000 - tn: 2463.0000 - fn: 675.0000 - accuracy: 0.7725 - precision: 0.7612 - recall: 0.7951 - f1_score: 0.7819 - auc: 0.8599 - val_loss: 0.2470 - val_tp: 1048.0000 - val_fp: 689.0000 - val_tn: 726.0000 - val_fn: 357.0000 - val_accuracy: 0.6291 - val_precision: 0.6033 - val_recall: 0.7459 - val_f1_score: 0.6972 - val_auc: 0.6922\n",
            "Epoch 13/729\n",
            "26/26 [==============================] - 6s 217ms/step - loss: 0.1294 - tp: 2719.0000 - fp: 608.0000 - tn: 2677.0000 - fn: 576.0000 - accuracy: 0.8201 - precision: 0.8173 - recall: 0.8252 - f1_score: 0.8064 - auc: 0.8959 - val_loss: 0.2710 - val_tp: 1164.0000 - val_fp: 859.0000 - val_tn: 556.0000 - val_fn: 241.0000 - val_accuracy: 0.6099 - val_precision: 0.5754 - val_recall: 0.8285 - val_f1_score: 0.6888 - val_auc: 0.6696\n",
            "Epoch 14/729\n",
            "26/26 [==============================] - 5s 199ms/step - loss: 0.1287 - tp: 2709.0000 - fp: 627.0000 - tn: 2658.0000 - fn: 586.0000 - accuracy: 0.8157 - precision: 0.8121 - recall: 0.8222 - f1_score: 0.8056 - auc: 0.8986 - val_loss: 0.2573 - val_tp: 1029.0000 - val_fp: 671.0000 - val_tn: 744.0000 - val_fn: 376.0000 - val_accuracy: 0.6287 - val_precision: 0.6053 - val_recall: 0.7324 - val_f1_score: 0.7039 - val_auc: 0.6827\n",
            "Epoch 15/729\n",
            "26/26 [==============================] - 3s 125ms/step - loss: 0.1141 - tp: 2792.0000 - fp: 540.0000 - tn: 2745.0000 - fn: 503.0000 - accuracy: 0.8415 - precision: 0.8379 - recall: 0.8473 - f1_score: 0.8292 - auc: 0.9167 - val_loss: 0.2833 - val_tp: 1033.0000 - val_fp: 683.0000 - val_tn: 732.0000 - val_fn: 372.0000 - val_accuracy: 0.6259 - val_precision: 0.6020 - val_recall: 0.7352 - val_f1_score: 0.6804 - val_auc: 0.6786\n",
            "113/113 [==============================] - 2s 15ms/step - loss: 0.2328 - tp: 1376.0000 - fp: 1022.0000 - tn: 778.0000 - fn: 424.0000 - accuracy: 0.5983 - precision: 0.5738 - recall: 0.7644 - f1_score: 0.6894 - auc: 0.6432\n"
          ]
        },
        {
          "name": "stderr",
          "output_type": "stream",
          "text": [
            "WARNING:tensorflow:Model was constructed with shape (None, None, 1024) for input KerasTensor(type_spec=TensorSpec(shape=(None, None, 1024), dtype=tf.float32, name='input_57'), name='input_57', description=\"created by layer 'input_57'\"), but it was called on an input with incompatible shape (None, 1024).\n",
            "WARNING:tensorflow:Model was constructed with shape (None, None, 1024) for input KerasTensor(type_spec=TensorSpec(shape=(None, None, 1024), dtype=tf.float32, name='input_58'), name='input_58', description=\"created by layer 'input_58'\"), but it was called on an input with incompatible shape (None, 1024).\n"
          ]
        },
        {
          "name": "stdout",
          "output_type": "stream",
          "text": [
            "57/57 [==============================] - 6s 24ms/step - loss: 0.2585 - tp: 699.0000 - fp: 665.0000 - tn: 235.0000 - fn: 201.0000 - accuracy: 0.5189 - precision: 0.5125 - recall: 0.7767 - f1_score: 0.6702 - auc: 0.5457\n",
            "57/57 [==============================] - 1s 26ms/step - loss: 0.2071 - tp: 677.0000 - fp: 357.0000 - tn: 543.0000 - fn: 223.0000 - accuracy: 0.6778 - precision: 0.6547 - recall: 0.7522 - f1_score: 0.7105 - auc: 0.7387\n",
            "Epoch 1/729\n"
          ]
        },
        {
          "name": "stderr",
          "output_type": "stream",
          "text": [
            "WARNING:tensorflow:Model was constructed with shape (None, None, 1024) for input KerasTensor(type_spec=TensorSpec(shape=(None, None, 1024), dtype=tf.float32, name='input_59'), name='input_59', description=\"created by layer 'input_59'\"), but it was called on an input with incompatible shape (None, 1024).\n",
            "WARNING:tensorflow:Model was constructed with shape (None, None, 1024) for input KerasTensor(type_spec=TensorSpec(shape=(None, None, 1024), dtype=tf.float32, name='input_60'), name='input_60', description=\"created by layer 'input_60'\"), but it was called on an input with incompatible shape (None, 1024).\n",
            "WARNING:tensorflow:Model was constructed with shape (None, None, 1024) for input KerasTensor(type_spec=TensorSpec(shape=(None, None, 1024), dtype=tf.float32, name='input_59'), name='input_59', description=\"created by layer 'input_59'\"), but it was called on an input with incompatible shape (None, 1024).\n",
            "WARNING:tensorflow:Model was constructed with shape (None, None, 1024) for input KerasTensor(type_spec=TensorSpec(shape=(None, None, 1024), dtype=tf.float32, name='input_60'), name='input_60', description=\"created by layer 'input_60'\"), but it was called on an input with incompatible shape (None, 1024).\n"
          ]
        },
        {
          "name": "stdout",
          "output_type": "stream",
          "text": [
            "26/26 [==============================] - ETA: 0s - loss: 0.2498 - tp: 3119.0000 - fp: 3020.0000 - tn: 265.0000 - fn: 176.0000 - accuracy: 0.5143 - precision: 0.5081 - recall: 0.9466 - f1_score: 0.6673 - auc: 0.5212"
          ]
        },
        {
          "name": "stderr",
          "output_type": "stream",
          "text": [
            "WARNING:tensorflow:Model was constructed with shape (None, None, 1024) for input KerasTensor(type_spec=TensorSpec(shape=(None, None, 1024), dtype=tf.float32, name='input_59'), name='input_59', description=\"created by layer 'input_59'\"), but it was called on an input with incompatible shape (None, 1024).\n",
            "WARNING:tensorflow:Model was constructed with shape (None, None, 1024) for input KerasTensor(type_spec=TensorSpec(shape=(None, None, 1024), dtype=tf.float32, name='input_60'), name='input_60', description=\"created by layer 'input_60'\"), but it was called on an input with incompatible shape (None, 1024).\n"
          ]
        },
        {
          "name": "stdout",
          "output_type": "stream",
          "text": [
            "\b\b\b\b\b\b\b\b\b\b\b\b\b\b\b\b\b\b\b\b\b\b\b\b\b\b\b\b\b\b\b\b\b\b\b\b\b\b\b\b\b\b\b\b\b\b\b\b\b\b\b\b\b\b\b\b\b\b\b\b\b\b\b\b\b\b\b\b\b\b\b\b\b\b\b\b\b\b\b\b\b\b\b\b\b\b\b\b\b\b\b\b\b\b\b\b\b\b\b\b\b\b\b\b\b\b\b\b\b\b\b\b\b\b\b\b\b\b\b\b\b\b\b\b\b\b\b\b\b\b\b\b\b\b\b\b\b\b\b\b\b\b\b\b\b\b\b\b\b\b\b\b\b\b\b\b\b\b\b\b\b\b\b\b\b\b\b\b\b\b\b\b\b\b\b\b\b\b\b\b\b\b\b\b\b\b\b\b\b\b\b\b\b\b\b\b\b\b\b\b\b\b\b\b\b\b\b\b\b\b\b\b\b\b\r26/26 [==============================] - 22s 416ms/step - loss: 0.2498 - tp: 3119.0000 - fp: 3020.0000 - tn: 265.0000 - fn: 176.0000 - accuracy: 0.5143 - precision: 0.5081 - recall: 0.9466 - f1_score: 0.6673 - auc: 0.5212 - val_loss: 0.2481 - val_tp: 913.0000 - val_fp: 686.0000 - val_tn: 729.0000 - val_fn: 492.0000 - val_accuracy: 0.5823 - val_precision: 0.5710 - val_recall: 0.6498 - val_f1_score: 0.6651 - val_auc: 0.5995\n",
            "Epoch 2/729\n",
            "26/26 [==============================] - 4s 144ms/step - loss: 0.2369 - tp: 2530.0000 - fp: 1890.0000 - tn: 1395.0000 - fn: 765.0000 - accuracy: 0.5965 - precision: 0.5724 - recall: 0.7678 - f1_score: 0.6788 - auc: 0.6294 - val_loss: 0.2226 - val_tp: 1289.0000 - val_fp: 960.0000 - val_tn: 455.0000 - val_fn: 116.0000 - val_accuracy: 0.6184 - val_precision: 0.5731 - val_recall: 0.9174 - val_f1_score: 0.6972 - val_auc: 0.6790\n",
            "Epoch 3/729\n",
            "26/26 [==============================] - 4s 156ms/step - loss: 0.2187 - tp: 2571.0000 - fp: 1657.0000 - tn: 1628.0000 - fn: 724.0000 - accuracy: 0.6381 - precision: 0.6081 - recall: 0.7803 - f1_score: 0.7042 - auc: 0.6919 - val_loss: 0.2251 - val_tp: 902.0000 - val_fp: 553.0000 - val_tn: 862.0000 - val_fn: 503.0000 - val_accuracy: 0.6255 - val_precision: 0.6199 - val_recall: 0.6420 - val_f1_score: 0.7025 - val_auc: 0.6867\n",
            "Epoch 4/729\n",
            "26/26 [==============================] - 5s 213ms/step - loss: 0.2099 - tp: 2547.0000 - fp: 1472.0000 - tn: 1813.0000 - fn: 748.0000 - accuracy: 0.6626 - precision: 0.6337 - recall: 0.7730 - f1_score: 0.7113 - auc: 0.7214 - val_loss: 0.2178 - val_tp: 741.0000 - val_fp: 384.0000 - val_tn: 1031.0000 - val_fn: 664.0000 - val_accuracy: 0.6284 - val_precision: 0.6587 - val_recall: 0.5274 - val_f1_score: 0.7059 - val_auc: 0.7016\n",
            "Epoch 5/729\n",
            "26/26 [==============================] - 6s 245ms/step - loss: 0.2074 - tp: 2313.0000 - fp: 1225.0000 - tn: 2060.0000 - fn: 982.0000 - accuracy: 0.6646 - precision: 0.6538 - recall: 0.7020 - f1_score: 0.7117 - auc: 0.7330 - val_loss: 0.2241 - val_tp: 1057.0000 - val_fp: 674.0000 - val_tn: 741.0000 - val_fn: 348.0000 - val_accuracy: 0.6376 - val_precision: 0.6106 - val_recall: 0.7523 - val_f1_score: 0.7067 - val_auc: 0.7012\n",
            "Epoch 6/729\n",
            "26/26 [==============================] - 4s 152ms/step - loss: 0.2038 - tp: 2397.0000 - fp: 1262.0000 - tn: 2023.0000 - fn: 898.0000 - accuracy: 0.6717 - precision: 0.6551 - recall: 0.7275 - f1_score: 0.7161 - auc: 0.7418 - val_loss: 0.2277 - val_tp: 1304.0000 - val_fp: 1034.0000 - val_tn: 381.0000 - val_fn: 101.0000 - val_accuracy: 0.5975 - val_precision: 0.5577 - val_recall: 0.9281 - val_f1_score: 0.6847 - val_auc: 0.6990\n",
            "Epoch 7/729\n",
            "26/26 [==============================] - 3s 132ms/step - loss: 0.1952 - tp: 2469.0000 - fp: 1232.0000 - tn: 2053.0000 - fn: 826.0000 - accuracy: 0.6872 - precision: 0.6671 - recall: 0.7493 - f1_score: 0.7194 - auc: 0.7668 - val_loss: 0.2326 - val_tp: 802.0000 - val_fp: 437.0000 - val_tn: 978.0000 - val_fn: 603.0000 - val_accuracy: 0.6312 - val_precision: 0.6473 - val_recall: 0.5708 - val_f1_score: 0.6917 - val_auc: 0.7018\n",
            "Epoch 8/729\n",
            "26/26 [==============================] - 5s 205ms/step - loss: 0.1823 - tp: 2452.0000 - fp: 996.0000 - tn: 2289.0000 - fn: 843.0000 - accuracy: 0.7205 - precision: 0.7111 - recall: 0.7442 - f1_score: 0.7336 - auc: 0.7987 - val_loss: 0.2257 - val_tp: 904.0000 - val_fp: 554.0000 - val_tn: 861.0000 - val_fn: 501.0000 - val_accuracy: 0.6259 - val_precision: 0.6200 - val_recall: 0.6434 - val_f1_score: 0.7032 - val_auc: 0.6956\n",
            "Epoch 9/729\n",
            "26/26 [==============================] - 6s 250ms/step - loss: 0.1714 - tp: 2563.0000 - fp: 966.0000 - tn: 2319.0000 - fn: 732.0000 - accuracy: 0.7419 - precision: 0.7263 - recall: 0.7778 - f1_score: 0.7489 - auc: 0.8233 - val_loss: 0.2303 - val_tp: 780.0000 - val_fp: 434.0000 - val_tn: 981.0000 - val_fn: 625.0000 - val_accuracy: 0.6245 - val_precision: 0.6425 - val_recall: 0.5552 - val_f1_score: 0.7029 - val_auc: 0.6967\n",
            "Epoch 10/729\n",
            "26/26 [==============================] - 4s 152ms/step - loss: 0.1624 - tp: 2511.0000 - fp: 842.0000 - tn: 2443.0000 - fn: 784.0000 - accuracy: 0.7529 - precision: 0.7489 - recall: 0.7621 - f1_score: 0.7597 - auc: 0.8419 - val_loss: 0.2412 - val_tp: 982.0000 - val_fp: 682.0000 - val_tn: 733.0000 - val_fn: 423.0000 - val_accuracy: 0.6082 - val_precision: 0.5901 - val_recall: 0.6989 - val_f1_score: 0.6893 - val_auc: 0.6670\n",
            "Epoch 11/729\n",
            "26/26 [==============================] - 4s 146ms/step - loss: 0.1527 - tp: 2653.0000 - fp: 817.0000 - tn: 2468.0000 - fn: 642.0000 - accuracy: 0.7783 - precision: 0.7646 - recall: 0.8052 - f1_score: 0.7751 - auc: 0.8593 - val_loss: 0.2397 - val_tp: 709.0000 - val_fp: 367.0000 - val_tn: 1048.0000 - val_fn: 696.0000 - val_accuracy: 0.6230 - val_precision: 0.6589 - val_recall: 0.5046 - val_f1_score: 0.6909 - val_auc: 0.6905\n",
            "Epoch 12/729\n",
            "26/26 [==============================] - 5s 206ms/step - loss: 0.1342 - tp: 2698.0000 - fp: 657.0000 - tn: 2628.0000 - fn: 597.0000 - accuracy: 0.8094 - precision: 0.8042 - recall: 0.8188 - f1_score: 0.7962 - auc: 0.8899 - val_loss: 0.2482 - val_tp: 924.0000 - val_fp: 566.0000 - val_tn: 849.0000 - val_fn: 481.0000 - val_accuracy: 0.6287 - val_precision: 0.6201 - val_recall: 0.6577 - val_f1_score: 0.6870 - val_auc: 0.6806\n",
            "Epoch 13/729\n",
            "26/26 [==============================] - 6s 244ms/step - loss: 0.1291 - tp: 2699.0000 - fp: 613.0000 - tn: 2672.0000 - fn: 596.0000 - accuracy: 0.8163 - precision: 0.8149 - recall: 0.8191 - f1_score: 0.8059 - auc: 0.8979 - val_loss: 0.2529 - val_tp: 775.0000 - val_fp: 422.0000 - val_tn: 993.0000 - val_fn: 630.0000 - val_accuracy: 0.6270 - val_precision: 0.6475 - val_recall: 0.5516 - val_f1_score: 0.6813 - val_auc: 0.6941\n",
            "Epoch 14/729\n",
            "26/26 [==============================] - 4s 144ms/step - loss: 0.1138 - tp: 2787.0000 - fp: 523.0000 - tn: 2762.0000 - fn: 508.0000 - accuracy: 0.8433 - precision: 0.8420 - recall: 0.8458 - f1_score: 0.8304 - auc: 0.9182 - val_loss: 0.2579 - val_tp: 860.0000 - val_fp: 495.0000 - val_tn: 920.0000 - val_fn: 545.0000 - val_accuracy: 0.6312 - val_precision: 0.6347 - val_recall: 0.6121 - val_f1_score: 0.6833 - val_auc: 0.6861\n",
            "113/113 [==============================] - 3s 23ms/step - loss: 0.2332 - tp: 984.0000 - fp: 628.0000 - tn: 1172.0000 - fn: 816.0000 - accuracy: 0.5989 - precision: 0.6104 - recall: 0.5467 - f1_score: 0.6953 - auc: 0.6527\n"
          ]
        },
        {
          "name": "stderr",
          "output_type": "stream",
          "text": [
            "WARNING:tensorflow:Model was constructed with shape (None, None, 1024) for input KerasTensor(type_spec=TensorSpec(shape=(None, None, 1024), dtype=tf.float32, name='input_59'), name='input_59', description=\"created by layer 'input_59'\"), but it was called on an input with incompatible shape (None, 1024).\n",
            "WARNING:tensorflow:Model was constructed with shape (None, None, 1024) for input KerasTensor(type_spec=TensorSpec(shape=(None, None, 1024), dtype=tf.float32, name='input_60'), name='input_60', description=\"created by layer 'input_60'\"), but it was called on an input with incompatible shape (None, 1024).\n"
          ]
        },
        {
          "name": "stdout",
          "output_type": "stream",
          "text": [
            "57/57 [==============================] - 5s 15ms/step - loss: 0.2582 - tp: 477.0000 - fp: 412.0000 - tn: 488.0000 - fn: 423.0000 - accuracy: 0.5361 - precision: 0.5366 - recall: 0.5300 - f1_score: 0.6662 - auc: 0.5570\n",
            "57/57 [==============================] - 1s 16ms/step - loss: 0.2083 - tp: 507.0000 - fp: 216.0000 - tn: 684.0000 - fn: 393.0000 - accuracy: 0.6617 - precision: 0.7012 - recall: 0.5633 - f1_score: 0.7288 - auc: 0.7451\n",
            "\n",
            "[0.23187197744846344, 1290.0, 933.0, 867.0, 510.0, 0.5991666913032532, 0.5802968740463257, 0.7166666388511658, 0.688278317451477, 0.6473066210746765] \n",
            " [0.252345472574234, 676.0, 602.0, 298.0, 224.0, 0.5411111116409302, 0.5289514660835266, 0.7511110901832581, 0.6696764826774597, 0.5730605125427246] \n",
            " [0.21139851212501526, 614.0, 331.0, 569.0, 286.0, 0.6572222113609314, 0.6497354507446289, 0.6822222471237183, 0.7088713049888611, 0.7232475280761719] \n",
            "\n",
            "\n",
            "[0.2328152060508728, 1376.0, 1022.0, 778.0, 424.0, 0.5983333587646484, 0.5738115310668945, 0.7644444704055786, 0.689368486404419, 0.6432422399520874] \n",
            " [0.25854918360710144, 699.0, 665.0, 235.0, 201.0, 0.5188888907432556, 0.5124633312225342, 0.7766666412353516, 0.6701886653900146, 0.5456962585449219] \n",
            " [0.207081139087677, 677.0, 357.0, 543.0, 223.0, 0.6777777671813965, 0.6547389030456543, 0.7522222399711609, 0.7105371952056885, 0.7387296557426453] \n",
            "\n",
            "\n",
            "[0.2332409769296646, 984.0, 628.0, 1172.0, 816.0, 0.5988888740539551, 0.6104218363761902, 0.54666668176651, 0.6952614784240723, 0.652670681476593] \n",
            " [0.25816264748573303, 477.0, 412.0, 488.0, 423.0, 0.5361111164093018, 0.5365579128265381, 0.5299999713897705, 0.6661580204963684, 0.5569722056388855] \n",
            " [0.208319291472435, 507.0, 216.0, 684.0, 393.0, 0.6616666913032532, 0.7012448310852051, 0.5633333325386047, 0.7287911772727966, 0.7451413869857788] \n",
            "\n",
            "\n"
          ]
        }
      ],
      "source": [
        "model1 = genModel(attention_merge)\n",
        "model2 = genModel(addition_merge)\n",
        "model3 = genModel(concatenate_merge)\n",
        "\n",
        "res1 = run(model1, 'model1.h5')\n",
        "res2 = run(model2, 'model2.h5')\n",
        "res3 = run(model3, 'model3.h5')\n",
        "\n",
        "\n",
        "print()\n",
        "print(res1[0], '\\n', res1[1], '\\n', res1[2], '\\n\\n')\n",
        "print(res2[0], '\\n', res2[1], '\\n', res2[2], '\\n\\n')\n",
        "print(res3[0], '\\n', res3[1], '\\n', res3[2], '\\n\\n')\n"
      ]
    },
    {
      "cell_type": "markdown",
      "metadata": {
        "id": "tLLk4qG8drdk"
      },
      "source": [
        "The following snippet will print coherent result of the evaluation of each datasets."
      ]
    },
    {
      "cell_type": "code",
      "execution_count": null,
      "metadata": {
        "colab": {
          "base_uri": "https://localhost:8080/"
        },
        "id": "yWS4HWmVXPwx",
        "outputId": "da8f6906-541d-4683-ac28-75409d61aa1b"
      },
      "outputs": [
        {
          "name": "stdout",
          "output_type": "stream",
          "text": [
            "loss: 0.23187197744846344 - tp: 1290.0 - fp: 933.0 - tn: 867.0 - fn: 510.0 - accuracy: 0.5991666913032532 - precision: 0.5802968740463257 - recall: 0.7166666388511658 - f1-score: 0.688278317451477 - auc: 0.6473066210746765 - \n",
            "loss: 0.252345472574234 - tp: 676.0 - fp: 602.0 - tn: 298.0 - fn: 224.0 - accuracy: 0.5411111116409302 - precision: 0.5289514660835266 - recall: 0.7511110901832581 - f1-score: 0.6696764826774597 - auc: 0.5730605125427246 - \n",
            "loss: 0.21139851212501526 - tp: 614.0 - fp: 331.0 - tn: 569.0 - fn: 286.0 - accuracy: 0.6572222113609314 - precision: 0.6497354507446289 - recall: 0.6822222471237183 - f1-score: 0.7088713049888611 - auc: 0.7232475280761719 - \n",
            "\n",
            "loss: 0.2328152060508728 - tp: 1376.0 - fp: 1022.0 - tn: 778.0 - fn: 424.0 - accuracy: 0.5983333587646484 - precision: 0.5738115310668945 - recall: 0.7644444704055786 - f1-score: 0.689368486404419 - auc: 0.6432422399520874 - \n",
            "loss: 0.25854918360710144 - tp: 699.0 - fp: 665.0 - tn: 235.0 - fn: 201.0 - accuracy: 0.5188888907432556 - precision: 0.5124633312225342 - recall: 0.7766666412353516 - f1-score: 0.6701886653900146 - auc: 0.5456962585449219 - \n",
            "loss: 0.207081139087677 - tp: 677.0 - fp: 357.0 - tn: 543.0 - fn: 223.0 - accuracy: 0.6777777671813965 - precision: 0.6547389030456543 - recall: 0.7522222399711609 - f1-score: 0.7105371952056885 - auc: 0.7387296557426453 - \n",
            "\n",
            "loss: 0.2332409769296646 - tp: 984.0 - fp: 628.0 - tn: 1172.0 - fn: 816.0 - accuracy: 0.5988888740539551 - precision: 0.6104218363761902 - recall: 0.54666668176651 - f1-score: 0.6952614784240723 - auc: 0.652670681476593 - \n",
            "loss: 0.25816264748573303 - tp: 477.0 - fp: 412.0 - tn: 488.0 - fn: 423.0 - accuracy: 0.5361111164093018 - precision: 0.5365579128265381 - recall: 0.5299999713897705 - f1-score: 0.6661580204963684 - auc: 0.5569722056388855 - \n",
            "loss: 0.208319291472435 - tp: 507.0 - fp: 216.0 - tn: 684.0 - fn: 393.0 - accuracy: 0.6616666913032532 - precision: 0.7012448310852051 - recall: 0.5633333325386047 - f1-score: 0.7287911772727966 - auc: 0.7451413869857788 - \n",
            "\n"
          ]
        }
      ],
      "source": [
        "def printing(results):\n",
        "  dataset = ['Combined Dataset: ', 'Reddit Dataset: ', 'Twitter Dataset: ']\n",
        "  name = ['loss', 'tp', 'fp', 'tn', 'fn', 'accuracy', 'precision', 'recall', 'f1-score', 'auc']\n",
        "  for result in results:\n",
        "    j=0\n",
        "    op=''\n",
        "    print(dataset[j])\n",
        "    j+=1\n",
        "    for i in range(len(name)):\n",
        "      op+=name[i]+\": \"+ str(result[i]) +\" - \"\n",
        "    print(op)\n",
        "  print()\n",
        "\n",
        "\n",
        "\n",
        "print(\"Attention Merge:\")\n",
        "printing(res1)\n",
        "print(\"Addition Merge:\")\n",
        "printing(res2)\n",
        "print(\"Concatenation Merge:\")\n",
        "printing(res3)\n"
      ]
    },
    {
      "cell_type": "code",
      "execution_count": null,
      "metadata": {
        "id": "QYyQUyrVXPwx"
      },
      "outputs": [],
      "source": [
        "# modelpath = \"/content/gdrive/MyDrive/embeddings/MODELS/model6979.h5\"\n",
        "# model = tf.keras.models.load_model(modelpath, custom_objects={'contrastive_loss': contrastive_loss})\n",
        "\n",
        "# # Print the model summary\n",
        "# model.summary()"
      ]
    },
    {
      "cell_type": "code",
      "execution_count": null,
      "metadata": {
        "colab": {
          "base_uri": "https://localhost:8080/",
          "height": 36
        },
        "id": "ed5hnIZsXPwy",
        "outputId": "823d1571-36b2-4f13-ae18-8eeb050d290c"
      },
      "outputs": [
        {
          "data": {
            "application/vnd.google.colaboratory.intrinsic+json": {
              "type": "string"
            },
            "text/plain": [
              "'/content/gdrive/MyDrive/embeddings/MODELS/model695_66_728.h5'"
            ]
          },
          "execution_count": 112,
          "metadata": {},
          "output_type": "execute_result"
        }
      ],
      "source": [
        "# # new_model = tf.keras.models.load_model('model1.h5', custom_objects={'contrastive_loss': contrastive_loss})\n",
        "\n",
        "# # run(new_model)\n",
        "# import shutil\n",
        "# source_path = \"/content/model3.h5\"\n",
        "# destination_path = \"/content/gdrive/MyDrive/embeddings/MODELS/model695_66_728.h5\"\n",
        "# shutil.copyfile(source_path, destination_path)"
      ]
    },
    {
      "cell_type": "markdown",
      "metadata": {
        "id": "KCymgWXTAhoW"
      },
      "source": [
        "# MODEL - 0.67, 0.72. 0.694"
      ]
    },
    {
      "cell_type": "code",
      "execution_count": null,
      "metadata": {
        "id": "yjbIWb1xAhot"
      },
      "outputs": [],
      "source": [
        "from tensorflow.keras.layers import Input, Reshape, Lambda, LSTM, concatenate, Dense, Dropout, Attention\n",
        "from tensorflow.keras.models import Model\n",
        "from tensorflow.keras import backend as K"
      ]
    },
    {
      "cell_type": "markdown",
      "metadata": {
        "id": "vD0rOwExaQMv"
      },
      "source": [
        "The following function `genModel()` generates classification model."
      ]
    },
    {
      "cell_type": "code",
      "execution_count": null,
      "metadata": {
        "id": "oQZ93BD2Ahov"
      },
      "outputs": [],
      "source": [
        "import tensorflow as tf\n",
        "import datetime\n",
        "\n",
        "def attention_merge(lstm_1, lstm_2):\n",
        "  attention = Attention()([lstm_1, lstm_2])\n",
        "  merged_lstm = attention * lstm_1 + (1 - attention) * lstm_2\n",
        "  return merged_lstm\n",
        "\n",
        "def addition_merge(lstm_1, lstm_2):\n",
        "  merged_lstm = lstm_1 + lstm_2\n",
        "  return merged_lstm\n",
        "\n",
        "def concatenate_merge(lstm_1, lstm_2):\n",
        "  merged_lstm = concatenate([lstm_1, lstm_2], axis=2)\n",
        "  return merged_lstm\n",
        "\n",
        "def genModel(merge):\n",
        "    input_1 = Input(shape=(None, feature_number))\n",
        "    input_2 = Input(shape=(None, feature_number))\n",
        "\n",
        "    # Reshape inputs to 3D tensors\n",
        "    lstm_input_1 = Reshape((-1, feature_number))(input_1)\n",
        "    lstm_input_2 = Reshape((-1, feature_number))(input_2)\n",
        "\n",
        "    lstm_1 = LSTM(units=256, return_sequences=True)(lstm_input_1)\n",
        "    lstm_2 = LSTM(units=256, return_sequences=True)(lstm_input_2)\n",
        "\n",
        "    # merged_lstm = attention_merge(lstm_1, lstm_2)\n",
        "    # merged_lstm = addition_merge(lstm_1, lstm_2)\n",
        "    # merged_lstm = concatenate_merge(lstm_1, lstm_2)\n",
        "    # merged_lstm = merge(lstm_1, lstm_2)\n",
        "    # Apply attention mechanism\n",
        "    attention = Attention()([lstm_1, lstm_2])\n",
        "\n",
        "    # Concatenate LSTM outputs and reshape to 3D tensor\n",
        "    merged_lstm = concatenate([lstm_1, lstm_2, attention], axis=2)\n",
        "    merged_lstm = Reshape((1, merged_lstm.shape[2]))(merged_lstm)\n",
        "\n",
        "    merged_lstm = LSTM(units=128)(merged_lstm)\n",
        "    # merged_lstm = Dropout(rate=0.1)(merged_lstm)\n",
        "    merged_lstm = Dense(units=256, activation='relu')(merged_lstm)\n",
        "    merged_lstm = Dropout(rate=0.1)(merged_lstm)\n",
        "\n",
        "    merged_lstm = Dense(units=256, activation='relu')(merged_lstm)\n",
        "    merged_lstm = Reshape((1, merged_lstm.shape[1]))(merged_lstm)\n",
        "    merged_lstm = Dropout(rate=0.1)(merged_lstm)\n",
        "    merged_lstm = LSTM(units=128)(merged_lstm)\n",
        "\n",
        "    merged_lstm = Dense(units=128, activation='relu')(merged_lstm)\n",
        "    merged_lstm = Reshape((1, merged_lstm.shape[1]))(merged_lstm)\n",
        "    merged_lstm = Dropout(rate=0.1)(merged_lstm)\n",
        "    merged_lstm = LSTM(units=256)(merged_lstm)\n",
        "    # merged_lstm = Dropout(rate=0.1)(merged_lstm)\n",
        "\n",
        "\n",
        "    output_layer = Dense(units=1, activation='sigmoid')(merged_lstm)\n",
        "\n",
        "    model = Model(inputs=[input_1, input_2], outputs=output_layer)\n",
        "\n",
        "    # # Add logging statements to save the model graph\n",
        "    # # Save the model graph using TensorBoard's callback\n",
        "    # log_dir = \"logs/\" + datetime.datetime.now().strftime(\"%Y%m%d-%H%M%S\")\n",
        "    # tensorboard_callback = tf.keras.callbacks.TensorBoard(log_dir=log_dir)\n",
        "\n",
        "    # model.compile(optimizer='adam', loss='binary_crossentropy', metrics=['accuracy'])\n",
        "\n",
        "    # # Train the model with a dummy dataset to generate the graph\n",
        "    # dummy_x = tf.zeros((1, 1, feature_number))\n",
        "    # model.fit([dummy_x, dummy_x], tf.zeros((1, 1)), callbacks=[tensorboard_callback])\n",
        "\n",
        "\n",
        "\n",
        "\n",
        "    return model\n"
      ]
    },
    {
      "cell_type": "markdown",
      "metadata": {
        "id": "EH8CpAzpaQMw"
      },
      "source": [
        "The following function `run()` compiles and evaluates the model with 3 test datasets - Twitter dataset, Reddit Dataset, and their Combined Dataset."
      ]
    },
    {
      "cell_type": "code",
      "execution_count": null,
      "metadata": {
        "id": "drd7ktREAhov"
      },
      "outputs": [],
      "source": [
        "def run(model, name):\n",
        "    opt = tf.keras.optimizers.Adam(learning_rate=1e-3)\n",
        "\n",
        "\n",
        "    metrics = [tf.keras.metrics.TruePositives(name='tp'),\n",
        "              tf.keras.metrics.FalsePositives(name='fp'),\n",
        "              tf.keras.metrics.TrueNegatives(name='tn'),\n",
        "              tf.keras.metrics.FalseNegatives(name='fn'),\n",
        "              tf.keras.metrics.BinaryAccuracy(name='accuracy'),\n",
        "              tf.keras.metrics.Precision(name='precision'),\n",
        "              tf.keras.metrics.Recall(name='recall'),\n",
        "              tfa.metrics.F1Score(num_classes=2, average='micro', threshold=0.2555),\n",
        "              tf.keras.metrics.AUC(name='auc')]\n",
        "\n",
        "    # Compile the model\n",
        "    model.compile(optimizer=opt, loss=contrastive_loss, metrics=metrics)\n",
        "    # model.compile(loss='binary_crossentropy', optimizer='RMSprop', metrics=['accuracy'])\n",
        "\n",
        "    model.fit(x=[x_train[:, 0], x_train[:, 1]], y=y_train, batch_size=256, epochs=1000, validation_split=0.3, callbacks = [early_stop])\n",
        "\n",
        "    test_ = model.evaluate(x=[x_test_[:, 0], x_test_[:, 1]], y=y_test_)\n",
        "    test2 = model.evaluate(x=[x_test2[:, 0], x_test2[:, 1]], y=y_test2)\n",
        "    test = model.evaluate(x=[x_test[:, 0], x_test[:, 1]], y=y_test)\n",
        "\n",
        "    model.save(name)\n",
        "\n",
        "\n",
        "    return [test_, test2, test]\n",
        "\n"
      ]
    },
    {
      "cell_type": "markdown",
      "metadata": {
        "id": "xpxaaqVTaQMw"
      },
      "source": [
        "The following are the function calls for generating model, compiling and evaluating them."
      ]
    },
    {
      "cell_type": "code",
      "execution_count": null,
      "metadata": {
        "colab": {
          "base_uri": "https://localhost:8080/"
        },
        "id": "JIgpws14Ahow",
        "outputId": "4d078b21-3aea-4c0f-bf46-2be5cde7421f"
      },
      "outputs": [
        {
          "name": "stdout",
          "output_type": "stream",
          "text": [
            "Epoch 1/1000\n"
          ]
        },
        {
          "name": "stderr",
          "output_type": "stream",
          "text": [
            "WARNING:tensorflow:Model was constructed with shape (None, None, 1024) for input KerasTensor(type_spec=TensorSpec(shape=(None, None, 1024), dtype=tf.float32, name='input_81'), name='input_81', description=\"created by layer 'input_81'\"), but it was called on an input with incompatible shape (None, 1024).\n",
            "WARNING:tensorflow:Model was constructed with shape (None, None, 1024) for input KerasTensor(type_spec=TensorSpec(shape=(None, None, 1024), dtype=tf.float32, name='input_82'), name='input_82', description=\"created by layer 'input_82'\"), but it was called on an input with incompatible shape (None, 1024).\n",
            "WARNING:tensorflow:Model was constructed with shape (None, None, 1024) for input KerasTensor(type_spec=TensorSpec(shape=(None, None, 1024), dtype=tf.float32, name='input_81'), name='input_81', description=\"created by layer 'input_81'\"), but it was called on an input with incompatible shape (None, 1024).\n",
            "WARNING:tensorflow:Model was constructed with shape (None, None, 1024) for input KerasTensor(type_spec=TensorSpec(shape=(None, None, 1024), dtype=tf.float32, name='input_82'), name='input_82', description=\"created by layer 'input_82'\"), but it was called on an input with incompatible shape (None, 1024).\n"
          ]
        },
        {
          "name": "stdout",
          "output_type": "stream",
          "text": [
            "26/26 [==============================] - ETA: 0s - loss: 0.2496 - tp: 2157.0000 - fp: 2017.0000 - tn: 1268.0000 - fn: 1138.0000 - accuracy: 0.5205 - precision: 0.5168 - recall: 0.6546 - f1_score: 0.6673 - auc: 0.5315"
          ]
        },
        {
          "name": "stderr",
          "output_type": "stream",
          "text": [
            "WARNING:tensorflow:Model was constructed with shape (None, None, 1024) for input KerasTensor(type_spec=TensorSpec(shape=(None, None, 1024), dtype=tf.float32, name='input_81'), name='input_81', description=\"created by layer 'input_81'\"), but it was called on an input with incompatible shape (None, 1024).\n",
            "WARNING:tensorflow:Model was constructed with shape (None, None, 1024) for input KerasTensor(type_spec=TensorSpec(shape=(None, None, 1024), dtype=tf.float32, name='input_82'), name='input_82', description=\"created by layer 'input_82'\"), but it was called on an input with incompatible shape (None, 1024).\n"
          ]
        },
        {
          "name": "stdout",
          "output_type": "stream",
          "text": [
            "\b\b\b\b\b\b\b\b\b\b\b\b\b\b\b\b\b\b\b\b\b\b\b\b\b\b\b\b\b\b\b\b\b\b\b\b\b\b\b\b\b\b\b\b\b\b\b\b\b\b\b\b\b\b\b\b\b\b\b\b\b\b\b\b\b\b\b\b\b\b\b\b\b\b\b\b\b\b\b\b\b\b\b\b\b\b\b\b\b\b\b\b\b\b\b\b\b\b\b\b\b\b\b\b\b\b\b\b\b\b\b\b\b\b\b\b\b\b\b\b\b\b\b\b\b\b\b\b\b\b\b\b\b\b\b\b\b\b\b\b\b\b\b\b\b\b\b\b\b\b\b\b\b\b\b\b\b\b\b\b\b\b\b\b\b\b\b\b\b\b\b\b\b\b\b\b\b\b\b\b\b\b\b\b\b\b\b\b\b\b\b\b\b\b\b\b\b\b\b\b\b\b\b\b\b\b\b\b\b\b\b\b\b\b\b\b\r26/26 [==============================] - 35s 570ms/step - loss: 0.2496 - tp: 2157.0000 - fp: 2017.0000 - tn: 1268.0000 - fn: 1138.0000 - accuracy: 0.5205 - precision: 0.5168 - recall: 0.6546 - f1_score: 0.6673 - auc: 0.5315 - val_loss: 0.2448 - val_tp: 745.0000 - val_fp: 539.0000 - val_tn: 876.0000 - val_fn: 660.0000 - val_accuracy: 0.5748 - val_precision: 0.5802 - val_recall: 0.5302 - val_f1_score: 0.6651 - val_auc: 0.6076\n",
            "Epoch 2/1000\n",
            "26/26 [==============================] - 5s 175ms/step - loss: 0.2325 - tp: 2519.0000 - fp: 1844.0000 - tn: 1441.0000 - fn: 776.0000 - accuracy: 0.6018 - precision: 0.5774 - recall: 0.7645 - f1_score: 0.6847 - auc: 0.6389 - val_loss: 0.2237 - val_tp: 1183.0000 - val_fp: 859.0000 - val_tn: 556.0000 - val_fn: 222.0000 - val_accuracy: 0.6167 - val_precision: 0.5793 - val_recall: 0.8420 - val_f1_score: 0.6987 - val_auc: 0.6650\n",
            "Epoch 3/1000\n",
            "26/26 [==============================] - 4s 161ms/step - loss: 0.2195 - tp: 2609.0000 - fp: 1735.0000 - tn: 1550.0000 - fn: 686.0000 - accuracy: 0.6321 - precision: 0.6006 - recall: 0.7918 - f1_score: 0.7068 - auc: 0.6814 - val_loss: 0.2199 - val_tp: 989.0000 - val_fp: 633.0000 - val_tn: 782.0000 - val_fn: 416.0000 - val_accuracy: 0.6280 - val_precision: 0.6097 - val_recall: 0.7039 - val_f1_score: 0.7080 - val_auc: 0.6795\n",
            "Epoch 4/1000\n",
            "26/26 [==============================] - 7s 287ms/step - loss: 0.2107 - tp: 2440.0000 - fp: 1436.0000 - tn: 1849.0000 - fn: 855.0000 - accuracy: 0.6518 - precision: 0.6295 - recall: 0.7405 - f1_score: 0.7131 - auc: 0.7186 - val_loss: 0.2174 - val_tp: 823.0000 - val_fp: 470.0000 - val_tn: 945.0000 - val_fn: 582.0000 - val_accuracy: 0.6270 - val_precision: 0.6365 - val_recall: 0.5858 - val_f1_score: 0.7038 - val_auc: 0.6944\n",
            "Epoch 5/1000\n",
            "26/26 [==============================] - 8s 329ms/step - loss: 0.2010 - tp: 2337.0000 - fp: 1155.0000 - tn: 2130.0000 - fn: 958.0000 - accuracy: 0.6789 - precision: 0.6692 - recall: 0.7093 - f1_score: 0.7200 - auc: 0.7484 - val_loss: 0.2183 - val_tp: 695.0000 - val_fp: 334.0000 - val_tn: 1081.0000 - val_fn: 710.0000 - val_accuracy: 0.6298 - val_precision: 0.6754 - val_recall: 0.4947 - val_f1_score: 0.7057 - val_auc: 0.7055\n",
            "Epoch 6/1000\n",
            "26/26 [==============================] - 6s 211ms/step - loss: 0.1942 - tp: 2485.0000 - fp: 1162.0000 - tn: 2123.0000 - fn: 810.0000 - accuracy: 0.7003 - precision: 0.6814 - recall: 0.7542 - f1_score: 0.7269 - auc: 0.7688 - val_loss: 0.2185 - val_tp: 1089.0000 - val_fp: 727.0000 - val_tn: 688.0000 - val_fn: 316.0000 - val_accuracy: 0.6301 - val_precision: 0.5997 - val_recall: 0.7751 - val_f1_score: 0.7003 - val_auc: 0.6976\n",
            "Epoch 7/1000\n",
            "26/26 [==============================] - 4s 158ms/step - loss: 0.1811 - tp: 2460.0000 - fp: 978.0000 - tn: 2307.0000 - fn: 835.0000 - accuracy: 0.7245 - precision: 0.7155 - recall: 0.7466 - f1_score: 0.7386 - auc: 0.8019 - val_loss: 0.2272 - val_tp: 1000.0000 - val_fp: 629.0000 - val_tn: 786.0000 - val_fn: 405.0000 - val_accuracy: 0.6333 - val_precision: 0.6139 - val_recall: 0.7117 - val_f1_score: 0.7067 - val_auc: 0.6974\n",
            "Epoch 8/1000\n",
            "26/26 [==============================] - 4s 161ms/step - loss: 0.1751 - tp: 2585.0000 - fp: 1015.0000 - tn: 2270.0000 - fn: 710.0000 - accuracy: 0.7378 - precision: 0.7181 - recall: 0.7845 - f1_score: 0.7486 - auc: 0.8149 - val_loss: 0.2251 - val_tp: 765.0000 - val_fp: 437.0000 - val_tn: 978.0000 - val_fn: 640.0000 - val_accuracy: 0.6181 - val_precision: 0.6364 - val_recall: 0.5445 - val_f1_score: 0.6996 - val_auc: 0.6853\n",
            "Epoch 9/1000\n",
            "26/26 [==============================] - 7s 275ms/step - loss: 0.1723 - tp: 2556.0000 - fp: 951.0000 - tn: 2334.0000 - fn: 739.0000 - accuracy: 0.7432 - precision: 0.7288 - recall: 0.7757 - f1_score: 0.7464 - auc: 0.8216 - val_loss: 0.2378 - val_tp: 945.0000 - val_fp: 551.0000 - val_tn: 864.0000 - val_fn: 460.0000 - val_accuracy: 0.6415 - val_precision: 0.6317 - val_recall: 0.6726 - val_f1_score: 0.6998 - val_auc: 0.6958\n",
            "Epoch 10/1000\n",
            "26/26 [==============================] - 5s 192ms/step - loss: 0.1530 - tp: 2631.0000 - fp: 807.0000 - tn: 2478.0000 - fn: 664.0000 - accuracy: 0.7764 - precision: 0.7653 - recall: 0.7985 - f1_score: 0.7756 - auc: 0.8583 - val_loss: 0.2480 - val_tp: 686.0000 - val_fp: 356.0000 - val_tn: 1059.0000 - val_fn: 719.0000 - val_accuracy: 0.6188 - val_precision: 0.6583 - val_recall: 0.4883 - val_f1_score: 0.6814 - val_auc: 0.6825\n",
            "Epoch 11/1000\n",
            "26/26 [==============================] - 5s 176ms/step - loss: 0.1454 - tp: 2716.0000 - fp: 810.0000 - tn: 2475.0000 - fn: 579.0000 - accuracy: 0.7889 - precision: 0.7703 - recall: 0.8243 - f1_score: 0.7899 - auc: 0.8712 - val_loss: 0.2579 - val_tp: 816.0000 - val_fp: 497.0000 - val_tn: 918.0000 - val_fn: 589.0000 - val_accuracy: 0.6149 - val_precision: 0.6215 - val_recall: 0.5808 - val_f1_score: 0.6753 - val_auc: 0.6843\n",
            "Epoch 12/1000\n",
            "26/26 [==============================] - 6s 215ms/step - loss: 0.1196 - tp: 2803.0000 - fp: 601.0000 - tn: 2684.0000 - fn: 492.0000 - accuracy: 0.8339 - precision: 0.8234 - recall: 0.8507 - f1_score: 0.8211 - auc: 0.9094 - val_loss: 0.2763 - val_tp: 700.0000 - val_fp: 395.0000 - val_tn: 1020.0000 - val_fn: 705.0000 - val_accuracy: 0.6099 - val_precision: 0.6393 - val_recall: 0.4982 - val_f1_score: 0.6449 - val_auc: 0.6819\n",
            "Epoch 13/1000\n",
            "26/26 [==============================] - 7s 262ms/step - loss: 0.1152 - tp: 2808.0000 - fp: 564.0000 - tn: 2721.0000 - fn: 487.0000 - accuracy: 0.8403 - precision: 0.8327 - recall: 0.8522 - f1_score: 0.8358 - auc: 0.9153 - val_loss: 0.2503 - val_tp: 1112.0000 - val_fp: 760.0000 - val_tn: 655.0000 - val_fn: 293.0000 - val_accuracy: 0.6266 - val_precision: 0.5940 - val_recall: 0.7915 - val_f1_score: 0.6870 - val_auc: 0.6765\n",
            "Epoch 14/1000\n",
            "26/26 [==============================] - 4s 160ms/step - loss: 0.1102 - tp: 2841.0000 - fp: 548.0000 - tn: 2737.0000 - fn: 454.0000 - accuracy: 0.8477 - precision: 0.8383 - recall: 0.8622 - f1_score: 0.8372 - auc: 0.9216 - val_loss: 0.2629 - val_tp: 908.0000 - val_fp: 525.0000 - val_tn: 890.0000 - val_fn: 497.0000 - val_accuracy: 0.6376 - val_precision: 0.6336 - val_recall: 0.6463 - val_f1_score: 0.6885 - val_auc: 0.6857\n",
            "113/113 [==============================] - 2s 20ms/step - loss: 0.2318 - tp: 1038.0000 - fp: 671.0000 - tn: 1129.0000 - fn: 762.0000 - accuracy: 0.6019 - precision: 0.6074 - recall: 0.5767 - f1_score: 0.6942 - auc: 0.6511\n"
          ]
        },
        {
          "name": "stderr",
          "output_type": "stream",
          "text": [
            "WARNING:tensorflow:Model was constructed with shape (None, None, 1024) for input KerasTensor(type_spec=TensorSpec(shape=(None, None, 1024), dtype=tf.float32, name='input_81'), name='input_81', description=\"created by layer 'input_81'\"), but it was called on an input with incompatible shape (None, 1024).\n",
            "WARNING:tensorflow:Model was constructed with shape (None, None, 1024) for input KerasTensor(type_spec=TensorSpec(shape=(None, None, 1024), dtype=tf.float32, name='input_82'), name='input_82', description=\"created by layer 'input_82'\"), but it was called on an input with incompatible shape (None, 1024).\n"
          ]
        },
        {
          "name": "stdout",
          "output_type": "stream",
          "text": [
            "57/57 [==============================] - 11s 25ms/step - loss: 0.2565 - tp: 510.0000 - fp: 429.0000 - tn: 471.0000 - fn: 390.0000 - accuracy: 0.5450 - precision: 0.5431 - recall: 0.5667 - f1_score: 0.6702 - auc: 0.5656\n",
            "57/57 [==============================] - 1s 21ms/step - loss: 0.2071 - tp: 528.0000 - fp: 242.0000 - tn: 658.0000 - fn: 372.0000 - accuracy: 0.6589 - precision: 0.6857 - recall: 0.5867 - f1_score: 0.7209 - auc: 0.7348\n",
            "\n",
            "[0.2317747175693512, 1038.0, 671.0, 1129.0, 762.0, 0.6019444465637207, 0.6073727607727051, 0.5766666531562805, 0.6942148804664612, 0.6510563492774963] \n",
            " [0.25645875930786133, 510.0, 429.0, 471.0, 390.0, 0.5450000166893005, 0.5431309938430786, 0.5666666626930237, 0.6701610088348389, 0.5656166076660156] \n",
            " [0.20709072053432465, 528.0, 242.0, 658.0, 372.0, 0.6588888764381409, 0.6857143044471741, 0.5866666436195374, 0.7208626866340637, 0.7347802519798279] \n",
            "\n",
            "\n"
          ]
        }
      ],
      "source": [
        "model1 = genModel(attention_merge)\n",
        "# model2 = genModel(addition_merge)\n",
        "# model3 = genModel(concatenate_merge)\n",
        "\n",
        "res1 = run(model1, 'model1.h5')\n",
        "# res2 = run(model2, 'model2.h5')\n",
        "# res3 = run(model3, 'model3.h5')\n",
        "\n",
        "\n",
        "print()\n",
        "print(res1[0], '\\n', res1[1], '\\n', res1[2], '\\n\\n')\n",
        "# print(res2[0], '\\n', res2[1], '\\n', res2[2], '\\n\\n')\n",
        "# print(res3[0], '\\n', res3[1], '\\n', res3[2], '\\n\\n')\n"
      ]
    },
    {
      "cell_type": "markdown",
      "metadata": {
        "id": "oE1m0ndxdvou"
      },
      "source": [
        "The following snippet will print coherent result of the evaluation of each datasets."
      ]
    },
    {
      "cell_type": "code",
      "execution_count": null,
      "metadata": {
        "colab": {
          "base_uri": "https://localhost:8080/"
        },
        "id": "T5bPTOhDAhow",
        "outputId": "9ae222f4-651c-495b-d9a3-8d5ee0909b0b"
      },
      "outputs": [
        {
          "name": "stdout",
          "output_type": "stream",
          "text": [
            "loss: 0.2317747175693512 - tp: 1038.0 - fp: 671.0 - tn: 1129.0 - fn: 762.0 - accuracy: 0.6019444465637207 - precision: 0.6073727607727051 - recall: 0.5766666531562805 - f1-score: 0.6942148804664612 - auc: 0.6510563492774963 - \n",
            "loss: 0.25645875930786133 - tp: 510.0 - fp: 429.0 - tn: 471.0 - fn: 390.0 - accuracy: 0.5450000166893005 - precision: 0.5431309938430786 - recall: 0.5666666626930237 - f1-score: 0.6701610088348389 - auc: 0.5656166076660156 - \n",
            "loss: 0.20709072053432465 - tp: 528.0 - fp: 242.0 - tn: 658.0 - fn: 372.0 - accuracy: 0.6588888764381409 - precision: 0.6857143044471741 - recall: 0.5866666436195374 - f1-score: 0.7208626866340637 - auc: 0.7347802519798279 - \n",
            "\n",
            "loss: 0.23859691619873047 - tp: 1419.0 - fp: 1052.0 - tn: 748.0 - fn: 381.0 - accuracy: 0.6019444465637207 - precision: 0.5742614269256592 - recall: 0.7883333563804626 - f1-score: 0.6919152736663818 - auc: 0.6433908939361572 - \n",
            "loss: 0.27007436752319336 - tp: 719.0 - fp: 656.0 - tn: 244.0 - fn: 181.0 - accuracy: 0.5350000262260437 - precision: 0.5229091048240662 - recall: 0.7988888621330261 - f1-score: 0.6694183349609375 - auc: 0.550154983997345 - \n",
            "loss: 0.20711961388587952 - tp: 700.0 - fp: 396.0 - tn: 504.0 - fn: 200.0 - accuracy: 0.6688888669013977 - precision: 0.6386861205101013 - recall: 0.7777777910232544 - f1-score: 0.7165775299072266 - auc: 0.7318203449249268 - \n",
            "\n",
            "loss: 0.23174592852592468 - tp: 987.0 - fp: 636.0 - tn: 1164.0 - fn: 813.0 - accuracy: 0.5975000262260437 - precision: 0.60813307762146 - recall: 0.5483333468437195 - f1-score: 0.6916450262069702 - auc: 0.6504456996917725 - \n",
            "loss: 0.2548319697380066 - tp: 513.0 - fp: 444.0 - tn: 456.0 - fn: 387.0 - accuracy: 0.5383333563804626 - precision: 0.5360501408576965 - recall: 0.5699999928474426 - f1-score: 0.6679288148880005 - auc: 0.5595710277557373 - \n",
            "loss: 0.20865996181964874 - tp: 474.0 - fp: 192.0 - tn: 708.0 - fn: 426.0 - accuracy: 0.6566666960716248 - precision: 0.7117117047309875 - recall: 0.5266666412353516 - f1-score: 0.7182978987693787 - auc: 0.7445697784423828 - \n",
            "\n"
          ]
        }
      ],
      "source": [
        "def printing(results):\n",
        "\n",
        "  name = ['loss', 'tp', 'fp', 'tn', 'fn', 'accuracy', 'precision', 'recall', 'f1-score', 'auc']\n",
        "  for result in results:\n",
        "    op=''\n",
        "    for i in range(len(name)):\n",
        "      op+=name[i]+\": \"+ str(result[i]) +\" - \"\n",
        "    print(op)\n",
        "  print()\n",
        "\n",
        "\n",
        "\n",
        "\n",
        "printing(res1)\n",
        "printing(res2)\n",
        "printing(res3)\n",
        "\n"
      ]
    },
    {
      "cell_type": "code",
      "execution_count": null,
      "metadata": {
        "id": "qjd624SvAhox"
      },
      "outputs": [],
      "source": [
        "# modelpath = \"/content/gdrive/MyDrive/embeddings/MODELS/model6979.h5\"\n",
        "# model = tf.keras.models.load_model(modelpath, custom_objects={'contrastive_loss': contrastive_loss})\n",
        "\n",
        "# # Print the model summary\n",
        "# model.summary()"
      ]
    },
    {
      "cell_type": "code",
      "execution_count": null,
      "metadata": {
        "id": "C3vJgivdAhoy"
      },
      "outputs": [],
      "source": [
        "# # new_model = tf.keras.models.load_model('model1.h5', custom_objects={'contrastive_loss': contrastive_loss})\n",
        "\n",
        "# # run(new_model)\n",
        "# import shutil\n",
        "# source_path = \"/content/model3.h5\"\n",
        "# destination_path = \"/content/gdrive/MyDrive/embeddings/MODELS/model695_66_728.h5\"\n",
        "# shutil.copyfile(source_path, destination_path)"
      ]
    },
    {
      "cell_type": "markdown",
      "metadata": {
        "id": "kVSStPZnT6dO"
      },
      "source": [
        "# MODEL - 0.67, 0.72. 0.694"
      ]
    },
    {
      "cell_type": "code",
      "execution_count": null,
      "metadata": {
        "id": "tVCI_sD-T6dl"
      },
      "outputs": [],
      "source": [
        "from tensorflow.keras.layers import Input, Reshape, Lambda, LSTM, concatenate, Dense, Dropout, Attention\n",
        "from tensorflow.keras.models import Model\n",
        "from tensorflow.keras import backend as K"
      ]
    },
    {
      "cell_type": "markdown",
      "metadata": {
        "id": "-hHs5VMtcIdr"
      },
      "source": [
        "The following function `genModel()` generates classification model."
      ]
    },
    {
      "cell_type": "code",
      "execution_count": null,
      "metadata": {
        "id": "adgYw1dET6dm"
      },
      "outputs": [],
      "source": [
        "import tensorflow as tf\n",
        "import datetime\n",
        "\n",
        "def attention_merge(lstm_1, lstm_2):\n",
        "  attention = Attention()([lstm_1, lstm_2])\n",
        "  merged_lstm = attention * lstm_1 + (1 - attention) * lstm_2\n",
        "  return merged_lstm\n",
        "\n",
        "def addition_merge(lstm_1, lstm_2):\n",
        "  merged_lstm = lstm_1 + lstm_2\n",
        "  return merged_lstm\n",
        "\n",
        "def concatenate_merge(lstm_1, lstm_2):\n",
        "  merged_lstm = concatenate([lstm_1, lstm_2], axis=2)\n",
        "  return merged_lstm\n",
        "\n",
        "def genModel(merge):\n",
        "    input_1 = Input(shape=(None, feature_number))\n",
        "    input_2 = Input(shape=(None, feature_number))\n",
        "\n",
        "    # Reshape inputs to 3D tensors\n",
        "    lstm_input_1 = Reshape((-1, feature_number))(input_1)\n",
        "    lstm_input_2 = Reshape((-1, feature_number))(input_2)\n",
        "\n",
        "    lstm_1 = LSTM(units=256, return_sequences=True, activation='tanh')(lstm_input_1)\n",
        "    lstm_2 = LSTM(units=256, return_sequences=True, activation='tanh')(lstm_input_2)\n",
        "\n",
        "    # merged_lstm = attention_merge(lstm_1, lstm_2)\n",
        "    # merged_lstm = addition_merge(lstm_1, lstm_2)\n",
        "    # merged_lstm = concatenate_merge(lstm_1, lstm_2)\n",
        "    # merged_lstm = merge(lstm_1, lstm_2)\n",
        "    # Apply attention mechanism\n",
        "    attention = Attention()([lstm_1, lstm_2])\n",
        "\n",
        "    # Concatenate LSTM outputs and reshape to 3D tensor\n",
        "    merged_lstm = concatenate([lstm_1, lstm_2, attention], axis=2)\n",
        "    merged_lstm = Reshape((1, merged_lstm.shape[2]))(merged_lstm)\n",
        "\n",
        "    merged_lstm = LSTM(units=128, activation='tanh')(merged_lstm)\n",
        "    # merged_lstm = Dropout(rate=0.1)(merged_lstm)\n",
        "    merged_lstm = Dense(units=256, activation='relu')(merged_lstm)\n",
        "    merged_lstm = Dropout(rate=0.1)(merged_lstm)\n",
        "\n",
        "    merged_lstm = Dense(units=256, activation='relu')(merged_lstm)\n",
        "    merged_lstm = Reshape((1, merged_lstm.shape[1]))(merged_lstm)\n",
        "    merged_lstm = Dropout(rate=0.1)(merged_lstm)\n",
        "    merged_lstm = LSTM(units=128, activation='tanh')(merged_lstm)\n",
        "\n",
        "    merged_lstm = Dense(units=128, activation='relu')(merged_lstm)\n",
        "    merged_lstm = Reshape((1, merged_lstm.shape[1]))(merged_lstm)\n",
        "    merged_lstm = Dropout(rate=0.1)(merged_lstm)\n",
        "    merged_lstm = LSTM(units=256, activation='tanh')(merged_lstm)\n",
        "    # merged_lstm = Dropout(rate=0.1)(merged_lstm)\n",
        "\n",
        "\n",
        "    output_layer = Dense(units=1, activation='sigmoid')(merged_lstm)\n",
        "\n",
        "    model = Model(inputs=[input_1, input_2], outputs=output_layer)\n",
        "\n",
        "    # # Add logging statements to save the model graph\n",
        "    # # Save the model graph using TensorBoard's callback\n",
        "    # log_dir = \"logs/\" + datetime.datetime.now().strftime(\"%Y%m%d-%H%M%S\")\n",
        "    # tensorboard_callback = tf.keras.callbacks.TensorBoard(log_dir=log_dir)\n",
        "\n",
        "    # model.compile(optimizer='adam', loss='binary_crossentropy', metrics=['accuracy'])\n",
        "\n",
        "    # # Train the model with a dummy dataset to generate the graph\n",
        "    # dummy_x = tf.zeros((1, 1, feature_number))\n",
        "    # model.fit([dummy_x, dummy_x], tf.zeros((1, 1)), callbacks=[tensorboard_callback])\n",
        "\n",
        "\n",
        "\n",
        "\n",
        "    return model\n"
      ]
    },
    {
      "cell_type": "markdown",
      "metadata": {
        "id": "UW_sJUwIcIds"
      },
      "source": [
        "The following function `run()` compiles and evaluates the model with 3 test datasets - Twitter dataset, Reddit Dataset, and their Combined Dataset."
      ]
    },
    {
      "cell_type": "code",
      "execution_count": null,
      "metadata": {
        "id": "9toqR8GzT6dn"
      },
      "outputs": [],
      "source": [
        "def run(model, name):\n",
        "    opt = tf.keras.optimizers.Adam(learning_rate=1e-3)\n",
        "\n",
        "\n",
        "    metrics = [tf.keras.metrics.TruePositives(name='tp'),\n",
        "              tf.keras.metrics.FalsePositives(name='fp'),\n",
        "              tf.keras.metrics.TrueNegatives(name='tn'),\n",
        "              tf.keras.metrics.FalseNegatives(name='fn'),\n",
        "              tf.keras.metrics.BinaryAccuracy(name='accuracy'),\n",
        "              tf.keras.metrics.Precision(name='precision'),\n",
        "              tf.keras.metrics.Recall(name='recall'),\n",
        "              tfa.metrics.F1Score(num_classes=2, average='micro', threshold=0.2555),\n",
        "              tf.keras.metrics.AUC(name='auc')]\n",
        "\n",
        "    # Compile the model\n",
        "    model.compile(optimizer=opt, loss=contrastive_loss, metrics=metrics)\n",
        "    # model.compile(loss='binary_crossentropy', optimizer='RMSprop', metrics=['accuracy'])\n",
        "\n",
        "    model.fit(x=[x_train[:, 0], x_train[:, 1]], y=y_train, batch_size=256, epochs=2187, validation_split=0.3, callbacks = [early_stop])\n",
        "\n",
        "    test_ = model.evaluate(x=[x_test_[:, 0], x_test_[:, 1]], y=y_test_)\n",
        "    test2 = model.evaluate(x=[x_test2[:, 0], x_test2[:, 1]], y=y_test2)\n",
        "    test = model.evaluate(x=[x_test[:, 0], x_test[:, 1]], y=y_test)\n",
        "\n",
        "    model.save(name)\n",
        "\n",
        "\n",
        "    return [test_, test2, test]\n",
        "\n"
      ]
    },
    {
      "cell_type": "markdown",
      "metadata": {
        "id": "nvpbFLPqcIdt"
      },
      "source": [
        "The following are the function calls for generating model, compiling and evaluating them."
      ]
    },
    {
      "cell_type": "code",
      "execution_count": null,
      "metadata": {
        "colab": {
          "base_uri": "https://localhost:8080/"
        },
        "id": "EeRJVd-NT6dn",
        "outputId": "492a8c9f-f97c-4164-e2ab-b6b70a7905f6"
      },
      "outputs": [
        {
          "name": "stdout",
          "output_type": "stream",
          "text": [
            "Epoch 1/2187\n"
          ]
        },
        {
          "name": "stderr",
          "output_type": "stream",
          "text": [
            "WARNING:tensorflow:Model was constructed with shape (None, None, 1024) for input KerasTensor(type_spec=TensorSpec(shape=(None, None, 1024), dtype=tf.float32, name='input_17'), name='input_17', description=\"created by layer 'input_17'\"), but it was called on an input with incompatible shape (None, 1024).\n",
            "WARNING:tensorflow:Model was constructed with shape (None, None, 1024) for input KerasTensor(type_spec=TensorSpec(shape=(None, None, 1024), dtype=tf.float32, name='input_18'), name='input_18', description=\"created by layer 'input_18'\"), but it was called on an input with incompatible shape (None, 1024).\n",
            "WARNING:tensorflow:Model was constructed with shape (None, None, 1024) for input KerasTensor(type_spec=TensorSpec(shape=(None, None, 1024), dtype=tf.float32, name='input_17'), name='input_17', description=\"created by layer 'input_17'\"), but it was called on an input with incompatible shape (None, 1024).\n",
            "WARNING:tensorflow:Model was constructed with shape (None, None, 1024) for input KerasTensor(type_spec=TensorSpec(shape=(None, None, 1024), dtype=tf.float32, name='input_18'), name='input_18', description=\"created by layer 'input_18'\"), but it was called on an input with incompatible shape (None, 1024).\n"
          ]
        },
        {
          "name": "stdout",
          "output_type": "stream",
          "text": [
            "26/26 [==============================] - ETA: 0s - loss: 0.2483 - tp: 982.0000 - fp: 883.0000 - tn: 2402.0000 - fn: 2313.0000 - accuracy: 0.5143 - precision: 0.5265 - recall: 0.2980 - f1_score: 0.6673 - auc: 0.5425"
          ]
        },
        {
          "name": "stderr",
          "output_type": "stream",
          "text": [
            "WARNING:tensorflow:Model was constructed with shape (None, None, 1024) for input KerasTensor(type_spec=TensorSpec(shape=(None, None, 1024), dtype=tf.float32, name='input_17'), name='input_17', description=\"created by layer 'input_17'\"), but it was called on an input with incompatible shape (None, 1024).\n",
            "WARNING:tensorflow:Model was constructed with shape (None, None, 1024) for input KerasTensor(type_spec=TensorSpec(shape=(None, None, 1024), dtype=tf.float32, name='input_18'), name='input_18', description=\"created by layer 'input_18'\"), but it was called on an input with incompatible shape (None, 1024).\n"
          ]
        },
        {
          "name": "stdout",
          "output_type": "stream",
          "text": [
            "\b\b\b\b\b\b\b\b\b\b\b\b\b\b\b\b\b\b\b\b\b\b\b\b\b\b\b\b\b\b\b\b\b\b\b\b\b\b\b\b\b\b\b\b\b\b\b\b\b\b\b\b\b\b\b\b\b\b\b\b\b\b\b\b\b\b\b\b\b\b\b\b\b\b\b\b\b\b\b\b\b\b\b\b\b\b\b\b\b\b\b\b\b\b\b\b\b\b\b\b\b\b\b\b\b\b\b\b\b\b\b\b\b\b\b\b\b\b\b\b\b\b\b\b\b\b\b\b\b\b\b\b\b\b\b\b\b\b\b\b\b\b\b\b\b\b\b\b\b\b\b\b\b\b\b\b\b\b\b\b\b\b\b\b\b\b\b\b\b\b\b\b\b\b\b\b\b\b\b\b\b\b\b\b\b\b\b\b\b\b\b\b\b\b\b\b\b\b\b\b\b\b\b\b\b\b\b\b\b\b\b\b\b\b\r26/26 [==============================] - 20s 283ms/step - loss: 0.2483 - tp: 982.0000 - fp: 883.0000 - tn: 2402.0000 - fn: 2313.0000 - accuracy: 0.5143 - precision: 0.5265 - recall: 0.2980 - f1_score: 0.6673 - auc: 0.5425 - val_loss: 0.2374 - val_tp: 997.0000 - val_fp: 764.0000 - val_tn: 651.0000 - val_fn: 408.0000 - val_accuracy: 0.5844 - val_precision: 0.5662 - val_recall: 0.7096 - val_f1_score: 0.6881 - val_auc: 0.6243\n",
            "Epoch 2/2187\n",
            "26/26 [==============================] - 6s 219ms/step - loss: 0.2333 - tp: 2855.0000 - fp: 2225.0000 - tn: 1060.0000 - fn: 440.0000 - accuracy: 0.5950 - precision: 0.5620 - recall: 0.8665 - f1_score: 0.6932 - auc: 0.6171 - val_loss: 0.2237 - val_tp: 1243.0000 - val_fp: 908.0000 - val_tn: 507.0000 - val_fn: 162.0000 - val_accuracy: 0.6206 - val_precision: 0.5779 - val_recall: 0.8847 - val_f1_score: 0.7047 - val_auc: 0.6568\n",
            "Epoch 3/2187\n",
            "26/26 [==============================] - 4s 155ms/step - loss: 0.2206 - tp: 2758.0000 - fp: 1927.0000 - tn: 1358.0000 - fn: 537.0000 - accuracy: 0.6255 - precision: 0.5887 - recall: 0.8370 - f1_score: 0.7063 - auc: 0.6764 - val_loss: 0.2222 - val_tp: 1227.0000 - val_fp: 872.0000 - val_tn: 543.0000 - val_fn: 178.0000 - val_accuracy: 0.6277 - val_precision: 0.5846 - val_recall: 0.8733 - val_f1_score: 0.7049 - val_auc: 0.6770\n",
            "Epoch 4/2187\n",
            "26/26 [==============================] - 3s 128ms/step - loss: 0.2146 - tp: 2626.0000 - fp: 1726.0000 - tn: 1559.0000 - fn: 669.0000 - accuracy: 0.6360 - precision: 0.6034 - recall: 0.7970 - f1_score: 0.7143 - auc: 0.6964 - val_loss: 0.2229 - val_tp: 1088.0000 - val_fp: 740.0000 - val_tn: 675.0000 - val_fn: 317.0000 - val_accuracy: 0.6252 - val_precision: 0.5952 - val_recall: 0.7744 - val_f1_score: 0.7001 - val_auc: 0.6872\n",
            "Epoch 5/2187\n",
            "26/26 [==============================] - 3s 129ms/step - loss: 0.2154 - tp: 2653.0000 - fp: 1695.0000 - tn: 1590.0000 - fn: 642.0000 - accuracy: 0.6448 - precision: 0.6102 - recall: 0.8052 - f1_score: 0.7076 - auc: 0.7082 - val_loss: 0.2170 - val_tp: 1142.0000 - val_fp: 784.0000 - val_tn: 631.0000 - val_fn: 263.0000 - val_accuracy: 0.6287 - val_precision: 0.5929 - val_recall: 0.8128 - val_f1_score: 0.7067 - val_auc: 0.6994\n",
            "Epoch 6/2187\n",
            "26/26 [==============================] - 5s 199ms/step - loss: 0.2023 - tp: 2549.0000 - fp: 1398.0000 - tn: 1887.0000 - fn: 746.0000 - accuracy: 0.6742 - precision: 0.6458 - recall: 0.7736 - f1_score: 0.7239 - auc: 0.7426 - val_loss: 0.2193 - val_tp: 701.0000 - val_fp: 351.0000 - val_tn: 1064.0000 - val_fn: 704.0000 - val_accuracy: 0.6259 - val_precision: 0.6663 - val_recall: 0.4989 - val_f1_score: 0.7116 - val_auc: 0.7034\n",
            "Epoch 7/2187\n",
            "26/26 [==============================] - 5s 210ms/step - loss: 0.1968 - tp: 2459.0000 - fp: 1222.0000 - tn: 2063.0000 - fn: 836.0000 - accuracy: 0.6872 - precision: 0.6680 - recall: 0.7463 - f1_score: 0.7264 - auc: 0.7600 - val_loss: 0.2170 - val_tp: 954.0000 - val_fp: 581.0000 - val_tn: 834.0000 - val_fn: 451.0000 - val_accuracy: 0.6340 - val_precision: 0.6215 - val_recall: 0.6790 - val_f1_score: 0.7075 - val_auc: 0.6988\n",
            "Epoch 8/2187\n",
            "26/26 [==============================] - 3s 131ms/step - loss: 0.2001 - tp: 2330.0000 - fp: 1133.0000 - tn: 2152.0000 - fn: 965.0000 - accuracy: 0.6812 - precision: 0.6728 - recall: 0.7071 - f1_score: 0.7241 - auc: 0.7540 - val_loss: 0.2231 - val_tp: 1079.0000 - val_fp: 694.0000 - val_tn: 721.0000 - val_fn: 326.0000 - val_accuracy: 0.6383 - val_precision: 0.6086 - val_recall: 0.7680 - val_f1_score: 0.7070 - val_auc: 0.7001\n",
            "Epoch 9/2187\n",
            "26/26 [==============================] - 3s 129ms/step - loss: 0.1831 - tp: 2579.0000 - fp: 1141.0000 - tn: 2144.0000 - fn: 716.0000 - accuracy: 0.7178 - precision: 0.6933 - recall: 0.7827 - f1_score: 0.7414 - auc: 0.7963 - val_loss: 0.2361 - val_tp: 635.0000 - val_fp: 316.0000 - val_tn: 1099.0000 - val_fn: 770.0000 - val_accuracy: 0.6149 - val_precision: 0.6677 - val_recall: 0.4520 - val_f1_score: 0.6980 - val_auc: 0.6973\n",
            "Epoch 10/2187\n",
            "26/26 [==============================] - 4s 140ms/step - loss: 0.1850 - tp: 2483.0000 - fp: 1098.0000 - tn: 2187.0000 - fn: 812.0000 - accuracy: 0.7097 - precision: 0.6934 - recall: 0.7536 - f1_score: 0.7397 - auc: 0.7910 - val_loss: 0.2325 - val_tp: 1301.0000 - val_fp: 994.0000 - val_tn: 421.0000 - val_fn: 104.0000 - val_accuracy: 0.6106 - val_precision: 0.5669 - val_recall: 0.9260 - val_f1_score: 0.6908 - val_auc: 0.6946\n",
            "Epoch 11/2187\n",
            "26/26 [==============================] - 6s 219ms/step - loss: 0.1687 - tp: 2604.0000 - fp: 997.0000 - tn: 2288.0000 - fn: 691.0000 - accuracy: 0.7435 - precision: 0.7231 - recall: 0.7903 - f1_score: 0.7558 - auc: 0.8282 - val_loss: 0.2346 - val_tp: 893.0000 - val_fp: 521.0000 - val_tn: 894.0000 - val_fn: 512.0000 - val_accuracy: 0.6337 - val_precision: 0.6315 - val_recall: 0.6356 - val_f1_score: 0.6981 - val_auc: 0.6941\n",
            "Epoch 12/2187\n",
            "26/26 [==============================] - 5s 178ms/step - loss: 0.1518 - tp: 2665.0000 - fp: 844.0000 - tn: 2441.0000 - fn: 630.0000 - accuracy: 0.7760 - precision: 0.7595 - recall: 0.8088 - f1_score: 0.7801 - auc: 0.8599 - val_loss: 0.2415 - val_tp: 904.0000 - val_fp: 547.0000 - val_tn: 868.0000 - val_fn: 501.0000 - val_accuracy: 0.6284 - val_precision: 0.6230 - val_recall: 0.6434 - val_f1_score: 0.6919 - val_auc: 0.6912\n",
            "Epoch 13/2187\n",
            "26/26 [==============================] - 3s 130ms/step - loss: 0.1387 - tp: 2717.0000 - fp: 733.0000 - tn: 2552.0000 - fn: 578.0000 - accuracy: 0.8008 - precision: 0.7875 - recall: 0.8246 - f1_score: 0.7970 - auc: 0.8817 - val_loss: 0.2850 - val_tp: 610.0000 - val_fp: 307.0000 - val_tn: 1108.0000 - val_fn: 795.0000 - val_accuracy: 0.6092 - val_precision: 0.6652 - val_recall: 0.4342 - val_f1_score: 0.6132 - val_auc: 0.6865\n",
            "Epoch 14/2187\n",
            "26/26 [==============================] - 3s 130ms/step - loss: 0.1345 - tp: 2716.0000 - fp: 684.0000 - tn: 2601.0000 - fn: 579.0000 - accuracy: 0.8081 - precision: 0.7988 - recall: 0.8243 - f1_score: 0.8081 - auc: 0.8886 - val_loss: 0.2533 - val_tp: 930.0000 - val_fp: 571.0000 - val_tn: 844.0000 - val_fn: 475.0000 - val_accuracy: 0.6291 - val_precision: 0.6196 - val_recall: 0.6619 - val_f1_score: 0.6981 - val_auc: 0.6816\n",
            "Epoch 15/2187\n",
            "26/26 [==============================] - 4s 173ms/step - loss: 0.1195 - tp: 2828.0000 - fp: 625.0000 - tn: 2660.0000 - fn: 467.0000 - accuracy: 0.8340 - precision: 0.8190 - recall: 0.8583 - f1_score: 0.8254 - auc: 0.9091 - val_loss: 0.2534 - val_tp: 947.0000 - val_fp: 582.0000 - val_tn: 833.0000 - val_fn: 458.0000 - val_accuracy: 0.6312 - val_precision: 0.6194 - val_recall: 0.6740 - val_f1_score: 0.6818 - val_auc: 0.6818\n",
            "113/113 [==============================] - 2s 20ms/step - loss: 0.2302 - tp: 1468.0000 - fp: 1072.0000 - tn: 728.0000 - fn: 332.0000 - accuracy: 0.6100 - precision: 0.5780 - recall: 0.8156 - f1_score: 0.6942 - auc: 0.6477\n"
          ]
        },
        {
          "name": "stderr",
          "output_type": "stream",
          "text": [
            "WARNING:tensorflow:Model was constructed with shape (None, None, 1024) for input KerasTensor(type_spec=TensorSpec(shape=(None, None, 1024), dtype=tf.float32, name='input_17'), name='input_17', description=\"created by layer 'input_17'\"), but it was called on an input with incompatible shape (None, 1024).\n",
            "WARNING:tensorflow:Model was constructed with shape (None, None, 1024) for input KerasTensor(type_spec=TensorSpec(shape=(None, None, 1024), dtype=tf.float32, name='input_18'), name='input_18', description=\"created by layer 'input_18'\"), but it was called on an input with incompatible shape (None, 1024).\n"
          ]
        },
        {
          "name": "stdout",
          "output_type": "stream",
          "text": [
            "57/57 [==============================] - 7s 14ms/step - loss: 0.2540 - tp: 759.0000 - fp: 700.0000 - tn: 200.0000 - fn: 141.0000 - accuracy: 0.5328 - precision: 0.5202 - recall: 0.8433 - f1_score: 0.6712 - auc: 0.5504\n",
            "57/57 [==============================] - 1s 13ms/step - loss: 0.2064 - tp: 709.0000 - fp: 372.0000 - tn: 528.0000 - fn: 191.0000 - accuracy: 0.6872 - precision: 0.6559 - recall: 0.7878 - f1_score: 0.7203 - auc: 0.7440\n",
            "\n",
            "[0.23020383715629578, 1468.0, 1072.0, 728.0, 332.0, 0.6100000143051147, 0.5779527425765991, 0.8155555725097656, 0.6941816806793213, 0.6476843953132629] \n",
            " [0.2540082335472107, 759.0, 700.0, 200.0, 141.0, 0.5327777862548828, 0.5202193260192871, 0.8433333039283752, 0.6712070107460022, 0.5504259467124939] \n",
            " [0.20639948546886444, 709.0, 372.0, 528.0, 191.0, 0.6872222423553467, 0.6558741927146912, 0.7877777814865112, 0.7203097939491272, 0.7439808249473572] \n",
            "\n",
            "\n"
          ]
        }
      ],
      "source": [
        "model1 = genModel(attention_merge)\n",
        "# model2 = genModel(addition_merge)\n",
        "# model3 = genModel(concatenate_merge)\n",
        "\n",
        "res1 = run(model1, 'model1.h5')\n",
        "# res2 = run(model2, 'model2.h5')\n",
        "# res3 = run(model3, 'model3.h5')\n",
        "\n",
        "\n",
        "print()\n",
        "print(res1[0], '\\n', res1[1], '\\n', res1[2], '\\n\\n')\n",
        "# print(res2[0], '\\n', res2[1], '\\n', res2[2], '\\n\\n')\n",
        "# print(res3[0], '\\n', res3[1], '\\n', res3[2], '\\n\\n')\n"
      ]
    },
    {
      "cell_type": "markdown",
      "metadata": {
        "id": "XY7KGsPIdyKG"
      },
      "source": [
        "The following snippet will print coherent result of the evaluation of each datasets."
      ]
    },
    {
      "cell_type": "code",
      "execution_count": null,
      "metadata": {
        "colab": {
          "base_uri": "https://localhost:8080/"
        },
        "id": "ibGD935ZT6do",
        "outputId": "86f7a9ba-ee0e-46d5-d54a-e47fb5cba323"
      },
      "outputs": [
        {
          "name": "stdout",
          "output_type": "stream",
          "text": [
            "loss: 0.23020383715629578 - tp: 1468.0 - fp: 1072.0 - tn: 728.0 - fn: 332.0 - accuracy: 0.6100000143051147 - precision: 0.5779527425765991 - recall: 0.8155555725097656 - f1-score: 0.6941816806793213 - auc: 0.6476843953132629 - \n",
            "loss: 0.2540082335472107 - tp: 759.0 - fp: 700.0 - tn: 200.0 - fn: 141.0 - accuracy: 0.5327777862548828 - precision: 0.5202193260192871 - recall: 0.8433333039283752 - f1-score: 0.6712070107460022 - auc: 0.5504259467124939 - \n",
            "loss: 0.20639948546886444 - tp: 709.0 - fp: 372.0 - tn: 528.0 - fn: 191.0 - accuracy: 0.6872222423553467 - precision: 0.6558741927146912 - recall: 0.7877777814865112 - f1-score: 0.7203097939491272 - auc: 0.7439808249473572 - \n",
            "\n"
          ]
        }
      ],
      "source": [
        "def printing(results):\n",
        "\n",
        "  name = ['loss', 'tp', 'fp', 'tn', 'fn', 'accuracy', 'precision', 'recall', 'f1-score', 'auc']\n",
        "  for result in results:\n",
        "    op=''\n",
        "    for i in range(len(name)):\n",
        "      op+=name[i]+\": \"+ str(result[i]) +\" - \"\n",
        "    print(op)\n",
        "  print()\n",
        "\n",
        "\n",
        "\n",
        "\n",
        "printing(res1)\n",
        "# printing(res2)\n",
        "# printing(res3)\n",
        "\n"
      ]
    },
    {
      "cell_type": "code",
      "execution_count": null,
      "metadata": {
        "id": "qxDlbBsJT6dp"
      },
      "outputs": [],
      "source": [
        "# modelpath = \"/content/gdrive/MyDrive/embeddings/MODELS/model6979.h5\"\n",
        "# model = tf.keras.models.load_model(modelpath, custom_objects={'contrastive_loss': contrastive_loss})\n",
        "\n",
        "# # Print the model summary\n",
        "# model.summary()"
      ]
    },
    {
      "cell_type": "code",
      "execution_count": null,
      "metadata": {
        "id": "hXV6vRT3T6dq"
      },
      "outputs": [],
      "source": [
        "# # new_model = tf.keras.models.load_model('model1.h5', custom_objects={'contrastive_loss': contrastive_loss})\n",
        "\n",
        "# # run(new_model)\n",
        "# import shutil\n",
        "# source_path = \"/content/model3.h5\"\n",
        "# destination_path = \"/content/gdrive/MyDrive/embeddings/MODELS/model695_66_728.h5\"\n",
        "# shutil.copyfile(source_path, destination_path)"
      ]
    },
    {
      "cell_type": "markdown",
      "metadata": {
        "id": "HiiLF_gEn66G"
      },
      "source": [
        "# model - 0.66, 0.73, 0.6964"
      ]
    },
    {
      "cell_type": "code",
      "execution_count": null,
      "metadata": {
        "id": "5N7m0qgln66O"
      },
      "outputs": [],
      "source": [
        "from tensorflow.keras.layers import Input, Reshape, Lambda, LSTM, concatenate, Dense, Dropout, Attention\n",
        "from tensorflow.keras.models import Model\n",
        "from tensorflow.keras import backend as K"
      ]
    },
    {
      "cell_type": "markdown",
      "metadata": {
        "id": "S_5sPvadcNL-"
      },
      "source": [
        "The following function `genModel()` generates classification model."
      ]
    },
    {
      "cell_type": "code",
      "execution_count": null,
      "metadata": {
        "id": "dlvcMN11n66P"
      },
      "outputs": [],
      "source": [
        "import tensorflow as tf\n",
        "import datetime\n",
        "\n",
        "def attention_merge(lstm_1, lstm_2):\n",
        "  attention = Attention()([lstm_1, lstm_2])\n",
        "  merged_lstm = attention * lstm_1 + (1 - attention) * lstm_2\n",
        "  return merged_lstm\n",
        "\n",
        "def addition_merge(lstm_1, lstm_2):\n",
        "  merged_lstm = lstm_1 + lstm_2\n",
        "  return merged_lstm\n",
        "\n",
        "def concatenate_merge(lstm_1, lstm_2):\n",
        "  merged_lstm = concatenate([lstm_1, lstm_2], axis=2)\n",
        "  return merged_lstm\n",
        "\n",
        "def genModel(merge):\n",
        "    input_1 = Input(shape=(None, feature_number))\n",
        "    input_2 = Input(shape=(None, feature_number))\n",
        "\n",
        "    # Reshape inputs to 3D tensors\n",
        "    lstm_input_1 = Reshape((-1, feature_number))(input_1)\n",
        "    lstm_input_2 = Reshape((-1, feature_number))(input_2)\n",
        "\n",
        "    lstm_1 = LSTM(units=256, return_sequences=True)(lstm_input_1)\n",
        "    lstm_2 = LSTM(units=256, return_sequences=True)(lstm_input_2)\n",
        "\n",
        "    # merged_lstm = attention_merge(lstm_1, lstm_2)\n",
        "    # merged_lstm = addition_merge(lstm_1, lstm_2)\n",
        "    # merged_lstm = concatenate_merge(lstm_1, lstm_2)\n",
        "    merged_lstm = merge(lstm_1, lstm_2)\n",
        "\n",
        "    merged_lstm = LSTM(units=128, activation='tanh')(merged_lstm)\n",
        "    merged_lstm = Dropout(rate=0.1)(merged_lstm)\n",
        "    merged_lstm = Dense(units=256, activation='relu')(merged_lstm)\n",
        "    merged_lstm = Dropout(rate=0.1)(merged_lstm)\n",
        "\n",
        "    merged_lstm = Dense(units=256, activation='relu')(merged_lstm)\n",
        "    merged_lstm = Reshape((1, merged_lstm.shape[1]))(merged_lstm)\n",
        "    merged_lstm = Dropout(rate=0.1)(merged_lstm)\n",
        "    merged_lstm = LSTM(units=128, activation='tanh')(merged_lstm)\n",
        "\n",
        "    merged_lstm = Dense(units=128, activation='relu')(merged_lstm)\n",
        "    merged_lstm = Reshape((1, merged_lstm.shape[1]))(merged_lstm)\n",
        "    merged_lstm = Dropout(rate=0.1)(merged_lstm)\n",
        "    merged_lstm = LSTM(units=256, activation='tanh')(merged_lstm)\n",
        "    # merged_lstm = Dropout(rate=0.1)(merged_lstm)\n",
        "\n",
        "\n",
        "    output_layer = Dense(units=1, activation='sigmoid')(merged_lstm)\n",
        "\n",
        "    model = Model(inputs=[input_1, input_2], outputs=output_layer)\n",
        "\n",
        "\n",
        "    return model\n"
      ]
    },
    {
      "cell_type": "markdown",
      "metadata": {
        "id": "nKDBgyRLcNL_"
      },
      "source": [
        "The following function `run()` compiles and evaluates the model with 3 test datasets - Twitter dataset, Reddit Dataset, and their Combined Dataset. It also generates AUC-ROC curves of the datasets."
      ]
    },
    {
      "cell_type": "code",
      "execution_count": null,
      "metadata": {
        "id": "vzH48NqZn66P"
      },
      "outputs": [],
      "source": [
        "import matplotlib.pyplot as plt\n",
        "from sklearn.metrics import auc, roc_curve, roc_auc_score\n",
        "def generate_auc_curve(y_true, y_pred_prob, model_name):\n",
        "    fpr, tpr, thresholds = roc_curve(y_true, y_pred_prob)\n",
        "    roc_auc = auc(fpr, tpr)\n",
        "\n",
        "    # Compute AUC scores for different thresholds\n",
        "    auc_scores = []\n",
        "    for threshold in thresholds:\n",
        "        y_pred_binary = (y_pred_prob >= threshold).astype(int)\n",
        "        auc_scores.append(roc_auc_score(y_true, y_pred_binary))\n",
        "\n",
        "    # Plot the AUC curve\n",
        "    plt.figure()\n",
        "    plt.plot(thresholds, auc_scores, label='AUC curve')\n",
        "    plt.xlabel('Threshold')\n",
        "    plt.ylabel('AUC score')\n",
        "    plt.title('AUC Curve - ' + model_name)\n",
        "    plt.legend(loc=\"lower right\")\n",
        "    plt.savefig('auc_curve_' + model_name + '.png')\n",
        "    plt.close()\n",
        "\n",
        "    return roc_auc\n",
        "\n",
        "\n",
        "def generate_ROC(model, x_test, y_test, name, n):\n",
        "    # Get predicted probabilities for ROC curve\n",
        "    y_pred_prob = model.predict([x_test[:, 0], x_test[:, 1]])\n",
        "\n",
        "\n",
        "    roc_auc = generate_auc_curve(y_test, y_pred_prob, name)\n",
        "\n",
        "    # Compute ROC curve and AUC score\n",
        "    fpr, tpr, thresholds = roc_curve(y_test, y_pred_prob)\n",
        "    roc_auc = roc_auc_score(y_test, y_pred_prob)\n",
        "\n",
        "    # Plot the ROC curve\n",
        "    plt.figure()\n",
        "    plt.plot(fpr, tpr, label='ROC curve (area = %0.2f)' % roc_auc)\n",
        "    plt.plot([0, 1], [0, 1], 'k--')\n",
        "    plt.xlim([0.0, 1.0])\n",
        "    plt.ylim([0.0, 1.05])\n",
        "    plt.xlabel('False Positive Rate')\n",
        "    plt.ylabel('True Positive Rate')\n",
        "    plt.title('Receiver Operating Characteristic')\n",
        "    plt.legend(loc=\"lower right\")\n",
        "\n",
        "    plt.savefig('roc_auc__'+name+'_'+n+'.png')\n",
        "    plt.close()\n",
        "\n",
        "\n",
        "\n",
        "def run(model, name, n):\n",
        "    opt = tf.keras.optimizers.Adam(learning_rate=1e-3)\n",
        "\n",
        "    metrics = [\n",
        "        tf.keras.metrics.TruePositives(name='tp'),\n",
        "        tf.keras.metrics.FalsePositives(name='fp'),\n",
        "        tf.keras.metrics.TrueNegatives(name='tn'),\n",
        "        tf.keras.metrics.FalseNegatives(name='fn'),\n",
        "        tf.keras.metrics.BinaryAccuracy(name='accuracy'),\n",
        "        tf.keras.metrics.Precision(name='precision'),\n",
        "        tf.keras.metrics.Recall(name='recall'),\n",
        "        tfa.metrics.F1Score(num_classes=2, average='micro', threshold=0.2555),\n",
        "        tf.keras.metrics.AUC(name='auc')\n",
        "    ]\n",
        "\n",
        "    # Compile the model\n",
        "    model.compile(optimizer=opt, loss=contrastive_loss, metrics=metrics)\n",
        "\n",
        "    # Train the model\n",
        "    history = model.fit(x=[x_train[:, 0], x_train[:, 1]], y=y_train, batch_size=256, epochs=1000,\n",
        "                        validation_split=0.3, callbacks=[early_stop])\n",
        "\n",
        "    # Evaluate the model on the test set\n",
        "    test_ = model.evaluate(x=[x_test_[:, 0], x_test_[:, 1]], y=y_test_)\n",
        "    test2 = model.evaluate(x=[x_test2[:, 0], x_test2[:, 1]], y=y_test2)\n",
        "    test = model.evaluate(x=[x_test[:, 0], x_test[:, 1]], y=y_test)\n",
        "\n",
        "    # Save the model\n",
        "    model.save(name)\n",
        "\n",
        "    generate_ROC(model, x_test, y_test, 'twitter', n)\n",
        "    generate_ROC(model, x_test2, y_test2, 'reddit', n)\n",
        "    generate_ROC(model, x_test_, y_test_, 'combined', n)\n",
        "\n",
        "\n",
        "\n",
        "    return [test_, test2, test]\n",
        "\n"
      ]
    },
    {
      "cell_type": "markdown",
      "metadata": {
        "id": "ap9SikjLcNL_"
      },
      "source": [
        "The following are the function calls for generating model, compiling and evaluating them."
      ]
    },
    {
      "cell_type": "code",
      "execution_count": null,
      "metadata": {
        "colab": {
          "base_uri": "https://localhost:8080/"
        },
        "id": "L9dsDgwln66P",
        "outputId": "d4763444-5af6-45a3-8f4b-7b35fccfa4d2"
      },
      "outputs": [
        {
          "name": "stdout",
          "output_type": "stream",
          "text": [
            "Epoch 1/1000\n"
          ]
        },
        {
          "name": "stderr",
          "output_type": "stream",
          "text": [
            "WARNING:tensorflow:Model was constructed with shape (None, None, 1024) for input KerasTensor(type_spec=TensorSpec(shape=(None, None, 1024), dtype=tf.float32, name='input_31'), name='input_31', description=\"created by layer 'input_31'\"), but it was called on an input with incompatible shape (None, 1024).\n",
            "WARNING:tensorflow:Model was constructed with shape (None, None, 1024) for input KerasTensor(type_spec=TensorSpec(shape=(None, None, 1024), dtype=tf.float32, name='input_32'), name='input_32', description=\"created by layer 'input_32'\"), but it was called on an input with incompatible shape (None, 1024).\n",
            "WARNING:tensorflow:Model was constructed with shape (None, None, 1024) for input KerasTensor(type_spec=TensorSpec(shape=(None, None, 1024), dtype=tf.float32, name='input_31'), name='input_31', description=\"created by layer 'input_31'\"), but it was called on an input with incompatible shape (None, 1024).\n",
            "WARNING:tensorflow:Model was constructed with shape (None, None, 1024) for input KerasTensor(type_spec=TensorSpec(shape=(None, None, 1024), dtype=tf.float32, name='input_32'), name='input_32', description=\"created by layer 'input_32'\"), but it was called on an input with incompatible shape (None, 1024).\n"
          ]
        },
        {
          "name": "stdout",
          "output_type": "stream",
          "text": [
            "26/26 [==============================] - ETA: 0s - loss: 0.2494 - tp: 1862.0000 - fp: 1722.0000 - tn: 1542.0000 - fn: 1454.0000 - accuracy: 0.5173 - precision: 0.5195 - recall: 0.5615 - f1_score: 0.6702 - auc: 0.5268"
          ]
        },
        {
          "name": "stderr",
          "output_type": "stream",
          "text": [
            "WARNING:tensorflow:Model was constructed with shape (None, None, 1024) for input KerasTensor(type_spec=TensorSpec(shape=(None, None, 1024), dtype=tf.float32, name='input_31'), name='input_31', description=\"created by layer 'input_31'\"), but it was called on an input with incompatible shape (None, 1024).\n",
            "WARNING:tensorflow:Model was constructed with shape (None, None, 1024) for input KerasTensor(type_spec=TensorSpec(shape=(None, None, 1024), dtype=tf.float32, name='input_32'), name='input_32', description=\"created by layer 'input_32'\"), but it was called on an input with incompatible shape (None, 1024).\n"
          ]
        },
        {
          "name": "stdout",
          "output_type": "stream",
          "text": [
            "\b\b\b\b\b\b\b\b\b\b\b\b\b\b\b\b\b\b\b\b\b\b\b\b\b\b\b\b\b\b\b\b\b\b\b\b\b\b\b\b\b\b\b\b\b\b\b\b\b\b\b\b\b\b\b\b\b\b\b\b\b\b\b\b\b\b\b\b\b\b\b\b\b\b\b\b\b\b\b\b\b\b\b\b\b\b\b\b\b\b\b\b\b\b\b\b\b\b\b\b\b\b\b\b\b\b\b\b\b\b\b\b\b\b\b\b\b\b\b\b\b\b\b\b\b\b\b\b\b\b\b\b\b\b\b\b\b\b\b\b\b\b\b\b\b\b\b\b\b\b\b\b\b\b\b\b\b\b\b\b\b\b\b\b\b\b\b\b\b\b\b\b\b\b\b\b\b\b\b\b\b\b\b\b\b\b\b\b\b\b\b\b\b\b\b\b\b\b\b\b\b\b\b\b\b\b\b\b\b\b\b\b\b\b\b\b\r26/26 [==============================] - 23s 310ms/step - loss: 0.2494 - tp: 1862.0000 - fp: 1722.0000 - tn: 1542.0000 - fn: 1454.0000 - accuracy: 0.5173 - precision: 0.5195 - recall: 0.5615 - f1_score: 0.6702 - auc: 0.5268 - val_loss: 0.2395 - val_tp: 1114.0000 - val_fp: 897.0000 - val_tn: 539.0000 - val_fn: 270.0000 - val_accuracy: 0.5862 - val_precision: 0.5540 - val_recall: 0.8049 - val_f1_score: 0.6584 - val_auc: 0.6225\n",
            "Epoch 2/1000\n",
            "26/26 [==============================] - 3s 112ms/step - loss: 0.2318 - tp: 2785.0000 - fp: 2107.0000 - tn: 1157.0000 - fn: 531.0000 - accuracy: 0.5991 - precision: 0.5693 - recall: 0.8399 - f1_score: 0.6963 - auc: 0.6264 - val_loss: 0.2277 - val_tp: 1285.0000 - val_fp: 1024.0000 - val_tn: 412.0000 - val_fn: 99.0000 - val_accuracy: 0.6018 - val_precision: 0.5565 - val_recall: 0.9285 - val_f1_score: 0.6905 - val_auc: 0.6672\n",
            "Epoch 3/1000\n",
            "26/26 [==============================] - 3s 120ms/step - loss: 0.2239 - tp: 2768.0000 - fp: 1952.0000 - tn: 1312.0000 - fn: 548.0000 - accuracy: 0.6201 - precision: 0.5864 - recall: 0.8347 - f1_score: 0.7049 - auc: 0.6640 - val_loss: 0.2237 - val_tp: 961.0000 - val_fp: 639.0000 - val_tn: 797.0000 - val_fn: 423.0000 - val_accuracy: 0.6234 - val_precision: 0.6006 - val_recall: 0.6944 - val_f1_score: 0.7004 - val_auc: 0.6800\n",
            "Epoch 4/1000\n",
            "26/26 [==============================] - 3s 110ms/step - loss: 0.2135 - tp: 2550.0000 - fp: 1598.0000 - tn: 1666.0000 - fn: 766.0000 - accuracy: 0.6407 - precision: 0.6148 - recall: 0.7690 - f1_score: 0.7133 - auc: 0.7073 - val_loss: 0.2257 - val_tp: 1266.0000 - val_fp: 960.0000 - val_tn: 476.0000 - val_fn: 118.0000 - val_accuracy: 0.6177 - val_precision: 0.5687 - val_recall: 0.9147 - val_f1_score: 0.6834 - val_auc: 0.7055\n",
            "Epoch 5/1000\n",
            "26/26 [==============================] - 4s 175ms/step - loss: 0.2092 - tp: 2398.0000 - fp: 1319.0000 - tn: 1945.0000 - fn: 918.0000 - accuracy: 0.6600 - precision: 0.6451 - recall: 0.7232 - f1_score: 0.7143 - auc: 0.7254 - val_loss: 0.2231 - val_tp: 1238.0000 - val_fp: 907.0000 - val_tn: 529.0000 - val_fn: 146.0000 - val_accuracy: 0.6266 - val_precision: 0.5772 - val_recall: 0.8945 - val_f1_score: 0.6912 - val_auc: 0.7128\n",
            "Epoch 6/1000\n",
            "26/26 [==============================] - 4s 160ms/step - loss: 0.1974 - tp: 2506.0000 - fp: 1272.0000 - tn: 1992.0000 - fn: 810.0000 - accuracy: 0.6836 - precision: 0.6633 - recall: 0.7557 - f1_score: 0.7244 - auc: 0.7599 - val_loss: 0.2186 - val_tp: 1078.0000 - val_fp: 681.0000 - val_tn: 755.0000 - val_fn: 306.0000 - val_accuracy: 0.6500 - val_precision: 0.6128 - val_recall: 0.7789 - val_f1_score: 0.7017 - val_auc: 0.7167\n",
            "Epoch 7/1000\n",
            "26/26 [==============================] - 3s 106ms/step - loss: 0.1944 - tp: 2463.0000 - fp: 1150.0000 - tn: 2114.0000 - fn: 853.0000 - accuracy: 0.6956 - precision: 0.6817 - recall: 0.7428 - f1_score: 0.7308 - auc: 0.7668 - val_loss: 0.2104 - val_tp: 993.0000 - val_fp: 563.0000 - val_tn: 873.0000 - val_fn: 391.0000 - val_accuracy: 0.6617 - val_precision: 0.6382 - val_recall: 0.7175 - val_f1_score: 0.7042 - val_auc: 0.7222\n",
            "Epoch 8/1000\n",
            "26/26 [==============================] - 3s 120ms/step - loss: 0.1741 - tp: 2653.0000 - fp: 1031.0000 - tn: 2233.0000 - fn: 663.0000 - accuracy: 0.7426 - precision: 0.7201 - recall: 0.8001 - f1_score: 0.7544 - auc: 0.8158 - val_loss: 0.2337 - val_tp: 1146.0000 - val_fp: 776.0000 - val_tn: 660.0000 - val_fn: 238.0000 - val_accuracy: 0.6404 - val_precision: 0.5963 - val_recall: 0.8280 - val_f1_score: 0.7077 - val_auc: 0.7025\n",
            "Epoch 9/1000\n",
            "26/26 [==============================] - 3s 123ms/step - loss: 0.1726 - tp: 2600.0000 - fp: 976.0000 - tn: 2288.0000 - fn: 716.0000 - accuracy: 0.7429 - precision: 0.7271 - recall: 0.7841 - f1_score: 0.7512 - auc: 0.8200 - val_loss: 0.2360 - val_tp: 767.0000 - val_fp: 445.0000 - val_tn: 991.0000 - val_fn: 617.0000 - val_accuracy: 0.6234 - val_precision: 0.6328 - val_recall: 0.5542 - val_f1_score: 0.6940 - val_auc: 0.7000\n",
            "Epoch 10/1000\n",
            "26/26 [==============================] - 4s 154ms/step - loss: 0.1544 - tp: 2701.0000 - fp: 894.0000 - tn: 2370.0000 - fn: 615.0000 - accuracy: 0.7707 - precision: 0.7513 - recall: 0.8145 - f1_score: 0.7818 - auc: 0.8544 - val_loss: 0.2461 - val_tp: 969.0000 - val_fp: 583.0000 - val_tn: 853.0000 - val_fn: 415.0000 - val_accuracy: 0.6461 - val_precision: 0.6244 - val_recall: 0.7001 - val_f1_score: 0.6984 - val_auc: 0.7033\n",
            "Epoch 11/1000\n",
            "26/26 [==============================] - 4s 135ms/step - loss: 0.1413 - tp: 2790.0000 - fp: 806.0000 - tn: 2458.0000 - fn: 526.0000 - accuracy: 0.7976 - precision: 0.7759 - recall: 0.8414 - f1_score: 0.7998 - auc: 0.8760 - val_loss: 0.2445 - val_tp: 1038.0000 - val_fp: 691.0000 - val_tn: 745.0000 - val_fn: 346.0000 - val_accuracy: 0.6323 - val_precision: 0.6003 - val_recall: 0.7500 - val_f1_score: 0.6989 - val_auc: 0.7005\n",
            "Epoch 12/1000\n",
            "26/26 [==============================] - 3s 104ms/step - loss: 0.1243 - tp: 2831.0000 - fp: 656.0000 - tn: 2608.0000 - fn: 485.0000 - accuracy: 0.8266 - precision: 0.8119 - recall: 0.8537 - f1_score: 0.8238 - auc: 0.9012 - val_loss: 0.2585 - val_tp: 934.0000 - val_fp: 564.0000 - val_tn: 872.0000 - val_fn: 450.0000 - val_accuracy: 0.6404 - val_precision: 0.6235 - val_recall: 0.6749 - val_f1_score: 0.6816 - val_auc: 0.6941\n",
            "Epoch 13/1000\n",
            "26/26 [==============================] - 3s 129ms/step - loss: 0.1043 - tp: 2911.0000 - fp: 543.0000 - tn: 2721.0000 - fn: 405.0000 - accuracy: 0.8559 - precision: 0.8428 - recall: 0.8779 - f1_score: 0.8537 - auc: 0.9271 - val_loss: 0.2800 - val_tp: 733.0000 - val_fp: 403.0000 - val_tn: 1033.0000 - val_fn: 651.0000 - val_accuracy: 0.6262 - val_precision: 0.6452 - val_recall: 0.5296 - val_f1_score: 0.6536 - val_auc: 0.6849\n",
            "Epoch 14/1000\n",
            "26/26 [==============================] - 4s 135ms/step - loss: 0.1010 - tp: 2868.0000 - fp: 469.0000 - tn: 2795.0000 - fn: 448.0000 - accuracy: 0.8606 - precision: 0.8595 - recall: 0.8649 - f1_score: 0.8549 - auc: 0.9300 - val_loss: 0.2789 - val_tp: 926.0000 - val_fp: 607.0000 - val_tn: 829.0000 - val_fn: 458.0000 - val_accuracy: 0.6223 - val_precision: 0.6040 - val_recall: 0.6691 - val_f1_score: 0.6860 - val_auc: 0.6778\n",
            "Epoch 15/1000\n",
            "26/26 [==============================] - 4s 162ms/step - loss: 0.1115 - tp: 2866.0000 - fp: 563.0000 - tn: 2701.0000 - fn: 450.0000 - accuracy: 0.8460 - precision: 0.8358 - recall: 0.8643 - f1_score: 0.8403 - auc: 0.9189 - val_loss: 0.2433 - val_tp: 879.0000 - val_fp: 536.0000 - val_tn: 900.0000 - val_fn: 505.0000 - val_accuracy: 0.6309 - val_precision: 0.6212 - val_recall: 0.6351 - val_f1_score: 0.6839 - val_auc: 0.6828\n",
            "Epoch 16/1000\n",
            "26/26 [==============================] - 3s 118ms/step - loss: 0.0874 - tp: 2997.0000 - fp: 447.0000 - tn: 2817.0000 - fn: 319.0000 - accuracy: 0.8836 - precision: 0.8702 - recall: 0.9038 - f1_score: 0.8727 - auc: 0.9449 - val_loss: 0.2856 - val_tp: 844.0000 - val_fp: 533.0000 - val_tn: 903.0000 - val_fn: 540.0000 - val_accuracy: 0.6195 - val_precision: 0.6129 - val_recall: 0.6098 - val_f1_score: 0.6540 - val_auc: 0.6640\n",
            "Epoch 17/1000\n",
            "26/26 [==============================] - 4s 138ms/step - loss: 0.0712 - tp: 3058.0000 - fp: 357.0000 - tn: 2907.0000 - fn: 258.0000 - accuracy: 0.9065 - precision: 0.8955 - recall: 0.9222 - f1_score: 0.8988 - auc: 0.9595 - val_loss: 0.2944 - val_tp: 898.0000 - val_fp: 555.0000 - val_tn: 881.0000 - val_fn: 486.0000 - val_accuracy: 0.6309 - val_precision: 0.6180 - val_recall: 0.6488 - val_f1_score: 0.6686 - val_auc: 0.6830\n",
            "113/113 [==============================] - 2s 13ms/step - loss: 0.2343 - tp: 1254.0000 - fp: 872.0000 - tn: 928.0000 - fn: 546.0000 - accuracy: 0.6061 - precision: 0.5898 - recall: 0.6967 - f1_score: 0.6923 - auc: 0.6477\n"
          ]
        },
        {
          "name": "stderr",
          "output_type": "stream",
          "text": [
            "WARNING:tensorflow:Model was constructed with shape (None, None, 1024) for input KerasTensor(type_spec=TensorSpec(shape=(None, None, 1024), dtype=tf.float32, name='input_31'), name='input_31', description=\"created by layer 'input_31'\"), but it was called on an input with incompatible shape (None, 1024).\n",
            "WARNING:tensorflow:Model was constructed with shape (None, None, 1024) for input KerasTensor(type_spec=TensorSpec(shape=(None, None, 1024), dtype=tf.float32, name='input_32'), name='input_32', description=\"created by layer 'input_32'\"), but it was called on an input with incompatible shape (None, 1024).\n"
          ]
        },
        {
          "name": "stdout",
          "output_type": "stream",
          "text": [
            "57/57 [==============================] - 8s 27ms/step - loss: 0.2616 - tp: 641.0000 - fp: 574.0000 - tn: 326.0000 - fn: 259.0000 - accuracy: 0.5372 - precision: 0.5276 - recall: 0.7122 - f1_score: 0.6662 - auc: 0.5537\n",
            "57/57 [==============================] - 1s 21ms/step - loss: 0.2070 - tp: 613.0000 - fp: 298.0000 - tn: 602.0000 - fn: 287.0000 - accuracy: 0.6750 - precision: 0.6729 - recall: 0.6811 - f1_score: 0.7225 - auc: 0.7399\n"
          ]
        },
        {
          "name": "stderr",
          "output_type": "stream",
          "text": [
            "WARNING:tensorflow:Model was constructed with shape (None, None, 1024) for input KerasTensor(type_spec=TensorSpec(shape=(None, None, 1024), dtype=tf.float32, name='input_31'), name='input_31', description=\"created by layer 'input_31'\"), but it was called on an input with incompatible shape (None, 1024).\n",
            "WARNING:tensorflow:Model was constructed with shape (None, None, 1024) for input KerasTensor(type_spec=TensorSpec(shape=(None, None, 1024), dtype=tf.float32, name='input_32'), name='input_32', description=\"created by layer 'input_32'\"), but it was called on an input with incompatible shape (None, 1024).\n"
          ]
        },
        {
          "name": "stdout",
          "output_type": "stream",
          "text": [
            "57/57 [==============================] - 3s 16ms/step\n",
            "57/57 [==============================] - 1s 14ms/step\n",
            "113/113 [==============================] - 1s 12ms/step\n",
            "Epoch 1/1000\n"
          ]
        },
        {
          "name": "stderr",
          "output_type": "stream",
          "text": [
            "WARNING:tensorflow:Model was constructed with shape (None, None, 1024) for input KerasTensor(type_spec=TensorSpec(shape=(None, None, 1024), dtype=tf.float32, name='input_33'), name='input_33', description=\"created by layer 'input_33'\"), but it was called on an input with incompatible shape (None, 1024).\n",
            "WARNING:tensorflow:Model was constructed with shape (None, None, 1024) for input KerasTensor(type_spec=TensorSpec(shape=(None, None, 1024), dtype=tf.float32, name='input_34'), name='input_34', description=\"created by layer 'input_34'\"), but it was called on an input with incompatible shape (None, 1024).\n",
            "WARNING:tensorflow:Model was constructed with shape (None, None, 1024) for input KerasTensor(type_spec=TensorSpec(shape=(None, None, 1024), dtype=tf.float32, name='input_33'), name='input_33', description=\"created by layer 'input_33'\"), but it was called on an input with incompatible shape (None, 1024).\n",
            "WARNING:tensorflow:Model was constructed with shape (None, None, 1024) for input KerasTensor(type_spec=TensorSpec(shape=(None, None, 1024), dtype=tf.float32, name='input_34'), name='input_34', description=\"created by layer 'input_34'\"), but it was called on an input with incompatible shape (None, 1024).\n"
          ]
        },
        {
          "name": "stdout",
          "output_type": "stream",
          "text": [
            "26/26 [==============================] - ETA: 0s - loss: 0.2482 - tp: 341.0000 - fp: 243.0000 - tn: 3021.0000 - fn: 2975.0000 - accuracy: 0.5109 - precision: 0.5839 - recall: 0.1028 - f1_score: 0.6709 - auc: 0.5493"
          ]
        },
        {
          "name": "stderr",
          "output_type": "stream",
          "text": [
            "WARNING:tensorflow:Model was constructed with shape (None, None, 1024) for input KerasTensor(type_spec=TensorSpec(shape=(None, None, 1024), dtype=tf.float32, name='input_33'), name='input_33', description=\"created by layer 'input_33'\"), but it was called on an input with incompatible shape (None, 1024).\n",
            "WARNING:tensorflow:Model was constructed with shape (None, None, 1024) for input KerasTensor(type_spec=TensorSpec(shape=(None, None, 1024), dtype=tf.float32, name='input_34'), name='input_34', description=\"created by layer 'input_34'\"), but it was called on an input with incompatible shape (None, 1024).\n"
          ]
        },
        {
          "name": "stdout",
          "output_type": "stream",
          "text": [
            "\b\b\b\b\b\b\b\b\b\b\b\b\b\b\b\b\b\b\b\b\b\b\b\b\b\b\b\b\b\b\b\b\b\b\b\b\b\b\b\b\b\b\b\b\b\b\b\b\b\b\b\b\b\b\b\b\b\b\b\b\b\b\b\b\b\b\b\b\b\b\b\b\b\b\b\b\b\b\b\b\b\b\b\b\b\b\b\b\b\b\b\b\b\b\b\b\b\b\b\b\b\b\b\b\b\b\b\b\b\b\b\b\b\b\b\b\b\b\b\b\b\b\b\b\b\b\b\b\b\b\b\b\b\b\b\b\b\b\b\b\b\b\b\b\b\b\b\b\b\b\b\b\b\b\b\b\b\b\b\b\b\b\b\b\b\b\b\b\b\b\b\b\b\b\b\b\b\b\b\b\b\b\b\b\b\b\b\b\b\b\b\b\b\b\b\b\b\b\b\b\b\b\b\b\b\b\b\b\b\b\b\b\b\b\r26/26 [==============================] - 17s 305ms/step - loss: 0.2482 - tp: 341.0000 - fp: 243.0000 - tn: 3021.0000 - fn: 2975.0000 - accuracy: 0.5109 - precision: 0.5839 - recall: 0.1028 - f1_score: 0.6709 - auc: 0.5493 - val_loss: 0.2377 - val_tp: 1353.0000 - val_fp: 1161.0000 - val_tn: 275.0000 - val_fn: 31.0000 - val_accuracy: 0.5773 - val_precision: 0.5382 - val_recall: 0.9776 - val_f1_score: 0.6733 - val_auc: 0.6229\n",
            "Epoch 2/1000\n",
            "26/26 [==============================] - 3s 116ms/step - loss: 0.2266 - tp: 2941.0000 - fp: 2162.0000 - tn: 1102.0000 - fn: 375.0000 - accuracy: 0.6144 - precision: 0.5763 - recall: 0.8869 - f1_score: 0.7049 - auc: 0.6405 - val_loss: 0.2235 - val_tp: 1144.0000 - val_fp: 838.0000 - val_tn: 598.0000 - val_fn: 240.0000 - val_accuracy: 0.6177 - val_precision: 0.5772 - val_recall: 0.8266 - val_f1_score: 0.7018 - val_auc: 0.6673\n",
            "Epoch 3/1000\n",
            "26/26 [==============================] - 3s 106ms/step - loss: 0.2214 - tp: 2683.0000 - fp: 1809.0000 - tn: 1455.0000 - fn: 633.0000 - accuracy: 0.6289 - precision: 0.5973 - recall: 0.8091 - f1_score: 0.7077 - auc: 0.6729 - val_loss: 0.2292 - val_tp: 1307.0000 - val_fp: 1035.0000 - val_tn: 401.0000 - val_fn: 77.0000 - val_accuracy: 0.6057 - val_precision: 0.5581 - val_recall: 0.9444 - val_f1_score: 0.6982 - val_auc: 0.6938\n",
            "Epoch 4/1000\n",
            "26/26 [==============================] - 3s 131ms/step - loss: 0.2136 - tp: 2605.0000 - fp: 1644.0000 - tn: 1620.0000 - fn: 711.0000 - accuracy: 0.6421 - precision: 0.6131 - recall: 0.7856 - f1_score: 0.7155 - auc: 0.7029 - val_loss: 0.2248 - val_tp: 1299.0000 - val_fp: 1019.0000 - val_tn: 417.0000 - val_fn: 85.0000 - val_accuracy: 0.6085 - val_precision: 0.5604 - val_recall: 0.9386 - val_f1_score: 0.6849 - val_auc: 0.7060\n",
            "Epoch 5/1000\n",
            "26/26 [==============================] - 4s 166ms/step - loss: 0.2075 - tp: 2421.0000 - fp: 1328.0000 - tn: 1936.0000 - fn: 895.0000 - accuracy: 0.6622 - precision: 0.6458 - recall: 0.7301 - f1_score: 0.7153 - auc: 0.7292 - val_loss: 0.2129 - val_tp: 1040.0000 - val_fp: 637.0000 - val_tn: 799.0000 - val_fn: 344.0000 - val_accuracy: 0.6521 - val_precision: 0.6202 - val_recall: 0.7514 - val_f1_score: 0.7074 - val_auc: 0.7145\n",
            "Epoch 6/1000\n",
            "26/26 [==============================] - 4s 144ms/step - loss: 0.1999 - tp: 2468.0000 - fp: 1243.0000 - tn: 2021.0000 - fn: 848.0000 - accuracy: 0.6822 - precision: 0.6650 - recall: 0.7443 - f1_score: 0.7259 - auc: 0.7529 - val_loss: 0.2250 - val_tp: 1150.0000 - val_fp: 851.0000 - val_tn: 585.0000 - val_fn: 234.0000 - val_accuracy: 0.6152 - val_precision: 0.5747 - val_recall: 0.8309 - val_f1_score: 0.6753 - val_auc: 0.7069\n",
            "Epoch 7/1000\n",
            "26/26 [==============================] - 3s 125ms/step - loss: 0.2022 - tp: 2408.0000 - fp: 1189.0000 - tn: 2075.0000 - fn: 908.0000 - accuracy: 0.6813 - precision: 0.6694 - recall: 0.7262 - f1_score: 0.7142 - auc: 0.7490 - val_loss: 0.2184 - val_tp: 1072.0000 - val_fp: 661.0000 - val_tn: 775.0000 - val_fn: 312.0000 - val_accuracy: 0.6550 - val_precision: 0.6186 - val_recall: 0.7746 - val_f1_score: 0.7065 - val_auc: 0.7173\n",
            "Epoch 8/1000\n",
            "26/26 [==============================] - 3s 103ms/step - loss: 0.1878 - tp: 2544.0000 - fp: 1118.0000 - tn: 2146.0000 - fn: 772.0000 - accuracy: 0.7128 - precision: 0.6947 - recall: 0.7672 - f1_score: 0.7384 - auc: 0.7853 - val_loss: 0.2110 - val_tp: 1042.0000 - val_fp: 622.0000 - val_tn: 814.0000 - val_fn: 342.0000 - val_accuracy: 0.6582 - val_precision: 0.6262 - val_recall: 0.7529 - val_f1_score: 0.7027 - val_auc: 0.7211\n",
            "Epoch 9/1000\n",
            "26/26 [==============================] - 3s 125ms/step - loss: 0.1713 - tp: 2521.0000 - fp: 884.0000 - tn: 2380.0000 - fn: 795.0000 - accuracy: 0.7448 - precision: 0.7404 - recall: 0.7603 - f1_score: 0.7543 - auc: 0.8223 - val_loss: 0.2307 - val_tp: 593.0000 - val_fp: 276.0000 - val_tn: 1160.0000 - val_fn: 791.0000 - val_accuracy: 0.6216 - val_precision: 0.6824 - val_recall: 0.4285 - val_f1_score: 0.6906 - val_auc: 0.7088\n",
            "Epoch 10/1000\n",
            "26/26 [==============================] - 4s 154ms/step - loss: 0.1640 - tp: 2562.0000 - fp: 823.0000 - tn: 2441.0000 - fn: 754.0000 - accuracy: 0.7603 - precision: 0.7569 - recall: 0.7726 - f1_score: 0.7619 - auc: 0.8363 - val_loss: 0.2477 - val_tp: 1103.0000 - val_fp: 822.0000 - val_tn: 614.0000 - val_fn: 281.0000 - val_accuracy: 0.6089 - val_precision: 0.5730 - val_recall: 0.7970 - val_f1_score: 0.6802 - val_auc: 0.6845\n",
            "Epoch 11/1000\n",
            "26/26 [==============================] - 3s 127ms/step - loss: 0.1521 - tp: 2593.0000 - fp: 722.0000 - tn: 2542.0000 - fn: 723.0000 - accuracy: 0.7804 - precision: 0.7822 - recall: 0.7820 - f1_score: 0.7777 - auc: 0.8586 - val_loss: 0.2679 - val_tp: 1223.0000 - val_fp: 887.0000 - val_tn: 549.0000 - val_fn: 161.0000 - val_accuracy: 0.6284 - val_precision: 0.5796 - val_recall: 0.8837 - val_f1_score: 0.6984 - val_auc: 0.6861\n",
            "Epoch 12/1000\n",
            "26/26 [==============================] - 4s 138ms/step - loss: 0.1433 - tp: 2769.0000 - fp: 767.0000 - tn: 2497.0000 - fn: 547.0000 - accuracy: 0.8003 - precision: 0.7831 - recall: 0.8350 - f1_score: 0.7916 - auc: 0.8716 - val_loss: 0.2436 - val_tp: 751.0000 - val_fp: 451.0000 - val_tn: 985.0000 - val_fn: 633.0000 - val_accuracy: 0.6156 - val_precision: 0.6248 - val_recall: 0.5426 - val_f1_score: 0.6811 - val_auc: 0.6814\n",
            "Epoch 13/1000\n",
            "26/26 [==============================] - 3s 113ms/step - loss: 0.1356 - tp: 2738.0000 - fp: 691.0000 - tn: 2573.0000 - fn: 578.0000 - accuracy: 0.8071 - precision: 0.7985 - recall: 0.8257 - f1_score: 0.8043 - auc: 0.8852 - val_loss: 0.2635 - val_tp: 807.0000 - val_fp: 482.0000 - val_tn: 954.0000 - val_fn: 577.0000 - val_accuracy: 0.6245 - val_precision: 0.6261 - val_recall: 0.5831 - val_f1_score: 0.6692 - val_auc: 0.6894\n",
            "Epoch 14/1000\n",
            "26/26 [==============================] - 4s 167ms/step - loss: 0.1130 - tp: 2868.0000 - fp: 582.0000 - tn: 2682.0000 - fn: 448.0000 - accuracy: 0.8435 - precision: 0.8313 - recall: 0.8649 - f1_score: 0.8379 - auc: 0.9167 - val_loss: 0.2908 - val_tp: 665.0000 - val_fp: 380.0000 - val_tn: 1056.0000 - val_fn: 719.0000 - val_accuracy: 0.6103 - val_precision: 0.6364 - val_recall: 0.4805 - val_f1_score: 0.6271 - val_auc: 0.6785\n",
            "Epoch 15/1000\n",
            "26/26 [==============================] - 4s 165ms/step - loss: 0.0951 - tp: 2954.0000 - fp: 471.0000 - tn: 2793.0000 - fn: 362.0000 - accuracy: 0.8734 - precision: 0.8625 - recall: 0.8908 - f1_score: 0.8654 - auc: 0.9357 - val_loss: 0.2936 - val_tp: 757.0000 - val_fp: 462.0000 - val_tn: 974.0000 - val_fn: 627.0000 - val_accuracy: 0.6138 - val_precision: 0.6210 - val_recall: 0.5470 - val_f1_score: 0.6457 - val_auc: 0.6754\n",
            "Epoch 16/1000\n",
            "26/26 [==============================] - 3s 103ms/step - loss: 0.0927 - tp: 2951.0000 - fp: 440.0000 - tn: 2824.0000 - fn: 365.0000 - accuracy: 0.8777 - precision: 0.8702 - recall: 0.8899 - f1_score: 0.8684 - auc: 0.9382 - val_loss: 0.3099 - val_tp: 713.0000 - val_fp: 451.0000 - val_tn: 985.0000 - val_fn: 671.0000 - val_accuracy: 0.6021 - val_precision: 0.6125 - val_recall: 0.5152 - val_f1_score: 0.6210 - val_auc: 0.6623\n",
            "Epoch 17/1000\n",
            "26/26 [==============================] - 3s 128ms/step - loss: 0.0863 - tp: 2977.0000 - fp: 410.0000 - tn: 2854.0000 - fn: 339.0000 - accuracy: 0.8862 - precision: 0.8789 - recall: 0.8978 - f1_score: 0.8764 - auc: 0.9452 - val_loss: 0.3040 - val_tp: 762.0000 - val_fp: 427.0000 - val_tn: 1009.0000 - val_fn: 622.0000 - val_accuracy: 0.6280 - val_precision: 0.6409 - val_recall: 0.5506 - val_f1_score: 0.6243 - val_auc: 0.6736\n",
            "Epoch 18/1000\n",
            "26/26 [==============================] - 3s 102ms/step - loss: 0.0850 - tp: 3001.0000 - fp: 416.0000 - tn: 2848.0000 - fn: 315.0000 - accuracy: 0.8889 - precision: 0.8783 - recall: 0.9050 - f1_score: 0.8800 - auc: 0.9466 - val_loss: 0.2954 - val_tp: 818.0000 - val_fp: 537.0000 - val_tn: 899.0000 - val_fn: 566.0000 - val_accuracy: 0.6089 - val_precision: 0.6037 - val_recall: 0.5910 - val_f1_score: 0.6482 - val_auc: 0.6630\n",
            "113/113 [==============================] - 2s 20ms/step - loss: 0.2346 - tp: 1373.0000 - fp: 1006.0000 - tn: 794.0000 - fn: 427.0000 - accuracy: 0.6019 - precision: 0.5771 - recall: 0.7628 - f1_score: 0.6908 - auc: 0.6477\n"
          ]
        },
        {
          "name": "stderr",
          "output_type": "stream",
          "text": [
            "WARNING:tensorflow:Model was constructed with shape (None, None, 1024) for input KerasTensor(type_spec=TensorSpec(shape=(None, None, 1024), dtype=tf.float32, name='input_33'), name='input_33', description=\"created by layer 'input_33'\"), but it was called on an input with incompatible shape (None, 1024).\n",
            "WARNING:tensorflow:Model was constructed with shape (None, None, 1024) for input KerasTensor(type_spec=TensorSpec(shape=(None, None, 1024), dtype=tf.float32, name='input_34'), name='input_34', description=\"created by layer 'input_34'\"), but it was called on an input with incompatible shape (None, 1024).\n"
          ]
        },
        {
          "name": "stdout",
          "output_type": "stream",
          "text": [
            "57/57 [==============================] - 6s 12ms/step - loss: 0.2657 - tp: 686.0000 - fp: 635.0000 - tn: 265.0000 - fn: 214.0000 - accuracy: 0.5283 - precision: 0.5193 - recall: 0.7622 - f1_score: 0.6662 - auc: 0.5485\n",
            "57/57 [==============================] - 1s 13ms/step - loss: 0.2035 - tp: 687.0000 - fp: 371.0000 - tn: 529.0000 - fn: 213.0000 - accuracy: 0.6756 - precision: 0.6493 - recall: 0.7633 - f1_score: 0.7182 - auc: 0.7433\n"
          ]
        },
        {
          "name": "stderr",
          "output_type": "stream",
          "text": [
            "WARNING:tensorflow:Model was constructed with shape (None, None, 1024) for input KerasTensor(type_spec=TensorSpec(shape=(None, None, 1024), dtype=tf.float32, name='input_33'), name='input_33', description=\"created by layer 'input_33'\"), but it was called on an input with incompatible shape (None, 1024).\n",
            "WARNING:tensorflow:Model was constructed with shape (None, None, 1024) for input KerasTensor(type_spec=TensorSpec(shape=(None, None, 1024), dtype=tf.float32, name='input_34'), name='input_34', description=\"created by layer 'input_34'\"), but it was called on an input with incompatible shape (None, 1024).\n"
          ]
        },
        {
          "name": "stdout",
          "output_type": "stream",
          "text": [
            "57/57 [==============================] - 3s 20ms/step\n",
            "57/57 [==============================] - 1s 13ms/step\n",
            "113/113 [==============================] - 2s 15ms/step\n",
            "Epoch 1/1000\n"
          ]
        },
        {
          "name": "stderr",
          "output_type": "stream",
          "text": [
            "WARNING:tensorflow:Model was constructed with shape (None, None, 1024) for input KerasTensor(type_spec=TensorSpec(shape=(None, None, 1024), dtype=tf.float32, name='input_35'), name='input_35', description=\"created by layer 'input_35'\"), but it was called on an input with incompatible shape (None, 1024).\n",
            "WARNING:tensorflow:Model was constructed with shape (None, None, 1024) for input KerasTensor(type_spec=TensorSpec(shape=(None, None, 1024), dtype=tf.float32, name='input_36'), name='input_36', description=\"created by layer 'input_36'\"), but it was called on an input with incompatible shape (None, 1024).\n",
            "WARNING:tensorflow:Model was constructed with shape (None, None, 1024) for input KerasTensor(type_spec=TensorSpec(shape=(None, None, 1024), dtype=tf.float32, name='input_35'), name='input_35', description=\"created by layer 'input_35'\"), but it was called on an input with incompatible shape (None, 1024).\n",
            "WARNING:tensorflow:Model was constructed with shape (None, None, 1024) for input KerasTensor(type_spec=TensorSpec(shape=(None, None, 1024), dtype=tf.float32, name='input_36'), name='input_36', description=\"created by layer 'input_36'\"), but it was called on an input with incompatible shape (None, 1024).\n"
          ]
        },
        {
          "name": "stdout",
          "output_type": "stream",
          "text": [
            "26/26 [==============================] - ETA: 0s - loss: 0.2497 - tp: 2505.0000 - fp: 2475.0000 - tn: 789.0000 - fn: 811.0000 - accuracy: 0.5006 - precision: 0.5030 - recall: 0.7554 - f1_score: 0.6702 - auc: 0.5206"
          ]
        },
        {
          "name": "stderr",
          "output_type": "stream",
          "text": [
            "WARNING:tensorflow:Model was constructed with shape (None, None, 1024) for input KerasTensor(type_spec=TensorSpec(shape=(None, None, 1024), dtype=tf.float32, name='input_35'), name='input_35', description=\"created by layer 'input_35'\"), but it was called on an input with incompatible shape (None, 1024).\n",
            "WARNING:tensorflow:Model was constructed with shape (None, None, 1024) for input KerasTensor(type_spec=TensorSpec(shape=(None, None, 1024), dtype=tf.float32, name='input_36'), name='input_36', description=\"created by layer 'input_36'\"), but it was called on an input with incompatible shape (None, 1024).\n"
          ]
        },
        {
          "name": "stdout",
          "output_type": "stream",
          "text": [
            "\b\b\b\b\b\b\b\b\b\b\b\b\b\b\b\b\b\b\b\b\b\b\b\b\b\b\b\b\b\b\b\b\b\b\b\b\b\b\b\b\b\b\b\b\b\b\b\b\b\b\b\b\b\b\b\b\b\b\b\b\b\b\b\b\b\b\b\b\b\b\b\b\b\b\b\b\b\b\b\b\b\b\b\b\b\b\b\b\b\b\b\b\b\b\b\b\b\b\b\b\b\b\b\b\b\b\b\b\b\b\b\b\b\b\b\b\b\b\b\b\b\b\b\b\b\b\b\b\b\b\b\b\b\b\b\b\b\b\b\b\b\b\b\b\b\b\b\b\b\b\b\b\b\b\b\b\b\b\b\b\b\b\b\b\b\b\b\b\b\b\b\b\b\b\b\b\b\b\b\b\b\b\b\b\b\b\b\b\b\b\b\b\b\b\b\b\b\b\b\b\b\b\b\b\b\b\b\b\b\b\b\b\b\b\r26/26 [==============================] - 16s 290ms/step - loss: 0.2497 - tp: 2505.0000 - fp: 2475.0000 - tn: 789.0000 - fn: 811.0000 - accuracy: 0.5006 - precision: 0.5030 - recall: 0.7554 - f1_score: 0.6702 - auc: 0.5206 - val_loss: 0.2459 - val_tp: 1036.0000 - val_fp: 829.0000 - val_tn: 607.0000 - val_fn: 348.0000 - val_accuracy: 0.5826 - val_precision: 0.5555 - val_recall: 0.7486 - val_f1_score: 0.6584 - val_auc: 0.6268\n",
            "Epoch 2/1000\n",
            "26/26 [==============================] - 3s 102ms/step - loss: 0.2349 - tp: 2673.0000 - fp: 2013.0000 - tn: 1251.0000 - fn: 643.0000 - accuracy: 0.5964 - precision: 0.5704 - recall: 0.8061 - f1_score: 0.6858 - auc: 0.6246 - val_loss: 0.2246 - val_tp: 942.0000 - val_fp: 651.0000 - val_tn: 785.0000 - val_fn: 442.0000 - val_accuracy: 0.6124 - val_precision: 0.5913 - val_recall: 0.6806 - val_f1_score: 0.7058 - val_auc: 0.6769\n",
            "Epoch 3/1000\n",
            "26/26 [==============================] - 3s 120ms/step - loss: 0.2197 - tp: 2607.0000 - fp: 1696.0000 - tn: 1568.0000 - fn: 709.0000 - accuracy: 0.6345 - precision: 0.6059 - recall: 0.7862 - f1_score: 0.7094 - auc: 0.6845 - val_loss: 0.2191 - val_tp: 1099.0000 - val_fp: 778.0000 - val_tn: 658.0000 - val_fn: 285.0000 - val_accuracy: 0.6230 - val_precision: 0.5855 - val_recall: 0.7941 - val_f1_score: 0.6995 - val_auc: 0.6976\n",
            "Epoch 4/1000\n",
            "26/26 [==============================] - 3s 118ms/step - loss: 0.2111 - tp: 2463.0000 - fp: 1392.0000 - tn: 1872.0000 - fn: 853.0000 - accuracy: 0.6588 - precision: 0.6389 - recall: 0.7428 - f1_score: 0.7134 - auc: 0.7170 - val_loss: 0.2151 - val_tp: 905.0000 - val_fp: 528.0000 - val_tn: 908.0000 - val_fn: 479.0000 - val_accuracy: 0.6429 - val_precision: 0.6315 - val_recall: 0.6539 - val_f1_score: 0.7059 - val_auc: 0.7114\n",
            "Epoch 5/1000\n",
            "26/26 [==============================] - 4s 169ms/step - loss: 0.2083 - tp: 2418.0000 - fp: 1328.0000 - tn: 1936.0000 - fn: 898.0000 - accuracy: 0.6617 - precision: 0.6455 - recall: 0.7292 - f1_score: 0.7141 - auc: 0.7271 - val_loss: 0.2115 - val_tp: 972.0000 - val_fp: 589.0000 - val_tn: 847.0000 - val_fn: 412.0000 - val_accuracy: 0.6450 - val_precision: 0.6227 - val_recall: 0.7023 - val_f1_score: 0.7088 - val_auc: 0.7165\n",
            "Epoch 6/1000\n",
            "26/26 [==============================] - 4s 140ms/step - loss: 0.1972 - tp: 2396.0000 - fp: 1154.0000 - tn: 2110.0000 - fn: 920.0000 - accuracy: 0.6848 - precision: 0.6749 - recall: 0.7226 - f1_score: 0.7243 - auc: 0.7602 - val_loss: 0.2122 - val_tp: 1065.0000 - val_fp: 668.0000 - val_tn: 768.0000 - val_fn: 319.0000 - val_accuracy: 0.6500 - val_precision: 0.6145 - val_recall: 0.7695 - val_f1_score: 0.6997 - val_auc: 0.7154\n",
            "Epoch 7/1000\n",
            "26/26 [==============================] - 3s 115ms/step - loss: 0.1863 - tp: 2470.0000 - fp: 1024.0000 - tn: 2240.0000 - fn: 846.0000 - accuracy: 0.7158 - precision: 0.7069 - recall: 0.7449 - f1_score: 0.7329 - auc: 0.7900 - val_loss: 0.2363 - val_tp: 1174.0000 - val_fp: 817.0000 - val_tn: 619.0000 - val_fn: 210.0000 - val_accuracy: 0.6358 - val_precision: 0.5897 - val_recall: 0.8483 - val_f1_score: 0.7091 - val_auc: 0.7122\n",
            "Epoch 8/1000\n",
            "26/26 [==============================] - 4s 140ms/step - loss: 0.1829 - tp: 2545.0000 - fp: 1017.0000 - tn: 2247.0000 - fn: 771.0000 - accuracy: 0.7283 - precision: 0.7145 - recall: 0.7675 - f1_score: 0.7377 - auc: 0.7977 - val_loss: 0.2257 - val_tp: 1196.0000 - val_fp: 822.0000 - val_tn: 614.0000 - val_fn: 188.0000 - val_accuracy: 0.6418 - val_precision: 0.5927 - val_recall: 0.8642 - val_f1_score: 0.6978 - val_auc: 0.7060\n",
            "Epoch 9/1000\n",
            "26/26 [==============================] - 3s 114ms/step - loss: 0.1821 - tp: 2562.0000 - fp: 1078.0000 - tn: 2186.0000 - fn: 754.0000 - accuracy: 0.7216 - precision: 0.7038 - recall: 0.7726 - f1_score: 0.7385 - auc: 0.7997 - val_loss: 0.2230 - val_tp: 1134.0000 - val_fp: 759.0000 - val_tn: 677.0000 - val_fn: 250.0000 - val_accuracy: 0.6422 - val_precision: 0.5990 - val_recall: 0.8194 - val_f1_score: 0.6986 - val_auc: 0.7147\n",
            "Epoch 10/1000\n",
            "26/26 [==============================] - 4s 155ms/step - loss: 0.1555 - tp: 2590.0000 - fp: 782.0000 - tn: 2482.0000 - fn: 726.0000 - accuracy: 0.7708 - precision: 0.7681 - recall: 0.7811 - f1_score: 0.7781 - auc: 0.8532 - val_loss: 0.2459 - val_tp: 1127.0000 - val_fp: 775.0000 - val_tn: 661.0000 - val_fn: 257.0000 - val_accuracy: 0.6340 - val_precision: 0.5925 - val_recall: 0.8143 - val_f1_score: 0.6975 - val_auc: 0.7031\n",
            "Epoch 11/1000\n",
            "26/26 [==============================] - 3s 125ms/step - loss: 0.1399 - tp: 2772.0000 - fp: 769.0000 - tn: 2495.0000 - fn: 544.0000 - accuracy: 0.8005 - precision: 0.7828 - recall: 0.8359 - f1_score: 0.7935 - auc: 0.8790 - val_loss: 0.2740 - val_tp: 581.0000 - val_fp: 281.0000 - val_tn: 1155.0000 - val_fn: 803.0000 - val_accuracy: 0.6156 - val_precision: 0.6740 - val_recall: 0.4198 - val_f1_score: 0.6301 - val_auc: 0.6970\n",
            "Epoch 12/1000\n",
            "26/26 [==============================] - 3s 103ms/step - loss: 0.1288 - tp: 2753.0000 - fp: 636.0000 - tn: 2628.0000 - fn: 563.0000 - accuracy: 0.8178 - precision: 0.8123 - recall: 0.8302 - f1_score: 0.8161 - auc: 0.8964 - val_loss: 0.2626 - val_tp: 1038.0000 - val_fp: 656.0000 - val_tn: 780.0000 - val_fn: 346.0000 - val_accuracy: 0.6447 - val_precision: 0.6128 - val_recall: 0.7500 - val_f1_score: 0.6962 - val_auc: 0.6942\n",
            "Epoch 13/1000\n",
            "26/26 [==============================] - 3s 102ms/step - loss: 0.1144 - tp: 2843.0000 - fp: 589.0000 - tn: 2675.0000 - fn: 473.0000 - accuracy: 0.8386 - precision: 0.8284 - recall: 0.8574 - f1_score: 0.8358 - auc: 0.9156 - val_loss: 0.2672 - val_tp: 889.0000 - val_fp: 559.0000 - val_tn: 877.0000 - val_fn: 495.0000 - val_accuracy: 0.6262 - val_precision: 0.6140 - val_recall: 0.6423 - val_f1_score: 0.6785 - val_auc: 0.6814\n",
            "Epoch 14/1000\n",
            "26/26 [==============================] - 3s 114ms/step - loss: 0.1014 - tp: 2930.0000 - fp: 525.0000 - tn: 2739.0000 - fn: 386.0000 - accuracy: 0.8616 - precision: 0.8480 - recall: 0.8836 - f1_score: 0.8599 - auc: 0.9298 - val_loss: 0.2814 - val_tp: 909.0000 - val_fp: 581.0000 - val_tn: 855.0000 - val_fn: 475.0000 - val_accuracy: 0.6255 - val_precision: 0.6101 - val_recall: 0.6568 - val_f1_score: 0.6677 - val_auc: 0.6772\n",
            "Epoch 15/1000\n",
            "26/26 [==============================] - 4s 154ms/step - loss: 0.1025 - tp: 2896.0000 - fp: 509.0000 - tn: 2755.0000 - fn: 420.0000 - accuracy: 0.8588 - precision: 0.8505 - recall: 0.8733 - f1_score: 0.8488 - auc: 0.9304 - val_loss: 0.2811 - val_tp: 844.0000 - val_fp: 500.0000 - val_tn: 936.0000 - val_fn: 540.0000 - val_accuracy: 0.6312 - val_precision: 0.6280 - val_recall: 0.6098 - val_f1_score: 0.6611 - val_auc: 0.6752\n",
            "113/113 [==============================] - 2s 17ms/step - loss: 0.2325 - tp: 1258.0000 - fp: 855.0000 - tn: 945.0000 - fn: 542.0000 - accuracy: 0.6119 - precision: 0.5954 - recall: 0.6989 - f1_score: 0.6965 - auc: 0.6571\n"
          ]
        },
        {
          "name": "stderr",
          "output_type": "stream",
          "text": [
            "WARNING:tensorflow:Model was constructed with shape (None, None, 1024) for input KerasTensor(type_spec=TensorSpec(shape=(None, None, 1024), dtype=tf.float32, name='input_35'), name='input_35', description=\"created by layer 'input_35'\"), but it was called on an input with incompatible shape (None, 1024).\n",
            "WARNING:tensorflow:Model was constructed with shape (None, None, 1024) for input KerasTensor(type_spec=TensorSpec(shape=(None, None, 1024), dtype=tf.float32, name='input_36'), name='input_36', description=\"created by layer 'input_36'\"), but it was called on an input with incompatible shape (None, 1024).\n"
          ]
        },
        {
          "name": "stdout",
          "output_type": "stream",
          "text": [
            "57/57 [==============================] - 5s 15ms/step - loss: 0.2620 - tp: 657.0000 - fp: 581.0000 - tn: 319.0000 - fn: 243.0000 - accuracy: 0.5422 - precision: 0.5307 - recall: 0.7300 - f1_score: 0.6667 - auc: 0.5607\n",
            "57/57 [==============================] - 1s 15ms/step - loss: 0.2030 - tp: 601.0000 - fp: 274.0000 - tn: 626.0000 - fn: 299.0000 - accuracy: 0.6817 - precision: 0.6869 - recall: 0.6678 - f1_score: 0.7313 - auc: 0.7532\n"
          ]
        },
        {
          "name": "stderr",
          "output_type": "stream",
          "text": [
            "WARNING:tensorflow:Model was constructed with shape (None, None, 1024) for input KerasTensor(type_spec=TensorSpec(shape=(None, None, 1024), dtype=tf.float32, name='input_35'), name='input_35', description=\"created by layer 'input_35'\"), but it was called on an input with incompatible shape (None, 1024).\n",
            "WARNING:tensorflow:Model was constructed with shape (None, None, 1024) for input KerasTensor(type_spec=TensorSpec(shape=(None, None, 1024), dtype=tf.float32, name='input_36'), name='input_36', description=\"created by layer 'input_36'\"), but it was called on an input with incompatible shape (None, 1024).\n"
          ]
        },
        {
          "name": "stdout",
          "output_type": "stream",
          "text": [
            "57/57 [==============================] - 2s 13ms/step\n",
            "57/57 [==============================] - 1s 13ms/step\n",
            "113/113 [==============================] - 2s 16ms/step\n",
            "\n",
            "[0.23426340520381927, 1254.0, 872.0, 928.0, 546.0, 0.6061111092567444, 0.5898400545120239, 0.6966666579246521, 0.6923391819000244, 0.6477422714233398] \n",
            " [0.2615605294704437, 641.0, 574.0, 326.0, 259.0, 0.5372222065925598, 0.5275720357894897, 0.7122222185134888, 0.6661562323570251, 0.5537191033363342] \n",
            " [0.2069663554430008, 613.0, 298.0, 602.0, 287.0, 0.675000011920929, 0.6728869080543518, 0.6811110973358154, 0.7224669456481934, 0.7398988008499146] \n",
            "\n",
            "\n",
            "[0.23459243774414062, 1373.0, 1006.0, 794.0, 427.0, 0.6019444465637207, 0.5771332383155823, 0.7627778053283691, 0.6907789707183838, 0.6476622819900513] \n",
            " [0.2656971514225006, 686.0, 635.0, 265.0, 214.0, 0.528333306312561, 0.519303560256958, 0.7622222304344177, 0.6661636829376221, 0.5484641790390015] \n",
            " [0.20348767936229706, 687.0, 371.0, 529.0, 213.0, 0.6755555272102356, 0.6493383646011353, 0.7633333206176758, 0.7181856632232666, 0.7432746887207031] \n",
            "\n",
            "\n",
            "[0.23246969282627106, 1258.0, 855.0, 945.0, 542.0, 0.6119444370269775, 0.5953620672225952, 0.698888897895813, 0.6964908838272095, 0.6570950746536255] \n",
            " [0.26197144389152527, 657.0, 581.0, 319.0, 243.0, 0.5422222018241882, 0.5306946635246277, 0.7300000190734863, 0.6666666865348816, 0.5607247352600098] \n",
            " [0.20296798646450043, 601.0, 274.0, 626.0, 299.0, 0.6816666722297668, 0.6868571639060974, 0.6677777767181396, 0.7313167452812195, 0.7531759738922119] \n",
            "\n",
            "\n"
          ]
        }
      ],
      "source": [
        "model1 = genModel(attention_merge)\n",
        "model2 = genModel(addition_merge)\n",
        "model3 = genModel(concatenate_merge)\n",
        "\n",
        "res1 = run(model1, 'model1.h5', '1')\n",
        "res2 = run(model2, 'model2.h5', '2')\n",
        "res3 = run(model3, 'model3.h5', '3')\n",
        "\n",
        "\n",
        "print()\n",
        "print(res1[0], '\\n', res1[1], '\\n', res1[2], '\\n\\n')\n",
        "print(res2[0], '\\n', res2[1], '\\n', res2[2], '\\n\\n')\n",
        "print(res3[0], '\\n', res3[1], '\\n', res3[2], '\\n\\n')\n"
      ]
    },
    {
      "cell_type": "code",
      "execution_count": null,
      "metadata": {
        "colab": {
          "base_uri": "https://localhost:8080/"
        },
        "id": "B2phyIeNn66Q",
        "outputId": "1ac61ccd-8d8d-4c47-9ab3-a36a2c4eea63"
      },
      "outputs": [
        {
          "name": "stdout",
          "output_type": "stream",
          "text": [
            "loss: 0.23426340520381927 - tp: 1254.0 - fp: 872.0 - tn: 928.0 - fn: 546.0 - accuracy: 0.6061111092567444 - precision: 0.5898400545120239 - recall: 0.6966666579246521 - f1-score: 0.6923391819000244 - auc: 0.6477422714233398 - \n",
            "loss: 0.2615605294704437 - tp: 641.0 - fp: 574.0 - tn: 326.0 - fn: 259.0 - accuracy: 0.5372222065925598 - precision: 0.5275720357894897 - recall: 0.7122222185134888 - f1-score: 0.6661562323570251 - auc: 0.5537191033363342 - \n",
            "loss: 0.2069663554430008 - tp: 613.0 - fp: 298.0 - tn: 602.0 - fn: 287.0 - accuracy: 0.675000011920929 - precision: 0.6728869080543518 - recall: 0.6811110973358154 - f1-score: 0.7224669456481934 - auc: 0.7398988008499146 - \n",
            "\n",
            "loss: 0.23459243774414062 - tp: 1373.0 - fp: 1006.0 - tn: 794.0 - fn: 427.0 - accuracy: 0.6019444465637207 - precision: 0.5771332383155823 - recall: 0.7627778053283691 - f1-score: 0.6907789707183838 - auc: 0.6476622819900513 - \n",
            "loss: 0.2656971514225006 - tp: 686.0 - fp: 635.0 - tn: 265.0 - fn: 214.0 - accuracy: 0.528333306312561 - precision: 0.519303560256958 - recall: 0.7622222304344177 - f1-score: 0.6661636829376221 - auc: 0.5484641790390015 - \n",
            "loss: 0.20348767936229706 - tp: 687.0 - fp: 371.0 - tn: 529.0 - fn: 213.0 - accuracy: 0.6755555272102356 - precision: 0.6493383646011353 - recall: 0.7633333206176758 - f1-score: 0.7181856632232666 - auc: 0.7432746887207031 - \n",
            "\n",
            "loss: 0.23246969282627106 - tp: 1258.0 - fp: 855.0 - tn: 945.0 - fn: 542.0 - accuracy: 0.6119444370269775 - precision: 0.5953620672225952 - recall: 0.698888897895813 - f1-score: 0.6964908838272095 - auc: 0.6570950746536255 - \n",
            "loss: 0.26197144389152527 - tp: 657.0 - fp: 581.0 - tn: 319.0 - fn: 243.0 - accuracy: 0.5422222018241882 - precision: 0.5306946635246277 - recall: 0.7300000190734863 - f1-score: 0.6666666865348816 - auc: 0.5607247352600098 - \n",
            "loss: 0.20296798646450043 - tp: 601.0 - fp: 274.0 - tn: 626.0 - fn: 299.0 - accuracy: 0.6816666722297668 - precision: 0.6868571639060974 - recall: 0.6677777767181396 - f1-score: 0.7313167452812195 - auc: 0.7531759738922119 - \n",
            "\n"
          ]
        }
      ],
      "source": [
        "def printing(results):\n",
        "\n",
        "  name = ['loss', 'tp', 'fp', 'tn', 'fn', 'accuracy', 'precision', 'recall', 'f1-score', 'auc']\n",
        "  for result in results:\n",
        "    op=''\n",
        "    for i in range(len(name)):\n",
        "      op+=name[i]+\": \"+ str(result[i]) +\" - \"\n",
        "    print(op)\n",
        "  print()\n",
        "\n",
        "\n",
        "\n",
        "\n",
        "printing(res1)\n",
        "printing(res2)\n",
        "printing(res3)\n",
        "\n"
      ]
    },
    {
      "cell_type": "code",
      "execution_count": null,
      "metadata": {
        "id": "k2rwuwvPn66Q"
      },
      "outputs": [],
      "source": [
        "# modelpath = \"/content/gdrive/MyDrive/embeddings/MODELS/model6979.h5\"\n",
        "# model = tf.keras.models.load_model(modelpath, custom_objects={'contrastive_loss': contrastive_loss})\n",
        "\n",
        "# # Print the model summary\n",
        "# model.summary()"
      ]
    },
    {
      "cell_type": "code",
      "execution_count": null,
      "metadata": {
        "id": "NDMPtAY_n66Q"
      },
      "outputs": [],
      "source": [
        "# # new_model = tf.keras.models.load_model('model1.h5', custom_objects={'contrastive_loss': contrastive_loss})\n",
        "\n",
        "# # run(new_model)\n",
        "# import shutil\n",
        "# source_path = \"/content/model3.h5\"\n",
        "# destination_path = \"/content/gdrive/MyDrive/embeddings/MODELS/model696_66_73.h5\"\n",
        "# shutil.copyfile(source_path, destination_path)"
      ]
    },
    {
      "cell_type": "markdown",
      "metadata": {
        "id": "ZGJmX-0Lu9AB"
      },
      "source": [
        "# model - 696, 66, 732"
      ]
    },
    {
      "cell_type": "code",
      "execution_count": null,
      "metadata": {
        "id": "MxgEhMubu9AY"
      },
      "outputs": [],
      "source": [
        "from tensorflow.keras.layers import Input, Reshape, Lambda, LSTM, concatenate, Dense, Dropout, Attention\n",
        "from tensorflow.keras.models import Model\n",
        "from tensorflow.keras import backend as K"
      ]
    },
    {
      "cell_type": "markdown",
      "metadata": {
        "id": "EvPxIlCVcvae"
      },
      "source": [
        "The following function `genModel()` generates classification model."
      ]
    },
    {
      "cell_type": "code",
      "execution_count": null,
      "metadata": {
        "id": "h-gvZit4u9AY"
      },
      "outputs": [],
      "source": [
        "import tensorflow as tf\n",
        "import datetime\n",
        "\n",
        "def attention_merge(lstm_1, lstm_2):\n",
        "  attention = Attention()([lstm_1, lstm_2])\n",
        "  merged_lstm = attention * lstm_1 + (1 - attention) * lstm_2\n",
        "  return merged_lstm\n",
        "\n",
        "def addition_merge(lstm_1, lstm_2):\n",
        "  merged_lstm = lstm_1 + lstm_2\n",
        "  return merged_lstm\n",
        "\n",
        "def concatenate_merge(lstm_1, lstm_2):\n",
        "  merged_lstm = concatenate([lstm_1, lstm_2], axis=2)\n",
        "  return merged_lstm\n",
        "\n",
        "def genModel(merge):\n",
        "    input_1 = Input(shape=(None, feature_number))\n",
        "    input_2 = Input(shape=(None, feature_number))\n",
        "\n",
        "    # Reshape inputs to 3D tensors\n",
        "    lstm_input_1 = Reshape((-1, feature_number))(input_1)\n",
        "    lstm_input_2 = Reshape((-1, feature_number))(input_2)\n",
        "\n",
        "    lstm_1 = LSTM(units=256, return_sequences=True)(lstm_input_1)\n",
        "    lstm_2 = LSTM(units=256, return_sequences=True)(lstm_input_2)\n",
        "\n",
        "    # merged_lstm = attention_merge(lstm_1, lstm_2)\n",
        "    # merged_lstm = addition_merge(lstm_1, lstm_2)\n",
        "    # merged_lstm = concatenate_merge(lstm_1, lstm_2)\n",
        "    merged_lstm = merge(lstm_1, lstm_2)\n",
        "\n",
        "    merged_lstm = LSTM(units=128, activation='tanh')(merged_lstm)\n",
        "    merged_lstm = Dropout(rate=0.1)(merged_lstm)\n",
        "    merged_lstm = Dense(units=256, activation='relu')(merged_lstm)\n",
        "    merged_lstm = Dropout(rate=0.1)(merged_lstm)\n",
        "\n",
        "    merged_lstm = Dense(units=256, activation='relu')(merged_lstm)\n",
        "    merged_lstm = Reshape((1, merged_lstm.shape[1]))(merged_lstm)\n",
        "    merged_lstm = Dropout(rate=0.1)(merged_lstm)\n",
        "    merged_lstm = LSTM(units=128, activation='tanh')(merged_lstm)\n",
        "\n",
        "    merged_lstm = Dense(units=128, activation='relu')(merged_lstm)\n",
        "    merged_lstm = Reshape((1, merged_lstm.shape[1]))(merged_lstm)\n",
        "    merged_lstm = Dropout(rate=0.1)(merged_lstm)\n",
        "    merged_lstm = LSTM(units=256, activation='tanh')(merged_lstm)\n",
        "\n",
        "    output_layer = Dense(units=1, activation='sigmoid')(merged_lstm)\n",
        "\n",
        "    model = Model(inputs=[input_1, input_2], outputs=output_layer)\n",
        "\n",
        "    return model\n"
      ]
    },
    {
      "cell_type": "markdown",
      "metadata": {
        "id": "Zu86c8PPcvag"
      },
      "source": [
        "The following function `run()` compiles and evaluates the model with 3 test datasets - Twitter dataset, Reddit Dataset, and their Combined Dataset. It also generates AUC-ROC curves of the datasets."
      ]
    },
    {
      "cell_type": "code",
      "execution_count": null,
      "metadata": {
        "id": "9n_3RKvVu9AZ"
      },
      "outputs": [],
      "source": [
        "import matplotlib.pyplot as plt\n",
        "from sklearn.metrics import auc, roc_curve, roc_auc_score\n",
        "def generate_auc_curve(y_true, y_pred_prob, model_name):\n",
        "    fpr, tpr, thresholds = roc_curve(y_true, y_pred_prob)\n",
        "    roc_auc = auc(fpr, tpr)\n",
        "\n",
        "    # Compute AUC scores for different thresholds\n",
        "    auc_scores = []\n",
        "    for threshold in thresholds:\n",
        "        y_pred_binary = (y_pred_prob >= threshold).astype(int)\n",
        "        auc_scores.append(roc_auc_score(y_true, y_pred_binary))\n",
        "\n",
        "    # Plot the AUC curve\n",
        "    plt.figure()\n",
        "    plt.plot(thresholds, auc_scores, label='AUC curve')\n",
        "    plt.xlabel('Threshold')\n",
        "    plt.ylabel('AUC score')\n",
        "    plt.title('AUC Curve - ' + model_name)\n",
        "    plt.legend(loc=\"lower right\")\n",
        "    plt.savefig('auc_curve_' + model_name + '.png')\n",
        "    plt.close()\n",
        "\n",
        "    return roc_auc\n",
        "\n",
        "\n",
        "def generate_ROC(model, x_test, y_test, name, n):\n",
        "    # Get predicted probabilities for ROC curve\n",
        "    y_pred_prob = model.predict([x_test[:, 0], x_test[:, 1]])\n",
        "\n",
        "\n",
        "    roc_auc = generate_auc_curve(y_test, y_pred_prob, name)\n",
        "\n",
        "    # Compute ROC curve and AUC score\n",
        "    fpr, tpr, thresholds = roc_curve(y_test, y_pred_prob)\n",
        "    roc_auc = roc_auc_score(y_test, y_pred_prob)\n",
        "\n",
        "    # Plot the ROC curve\n",
        "    plt.figure()\n",
        "    plt.plot(fpr, tpr, label='ROC curve (area = %0.2f)' % roc_auc)\n",
        "    plt.plot([0, 1], [0, 1], 'k--')\n",
        "    plt.xlim([0.0, 1.0])\n",
        "    plt.ylim([0.0, 1.05])\n",
        "    plt.xlabel('False Positive Rate')\n",
        "    plt.ylabel('True Positive Rate')\n",
        "    plt.title('Receiver Operating Characteristic')\n",
        "    plt.legend(loc=\"lower right\")\n",
        "\n",
        "    plt.savefig('roc_auc__'+name+'_'+n+'.png')\n",
        "    plt.close()\n",
        "\n",
        "\n",
        "\n",
        "def run(model, name, n):\n",
        "    opt = tf.keras.optimizers.Adam(learning_rate=1e-3)\n",
        "\n",
        "    metrics = [\n",
        "        tf.keras.metrics.TruePositives(name='tp'),\n",
        "        tf.keras.metrics.FalsePositives(name='fp'),\n",
        "        tf.keras.metrics.TrueNegatives(name='tn'),\n",
        "        tf.keras.metrics.FalseNegatives(name='fn'),\n",
        "        tf.keras.metrics.BinaryAccuracy(name='accuracy'),\n",
        "        tf.keras.metrics.Precision(name='precision'),\n",
        "        tf.keras.metrics.Recall(name='recall'),\n",
        "        tfa.metrics.F1Score(num_classes=2, average='micro', threshold=0.2555),\n",
        "        tf.keras.metrics.AUC(name='auc')\n",
        "    ]\n",
        "\n",
        "    # Compile the model\n",
        "    model.compile(optimizer=opt, loss=contrastive_loss, metrics=metrics)\n",
        "\n",
        "    # Train the model\n",
        "    history = model.fit(x=[x_train[:, 0], x_train[:, 1]], y=y_train, batch_size=256, epochs=1000,\n",
        "                        validation_split=0.3, callbacks=[early_stop])\n",
        "\n",
        "    # Evaluate the model on the test set\n",
        "    test_ = model.evaluate(x=[x_test_[:, 0], x_test_[:, 1]], y=y_test_)\n",
        "    test2 = model.evaluate(x=[x_test2[:, 0], x_test2[:, 1]], y=y_test2)\n",
        "    test = model.evaluate(x=[x_test[:, 0], x_test[:, 1]], y=y_test)\n",
        "\n",
        "    # Save the model\n",
        "    model.save(name)\n",
        "\n",
        "    generate_ROC(model, x_test, y_test, 'twitter', n)\n",
        "    generate_ROC(model, x_test2, y_test2, 'reddit', n)\n",
        "    generate_ROC(model, x_test_, y_test_, 'combined', n)\n",
        "\n",
        "\n",
        "\n",
        "    return [test_, test2, test]\n",
        "\n"
      ]
    },
    {
      "cell_type": "markdown",
      "metadata": {
        "id": "Cicmyjz-cvah"
      },
      "source": [
        "The following are the function calls for generating model, compiling and evaluating them."
      ]
    },
    {
      "cell_type": "code",
      "execution_count": null,
      "metadata": {
        "colab": {
          "base_uri": "https://localhost:8080/"
        },
        "id": "eL6ZkAkfu9AZ",
        "outputId": "b8cfcb80-b16f-414a-8ba3-8faa7c365e7a"
      },
      "outputs": [
        {
          "name": "stdout",
          "output_type": "stream",
          "text": [
            "Epoch 1/1000\n"
          ]
        },
        {
          "name": "stderr",
          "output_type": "stream",
          "text": [
            "WARNING:tensorflow:Model was constructed with shape (None, None, 1024) for input KerasTensor(type_spec=TensorSpec(shape=(None, None, 1024), dtype=tf.float32, name='input_73'), name='input_73', description=\"created by layer 'input_73'\"), but it was called on an input with incompatible shape (None, 1024).\n",
            "WARNING:tensorflow:Model was constructed with shape (None, None, 1024) for input KerasTensor(type_spec=TensorSpec(shape=(None, None, 1024), dtype=tf.float32, name='input_74'), name='input_74', description=\"created by layer 'input_74'\"), but it was called on an input with incompatible shape (None, 1024).\n",
            "WARNING:tensorflow:Model was constructed with shape (None, None, 1024) for input KerasTensor(type_spec=TensorSpec(shape=(None, None, 1024), dtype=tf.float32, name='input_73'), name='input_73', description=\"created by layer 'input_73'\"), but it was called on an input with incompatible shape (None, 1024).\n",
            "WARNING:tensorflow:Model was constructed with shape (None, None, 1024) for input KerasTensor(type_spec=TensorSpec(shape=(None, None, 1024), dtype=tf.float32, name='input_74'), name='input_74', description=\"created by layer 'input_74'\"), but it was called on an input with incompatible shape (None, 1024).\n"
          ]
        },
        {
          "name": "stdout",
          "output_type": "stream",
          "text": [
            "26/26 [==============================] - ETA: 0s - loss: 0.2495 - tp: 762.0000 - fp: 602.0000 - tn: 2662.0000 - fn: 2554.0000 - accuracy: 0.5204 - precision: 0.5587 - recall: 0.2298 - f1_score: 0.6702 - auc: 0.5345"
          ]
        },
        {
          "name": "stderr",
          "output_type": "stream",
          "text": [
            "WARNING:tensorflow:Model was constructed with shape (None, None, 1024) for input KerasTensor(type_spec=TensorSpec(shape=(None, None, 1024), dtype=tf.float32, name='input_73'), name='input_73', description=\"created by layer 'input_73'\"), but it was called on an input with incompatible shape (None, 1024).\n",
            "WARNING:tensorflow:Model was constructed with shape (None, None, 1024) for input KerasTensor(type_spec=TensorSpec(shape=(None, None, 1024), dtype=tf.float32, name='input_74'), name='input_74', description=\"created by layer 'input_74'\"), but it was called on an input with incompatible shape (None, 1024).\n"
          ]
        },
        {
          "name": "stdout",
          "output_type": "stream",
          "text": [
            "\b\b\b\b\b\b\b\b\b\b\b\b\b\b\b\b\b\b\b\b\b\b\b\b\b\b\b\b\b\b\b\b\b\b\b\b\b\b\b\b\b\b\b\b\b\b\b\b\b\b\b\b\b\b\b\b\b\b\b\b\b\b\b\b\b\b\b\b\b\b\b\b\b\b\b\b\b\b\b\b\b\b\b\b\b\b\b\b\b\b\b\b\b\b\b\b\b\b\b\b\b\b\b\b\b\b\b\b\b\b\b\b\b\b\b\b\b\b\b\b\b\b\b\b\b\b\b\b\b\b\b\b\b\b\b\b\b\b\b\b\b\b\b\b\b\b\b\b\b\b\b\b\b\b\b\b\b\b\b\b\b\b\b\b\b\b\b\b\b\b\b\b\b\b\b\b\b\b\b\b\b\b\b\b\b\b\b\b\b\b\b\b\b\b\b\b\b\b\b\b\b\b\b\b\b\b\b\b\b\b\b\b\b\b\r26/26 [==============================] - 17s 301ms/step - loss: 0.2495 - tp: 762.0000 - fp: 602.0000 - tn: 2662.0000 - fn: 2554.0000 - accuracy: 0.5204 - precision: 0.5587 - recall: 0.2298 - f1_score: 0.6702 - auc: 0.5345 - val_loss: 0.2436 - val_tp: 1234.0000 - val_fp: 1031.0000 - val_tn: 405.0000 - val_fn: 150.0000 - val_accuracy: 0.5812 - val_precision: 0.5448 - val_recall: 0.8916 - val_f1_score: 0.6584 - val_auc: 0.6284\n",
            "Epoch 2/1000\n",
            "26/26 [==============================] - 3s 117ms/step - loss: 0.2350 - tp: 2697.0000 - fp: 2039.0000 - tn: 1225.0000 - fn: 619.0000 - accuracy: 0.5960 - precision: 0.5695 - recall: 0.8133 - f1_score: 0.6850 - auc: 0.6234 - val_loss: 0.2322 - val_tp: 669.0000 - val_fp: 447.0000 - val_tn: 989.0000 - val_fn: 715.0000 - val_accuracy: 0.5879 - val_precision: 0.5995 - val_recall: 0.4834 - val_f1_score: 0.6923 - val_auc: 0.6572\n",
            "Epoch 3/1000\n",
            "26/26 [==============================] - 3s 114ms/step - loss: 0.2263 - tp: 2637.0000 - fp: 1823.0000 - tn: 1441.0000 - fn: 679.0000 - accuracy: 0.6198 - precision: 0.5913 - recall: 0.7952 - f1_score: 0.6951 - auc: 0.6671 - val_loss: 0.2271 - val_tp: 1049.0000 - val_fp: 741.0000 - val_tn: 695.0000 - val_fn: 335.0000 - val_accuracy: 0.6184 - val_precision: 0.5860 - val_recall: 0.7579 - val_f1_score: 0.6931 - val_auc: 0.6773\n",
            "Epoch 4/1000\n",
            "26/26 [==============================] - 3s 106ms/step - loss: 0.2157 - tp: 2287.0000 - fp: 1373.0000 - tn: 1891.0000 - fn: 1029.0000 - accuracy: 0.6350 - precision: 0.6249 - recall: 0.6897 - f1_score: 0.7070 - auc: 0.7029 - val_loss: 0.2176 - val_tp: 1026.0000 - val_fp: 687.0000 - val_tn: 749.0000 - val_fn: 358.0000 - val_accuracy: 0.6294 - val_precision: 0.5989 - val_recall: 0.7413 - val_f1_score: 0.6931 - val_auc: 0.6949\n",
            "Epoch 5/1000\n",
            "26/26 [==============================] - 4s 150ms/step - loss: 0.2085 - tp: 2483.0000 - fp: 1464.0000 - tn: 1800.0000 - fn: 833.0000 - accuracy: 0.6509 - precision: 0.6291 - recall: 0.7488 - f1_score: 0.7124 - auc: 0.7273 - val_loss: 0.2154 - val_tp: 907.0000 - val_fp: 541.0000 - val_tn: 895.0000 - val_fn: 477.0000 - val_accuracy: 0.6390 - val_precision: 0.6264 - val_recall: 0.6553 - val_f1_score: 0.6957 - val_auc: 0.7048\n",
            "Epoch 6/1000\n",
            "26/26 [==============================] - 4s 148ms/step - loss: 0.2004 - tp: 2262.0000 - fp: 1046.0000 - tn: 2218.0000 - fn: 1054.0000 - accuracy: 0.6809 - precision: 0.6838 - recall: 0.6821 - f1_score: 0.7166 - auc: 0.7531 - val_loss: 0.2159 - val_tp: 1055.0000 - val_fp: 672.0000 - val_tn: 764.0000 - val_fn: 329.0000 - val_accuracy: 0.6450 - val_precision: 0.6109 - val_recall: 0.7623 - val_f1_score: 0.7020 - val_auc: 0.7132\n",
            "Epoch 7/1000\n",
            "26/26 [==============================] - 3s 112ms/step - loss: 0.1900 - tp: 2517.0000 - fp: 1157.0000 - tn: 2107.0000 - fn: 799.0000 - accuracy: 0.7027 - precision: 0.6851 - recall: 0.7590 - f1_score: 0.7296 - auc: 0.7792 - val_loss: 0.2239 - val_tp: 738.0000 - val_fp: 415.0000 - val_tn: 1021.0000 - val_fn: 646.0000 - val_accuracy: 0.6238 - val_precision: 0.6401 - val_recall: 0.5332 - val_f1_score: 0.7033 - val_auc: 0.7082\n",
            "Epoch 8/1000\n",
            "26/26 [==============================] - 3s 112ms/step - loss: 0.1741 - tp: 2530.0000 - fp: 926.0000 - tn: 2338.0000 - fn: 786.0000 - accuracy: 0.7398 - precision: 0.7321 - recall: 0.7630 - f1_score: 0.7438 - auc: 0.8175 - val_loss: 0.2345 - val_tp: 525.0000 - val_fp: 233.0000 - val_tn: 1203.0000 - val_fn: 859.0000 - val_accuracy: 0.6128 - val_precision: 0.6926 - val_recall: 0.3793 - val_f1_score: 0.6899 - val_auc: 0.7058\n",
            "Epoch 9/1000\n",
            "26/26 [==============================] - 3s 105ms/step - loss: 0.1769 - tp: 2429.0000 - fp: 910.0000 - tn: 2354.0000 - fn: 887.0000 - accuracy: 0.7269 - precision: 0.7275 - recall: 0.7325 - f1_score: 0.7466 - auc: 0.8110 - val_loss: 0.2261 - val_tp: 797.0000 - val_fp: 450.0000 - val_tn: 986.0000 - val_fn: 587.0000 - val_accuracy: 0.6323 - val_precision: 0.6391 - val_recall: 0.5759 - val_f1_score: 0.6995 - val_auc: 0.7041\n",
            "Epoch 10/1000\n",
            "26/26 [==============================] - 4s 139ms/step - loss: 0.1510 - tp: 2635.0000 - fp: 766.0000 - tn: 2498.0000 - fn: 681.0000 - accuracy: 0.7801 - precision: 0.7748 - recall: 0.7946 - f1_score: 0.7775 - auc: 0.8619 - val_loss: 0.2529 - val_tp: 796.0000 - val_fp: 421.0000 - val_tn: 1015.0000 - val_fn: 588.0000 - val_accuracy: 0.6422 - val_precision: 0.6541 - val_recall: 0.5751 - val_f1_score: 0.6721 - val_auc: 0.6933\n",
            "Epoch 11/1000\n",
            "26/26 [==============================] - 4s 152ms/step - loss: 0.1365 - tp: 2700.0000 - fp: 683.0000 - tn: 2581.0000 - fn: 616.0000 - accuracy: 0.8026 - precision: 0.7981 - recall: 0.8142 - f1_score: 0.7990 - auc: 0.8858 - val_loss: 0.2440 - val_tp: 759.0000 - val_fp: 436.0000 - val_tn: 1000.0000 - val_fn: 625.0000 - val_accuracy: 0.6238 - val_precision: 0.6351 - val_recall: 0.5484 - val_f1_score: 0.6887 - val_auc: 0.6958\n",
            "Epoch 12/1000\n",
            "26/26 [==============================] - 3s 113ms/step - loss: 0.1180 - tp: 2814.0000 - fp: 577.0000 - tn: 2687.0000 - fn: 502.0000 - accuracy: 0.8360 - precision: 0.8298 - recall: 0.8486 - f1_score: 0.8283 - auc: 0.9118 - val_loss: 0.2696 - val_tp: 888.0000 - val_fp: 512.0000 - val_tn: 924.0000 - val_fn: 496.0000 - val_accuracy: 0.6426 - val_precision: 0.6343 - val_recall: 0.6416 - val_f1_score: 0.6791 - val_auc: 0.6895\n",
            "Epoch 13/1000\n",
            "26/26 [==============================] - 3s 119ms/step - loss: 0.1097 - tp: 2841.0000 - fp: 531.0000 - tn: 2733.0000 - fn: 475.0000 - accuracy: 0.8471 - precision: 0.8425 - recall: 0.8568 - f1_score: 0.8378 - auc: 0.9227 - val_loss: 0.2553 - val_tp: 722.0000 - val_fp: 404.0000 - val_tn: 1032.0000 - val_fn: 662.0000 - val_accuracy: 0.6220 - val_precision: 0.6412 - val_recall: 0.5217 - val_f1_score: 0.6785 - val_auc: 0.6901\n",
            "Epoch 14/1000\n",
            "26/26 [==============================] - 3s 106ms/step - loss: 0.0975 - tp: 2905.0000 - fp: 453.0000 - tn: 2811.0000 - fn: 411.0000 - accuracy: 0.8687 - precision: 0.8651 - recall: 0.8761 - f1_score: 0.8540 - auc: 0.9349 - val_loss: 0.3001 - val_tp: 661.0000 - val_fp: 349.0000 - val_tn: 1087.0000 - val_fn: 723.0000 - val_accuracy: 0.6199 - val_precision: 0.6545 - val_recall: 0.4776 - val_f1_score: 0.6109 - val_auc: 0.6826\n",
            "Epoch 15/1000\n",
            "26/26 [==============================] - 4s 139ms/step - loss: 0.0939 - tp: 2924.0000 - fp: 442.0000 - tn: 2822.0000 - fn: 392.0000 - accuracy: 0.8733 - precision: 0.8687 - recall: 0.8818 - f1_score: 0.8674 - auc: 0.9395 - val_loss: 0.2853 - val_tp: 1090.0000 - val_fp: 745.0000 - val_tn: 691.0000 - val_fn: 294.0000 - val_accuracy: 0.6316 - val_precision: 0.5940 - val_recall: 0.7876 - val_f1_score: 0.6850 - val_auc: 0.6898\n",
            "113/113 [==============================] - 2s 20ms/step - loss: 0.2324 - tp: 1108.0000 - fp: 777.0000 - tn: 1023.0000 - fn: 692.0000 - accuracy: 0.5919 - precision: 0.5878 - recall: 0.6156 - f1_score: 0.6863 - auc: 0.6421\n"
          ]
        },
        {
          "name": "stderr",
          "output_type": "stream",
          "text": [
            "WARNING:tensorflow:Model was constructed with shape (None, None, 1024) for input KerasTensor(type_spec=TensorSpec(shape=(None, None, 1024), dtype=tf.float32, name='input_73'), name='input_73', description=\"created by layer 'input_73'\"), but it was called on an input with incompatible shape (None, 1024).\n",
            "WARNING:tensorflow:Model was constructed with shape (None, None, 1024) for input KerasTensor(type_spec=TensorSpec(shape=(None, None, 1024), dtype=tf.float32, name='input_74'), name='input_74', description=\"created by layer 'input_74'\"), but it was called on an input with incompatible shape (None, 1024).\n"
          ]
        },
        {
          "name": "stdout",
          "output_type": "stream",
          "text": [
            "57/57 [==============================] - 5s 12ms/step - loss: 0.2504 - tp: 586.0000 - fp: 530.0000 - tn: 370.0000 - fn: 314.0000 - accuracy: 0.5311 - precision: 0.5251 - recall: 0.6511 - f1_score: 0.6709 - auc: 0.5603\n",
            "57/57 [==============================] - 1s 11ms/step - loss: 0.2144 - tp: 522.0000 - fp: 247.0000 - tn: 653.0000 - fn: 378.0000 - accuracy: 0.6528 - precision: 0.6788 - recall: 0.5800 - f1_score: 0.7035 - auc: 0.7243\n"
          ]
        },
        {
          "name": "stderr",
          "output_type": "stream",
          "text": [
            "WARNING:tensorflow:Model was constructed with shape (None, None, 1024) for input KerasTensor(type_spec=TensorSpec(shape=(None, None, 1024), dtype=tf.float32, name='input_73'), name='input_73', description=\"created by layer 'input_73'\"), but it was called on an input with incompatible shape (None, 1024).\n",
            "WARNING:tensorflow:Model was constructed with shape (None, None, 1024) for input KerasTensor(type_spec=TensorSpec(shape=(None, None, 1024), dtype=tf.float32, name='input_74'), name='input_74', description=\"created by layer 'input_74'\"), but it was called on an input with incompatible shape (None, 1024).\n"
          ]
        },
        {
          "name": "stdout",
          "output_type": "stream",
          "text": [
            "57/57 [==============================] - 2s 9ms/step\n",
            "57/57 [==============================] - 1s 9ms/step\n",
            "113/113 [==============================] - 2s 16ms/step\n",
            "Epoch 1/1000\n"
          ]
        },
        {
          "name": "stderr",
          "output_type": "stream",
          "text": [
            "WARNING:tensorflow:Model was constructed with shape (None, None, 1024) for input KerasTensor(type_spec=TensorSpec(shape=(None, None, 1024), dtype=tf.float32, name='input_75'), name='input_75', description=\"created by layer 'input_75'\"), but it was called on an input with incompatible shape (None, 1024).\n",
            "WARNING:tensorflow:Model was constructed with shape (None, None, 1024) for input KerasTensor(type_spec=TensorSpec(shape=(None, None, 1024), dtype=tf.float32, name='input_76'), name='input_76', description=\"created by layer 'input_76'\"), but it was called on an input with incompatible shape (None, 1024).\n",
            "WARNING:tensorflow:Model was constructed with shape (None, None, 1024) for input KerasTensor(type_spec=TensorSpec(shape=(None, None, 1024), dtype=tf.float32, name='input_75'), name='input_75', description=\"created by layer 'input_75'\"), but it was called on an input with incompatible shape (None, 1024).\n",
            "WARNING:tensorflow:Model was constructed with shape (None, None, 1024) for input KerasTensor(type_spec=TensorSpec(shape=(None, None, 1024), dtype=tf.float32, name='input_76'), name='input_76', description=\"created by layer 'input_76'\"), but it was called on an input with incompatible shape (None, 1024).\n"
          ]
        },
        {
          "name": "stdout",
          "output_type": "stream",
          "text": [
            "26/26 [==============================] - ETA: 0s - loss: 0.2491 - tp: 2473.0000 - fp: 2226.0000 - tn: 1038.0000 - fn: 843.0000 - accuracy: 0.5336 - precision: 0.5263 - recall: 0.7458 - f1_score: 0.6702 - auc: 0.5401"
          ]
        },
        {
          "name": "stderr",
          "output_type": "stream",
          "text": [
            "WARNING:tensorflow:Model was constructed with shape (None, None, 1024) for input KerasTensor(type_spec=TensorSpec(shape=(None, None, 1024), dtype=tf.float32, name='input_75'), name='input_75', description=\"created by layer 'input_75'\"), but it was called on an input with incompatible shape (None, 1024).\n",
            "WARNING:tensorflow:Model was constructed with shape (None, None, 1024) for input KerasTensor(type_spec=TensorSpec(shape=(None, None, 1024), dtype=tf.float32, name='input_76'), name='input_76', description=\"created by layer 'input_76'\"), but it was called on an input with incompatible shape (None, 1024).\n"
          ]
        },
        {
          "name": "stdout",
          "output_type": "stream",
          "text": [
            "\b\b\b\b\b\b\b\b\b\b\b\b\b\b\b\b\b\b\b\b\b\b\b\b\b\b\b\b\b\b\b\b\b\b\b\b\b\b\b\b\b\b\b\b\b\b\b\b\b\b\b\b\b\b\b\b\b\b\b\b\b\b\b\b\b\b\b\b\b\b\b\b\b\b\b\b\b\b\b\b\b\b\b\b\b\b\b\b\b\b\b\b\b\b\b\b\b\b\b\b\b\b\b\b\b\b\b\b\b\b\b\b\b\b\b\b\b\b\b\b\b\b\b\b\b\b\b\b\b\b\b\b\b\b\b\b\b\b\b\b\b\b\b\b\b\b\b\b\b\b\b\b\b\b\b\b\b\b\b\b\b\b\b\b\b\b\b\b\b\b\b\b\b\b\b\b\b\b\b\b\b\b\b\b\b\b\b\b\b\b\b\b\b\b\b\b\b\b\b\b\b\b\b\b\b\b\b\b\b\b\b\b\b\b\b\r26/26 [==============================] - 18s 232ms/step - loss: 0.2491 - tp: 2473.0000 - fp: 2226.0000 - tn: 1038.0000 - fn: 843.0000 - accuracy: 0.5336 - precision: 0.5263 - recall: 0.7458 - f1_score: 0.6702 - auc: 0.5401 - val_loss: 0.2427 - val_tp: 1309.0000 - val_fp: 1127.0000 - val_tn: 309.0000 - val_fn: 75.0000 - val_accuracy: 0.5738 - val_precision: 0.5374 - val_recall: 0.9458 - val_f1_score: 0.6584 - val_auc: 0.6439\n",
            "Epoch 2/1000\n",
            "26/26 [==============================] - 3s 114ms/step - loss: 0.2294 - tp: 2636.0000 - fp: 1883.0000 - tn: 1381.0000 - fn: 680.0000 - accuracy: 0.6105 - precision: 0.5833 - recall: 0.7949 - f1_score: 0.6949 - auc: 0.6424 - val_loss: 0.2309 - val_tp: 1302.0000 - val_fp: 1016.0000 - val_tn: 420.0000 - val_fn: 82.0000 - val_accuracy: 0.6106 - val_precision: 0.5617 - val_recall: 0.9408 - val_f1_score: 0.6774 - val_auc: 0.6765\n",
            "Epoch 3/1000\n",
            "26/26 [==============================] - 4s 145ms/step - loss: 0.2211 - tp: 2789.0000 - fp: 1866.0000 - tn: 1398.0000 - fn: 527.0000 - accuracy: 0.6363 - precision: 0.5991 - recall: 0.8411 - f1_score: 0.7077 - auc: 0.6784 - val_loss: 0.2188 - val_tp: 951.0000 - val_fp: 614.0000 - val_tn: 822.0000 - val_fn: 433.0000 - val_accuracy: 0.6287 - val_precision: 0.6077 - val_recall: 0.6871 - val_f1_score: 0.7056 - val_auc: 0.6931\n",
            "Epoch 4/1000\n",
            "26/26 [==============================] - 4s 151ms/step - loss: 0.2158 - tp: 2492.0000 - fp: 1516.0000 - tn: 1748.0000 - fn: 824.0000 - accuracy: 0.6444 - precision: 0.6218 - recall: 0.7515 - f1_score: 0.7087 - auc: 0.7028 - val_loss: 0.2179 - val_tp: 1149.0000 - val_fp: 785.0000 - val_tn: 651.0000 - val_fn: 235.0000 - val_accuracy: 0.6383 - val_precision: 0.5941 - val_recall: 0.8302 - val_f1_score: 0.6988 - val_auc: 0.7059\n",
            "Epoch 5/1000\n",
            "26/26 [==============================] - 3s 114ms/step - loss: 0.2066 - tp: 2400.0000 - fp: 1253.0000 - tn: 2011.0000 - fn: 916.0000 - accuracy: 0.6704 - precision: 0.6570 - recall: 0.7238 - f1_score: 0.7166 - auc: 0.7332 - val_loss: 0.2162 - val_tp: 1048.0000 - val_fp: 706.0000 - val_tn: 730.0000 - val_fn: 336.0000 - val_accuracy: 0.6305 - val_precision: 0.5975 - val_recall: 0.7572 - val_f1_score: 0.7078 - val_auc: 0.7017\n",
            "Epoch 6/1000\n",
            "26/26 [==============================] - 3s 118ms/step - loss: 0.1967 - tp: 2408.0000 - fp: 1149.0000 - tn: 2115.0000 - fn: 908.0000 - accuracy: 0.6874 - precision: 0.6770 - recall: 0.7262 - f1_score: 0.7269 - auc: 0.7622 - val_loss: 0.2246 - val_tp: 1205.0000 - val_fp: 855.0000 - val_tn: 581.0000 - val_fn: 179.0000 - val_accuracy: 0.6333 - val_precision: 0.5850 - val_recall: 0.8707 - val_f1_score: 0.7029 - val_auc: 0.7192\n",
            "Epoch 7/1000\n",
            "26/26 [==============================] - 3s 123ms/step - loss: 0.2000 - tp: 2361.0000 - fp: 1092.0000 - tn: 2172.0000 - fn: 955.0000 - accuracy: 0.6889 - precision: 0.6838 - recall: 0.7120 - f1_score: 0.7165 - auc: 0.7561 - val_loss: 0.2198 - val_tp: 1155.0000 - val_fp: 789.0000 - val_tn: 647.0000 - val_fn: 229.0000 - val_accuracy: 0.6390 - val_precision: 0.5941 - val_recall: 0.8345 - val_f1_score: 0.6940 - val_auc: 0.7146\n",
            "Epoch 8/1000\n",
            "26/26 [==============================] - 4s 164ms/step - loss: 0.1856 - tp: 2466.0000 - fp: 1039.0000 - tn: 2225.0000 - fn: 850.0000 - accuracy: 0.7129 - precision: 0.7036 - recall: 0.7437 - f1_score: 0.7356 - auc: 0.7908 - val_loss: 0.2198 - val_tp: 1005.0000 - val_fp: 594.0000 - val_tn: 842.0000 - val_fn: 379.0000 - val_accuracy: 0.6550 - val_precision: 0.6285 - val_recall: 0.7262 - val_f1_score: 0.7047 - val_auc: 0.7169\n",
            "Epoch 9/1000\n",
            "26/26 [==============================] - 4s 172ms/step - loss: 0.1740 - tp: 2455.0000 - fp: 854.0000 - tn: 2410.0000 - fn: 861.0000 - accuracy: 0.7394 - precision: 0.7419 - recall: 0.7403 - f1_score: 0.7488 - auc: 0.8176 - val_loss: 0.2453 - val_tp: 1220.0000 - val_fp: 957.0000 - val_tn: 479.0000 - val_fn: 164.0000 - val_accuracy: 0.6025 - val_precision: 0.5604 - val_recall: 0.8815 - val_f1_score: 0.6810 - val_auc: 0.7066\n",
            "Epoch 10/1000\n",
            "26/26 [==============================] - 3s 111ms/step - loss: 0.1724 - tp: 2578.0000 - fp: 929.0000 - tn: 2335.0000 - fn: 738.0000 - accuracy: 0.7467 - precision: 0.7351 - recall: 0.7774 - f1_score: 0.7520 - auc: 0.8196 - val_loss: 0.2268 - val_tp: 1093.0000 - val_fp: 694.0000 - val_tn: 742.0000 - val_fn: 291.0000 - val_accuracy: 0.6507 - val_precision: 0.6116 - val_recall: 0.7897 - val_f1_score: 0.7107 - val_auc: 0.7170\n",
            "Epoch 11/1000\n",
            "26/26 [==============================] - 3s 111ms/step - loss: 0.1542 - tp: 2655.0000 - fp: 809.0000 - tn: 2455.0000 - fn: 661.0000 - accuracy: 0.7766 - precision: 0.7665 - recall: 0.8007 - f1_score: 0.7814 - auc: 0.8542 - val_loss: 0.2466 - val_tp: 1185.0000 - val_fp: 844.0000 - val_tn: 592.0000 - val_fn: 199.0000 - val_accuracy: 0.6301 - val_precision: 0.5840 - val_recall: 0.8562 - val_f1_score: 0.7004 - val_auc: 0.7013\n",
            "Epoch 12/1000\n",
            "26/26 [==============================] - 4s 140ms/step - loss: 0.1387 - tp: 2713.0000 - fp: 691.0000 - tn: 2573.0000 - fn: 603.0000 - accuracy: 0.8033 - precision: 0.7970 - recall: 0.8182 - f1_score: 0.7996 - auc: 0.8801 - val_loss: 0.2456 - val_tp: 775.0000 - val_fp: 425.0000 - val_tn: 1011.0000 - val_fn: 609.0000 - val_accuracy: 0.6333 - val_precision: 0.6458 - val_recall: 0.5600 - val_f1_score: 0.6783 - val_auc: 0.6860\n",
            "Epoch 13/1000\n",
            "26/26 [==============================] - 5s 185ms/step - loss: 0.1200 - tp: 2836.0000 - fp: 617.0000 - tn: 2647.0000 - fn: 480.0000 - accuracy: 0.8333 - precision: 0.8213 - recall: 0.8552 - f1_score: 0.8294 - auc: 0.9071 - val_loss: 0.2510 - val_tp: 965.0000 - val_fp: 601.0000 - val_tn: 835.0000 - val_fn: 419.0000 - val_accuracy: 0.6383 - val_precision: 0.6162 - val_recall: 0.6973 - val_f1_score: 0.6950 - val_auc: 0.6978\n",
            "Epoch 14/1000\n",
            "26/26 [==============================] - 3s 123ms/step - loss: 0.1113 - tp: 2881.0000 - fp: 554.0000 - tn: 2710.0000 - fn: 435.0000 - accuracy: 0.8497 - precision: 0.8387 - recall: 0.8688 - f1_score: 0.8362 - auc: 0.9164 - val_loss: 0.2759 - val_tp: 744.0000 - val_fp: 398.0000 - val_tn: 1038.0000 - val_fn: 640.0000 - val_accuracy: 0.6319 - val_precision: 0.6515 - val_recall: 0.5376 - val_f1_score: 0.6497 - val_auc: 0.6951\n",
            "Epoch 15/1000\n",
            "26/26 [==============================] - 3s 122ms/step - loss: 0.1008 - tp: 2933.0000 - fp: 501.0000 - tn: 2763.0000 - fn: 383.0000 - accuracy: 0.8657 - precision: 0.8541 - recall: 0.8845 - f1_score: 0.8612 - auc: 0.9291 - val_loss: 0.2738 - val_tp: 764.0000 - val_fp: 435.0000 - val_tn: 1001.0000 - val_fn: 620.0000 - val_accuracy: 0.6259 - val_precision: 0.6372 - val_recall: 0.5520 - val_f1_score: 0.6553 - val_auc: 0.6844\n",
            "113/113 [==============================] - 2s 15ms/step - loss: 0.2343 - tp: 1298.0000 - fp: 889.0000 - tn: 911.0000 - fn: 502.0000 - accuracy: 0.6136 - precision: 0.5935 - recall: 0.7211 - f1_score: 0.6935 - auc: 0.6537\n"
          ]
        },
        {
          "name": "stderr",
          "output_type": "stream",
          "text": [
            "WARNING:tensorflow:Model was constructed with shape (None, None, 1024) for input KerasTensor(type_spec=TensorSpec(shape=(None, None, 1024), dtype=tf.float32, name='input_75'), name='input_75', description=\"created by layer 'input_75'\"), but it was called on an input with incompatible shape (None, 1024).\n",
            "WARNING:tensorflow:Model was constructed with shape (None, None, 1024) for input KerasTensor(type_spec=TensorSpec(shape=(None, None, 1024), dtype=tf.float32, name='input_76'), name='input_76', description=\"created by layer 'input_76'\"), but it was called on an input with incompatible shape (None, 1024).\n"
          ]
        },
        {
          "name": "stdout",
          "output_type": "stream",
          "text": [
            "57/57 [==============================] - 5s 18ms/step - loss: 0.2601 - tp: 712.0000 - fp: 622.0000 - tn: 278.0000 - fn: 188.0000 - accuracy: 0.5500 - precision: 0.5337 - recall: 0.7911 - f1_score: 0.6662 - auc: 0.5593\n",
            "57/57 [==============================] - 2s 26ms/step - loss: 0.2085 - tp: 586.0000 - fp: 267.0000 - tn: 633.0000 - fn: 314.0000 - accuracy: 0.6772 - precision: 0.6870 - recall: 0.6511 - f1_score: 0.7262 - auc: 0.7522\n"
          ]
        },
        {
          "name": "stderr",
          "output_type": "stream",
          "text": [
            "WARNING:tensorflow:Model was constructed with shape (None, None, 1024) for input KerasTensor(type_spec=TensorSpec(shape=(None, None, 1024), dtype=tf.float32, name='input_75'), name='input_75', description=\"created by layer 'input_75'\"), but it was called on an input with incompatible shape (None, 1024).\n",
            "WARNING:tensorflow:Model was constructed with shape (None, None, 1024) for input KerasTensor(type_spec=TensorSpec(shape=(None, None, 1024), dtype=tf.float32, name='input_76'), name='input_76', description=\"created by layer 'input_76'\"), but it was called on an input with incompatible shape (None, 1024).\n"
          ]
        },
        {
          "name": "stdout",
          "output_type": "stream",
          "text": [
            "57/57 [==============================] - 3s 11ms/step\n",
            "57/57 [==============================] - 1s 20ms/step\n",
            "113/113 [==============================] - 2s 20ms/step\n",
            "Epoch 1/1000\n"
          ]
        },
        {
          "name": "stderr",
          "output_type": "stream",
          "text": [
            "WARNING:tensorflow:Model was constructed with shape (None, None, 1024) for input KerasTensor(type_spec=TensorSpec(shape=(None, None, 1024), dtype=tf.float32, name='input_77'), name='input_77', description=\"created by layer 'input_77'\"), but it was called on an input with incompatible shape (None, 1024).\n",
            "WARNING:tensorflow:Model was constructed with shape (None, None, 1024) for input KerasTensor(type_spec=TensorSpec(shape=(None, None, 1024), dtype=tf.float32, name='input_78'), name='input_78', description=\"created by layer 'input_78'\"), but it was called on an input with incompatible shape (None, 1024).\n",
            "WARNING:tensorflow:Model was constructed with shape (None, None, 1024) for input KerasTensor(type_spec=TensorSpec(shape=(None, None, 1024), dtype=tf.float32, name='input_77'), name='input_77', description=\"created by layer 'input_77'\"), but it was called on an input with incompatible shape (None, 1024).\n",
            "WARNING:tensorflow:Model was constructed with shape (None, None, 1024) for input KerasTensor(type_spec=TensorSpec(shape=(None, None, 1024), dtype=tf.float32, name='input_78'), name='input_78', description=\"created by layer 'input_78'\"), but it was called on an input with incompatible shape (None, 1024).\n"
          ]
        },
        {
          "name": "stdout",
          "output_type": "stream",
          "text": [
            "26/26 [==============================] - ETA: 0s - loss: 0.2499 - tp: 1989.0000 - fp: 1952.0000 - tn: 1312.0000 - fn: 1327.0000 - accuracy: 0.5017 - precision: 0.5047 - recall: 0.5998 - f1_score: 0.6702 - auc: 0.5047"
          ]
        },
        {
          "name": "stderr",
          "output_type": "stream",
          "text": [
            "WARNING:tensorflow:Model was constructed with shape (None, None, 1024) for input KerasTensor(type_spec=TensorSpec(shape=(None, None, 1024), dtype=tf.float32, name='input_77'), name='input_77', description=\"created by layer 'input_77'\"), but it was called on an input with incompatible shape (None, 1024).\n",
            "WARNING:tensorflow:Model was constructed with shape (None, None, 1024) for input KerasTensor(type_spec=TensorSpec(shape=(None, None, 1024), dtype=tf.float32, name='input_78'), name='input_78', description=\"created by layer 'input_78'\"), but it was called on an input with incompatible shape (None, 1024).\n"
          ]
        },
        {
          "name": "stdout",
          "output_type": "stream",
          "text": [
            "\b\b\b\b\b\b\b\b\b\b\b\b\b\b\b\b\b\b\b\b\b\b\b\b\b\b\b\b\b\b\b\b\b\b\b\b\b\b\b\b\b\b\b\b\b\b\b\b\b\b\b\b\b\b\b\b\b\b\b\b\b\b\b\b\b\b\b\b\b\b\b\b\b\b\b\b\b\b\b\b\b\b\b\b\b\b\b\b\b\b\b\b\b\b\b\b\b\b\b\b\b\b\b\b\b\b\b\b\b\b\b\b\b\b\b\b\b\b\b\b\b\b\b\b\b\b\b\b\b\b\b\b\b\b\b\b\b\b\b\b\b\b\b\b\b\b\b\b\b\b\b\b\b\b\b\b\b\b\b\b\b\b\b\b\b\b\b\b\b\b\b\b\b\b\b\b\b\b\b\b\b\b\b\b\b\b\b\b\b\b\b\b\b\b\b\b\b\b\b\b\b\b\b\b\b\b\b\b\b\b\b\b\b\b\b\b\r26/26 [==============================] - 20s 315ms/step - loss: 0.2499 - tp: 1989.0000 - fp: 1952.0000 - tn: 1312.0000 - fn: 1327.0000 - accuracy: 0.5017 - precision: 0.5047 - recall: 0.5998 - f1_score: 0.6702 - auc: 0.5047 - val_loss: 0.2476 - val_tp: 1062.0000 - val_fp: 844.0000 - val_tn: 592.0000 - val_fn: 322.0000 - val_accuracy: 0.5865 - val_precision: 0.5572 - val_recall: 0.7673 - val_f1_score: 0.6584 - val_auc: 0.6090\n",
            "Epoch 2/1000\n",
            "26/26 [==============================] - 4s 148ms/step - loss: 0.2368 - tp: 2661.0000 - fp: 2063.0000 - tn: 1201.0000 - fn: 655.0000 - accuracy: 0.5869 - precision: 0.5633 - recall: 0.8025 - f1_score: 0.6855 - auc: 0.6117 - val_loss: 0.2349 - val_tp: 717.0000 - val_fp: 488.0000 - val_tn: 948.0000 - val_fn: 667.0000 - val_accuracy: 0.5904 - val_precision: 0.5950 - val_recall: 0.5181 - val_f1_score: 0.6912 - val_auc: 0.6562\n",
            "Epoch 3/1000\n",
            "26/26 [==============================] - 4s 155ms/step - loss: 0.2226 - tp: 2475.0000 - fp: 1626.0000 - tn: 1638.0000 - fn: 841.0000 - accuracy: 0.6251 - precision: 0.6035 - recall: 0.7464 - f1_score: 0.6988 - auc: 0.6778 - val_loss: 0.2175 - val_tp: 1059.0000 - val_fp: 713.0000 - val_tn: 723.0000 - val_fn: 325.0000 - val_accuracy: 0.6319 - val_precision: 0.5976 - val_recall: 0.7652 - val_f1_score: 0.6975 - val_auc: 0.6943\n",
            "Epoch 4/1000\n",
            "26/26 [==============================] - 6s 218ms/step - loss: 0.2125 - tp: 2393.0000 - fp: 1347.0000 - tn: 1917.0000 - fn: 923.0000 - accuracy: 0.6550 - precision: 0.6398 - recall: 0.7217 - f1_score: 0.7105 - auc: 0.7142 - val_loss: 0.2117 - val_tp: 920.0000 - val_fp: 521.0000 - val_tn: 915.0000 - val_fn: 464.0000 - val_accuracy: 0.6507 - val_precision: 0.6384 - val_recall: 0.6647 - val_f1_score: 0.6956 - val_auc: 0.7203\n",
            "Epoch 5/1000\n",
            "26/26 [==============================] - 3s 125ms/step - loss: 0.2042 - tp: 2301.0000 - fp: 1125.0000 - tn: 2139.0000 - fn: 1015.0000 - accuracy: 0.6748 - precision: 0.6716 - recall: 0.6939 - f1_score: 0.7166 - auc: 0.7404 - val_loss: 0.2110 - val_tp: 965.0000 - val_fp: 539.0000 - val_tn: 897.0000 - val_fn: 419.0000 - val_accuracy: 0.6603 - val_precision: 0.6416 - val_recall: 0.6973 - val_f1_score: 0.7063 - val_auc: 0.7218\n",
            "Epoch 6/1000\n",
            "26/26 [==============================] - 3s 116ms/step - loss: 0.1982 - tp: 2224.0000 - fp: 1001.0000 - tn: 2263.0000 - fn: 1092.0000 - accuracy: 0.6819 - precision: 0.6896 - recall: 0.6707 - f1_score: 0.7207 - auc: 0.7593 - val_loss: 0.2300 - val_tp: 1256.0000 - val_fp: 944.0000 - val_tn: 492.0000 - val_fn: 128.0000 - val_accuracy: 0.6199 - val_precision: 0.5709 - val_recall: 0.9075 - val_f1_score: 0.6928 - val_auc: 0.6977\n",
            "Epoch 7/1000\n",
            "26/26 [==============================] - 3s 114ms/step - loss: 0.2009 - tp: 2361.0000 - fp: 1083.0000 - tn: 2181.0000 - fn: 955.0000 - accuracy: 0.6903 - precision: 0.6855 - recall: 0.7120 - f1_score: 0.7125 - auc: 0.7530 - val_loss: 0.2178 - val_tp: 1201.0000 - val_fp: 810.0000 - val_tn: 626.0000 - val_fn: 183.0000 - val_accuracy: 0.6479 - val_precision: 0.5972 - val_recall: 0.8678 - val_f1_score: 0.6957 - val_auc: 0.7160\n",
            "Epoch 8/1000\n",
            "26/26 [==============================] - 5s 206ms/step - loss: 0.1834 - tp: 2455.0000 - fp: 950.0000 - tn: 2314.0000 - fn: 861.0000 - accuracy: 0.7248 - precision: 0.7210 - recall: 0.7403 - f1_score: 0.7277 - auc: 0.7978 - val_loss: 0.2335 - val_tp: 601.0000 - val_fp: 267.0000 - val_tn: 1169.0000 - val_fn: 783.0000 - val_accuracy: 0.6277 - val_precision: 0.6924 - val_recall: 0.4342 - val_f1_score: 0.7002 - val_auc: 0.7168\n",
            "Epoch 9/1000\n",
            "26/26 [==============================] - 4s 174ms/step - loss: 0.1755 - tp: 2488.0000 - fp: 861.0000 - tn: 2403.0000 - fn: 828.0000 - accuracy: 0.7433 - precision: 0.7429 - recall: 0.7503 - f1_score: 0.7405 - auc: 0.8139 - val_loss: 0.2357 - val_tp: 913.0000 - val_fp: 502.0000 - val_tn: 934.0000 - val_fn: 471.0000 - val_accuracy: 0.6550 - val_precision: 0.6452 - val_recall: 0.6597 - val_f1_score: 0.6967 - val_auc: 0.7142\n",
            "Epoch 10/1000\n",
            "26/26 [==============================] - 3s 118ms/step - loss: 0.1626 - tp: 2552.0000 - fp: 812.0000 - tn: 2452.0000 - fn: 764.0000 - accuracy: 0.7605 - precision: 0.7586 - recall: 0.7696 - f1_score: 0.7634 - auc: 0.8406 - val_loss: 0.2247 - val_tp: 962.0000 - val_fp: 578.0000 - val_tn: 858.0000 - val_fn: 422.0000 - val_accuracy: 0.6454 - val_precision: 0.6247 - val_recall: 0.6951 - val_f1_score: 0.7003 - val_auc: 0.7060\n",
            "Epoch 11/1000\n",
            "26/26 [==============================] - 3s 106ms/step - loss: 0.1458 - tp: 2737.0000 - fp: 762.0000 - tn: 2502.0000 - fn: 579.0000 - accuracy: 0.7962 - precision: 0.7822 - recall: 0.8254 - f1_score: 0.7930 - auc: 0.8676 - val_loss: 0.2547 - val_tp: 1115.0000 - val_fp: 741.0000 - val_tn: 695.0000 - val_fn: 269.0000 - val_accuracy: 0.6418 - val_precision: 0.6008 - val_recall: 0.8056 - val_f1_score: 0.7013 - val_auc: 0.7043\n",
            "Epoch 12/1000\n",
            "26/26 [==============================] - 4s 137ms/step - loss: 0.1351 - tp: 2726.0000 - fp: 659.0000 - tn: 2605.0000 - fn: 590.0000 - accuracy: 0.8102 - precision: 0.8053 - recall: 0.8221 - f1_score: 0.8049 - auc: 0.8860 - val_loss: 0.2593 - val_tp: 806.0000 - val_fp: 471.0000 - val_tn: 965.0000 - val_fn: 578.0000 - val_accuracy: 0.6280 - val_precision: 0.6312 - val_recall: 0.5824 - val_f1_score: 0.6750 - val_auc: 0.6920\n",
            "Epoch 13/1000\n",
            "26/26 [==============================] - 4s 152ms/step - loss: 0.1214 - tp: 2838.0000 - fp: 610.0000 - tn: 2654.0000 - fn: 478.0000 - accuracy: 0.8347 - precision: 0.8231 - recall: 0.8559 - f1_score: 0.8225 - auc: 0.9050 - val_loss: 0.2498 - val_tp: 962.0000 - val_fp: 585.0000 - val_tn: 851.0000 - val_fn: 422.0000 - val_accuracy: 0.6429 - val_precision: 0.6218 - val_recall: 0.6951 - val_f1_score: 0.6872 - val_auc: 0.6962\n",
            "Epoch 14/1000\n",
            "26/26 [==============================] - 4s 144ms/step - loss: 0.1106 - tp: 2876.0000 - fp: 520.0000 - tn: 2744.0000 - fn: 440.0000 - accuracy: 0.8541 - precision: 0.8469 - recall: 0.8673 - f1_score: 0.8424 - auc: 0.9175 - val_loss: 0.2594 - val_tp: 1010.0000 - val_fp: 678.0000 - val_tn: 758.0000 - val_fn: 374.0000 - val_accuracy: 0.6270 - val_precision: 0.5983 - val_recall: 0.7298 - val_f1_score: 0.6808 - val_auc: 0.6813\n",
            "Epoch 15/1000\n",
            "26/26 [==============================] - 3s 120ms/step - loss: 0.0959 - tp: 2967.0000 - fp: 487.0000 - tn: 2777.0000 - fn: 349.0000 - accuracy: 0.8729 - precision: 0.8590 - recall: 0.8948 - f1_score: 0.8632 - auc: 0.9355 - val_loss: 0.2892 - val_tp: 678.0000 - val_fp: 376.0000 - val_tn: 1060.0000 - val_fn: 706.0000 - val_accuracy: 0.6163 - val_precision: 0.6433 - val_recall: 0.4899 - val_f1_score: 0.6236 - val_auc: 0.6733\n",
            "113/113 [==============================] - 1s 12ms/step - loss: 0.2371 - tp: 1251.0000 - fp: 885.0000 - tn: 915.0000 - fn: 549.0000 - accuracy: 0.6017 - precision: 0.5857 - recall: 0.6950 - f1_score: 0.6966 - auc: 0.6505\n"
          ]
        },
        {
          "name": "stderr",
          "output_type": "stream",
          "text": [
            "WARNING:tensorflow:Model was constructed with shape (None, None, 1024) for input KerasTensor(type_spec=TensorSpec(shape=(None, None, 1024), dtype=tf.float32, name='input_77'), name='input_77', description=\"created by layer 'input_77'\"), but it was called on an input with incompatible shape (None, 1024).\n",
            "WARNING:tensorflow:Model was constructed with shape (None, None, 1024) for input KerasTensor(type_spec=TensorSpec(shape=(None, None, 1024), dtype=tf.float32, name='input_78'), name='input_78', description=\"created by layer 'input_78'\"), but it was called on an input with incompatible shape (None, 1024).\n"
          ]
        },
        {
          "name": "stdout",
          "output_type": "stream",
          "text": [
            "57/57 [==============================] - 6s 23ms/step - loss: 0.2728 - tp: 646.0000 - fp: 601.0000 - tn: 299.0000 - fn: 254.0000 - accuracy: 0.5250 - precision: 0.5180 - recall: 0.7178 - f1_score: 0.6657 - auc: 0.5477\n",
            "57/57 [==============================] - 2s 28ms/step - loss: 0.2013 - tp: 605.0000 - fp: 284.0000 - tn: 616.0000 - fn: 295.0000 - accuracy: 0.6783 - precision: 0.6805 - recall: 0.6722 - f1_score: 0.7325 - auc: 0.7534\n"
          ]
        },
        {
          "name": "stderr",
          "output_type": "stream",
          "text": [
            "WARNING:tensorflow:Model was constructed with shape (None, None, 1024) for input KerasTensor(type_spec=TensorSpec(shape=(None, None, 1024), dtype=tf.float32, name='input_77'), name='input_77', description=\"created by layer 'input_77'\"), but it was called on an input with incompatible shape (None, 1024).\n",
            "WARNING:tensorflow:Model was constructed with shape (None, None, 1024) for input KerasTensor(type_spec=TensorSpec(shape=(None, None, 1024), dtype=tf.float32, name='input_78'), name='input_78', description=\"created by layer 'input_78'\"), but it was called on an input with incompatible shape (None, 1024).\n"
          ]
        },
        {
          "name": "stdout",
          "output_type": "stream",
          "text": [
            "57/57 [==============================] - 3s 18ms/step\n",
            "57/57 [==============================] - 1s 10ms/step\n",
            "113/113 [==============================] - 2s 14ms/step\n",
            "\n",
            "[0.23238758742809296, 1108.0, 777.0, 1023.0, 692.0, 0.5919444561004639, 0.5877984166145325, 0.6155555844306946, 0.686313271522522, 0.6421226263046265] \n",
            " [0.25038355588912964, 586.0, 530.0, 370.0, 314.0, 0.5311111211776733, 0.5250896215438843, 0.6511111259460449, 0.6709192991256714, 0.5603048801422119] \n",
            " [0.21439163386821747, 522.0, 247.0, 653.0, 378.0, 0.6527777910232544, 0.6788036227226257, 0.5799999833106995, 0.7034713625907898, 0.7242715954780579] \n",
            "\n",
            "\n",
            "[0.23431721329689026, 1298.0, 889.0, 911.0, 502.0, 0.613611102104187, 0.5935071110725403, 0.7211111187934875, 0.6934673190116882, 0.6536651253700256] \n",
            " [0.2601182758808136, 712.0, 622.0, 278.0, 188.0, 0.550000011920929, 0.5337331295013428, 0.7911111116409302, 0.6661544442176819, 0.5592734813690186] \n",
            " [0.2085159868001938, 586.0, 267.0, 633.0, 314.0, 0.6772222518920898, 0.6869871020317078, 0.6511111259460449, 0.7261850237846375, 0.752193808555603] \n",
            "\n",
            "\n",
            "[0.23708581924438477, 1251.0, 885.0, 915.0, 549.0, 0.6016666889190674, 0.5856741666793823, 0.6949999928474426, 0.6965559124946594, 0.6505115628242493] \n",
            " [0.27284562587738037, 646.0, 601.0, 299.0, 254.0, 0.5249999761581421, 0.5180432796478271, 0.7177777886390686, 0.6656558513641357, 0.5477203726768494] \n",
            " [0.2013261616230011, 605.0, 284.0, 616.0, 295.0, 0.6783333420753479, 0.6805399060249329, 0.6722221970558167, 0.7324812412261963, 0.7533647418022156] \n",
            "\n",
            "\n"
          ]
        }
      ],
      "source": [
        "model1 = genModel(attention_merge)\n",
        "model2 = genModel(addition_merge)\n",
        "model3 = genModel(concatenate_merge)\n",
        "\n",
        "res1 = run(model1, 'model1.h5', '1')\n",
        "res2 = run(model2, 'model2.h5', '2')\n",
        "res3 = run(model3, 'model3.h5', '3')\n",
        "\n",
        "\n",
        "print()\n",
        "print(res1[0], '\\n', res1[1], '\\n', res1[2], '\\n\\n')\n",
        "print(res2[0], '\\n', res2[1], '\\n', res2[2], '\\n\\n')\n",
        "print(res3[0], '\\n', res3[1], '\\n', res3[2], '\\n\\n')\n",
        "\n"
      ]
    },
    {
      "cell_type": "markdown",
      "metadata": {
        "id": "r7Udvbsgd2Z9"
      },
      "source": [
        "The following snippet will print coherent result of the evaluation of each datasets."
      ]
    },
    {
      "cell_type": "code",
      "execution_count": null,
      "metadata": {
        "colab": {
          "base_uri": "https://localhost:8080/"
        },
        "id": "7V5HSKwhu9Aa",
        "outputId": "e043f0a0-c6fa-4488-c37c-0a55af18ca70"
      },
      "outputs": [
        {
          "name": "stdout",
          "output_type": "stream",
          "text": [
            "loss: 0.23238758742809296 - tp: 1108.0 - fp: 777.0 - tn: 1023.0 - fn: 692.0 - accuracy: 0.5919444561004639 - precision: 0.5877984166145325 - recall: 0.6155555844306946 - f1-score: 0.686313271522522 - auc: 0.6421226263046265 - \n",
            "loss: 0.25038355588912964 - tp: 586.0 - fp: 530.0 - tn: 370.0 - fn: 314.0 - accuracy: 0.5311111211776733 - precision: 0.5250896215438843 - recall: 0.6511111259460449 - f1-score: 0.6709192991256714 - auc: 0.5603048801422119 - \n",
            "loss: 0.21439163386821747 - tp: 522.0 - fp: 247.0 - tn: 653.0 - fn: 378.0 - accuracy: 0.6527777910232544 - precision: 0.6788036227226257 - recall: 0.5799999833106995 - f1-score: 0.7034713625907898 - auc: 0.7242715954780579 - \n",
            "\n",
            "loss: 0.23431721329689026 - tp: 1298.0 - fp: 889.0 - tn: 911.0 - fn: 502.0 - accuracy: 0.613611102104187 - precision: 0.5935071110725403 - recall: 0.7211111187934875 - f1-score: 0.6934673190116882 - auc: 0.6536651253700256 - \n",
            "loss: 0.2601182758808136 - tp: 712.0 - fp: 622.0 - tn: 278.0 - fn: 188.0 - accuracy: 0.550000011920929 - precision: 0.5337331295013428 - recall: 0.7911111116409302 - f1-score: 0.6661544442176819 - auc: 0.5592734813690186 - \n",
            "loss: 0.2085159868001938 - tp: 586.0 - fp: 267.0 - tn: 633.0 - fn: 314.0 - accuracy: 0.6772222518920898 - precision: 0.6869871020317078 - recall: 0.6511111259460449 - f1-score: 0.7261850237846375 - auc: 0.752193808555603 - \n",
            "\n",
            "loss: 0.23708581924438477 - tp: 1251.0 - fp: 885.0 - tn: 915.0 - fn: 549.0 - accuracy: 0.6016666889190674 - precision: 0.5856741666793823 - recall: 0.6949999928474426 - f1-score: 0.6965559124946594 - auc: 0.6505115628242493 - \n",
            "loss: 0.27284562587738037 - tp: 646.0 - fp: 601.0 - tn: 299.0 - fn: 254.0 - accuracy: 0.5249999761581421 - precision: 0.5180432796478271 - recall: 0.7177777886390686 - f1-score: 0.6656558513641357 - auc: 0.5477203726768494 - \n",
            "loss: 0.2013261616230011 - tp: 605.0 - fp: 284.0 - tn: 616.0 - fn: 295.0 - accuracy: 0.6783333420753479 - precision: 0.6805399060249329 - recall: 0.6722221970558167 - f1-score: 0.7324812412261963 - auc: 0.7533647418022156 - \n",
            "\n"
          ]
        }
      ],
      "source": [
        "def printing(results):\n",
        "\n",
        "  name = ['loss', 'tp', 'fp', 'tn', 'fn', 'accuracy', 'precision', 'recall', 'f1-score', 'auc']\n",
        "  for result in results:\n",
        "    op=''\n",
        "    for i in range(len(name)):\n",
        "      op+=name[i]+\": \"+ str(result[i]) +\" - \"\n",
        "    print(op)\n",
        "  print()\n",
        "\n",
        "\n",
        "\n",
        "\n",
        "printing(res1)\n",
        "printing(res2)\n",
        "printing(res3)\n",
        "\n"
      ]
    },
    {
      "cell_type": "code",
      "execution_count": null,
      "metadata": {
        "id": "BnJoadmpu9Ab"
      },
      "outputs": [],
      "source": [
        "# modelpath = \"/content/gdrive/MyDrive/embeddings/MODELS/model6979.h5\"\n",
        "# model = tf.keras.models.load_model(modelpath, custom_objects={'contrastive_loss': contrastive_loss})\n",
        "\n",
        "# # Print the model summary\n",
        "# model.summary()"
      ]
    },
    {
      "cell_type": "code",
      "execution_count": null,
      "metadata": {
        "colab": {
          "base_uri": "https://localhost:8080/",
          "height": 36
        },
        "id": "nJQ3CKA3u9Ab",
        "outputId": "7b1b15ad-2bd9-48f8-8904-3ea2ba26f2bf"
      },
      "outputs": [
        {
          "data": {
            "application/vnd.google.colaboratory.intrinsic+json": {
              "type": "string"
            },
            "text/plain": [
              "'/content/gdrive/MyDrive/embeddings/MODELS/model6965_66_732.h5'"
            ]
          },
          "execution_count": 167,
          "metadata": {},
          "output_type": "execute_result"
        }
      ],
      "source": [
        "# # new_model = tf.keras.models.load_model('model1.h5', custom_objects={'contrastive_loss': contrastive_loss})\n",
        "\n",
        "# # run(new_model)\n",
        "# import shutil\n",
        "# source_path = \"/content/model2.h5\"\n",
        "# destination_path = \"/content/gdrive/MyDrive/embeddings/MODELS/model6965_66_732.h5\"\n",
        "# shutil.copyfile(source_path, destination_path)"
      ]
    },
    {
      "cell_type": "markdown",
      "metadata": {
        "id": "vAomNYb1BCzV"
      },
      "source": [
        "# model - EARLY MERGE"
      ]
    },
    {
      "cell_type": "code",
      "execution_count": null,
      "metadata": {
        "id": "Jdu6OWbEBCzc"
      },
      "outputs": [],
      "source": [
        "from tensorflow.keras.layers import Input, Reshape, Lambda, LSTM, concatenate, Dense, Dropout, Attention\n",
        "from tensorflow.keras.models import Model\n",
        "from tensorflow.keras import backend as K"
      ]
    },
    {
      "cell_type": "markdown",
      "metadata": {
        "id": "yVP0HjfIc3Uu"
      },
      "source": [
        "The following function `genModel()` generates classification model."
      ]
    },
    {
      "cell_type": "code",
      "execution_count": null,
      "metadata": {
        "id": "MztrjtWgBCzd"
      },
      "outputs": [],
      "source": [
        "import tensorflow as tf\n",
        "import datetime\n",
        "\n",
        "def attention_merge(lstm_1, lstm_2):\n",
        "  attention = Attention()([lstm_1, lstm_2])\n",
        "  merged_lstm = attention * lstm_1 + (1 - attention) * lstm_2\n",
        "  return merged_lstm\n",
        "\n",
        "def addition_merge(lstm_1, lstm_2):\n",
        "  merged_lstm = lstm_1 + lstm_2\n",
        "  return merged_lstm\n",
        "\n",
        "def concatenate_merge(lstm_1, lstm_2):\n",
        "  merged_lstm = concatenate([lstm_1, lstm_2], axis=2)\n",
        "  return merged_lstm\n",
        "\n",
        "def genModel(merge):\n",
        "    input_1 = Input(shape=(None, feature_number))\n",
        "    input_2 = Input(shape=(None, feature_number))\n",
        "\n",
        "    # Reshape inputs to 3D tensors\n",
        "    lstm_input_1 = Reshape((-1, feature_number))(input_1)\n",
        "    lstm_input_2 = Reshape((-1, feature_number))(input_2)\n",
        "\n",
        "    lstm_1 = LSTM(units=256, return_sequences=True)(lstm_input_1)\n",
        "    lstm_2 = LSTM(units=256, return_sequences=True)(lstm_input_2)\n",
        "\n",
        "    # merged_lstm = attention_merge(lstm_1, lstm_2)\n",
        "    # merged_lstm = addition_merge(lstm_1, lstm_2)\n",
        "    # merged_lstm = concatenate_merge(lstm_1, lstm_2)\n",
        "    merged_lstm = merge(lstm_1, lstm_2)\n",
        "\n",
        "    merged_lstm = LSTM(units=128)(merged_lstm)\n",
        "    merged_lstm = Dropout(rate=0.1)(merged_lstm)\n",
        "    merged_lstm = Dense(units=256, activation='relu')(merged_lstm)\n",
        "    merged_lstm = Dropout(rate=0.1)(merged_lstm)\n",
        "\n",
        "    merged_lstm = Dense(units=256, activation='relu')(merged_lstm)\n",
        "    merged_lstm = Reshape((1, merged_lstm.shape[1]))(merged_lstm)\n",
        "    merged_lstm = Dropout(rate=0.1)(merged_lstm)\n",
        "    merged_lstm = LSTM(units=128, activation='tanh')(merged_lstm)\n",
        "\n",
        "    merged_lstm = Dense(units=128, activation='relu')(merged_lstm)\n",
        "    merged_lstm = Reshape((1, merged_lstm.shape[1]))(merged_lstm)\n",
        "    merged_lstm = Dropout(rate=0.1)(merged_lstm)\n",
        "    merged_lstm = LSTM(units=256, activation='tanh')(merged_lstm)\n",
        "    # merged_lstm = Dropout(rate=0.1)(merged_lstm)\n",
        "\n",
        "\n",
        "    output_layer = Dense(units=1, activation='sigmoid')(merged_lstm)\n",
        "\n",
        "    model = Model(inputs=[input_1, input_2], outputs=output_layer)\n",
        "\n",
        "\n",
        "    return model\n"
      ]
    },
    {
      "cell_type": "markdown",
      "metadata": {
        "id": "BU4wJQXHc3VD"
      },
      "source": [
        "The following function `run()` compiles and evaluates the model with 3 test datasets - Twitter dataset, Reddit Dataset, and their Combined Dataset. It also generates AUC-ROC curves of the datasets."
      ]
    },
    {
      "cell_type": "code",
      "execution_count": null,
      "metadata": {
        "id": "AHWYci2WBCzd"
      },
      "outputs": [],
      "source": [
        "import matplotlib.pyplot as plt\n",
        "from sklearn.metrics import auc, roc_curve, roc_auc_score\n",
        "def generate_auc_curve(y_true, y_pred_prob, model_name):\n",
        "    fpr, tpr, thresholds = roc_curve(y_true, y_pred_prob)\n",
        "    roc_auc = auc(fpr, tpr)\n",
        "\n",
        "    # Compute AUC scores for different thresholds\n",
        "    auc_scores = []\n",
        "    for threshold in thresholds:\n",
        "        y_pred_binary = (y_pred_prob >= threshold).astype(int)\n",
        "        auc_scores.append(roc_auc_score(y_true, y_pred_binary))\n",
        "\n",
        "    # Plot the AUC curve\n",
        "    plt.figure()\n",
        "    plt.plot(thresholds, auc_scores, label='AUC curve')\n",
        "    plt.xlabel('Threshold')\n",
        "    plt.ylabel('AUC score')\n",
        "    plt.title('AUC Curve - ' + model_name)\n",
        "    plt.legend(loc=\"lower right\")\n",
        "    plt.savefig( model_name + '__auc_curve.png')\n",
        "    plt.close()\n",
        "\n",
        "    return roc_auc\n",
        "\n",
        "\n",
        "def generate_ROC(model, x_test, y_test, name, n):\n",
        "    # Get predicted probabilities for ROC curve\n",
        "    y_pred_prob = model.predict([x_test[:, 0], x_test[:, 1]])\n",
        "\n",
        "\n",
        "    roc_auc = generate_auc_curve(y_test, y_pred_prob, name)\n",
        "\n",
        "    # Compute ROC curve and AUC score\n",
        "    fpr, tpr, thresholds = roc_curve(y_test, y_pred_prob)\n",
        "    roc_auc = roc_auc_score(y_test, y_pred_prob)\n",
        "\n",
        "    # Plot the ROC curve\n",
        "    plt.figure()\n",
        "    plt.plot(fpr, tpr, label='ROC curve (area = %0.2f)' % roc_auc)\n",
        "    plt.plot([0, 1], [0, 1], 'k--')\n",
        "    plt.xlim([0.0, 1.0])\n",
        "    plt.ylim([0.0, 1.05])\n",
        "    plt.xlabel('False Positive Rate')\n",
        "    plt.ylabel('True Positive Rate')\n",
        "    plt.title('Receiver Operating Characteristic')\n",
        "    plt.legend(loc=\"lower right\")\n",
        "\n",
        "    plt.savefig(name+'_roc_auc__'+n+'.png')\n",
        "    plt.close()\n",
        "\n",
        "\n",
        "\n",
        "def run(model, name, n):\n",
        "    name = '/content/gdrive/MyDrive/embeddings/MODELS/early/'+name\n",
        "\n",
        "    opt = tf.keras.optimizers.Adam(learning_rate=1e-3)\n",
        "\n",
        "    metrics = [\n",
        "        tf.keras.metrics.TruePositives(name='tp'),\n",
        "        tf.keras.metrics.FalsePositives(name='fp'),\n",
        "        tf.keras.metrics.TrueNegatives(name='tn'),\n",
        "        tf.keras.metrics.FalseNegatives(name='fn'),\n",
        "        tf.keras.metrics.BinaryAccuracy(name='accuracy'),\n",
        "        tf.keras.metrics.Precision(name='precision'),\n",
        "        tf.keras.metrics.Recall(name='recall'),\n",
        "        tfa.metrics.F1Score(num_classes=2, average='micro', threshold=0.2555),\n",
        "        tf.keras.metrics.AUC(name='auc')\n",
        "    ]\n",
        "\n",
        "    # Compile the model\n",
        "    model.compile(optimizer=opt, loss=contrastive_loss, metrics=metrics)\n",
        "\n",
        "    # Train the model\n",
        "    history = model.fit(x=[x_train[:, 0], x_train[:, 1]], y=y_train, batch_size=256, epochs=1000,\n",
        "                        validation_split=0.3, callbacks=[early_stop])\n",
        "\n",
        "    # Evaluate the model on the test set\n",
        "    test_ = model.evaluate(x=[x_test_[:, 0], x_test_[:, 1]], y=y_test_)\n",
        "    test2 = model.evaluate(x=[x_test2[:, 0], x_test2[:, 1]], y=y_test2)\n",
        "    test = model.evaluate(x=[x_test[:, 0], x_test[:, 1]], y=y_test)\n",
        "\n",
        "    # Save the model\n",
        "    model.save(name)\n",
        "\n",
        "    generate_ROC(model, x_test, y_test, 'twitter', n)\n",
        "    generate_ROC(model, x_test2, y_test2, 'reddit', n)\n",
        "    generate_ROC(model, x_test_, y_test_, 'combined', n)\n",
        "\n",
        "\n",
        "\n",
        "    return [test_, test2, test]\n",
        "\n"
      ]
    },
    {
      "cell_type": "markdown",
      "metadata": {
        "id": "uVILXkycc3VD"
      },
      "source": [
        "The following are the function calls for generating model, compiling and evaluating them."
      ]
    },
    {
      "cell_type": "code",
      "execution_count": null,
      "metadata": {
        "colab": {
          "base_uri": "https://localhost:8080/"
        },
        "id": "3mLWtLLJBCzd",
        "outputId": "7fa86942-e675-403e-a708-1bf8de9a4fc7"
      },
      "outputs": [
        {
          "name": "stdout",
          "output_type": "stream",
          "text": [
            "Epoch 1/1000\n"
          ]
        },
        {
          "name": "stderr",
          "output_type": "stream",
          "text": [
            "WARNING:tensorflow:Model was constructed with shape (None, None, 1024) for input KerasTensor(type_spec=TensorSpec(shape=(None, None, 1024), dtype=tf.float32, name='input_23'), name='input_23', description=\"created by layer 'input_23'\"), but it was called on an input with incompatible shape (None, 1024).\n",
            "WARNING:tensorflow:Model was constructed with shape (None, None, 1024) for input KerasTensor(type_spec=TensorSpec(shape=(None, None, 1024), dtype=tf.float32, name='input_24'), name='input_24', description=\"created by layer 'input_24'\"), but it was called on an input with incompatible shape (None, 1024).\n",
            "WARNING:tensorflow:Model was constructed with shape (None, None, 1024) for input KerasTensor(type_spec=TensorSpec(shape=(None, None, 1024), dtype=tf.float32, name='input_23'), name='input_23', description=\"created by layer 'input_23'\"), but it was called on an input with incompatible shape (None, 1024).\n",
            "WARNING:tensorflow:Model was constructed with shape (None, None, 1024) for input KerasTensor(type_spec=TensorSpec(shape=(None, None, 1024), dtype=tf.float32, name='input_24'), name='input_24', description=\"created by layer 'input_24'\"), but it was called on an input with incompatible shape (None, 1024).\n"
          ]
        },
        {
          "name": "stdout",
          "output_type": "stream",
          "text": [
            "26/26 [==============================] - ETA: 0s - loss: 0.2477 - tp: 1618.0000 - fp: 1336.0000 - tn: 1928.0000 - fn: 1698.0000 - accuracy: 0.5389 - precision: 0.5477 - recall: 0.4879 - f1_score: 0.6703 - auc: 0.5548"
          ]
        },
        {
          "name": "stderr",
          "output_type": "stream",
          "text": [
            "WARNING:tensorflow:Model was constructed with shape (None, None, 1024) for input KerasTensor(type_spec=TensorSpec(shape=(None, None, 1024), dtype=tf.float32, name='input_23'), name='input_23', description=\"created by layer 'input_23'\"), but it was called on an input with incompatible shape (None, 1024).\n",
            "WARNING:tensorflow:Model was constructed with shape (None, None, 1024) for input KerasTensor(type_spec=TensorSpec(shape=(None, None, 1024), dtype=tf.float32, name='input_24'), name='input_24', description=\"created by layer 'input_24'\"), but it was called on an input with incompatible shape (None, 1024).\n"
          ]
        },
        {
          "name": "stdout",
          "output_type": "stream",
          "text": [
            "\b\b\b\b\b\b\b\b\b\b\b\b\b\b\b\b\b\b\b\b\b\b\b\b\b\b\b\b\b\b\b\b\b\b\b\b\b\b\b\b\b\b\b\b\b\b\b\b\b\b\b\b\b\b\b\b\b\b\b\b\b\b\b\b\b\b\b\b\b\b\b\b\b\b\b\b\b\b\b\b\b\b\b\b\b\b\b\b\b\b\b\b\b\b\b\b\b\b\b\b\b\b\b\b\b\b\b\b\b\b\b\b\b\b\b\b\b\b\b\b\b\b\b\b\b\b\b\b\b\b\b\b\b\b\b\b\b\b\b\b\b\b\b\b\b\b\b\b\b\b\b\b\b\b\b\b\b\b\b\b\b\b\b\b\b\b\b\b\b\b\b\b\b\b\b\b\b\b\b\b\b\b\b\b\b\b\b\b\b\b\b\b\b\b\b\b\b\b\b\b\b\b\b\b\b\b\b\b\b\b\b\b\b\b\b\b\r26/26 [==============================] - 21s 382ms/step - loss: 0.2477 - tp: 1618.0000 - fp: 1336.0000 - tn: 1928.0000 - fn: 1698.0000 - accuracy: 0.5389 - precision: 0.5477 - recall: 0.4879 - f1_score: 0.6703 - auc: 0.5548 - val_loss: 0.2334 - val_tp: 1243.0000 - val_fp: 987.0000 - val_tn: 449.0000 - val_fn: 141.0000 - val_accuracy: 0.6000 - val_precision: 0.5574 - val_recall: 0.8981 - val_f1_score: 0.6732 - val_auc: 0.6396\n",
            "Epoch 2/1000\n",
            "26/26 [==============================] - 4s 141ms/step - loss: 0.2318 - tp: 2806.0000 - fp: 2146.0000 - tn: 1118.0000 - fn: 510.0000 - accuracy: 0.5964 - precision: 0.5666 - recall: 0.8462 - f1_score: 0.6961 - auc: 0.6290 - val_loss: 0.2408 - val_tp: 817.0000 - val_fp: 554.0000 - val_tn: 882.0000 - val_fn: 567.0000 - val_accuracy: 0.6025 - val_precision: 0.5959 - val_recall: 0.5903 - val_f1_score: 0.6799 - val_auc: 0.6585\n",
            "Epoch 3/1000\n",
            "26/26 [==============================] - 4s 143ms/step - loss: 0.2224 - tp: 2642.0000 - fp: 1736.0000 - tn: 1528.0000 - fn: 674.0000 - accuracy: 0.6337 - precision: 0.6035 - recall: 0.7967 - f1_score: 0.7040 - auc: 0.6751 - val_loss: 0.2223 - val_tp: 883.0000 - val_fp: 545.0000 - val_tn: 891.0000 - val_fn: 501.0000 - val_accuracy: 0.6291 - val_precision: 0.6183 - val_recall: 0.6380 - val_f1_score: 0.6985 - val_auc: 0.6889\n",
            "Epoch 4/1000\n",
            "26/26 [==============================] - 6s 236ms/step - loss: 0.2126 - tp: 2360.0000 - fp: 1331.0000 - tn: 1933.0000 - fn: 956.0000 - accuracy: 0.6524 - precision: 0.6394 - recall: 0.7117 - f1_score: 0.7090 - auc: 0.7153 - val_loss: 0.2562 - val_tp: 1349.0000 - val_fp: 1143.0000 - val_tn: 293.0000 - val_fn: 35.0000 - val_accuracy: 0.5823 - val_precision: 0.5413 - val_recall: 0.9747 - val_f1_score: 0.6776 - val_auc: 0.7008\n",
            "Epoch 5/1000\n",
            "26/26 [==============================] - 6s 230ms/step - loss: 0.2103 - tp: 2450.0000 - fp: 1368.0000 - tn: 1896.0000 - fn: 866.0000 - accuracy: 0.6605 - precision: 0.6417 - recall: 0.7388 - f1_score: 0.7115 - auc: 0.7207 - val_loss: 0.2151 - val_tp: 753.0000 - val_fp: 407.0000 - val_tn: 1029.0000 - val_fn: 631.0000 - val_accuracy: 0.6319 - val_precision: 0.6491 - val_recall: 0.5441 - val_f1_score: 0.6930 - val_auc: 0.7100\n",
            "Epoch 6/1000\n",
            "26/26 [==============================] - 4s 145ms/step - loss: 0.2000 - tp: 2390.0000 - fp: 1190.0000 - tn: 2074.0000 - fn: 926.0000 - accuracy: 0.6784 - precision: 0.6676 - recall: 0.7207 - f1_score: 0.7208 - auc: 0.7525 - val_loss: 0.2153 - val_tp: 939.0000 - val_fp: 533.0000 - val_tn: 903.0000 - val_fn: 445.0000 - val_accuracy: 0.6532 - val_precision: 0.6379 - val_recall: 0.6785 - val_f1_score: 0.7026 - val_auc: 0.7126\n",
            "Epoch 7/1000\n",
            "26/26 [==============================] - 4s 142ms/step - loss: 0.1879 - tp: 2476.0000 - fp: 1053.0000 - tn: 2211.0000 - fn: 840.0000 - accuracy: 0.7123 - precision: 0.7016 - recall: 0.7467 - f1_score: 0.7327 - auc: 0.7851 - val_loss: 0.2172 - val_tp: 1116.0000 - val_fp: 728.0000 - val_tn: 708.0000 - val_fn: 268.0000 - val_accuracy: 0.6468 - val_precision: 0.6052 - val_recall: 0.8064 - val_f1_score: 0.6986 - val_auc: 0.7053\n",
            "Epoch 8/1000\n",
            "26/26 [==============================] - 6s 253ms/step - loss: 0.1785 - tp: 2592.0000 - fp: 1036.0000 - tn: 2228.0000 - fn: 724.0000 - accuracy: 0.7325 - precision: 0.7144 - recall: 0.7817 - f1_score: 0.7459 - auc: 0.8068 - val_loss: 0.2222 - val_tp: 867.0000 - val_fp: 498.0000 - val_tn: 938.0000 - val_fn: 517.0000 - val_accuracy: 0.6401 - val_precision: 0.6352 - val_recall: 0.6264 - val_f1_score: 0.7011 - val_auc: 0.7050\n",
            "Epoch 9/1000\n",
            "26/26 [==============================] - 9s 359ms/step - loss: 0.1651 - tp: 2638.0000 - fp: 887.0000 - tn: 2377.0000 - fn: 678.0000 - accuracy: 0.7622 - precision: 0.7484 - recall: 0.7955 - f1_score: 0.7609 - auc: 0.8343 - val_loss: 0.2474 - val_tp: 797.0000 - val_fp: 425.0000 - val_tn: 1011.0000 - val_fn: 587.0000 - val_accuracy: 0.6411 - val_precision: 0.6522 - val_recall: 0.5759 - val_f1_score: 0.6716 - val_auc: 0.6994\n",
            "Epoch 10/1000\n",
            "26/26 [==============================] - 6s 237ms/step - loss: 0.1519 - tp: 2680.0000 - fp: 813.0000 - tn: 2451.0000 - fn: 636.0000 - accuracy: 0.7798 - precision: 0.7672 - recall: 0.8082 - f1_score: 0.7822 - auc: 0.8595 - val_loss: 0.2373 - val_tp: 853.0000 - val_fp: 507.0000 - val_tn: 929.0000 - val_fn: 531.0000 - val_accuracy: 0.6319 - val_precision: 0.6272 - val_recall: 0.6163 - val_f1_score: 0.6946 - val_auc: 0.6947\n",
            "Epoch 11/1000\n",
            "26/26 [==============================] - 9s 342ms/step - loss: 0.1311 - tp: 2757.0000 - fp: 664.0000 - tn: 2600.0000 - fn: 559.0000 - accuracy: 0.8141 - precision: 0.8059 - recall: 0.8314 - f1_score: 0.8104 - auc: 0.8922 - val_loss: 0.2717 - val_tp: 1124.0000 - val_fp: 781.0000 - val_tn: 655.0000 - val_fn: 260.0000 - val_accuracy: 0.6309 - val_precision: 0.5900 - val_recall: 0.8121 - val_f1_score: 0.6948 - val_auc: 0.6876\n",
            "Epoch 12/1000\n",
            "26/26 [==============================] - 7s 275ms/step - loss: 0.1182 - tp: 2827.0000 - fp: 609.0000 - tn: 2655.0000 - fn: 489.0000 - accuracy: 0.8331 - precision: 0.8228 - recall: 0.8525 - f1_score: 0.8323 - auc: 0.9105 - val_loss: 0.2717 - val_tp: 1050.0000 - val_fp: 765.0000 - val_tn: 671.0000 - val_fn: 334.0000 - val_accuracy: 0.6103 - val_precision: 0.5785 - val_recall: 0.7587 - val_f1_score: 0.6925 - val_auc: 0.6638\n",
            "Epoch 13/1000\n",
            "26/26 [==============================] - 4s 145ms/step - loss: 0.1211 - tp: 2841.0000 - fp: 617.0000 - tn: 2647.0000 - fn: 475.0000 - accuracy: 0.8340 - precision: 0.8216 - recall: 0.8568 - f1_score: 0.8246 - auc: 0.9070 - val_loss: 0.2566 - val_tp: 914.0000 - val_fp: 587.0000 - val_tn: 849.0000 - val_fn: 470.0000 - val_accuracy: 0.6252 - val_precision: 0.6089 - val_recall: 0.6604 - val_f1_score: 0.6832 - val_auc: 0.6788\n",
            "Epoch 14/1000\n",
            "26/26 [==============================] - 4s 143ms/step - loss: 0.1064 - tp: 2876.0000 - fp: 485.0000 - tn: 2779.0000 - fn: 440.0000 - accuracy: 0.8594 - precision: 0.8557 - recall: 0.8673 - f1_score: 0.8425 - auc: 0.9230 - val_loss: 0.3011 - val_tp: 681.0000 - val_fp: 414.0000 - val_tn: 1022.0000 - val_fn: 703.0000 - val_accuracy: 0.6039 - val_precision: 0.6219 - val_recall: 0.4921 - val_f1_score: 0.6088 - val_auc: 0.6684\n",
            "Epoch 15/1000\n",
            "26/26 [==============================] - 5s 201ms/step - loss: 0.1021 - tp: 2901.0000 - fp: 507.0000 - tn: 2757.0000 - fn: 415.0000 - accuracy: 0.8599 - precision: 0.8512 - recall: 0.8748 - f1_score: 0.8493 - auc: 0.9307 - val_loss: 0.2908 - val_tp: 883.0000 - val_fp: 543.0000 - val_tn: 893.0000 - val_fn: 501.0000 - val_accuracy: 0.6298 - val_precision: 0.6192 - val_recall: 0.6380 - val_f1_score: 0.6604 - val_auc: 0.6782\n",
            "113/113 [==============================] - 3s 23ms/step - loss: 0.2316 - tp: 958.0000 - fp: 619.0000 - tn: 1181.0000 - fn: 842.0000 - accuracy: 0.5942 - precision: 0.6075 - recall: 0.5322 - f1_score: 0.6909 - auc: 0.6471\n"
          ]
        },
        {
          "name": "stderr",
          "output_type": "stream",
          "text": [
            "WARNING:tensorflow:Model was constructed with shape (None, None, 1024) for input KerasTensor(type_spec=TensorSpec(shape=(None, None, 1024), dtype=tf.float32, name='input_23'), name='input_23', description=\"created by layer 'input_23'\"), but it was called on an input with incompatible shape (None, 1024).\n",
            "WARNING:tensorflow:Model was constructed with shape (None, None, 1024) for input KerasTensor(type_spec=TensorSpec(shape=(None, None, 1024), dtype=tf.float32, name='input_24'), name='input_24', description=\"created by layer 'input_24'\"), but it was called on an input with incompatible shape (None, 1024).\n"
          ]
        },
        {
          "name": "stdout",
          "output_type": "stream",
          "text": [
            "57/57 [==============================] - 7s 16ms/step - loss: 0.2530 - tp: 471.0000 - fp: 408.0000 - tn: 492.0000 - fn: 429.0000 - accuracy: 0.5350 - precision: 0.5358 - recall: 0.5233 - f1_score: 0.6707 - auc: 0.5565\n",
            "57/57 [==============================] - 1s 16ms/step - loss: 0.2102 - tp: 487.0000 - fp: 211.0000 - tn: 689.0000 - fn: 413.0000 - accuracy: 0.6533 - precision: 0.6977 - recall: 0.5411 - f1_score: 0.7130 - auc: 0.7335\n"
          ]
        },
        {
          "name": "stderr",
          "output_type": "stream",
          "text": [
            "WARNING:tensorflow:Model was constructed with shape (None, None, 1024) for input KerasTensor(type_spec=TensorSpec(shape=(None, None, 1024), dtype=tf.float32, name='input_23'), name='input_23', description=\"created by layer 'input_23'\"), but it was called on an input with incompatible shape (None, 1024).\n",
            "WARNING:tensorflow:Model was constructed with shape (None, None, 1024) for input KerasTensor(type_spec=TensorSpec(shape=(None, None, 1024), dtype=tf.float32, name='input_24'), name='input_24', description=\"created by layer 'input_24'\"), but it was called on an input with incompatible shape (None, 1024).\n"
          ]
        },
        {
          "name": "stdout",
          "output_type": "stream",
          "text": [
            "57/57 [==============================] - 3s 14ms/step\n",
            "57/57 [==============================] - 1s 17ms/step\n",
            "113/113 [==============================] - 3s 24ms/step\n",
            "Epoch 1/1000\n"
          ]
        },
        {
          "name": "stderr",
          "output_type": "stream",
          "text": [
            "WARNING:tensorflow:Model was constructed with shape (None, None, 1024) for input KerasTensor(type_spec=TensorSpec(shape=(None, None, 1024), dtype=tf.float32, name='input_25'), name='input_25', description=\"created by layer 'input_25'\"), but it was called on an input with incompatible shape (None, 1024).\n",
            "WARNING:tensorflow:Model was constructed with shape (None, None, 1024) for input KerasTensor(type_spec=TensorSpec(shape=(None, None, 1024), dtype=tf.float32, name='input_26'), name='input_26', description=\"created by layer 'input_26'\"), but it was called on an input with incompatible shape (None, 1024).\n",
            "WARNING:tensorflow:Model was constructed with shape (None, None, 1024) for input KerasTensor(type_spec=TensorSpec(shape=(None, None, 1024), dtype=tf.float32, name='input_25'), name='input_25', description=\"created by layer 'input_25'\"), but it was called on an input with incompatible shape (None, 1024).\n",
            "WARNING:tensorflow:Model was constructed with shape (None, None, 1024) for input KerasTensor(type_spec=TensorSpec(shape=(None, None, 1024), dtype=tf.float32, name='input_26'), name='input_26', description=\"created by layer 'input_26'\"), but it was called on an input with incompatible shape (None, 1024).\n"
          ]
        },
        {
          "name": "stdout",
          "output_type": "stream",
          "text": [
            "26/26 [==============================] - ETA: 0s - loss: 0.2494 - tp: 2435.0000 - fp: 2261.0000 - tn: 1003.0000 - fn: 881.0000 - accuracy: 0.5225 - precision: 0.5185 - recall: 0.7343 - f1_score: 0.6702 - auc: 0.5390"
          ]
        },
        {
          "name": "stderr",
          "output_type": "stream",
          "text": [
            "WARNING:tensorflow:Model was constructed with shape (None, None, 1024) for input KerasTensor(type_spec=TensorSpec(shape=(None, None, 1024), dtype=tf.float32, name='input_25'), name='input_25', description=\"created by layer 'input_25'\"), but it was called on an input with incompatible shape (None, 1024).\n",
            "WARNING:tensorflow:Model was constructed with shape (None, None, 1024) for input KerasTensor(type_spec=TensorSpec(shape=(None, None, 1024), dtype=tf.float32, name='input_26'), name='input_26', description=\"created by layer 'input_26'\"), but it was called on an input with incompatible shape (None, 1024).\n"
          ]
        },
        {
          "name": "stdout",
          "output_type": "stream",
          "text": [
            "\b\b\b\b\b\b\b\b\b\b\b\b\b\b\b\b\b\b\b\b\b\b\b\b\b\b\b\b\b\b\b\b\b\b\b\b\b\b\b\b\b\b\b\b\b\b\b\b\b\b\b\b\b\b\b\b\b\b\b\b\b\b\b\b\b\b\b\b\b\b\b\b\b\b\b\b\b\b\b\b\b\b\b\b\b\b\b\b\b\b\b\b\b\b\b\b\b\b\b\b\b\b\b\b\b\b\b\b\b\b\b\b\b\b\b\b\b\b\b\b\b\b\b\b\b\b\b\b\b\b\b\b\b\b\b\b\b\b\b\b\b\b\b\b\b\b\b\b\b\b\b\b\b\b\b\b\b\b\b\b\b\b\b\b\b\b\b\b\b\b\b\b\b\b\b\b\b\b\b\b\b\b\b\b\b\b\b\b\b\b\b\b\b\b\b\b\b\b\b\b\b\b\b\b\b\b\b\b\b\b\b\b\b\b\b\r26/26 [==============================] - 21s 295ms/step - loss: 0.2494 - tp: 2435.0000 - fp: 2261.0000 - tn: 1003.0000 - fn: 881.0000 - accuracy: 0.5225 - precision: 0.5185 - recall: 0.7343 - f1_score: 0.6702 - auc: 0.5390 - val_loss: 0.2420 - val_tp: 639.0000 - val_fp: 460.0000 - val_tn: 976.0000 - val_fn: 745.0000 - val_accuracy: 0.5727 - val_precision: 0.5814 - val_recall: 0.4617 - val_f1_score: 0.6584 - val_auc: 0.6188\n",
            "Epoch 2/1000\n",
            "26/26 [==============================] - 4s 139ms/step - loss: 0.2281 - tp: 2576.0000 - fp: 1757.0000 - tn: 1507.0000 - fn: 740.0000 - accuracy: 0.6205 - precision: 0.5945 - recall: 0.7768 - f1_score: 0.6916 - auc: 0.6606 - val_loss: 0.2225 - val_tp: 887.0000 - val_fp: 590.0000 - val_tn: 846.0000 - val_fn: 497.0000 - val_accuracy: 0.6145 - val_precision: 0.6005 - val_recall: 0.6409 - val_f1_score: 0.7017 - val_auc: 0.6778\n",
            "Epoch 3/1000\n",
            "26/26 [==============================] - 5s 204ms/step - loss: 0.2161 - tp: 2475.0000 - fp: 1507.0000 - tn: 1757.0000 - fn: 841.0000 - accuracy: 0.6432 - precision: 0.6215 - recall: 0.7464 - f1_score: 0.7068 - auc: 0.7016 - val_loss: 0.2197 - val_tp: 678.0000 - val_fp: 361.0000 - val_tn: 1075.0000 - val_fn: 706.0000 - val_accuracy: 0.6216 - val_precision: 0.6526 - val_recall: 0.4899 - val_f1_score: 0.7033 - val_auc: 0.6966\n",
            "Epoch 4/1000\n",
            "26/26 [==============================] - 7s 253ms/step - loss: 0.2087 - tp: 2294.0000 - fp: 1245.0000 - tn: 2019.0000 - fn: 1022.0000 - accuracy: 0.6555 - precision: 0.6482 - recall: 0.6918 - f1_score: 0.7128 - auc: 0.7272 - val_loss: 0.2171 - val_tp: 1129.0000 - val_fp: 749.0000 - val_tn: 687.0000 - val_fn: 255.0000 - val_accuracy: 0.6440 - val_precision: 0.6012 - val_recall: 0.8158 - val_f1_score: 0.6962 - val_auc: 0.7157\n",
            "Epoch 5/1000\n",
            "26/26 [==============================] - 4s 171ms/step - loss: 0.2010 - tp: 2309.0000 - fp: 1135.0000 - tn: 2129.0000 - fn: 1007.0000 - accuracy: 0.6745 - precision: 0.6704 - recall: 0.6963 - f1_score: 0.7194 - auc: 0.7490 - val_loss: 0.2163 - val_tp: 1228.0000 - val_fp: 883.0000 - val_tn: 553.0000 - val_fn: 156.0000 - val_accuracy: 0.6316 - val_precision: 0.5817 - val_recall: 0.8873 - val_f1_score: 0.6955 - val_auc: 0.7202\n",
            "Epoch 6/1000\n",
            "26/26 [==============================] - 4s 141ms/step - loss: 0.1919 - tp: 2397.0000 - fp: 1079.0000 - tn: 2185.0000 - fn: 919.0000 - accuracy: 0.6964 - precision: 0.6896 - recall: 0.7229 - f1_score: 0.7271 - auc: 0.7743 - val_loss: 0.2189 - val_tp: 690.0000 - val_fp: 327.0000 - val_tn: 1109.0000 - val_fn: 694.0000 - val_accuracy: 0.6379 - val_precision: 0.6785 - val_recall: 0.4986 - val_f1_score: 0.7029 - val_auc: 0.7153\n",
            "Epoch 7/1000\n",
            "26/26 [==============================] - 5s 212ms/step - loss: 0.1829 - tp: 2330.0000 - fp: 870.0000 - tn: 2394.0000 - fn: 986.0000 - accuracy: 0.7179 - precision: 0.7281 - recall: 0.7027 - f1_score: 0.7359 - auc: 0.7978 - val_loss: 0.2167 - val_tp: 1068.0000 - val_fp: 688.0000 - val_tn: 748.0000 - val_fn: 316.0000 - val_accuracy: 0.6440 - val_precision: 0.6082 - val_recall: 0.7717 - val_f1_score: 0.7027 - val_auc: 0.7163\n",
            "Epoch 8/1000\n",
            "26/26 [==============================] - 6s 250ms/step - loss: 0.1731 - tp: 2536.0000 - fp: 960.0000 - tn: 2304.0000 - fn: 780.0000 - accuracy: 0.7356 - precision: 0.7254 - recall: 0.7648 - f1_score: 0.7483 - auc: 0.8189 - val_loss: 0.2548 - val_tp: 835.0000 - val_fp: 518.0000 - val_tn: 918.0000 - val_fn: 549.0000 - val_accuracy: 0.6216 - val_precision: 0.6171 - val_recall: 0.6033 - val_f1_score: 0.6702 - val_auc: 0.6899\n",
            "Epoch 9/1000\n",
            "26/26 [==============================] - 4s 140ms/step - loss: 0.1721 - tp: 2520.0000 - fp: 895.0000 - tn: 2369.0000 - fn: 796.0000 - accuracy: 0.7430 - precision: 0.7379 - recall: 0.7600 - f1_score: 0.7450 - auc: 0.8219 - val_loss: 0.2258 - val_tp: 1077.0000 - val_fp: 712.0000 - val_tn: 724.0000 - val_fn: 307.0000 - val_accuracy: 0.6387 - val_precision: 0.6020 - val_recall: 0.7782 - val_f1_score: 0.6936 - val_auc: 0.7052\n",
            "Epoch 10/1000\n",
            "26/26 [==============================] - 4s 138ms/step - loss: 0.1624 - tp: 2560.0000 - fp: 815.0000 - tn: 2449.0000 - fn: 756.0000 - accuracy: 0.7612 - precision: 0.7585 - recall: 0.7720 - f1_score: 0.7555 - auc: 0.8413 - val_loss: 0.2346 - val_tp: 933.0000 - val_fp: 619.0000 - val_tn: 817.0000 - val_fn: 451.0000 - val_accuracy: 0.6206 - val_precision: 0.6012 - val_recall: 0.6741 - val_f1_score: 0.7101 - val_auc: 0.6857\n",
            "Epoch 11/1000\n",
            "26/26 [==============================] - 5s 185ms/step - loss: 0.1540 - tp: 2610.0000 - fp: 796.0000 - tn: 2468.0000 - fn: 706.0000 - accuracy: 0.7717 - precision: 0.7663 - recall: 0.7871 - f1_score: 0.7656 - auc: 0.8567 - val_loss: 0.2579 - val_tp: 424.0000 - val_fp: 205.0000 - val_tn: 1231.0000 - val_fn: 960.0000 - val_accuracy: 0.5869 - val_precision: 0.6741 - val_recall: 0.3064 - val_f1_score: 0.6649 - val_auc: 0.6924\n",
            "Epoch 12/1000\n",
            "26/26 [==============================] - 6s 233ms/step - loss: 0.1359 - tp: 2657.0000 - fp: 624.0000 - tn: 2640.0000 - fn: 659.0000 - accuracy: 0.8050 - precision: 0.8098 - recall: 0.8013 - f1_score: 0.7980 - auc: 0.8870 - val_loss: 0.2579 - val_tp: 1028.0000 - val_fp: 652.0000 - val_tn: 784.0000 - val_fn: 356.0000 - val_accuracy: 0.6426 - val_precision: 0.6119 - val_recall: 0.7428 - val_f1_score: 0.6974 - val_auc: 0.6929\n",
            "Epoch 13/1000\n",
            "26/26 [==============================] - 4s 169ms/step - loss: 0.1242 - tp: 2761.0000 - fp: 627.0000 - tn: 2637.0000 - fn: 555.0000 - accuracy: 0.8204 - precision: 0.8149 - recall: 0.8326 - f1_score: 0.8163 - auc: 0.9039 - val_loss: 0.2573 - val_tp: 1054.0000 - val_fp: 706.0000 - val_tn: 730.0000 - val_fn: 330.0000 - val_accuracy: 0.6326 - val_precision: 0.5989 - val_recall: 0.7616 - val_f1_score: 0.6859 - val_auc: 0.6793\n",
            "Epoch 14/1000\n",
            "26/26 [==============================] - 4s 139ms/step - loss: 0.1051 - tp: 2888.0000 - fp: 516.0000 - tn: 2748.0000 - fn: 428.0000 - accuracy: 0.8565 - precision: 0.8484 - recall: 0.8709 - f1_score: 0.8453 - auc: 0.9272 - val_loss: 0.2880 - val_tp: 1056.0000 - val_fp: 739.0000 - val_tn: 697.0000 - val_fn: 328.0000 - val_accuracy: 0.6216 - val_precision: 0.5883 - val_recall: 0.7630 - val_f1_score: 0.6809 - val_auc: 0.6795\n",
            "Epoch 15/1000\n",
            "26/26 [==============================] - 4s 141ms/step - loss: 0.1124 - tp: 2824.0000 - fp: 547.0000 - tn: 2717.0000 - fn: 492.0000 - accuracy: 0.8421 - precision: 0.8377 - recall: 0.8516 - f1_score: 0.8301 - auc: 0.9199 - val_loss: 0.2705 - val_tp: 951.0000 - val_fp: 587.0000 - val_tn: 849.0000 - val_fn: 433.0000 - val_accuracy: 0.6383 - val_precision: 0.6183 - val_recall: 0.6871 - val_f1_score: 0.6817 - val_auc: 0.6820\n",
            "113/113 [==============================] - 3s 22ms/step - loss: 0.2390 - tp: 1586.0000 - fp: 1235.0000 - tn: 565.0000 - fn: 214.0000 - accuracy: 0.5975 - precision: 0.5622 - recall: 0.8811 - f1_score: 0.6900 - auc: 0.6437\n"
          ]
        },
        {
          "name": "stderr",
          "output_type": "stream",
          "text": [
            "WARNING:tensorflow:Model was constructed with shape (None, None, 1024) for input KerasTensor(type_spec=TensorSpec(shape=(None, None, 1024), dtype=tf.float32, name='input_25'), name='input_25', description=\"created by layer 'input_25'\"), but it was called on an input with incompatible shape (None, 1024).\n",
            "WARNING:tensorflow:Model was constructed with shape (None, None, 1024) for input KerasTensor(type_spec=TensorSpec(shape=(None, None, 1024), dtype=tf.float32, name='input_26'), name='input_26', description=\"created by layer 'input_26'\"), but it was called on an input with incompatible shape (None, 1024).\n"
          ]
        },
        {
          "name": "stdout",
          "output_type": "stream",
          "text": [
            "57/57 [==============================] - 8s 15ms/step - loss: 0.2726 - tp: 811.0000 - fp: 771.0000 - tn: 129.0000 - fn: 89.0000 - accuracy: 0.5222 - precision: 0.5126 - recall: 0.9011 - f1_score: 0.6682 - auc: 0.5411\n",
            "57/57 [==============================] - 1s 15ms/step - loss: 0.2054 - tp: 775.0000 - fp: 464.0000 - tn: 436.0000 - fn: 125.0000 - accuracy: 0.6728 - precision: 0.6255 - recall: 0.8611 - f1_score: 0.7138 - auc: 0.7416\n"
          ]
        },
        {
          "name": "stderr",
          "output_type": "stream",
          "text": [
            "WARNING:tensorflow:Model was constructed with shape (None, None, 1024) for input KerasTensor(type_spec=TensorSpec(shape=(None, None, 1024), dtype=tf.float32, name='input_25'), name='input_25', description=\"created by layer 'input_25'\"), but it was called on an input with incompatible shape (None, 1024).\n",
            "WARNING:tensorflow:Model was constructed with shape (None, None, 1024) for input KerasTensor(type_spec=TensorSpec(shape=(None, None, 1024), dtype=tf.float32, name='input_26'), name='input_26', description=\"created by layer 'input_26'\"), but it was called on an input with incompatible shape (None, 1024).\n"
          ]
        },
        {
          "name": "stdout",
          "output_type": "stream",
          "text": [
            "57/57 [==============================] - 3s 13ms/step\n",
            "57/57 [==============================] - 1s 14ms/step\n",
            "113/113 [==============================] - 2s 20ms/step\n",
            "Epoch 1/1000\n"
          ]
        },
        {
          "name": "stderr",
          "output_type": "stream",
          "text": [
            "WARNING:tensorflow:Model was constructed with shape (None, None, 1024) for input KerasTensor(type_spec=TensorSpec(shape=(None, None, 1024), dtype=tf.float32, name='input_27'), name='input_27', description=\"created by layer 'input_27'\"), but it was called on an input with incompatible shape (None, 1024).\n",
            "WARNING:tensorflow:Model was constructed with shape (None, None, 1024) for input KerasTensor(type_spec=TensorSpec(shape=(None, None, 1024), dtype=tf.float32, name='input_28'), name='input_28', description=\"created by layer 'input_28'\"), but it was called on an input with incompatible shape (None, 1024).\n",
            "WARNING:tensorflow:Model was constructed with shape (None, None, 1024) for input KerasTensor(type_spec=TensorSpec(shape=(None, None, 1024), dtype=tf.float32, name='input_27'), name='input_27', description=\"created by layer 'input_27'\"), but it was called on an input with incompatible shape (None, 1024).\n",
            "WARNING:tensorflow:Model was constructed with shape (None, None, 1024) for input KerasTensor(type_spec=TensorSpec(shape=(None, None, 1024), dtype=tf.float32, name='input_28'), name='input_28', description=\"created by layer 'input_28'\"), but it was called on an input with incompatible shape (None, 1024).\n"
          ]
        },
        {
          "name": "stdout",
          "output_type": "stream",
          "text": [
            "26/26 [==============================] - ETA: 0s - loss: 0.2482 - tp: 2443.0000 - fp: 2203.0000 - tn: 1061.0000 - fn: 873.0000 - accuracy: 0.5325 - precision: 0.5258 - recall: 0.7367 - f1_score: 0.6702 - auc: 0.5529"
          ]
        },
        {
          "name": "stderr",
          "output_type": "stream",
          "text": [
            "WARNING:tensorflow:Model was constructed with shape (None, None, 1024) for input KerasTensor(type_spec=TensorSpec(shape=(None, None, 1024), dtype=tf.float32, name='input_27'), name='input_27', description=\"created by layer 'input_27'\"), but it was called on an input with incompatible shape (None, 1024).\n",
            "WARNING:tensorflow:Model was constructed with shape (None, None, 1024) for input KerasTensor(type_spec=TensorSpec(shape=(None, None, 1024), dtype=tf.float32, name='input_28'), name='input_28', description=\"created by layer 'input_28'\"), but it was called on an input with incompatible shape (None, 1024).\n"
          ]
        },
        {
          "name": "stdout",
          "output_type": "stream",
          "text": [
            "\b\b\b\b\b\b\b\b\b\b\b\b\b\b\b\b\b\b\b\b\b\b\b\b\b\b\b\b\b\b\b\b\b\b\b\b\b\b\b\b\b\b\b\b\b\b\b\b\b\b\b\b\b\b\b\b\b\b\b\b\b\b\b\b\b\b\b\b\b\b\b\b\b\b\b\b\b\b\b\b\b\b\b\b\b\b\b\b\b\b\b\b\b\b\b\b\b\b\b\b\b\b\b\b\b\b\b\b\b\b\b\b\b\b\b\b\b\b\b\b\b\b\b\b\b\b\b\b\b\b\b\b\b\b\b\b\b\b\b\b\b\b\b\b\b\b\b\b\b\b\b\b\b\b\b\b\b\b\b\b\b\b\b\b\b\b\b\b\b\b\b\b\b\b\b\b\b\b\b\b\b\b\b\b\b\b\b\b\b\b\b\b\b\b\b\b\b\b\b\b\b\b\b\b\b\b\b\b\b\b\b\b\b\b\b\r26/26 [==============================] - 22s 424ms/step - loss: 0.2482 - tp: 2443.0000 - fp: 2203.0000 - tn: 1061.0000 - fn: 873.0000 - accuracy: 0.5325 - precision: 0.5258 - recall: 0.7367 - f1_score: 0.6702 - auc: 0.5529 - val_loss: 0.2484 - val_tp: 1352.0000 - val_fp: 1180.0000 - val_tn: 256.0000 - val_fn: 32.0000 - val_accuracy: 0.5702 - val_precision: 0.5340 - val_recall: 0.9769 - val_f1_score: 0.6584 - val_auc: 0.6497\n",
            "Epoch 2/1000\n",
            "26/26 [==============================] - 4s 143ms/step - loss: 0.2355 - tp: 2677.0000 - fp: 1997.0000 - tn: 1267.0000 - fn: 639.0000 - accuracy: 0.5994 - precision: 0.5727 - recall: 0.8073 - f1_score: 0.6830 - auc: 0.6154 - val_loss: 0.2265 - val_tp: 1141.0000 - val_fp: 838.0000 - val_tn: 598.0000 - val_fn: 243.0000 - val_accuracy: 0.6167 - val_precision: 0.5766 - val_recall: 0.8244 - val_f1_score: 0.7011 - val_auc: 0.6664\n",
            "Epoch 3/1000\n",
            "26/26 [==============================] - 4s 143ms/step - loss: 0.2207 - tp: 2737.0000 - fp: 1849.0000 - tn: 1415.0000 - fn: 579.0000 - accuracy: 0.6310 - precision: 0.5968 - recall: 0.8254 - f1_score: 0.7085 - auc: 0.6796 - val_loss: 0.2205 - val_tp: 1171.0000 - val_fp: 857.0000 - val_tn: 579.0000 - val_fn: 213.0000 - val_accuracy: 0.6206 - val_precision: 0.5774 - val_recall: 0.8461 - val_f1_score: 0.6940 - val_auc: 0.6938\n",
            "Epoch 4/1000\n",
            "26/26 [==============================] - 5s 196ms/step - loss: 0.2171 - tp: 2616.0000 - fp: 1688.0000 - tn: 1576.0000 - fn: 700.0000 - accuracy: 0.6371 - precision: 0.6078 - recall: 0.7889 - f1_score: 0.7040 - auc: 0.7014 - val_loss: 0.2151 - val_tp: 805.0000 - val_fp: 461.0000 - val_tn: 975.0000 - val_fn: 579.0000 - val_accuracy: 0.6312 - val_precision: 0.6359 - val_recall: 0.5816 - val_f1_score: 0.7022 - val_auc: 0.7013\n",
            "Epoch 5/1000\n",
            "26/26 [==============================] - 7s 257ms/step - loss: 0.2094 - tp: 2244.0000 - fp: 1169.0000 - tn: 2095.0000 - fn: 1072.0000 - accuracy: 0.6594 - precision: 0.6575 - recall: 0.6767 - f1_score: 0.7142 - auc: 0.7268 - val_loss: 0.2152 - val_tp: 778.0000 - val_fp: 419.0000 - val_tn: 1017.0000 - val_fn: 606.0000 - val_accuracy: 0.6365 - val_precision: 0.6500 - val_recall: 0.5621 - val_f1_score: 0.6972 - val_auc: 0.7075\n",
            "Epoch 6/1000\n",
            "26/26 [==============================] - 4s 147ms/step - loss: 0.2015 - tp: 2383.0000 - fp: 1178.0000 - tn: 2086.0000 - fn: 933.0000 - accuracy: 0.6792 - precision: 0.6692 - recall: 0.7186 - f1_score: 0.7202 - auc: 0.7485 - val_loss: 0.2128 - val_tp: 998.0000 - val_fp: 608.0000 - val_tn: 828.0000 - val_fn: 386.0000 - val_accuracy: 0.6475 - val_precision: 0.6214 - val_recall: 0.7211 - val_f1_score: 0.7088 - val_auc: 0.7123\n",
            "Epoch 7/1000\n",
            "26/26 [==============================] - 4s 142ms/step - loss: 0.1947 - tp: 2499.0000 - fp: 1173.0000 - tn: 2091.0000 - fn: 817.0000 - accuracy: 0.6976 - precision: 0.6806 - recall: 0.7536 - f1_score: 0.7255 - auc: 0.7685 - val_loss: 0.2167 - val_tp: 753.0000 - val_fp: 379.0000 - val_tn: 1057.0000 - val_fn: 631.0000 - val_accuracy: 0.6418 - val_precision: 0.6652 - val_recall: 0.5441 - val_f1_score: 0.7086 - val_auc: 0.7157\n",
            "Epoch 8/1000\n",
            "26/26 [==============================] - 5s 190ms/step - loss: 0.1915 - tp: 2441.0000 - fp: 1064.0000 - tn: 2200.0000 - fn: 875.0000 - accuracy: 0.7053 - precision: 0.6964 - recall: 0.7361 - f1_score: 0.7276 - auc: 0.7773 - val_loss: 0.2221 - val_tp: 1082.0000 - val_fp: 741.0000 - val_tn: 695.0000 - val_fn: 302.0000 - val_accuracy: 0.6301 - val_precision: 0.5935 - val_recall: 0.7818 - val_f1_score: 0.6801 - val_auc: 0.7014\n",
            "Epoch 9/1000\n",
            "26/26 [==============================] - 7s 264ms/step - loss: 0.1744 - tp: 2529.0000 - fp: 910.0000 - tn: 2354.0000 - fn: 787.0000 - accuracy: 0.7421 - precision: 0.7354 - recall: 0.7627 - f1_score: 0.7490 - auc: 0.8167 - val_loss: 0.2236 - val_tp: 1049.0000 - val_fp: 645.0000 - val_tn: 791.0000 - val_fn: 335.0000 - val_accuracy: 0.6525 - val_precision: 0.6192 - val_recall: 0.7579 - val_f1_score: 0.7078 - val_auc: 0.7145\n",
            "Epoch 10/1000\n",
            "26/26 [==============================] - 4s 170ms/step - loss: 0.1639 - tp: 2594.0000 - fp: 881.0000 - tn: 2383.0000 - fn: 722.0000 - accuracy: 0.7564 - precision: 0.7465 - recall: 0.7823 - f1_score: 0.7623 - auc: 0.8380 - val_loss: 0.2262 - val_tp: 834.0000 - val_fp: 451.0000 - val_tn: 985.0000 - val_fn: 550.0000 - val_accuracy: 0.6450 - val_precision: 0.6490 - val_recall: 0.6026 - val_f1_score: 0.6939 - val_auc: 0.7031\n",
            "Epoch 11/1000\n",
            "26/26 [==============================] - 4s 141ms/step - loss: 0.1463 - tp: 2740.0000 - fp: 784.0000 - tn: 2480.0000 - fn: 576.0000 - accuracy: 0.7933 - precision: 0.7775 - recall: 0.8263 - f1_score: 0.7899 - auc: 0.8678 - val_loss: 0.2464 - val_tp: 892.0000 - val_fp: 517.0000 - val_tn: 919.0000 - val_fn: 492.0000 - val_accuracy: 0.6422 - val_precision: 0.6331 - val_recall: 0.6445 - val_f1_score: 0.6872 - val_auc: 0.7054\n",
            "Epoch 12/1000\n",
            "26/26 [==============================] - 4s 148ms/step - loss: 0.1322 - tp: 2778.0000 - fp: 690.0000 - tn: 2574.0000 - fn: 538.0000 - accuracy: 0.8134 - precision: 0.8010 - recall: 0.8378 - f1_score: 0.8112 - auc: 0.8910 - val_loss: 0.2507 - val_tp: 990.0000 - val_fp: 634.0000 - val_tn: 802.0000 - val_fn: 394.0000 - val_accuracy: 0.6355 - val_precision: 0.6096 - val_recall: 0.7153 - val_f1_score: 0.7024 - val_auc: 0.6973\n",
            "Epoch 13/1000\n",
            "26/26 [==============================] - 7s 257ms/step - loss: 0.1222 - tp: 2820.0000 - fp: 628.0000 - tn: 2636.0000 - fn: 496.0000 - accuracy: 0.8292 - precision: 0.8179 - recall: 0.8504 - f1_score: 0.8199 - auc: 0.9053 - val_loss: 0.2721 - val_tp: 772.0000 - val_fp: 430.0000 - val_tn: 1006.0000 - val_fn: 612.0000 - val_accuracy: 0.6305 - val_precision: 0.6423 - val_recall: 0.5578 - val_f1_score: 0.6583 - val_auc: 0.6910\n",
            "Epoch 14/1000\n",
            "26/26 [==============================] - 5s 191ms/step - loss: 0.1103 - tp: 2859.0000 - fp: 566.0000 - tn: 2698.0000 - fn: 457.0000 - accuracy: 0.8445 - precision: 0.8347 - recall: 0.8622 - f1_score: 0.8435 - auc: 0.9212 - val_loss: 0.2732 - val_tp: 792.0000 - val_fp: 446.0000 - val_tn: 990.0000 - val_fn: 592.0000 - val_accuracy: 0.6319 - val_precision: 0.6397 - val_recall: 0.5723 - val_f1_score: 0.6510 - val_auc: 0.6831\n",
            "Epoch 15/1000\n",
            "26/26 [==============================] - 4s 142ms/step - loss: 0.1007 - tp: 2896.0000 - fp: 495.0000 - tn: 2769.0000 - fn: 420.0000 - accuracy: 0.8609 - precision: 0.8540 - recall: 0.8733 - f1_score: 0.8572 - auc: 0.9321 - val_loss: 0.2829 - val_tp: 1014.0000 - val_fp: 653.0000 - val_tn: 783.0000 - val_fn: 370.0000 - val_accuracy: 0.6372 - val_precision: 0.6083 - val_recall: 0.7327 - val_f1_score: 0.6803 - val_auc: 0.6731\n",
            "Epoch 16/1000\n",
            "26/26 [==============================] - 4s 174ms/step - loss: 0.0861 - tp: 3011.0000 - fp: 453.0000 - tn: 2811.0000 - fn: 305.0000 - accuracy: 0.8848 - precision: 0.8692 - recall: 0.9080 - f1_score: 0.8810 - auc: 0.9451 - val_loss: 0.2935 - val_tp: 697.0000 - val_fp: 409.0000 - val_tn: 1027.0000 - val_fn: 687.0000 - val_accuracy: 0.6113 - val_precision: 0.6302 - val_recall: 0.5036 - val_f1_score: 0.6297 - val_auc: 0.6737\n",
            "113/113 [==============================] - 3s 26ms/step - loss: 0.2363 - tp: 1250.0000 - fp: 843.0000 - tn: 957.0000 - fn: 550.0000 - accuracy: 0.6131 - precision: 0.5972 - recall: 0.6944 - f1_score: 0.6905 - auc: 0.6525\n"
          ]
        },
        {
          "name": "stderr",
          "output_type": "stream",
          "text": [
            "WARNING:tensorflow:Model was constructed with shape (None, None, 1024) for input KerasTensor(type_spec=TensorSpec(shape=(None, None, 1024), dtype=tf.float32, name='input_27'), name='input_27', description=\"created by layer 'input_27'\"), but it was called on an input with incompatible shape (None, 1024).\n",
            "WARNING:tensorflow:Model was constructed with shape (None, None, 1024) for input KerasTensor(type_spec=TensorSpec(shape=(None, None, 1024), dtype=tf.float32, name='input_28'), name='input_28', description=\"created by layer 'input_28'\"), but it was called on an input with incompatible shape (None, 1024).\n"
          ]
        },
        {
          "name": "stdout",
          "output_type": "stream",
          "text": [
            "57/57 [==============================] - 9s 20ms/step - loss: 0.2600 - tp: 684.0000 - fp: 596.0000 - tn: 304.0000 - fn: 216.0000 - accuracy: 0.5489 - precision: 0.5344 - recall: 0.7600 - f1_score: 0.6667 - auc: 0.5707\n",
            "57/57 [==============================] - 1s 16ms/step - loss: 0.2126 - tp: 566.0000 - fp: 247.0000 - tn: 653.0000 - fn: 334.0000 - accuracy: 0.6772 - precision: 0.6962 - recall: 0.6289 - f1_score: 0.7192 - auc: 0.7418\n"
          ]
        },
        {
          "name": "stderr",
          "output_type": "stream",
          "text": [
            "WARNING:tensorflow:Model was constructed with shape (None, None, 1024) for input KerasTensor(type_spec=TensorSpec(shape=(None, None, 1024), dtype=tf.float32, name='input_27'), name='input_27', description=\"created by layer 'input_27'\"), but it was called on an input with incompatible shape (None, 1024).\n",
            "WARNING:tensorflow:Model was constructed with shape (None, None, 1024) for input KerasTensor(type_spec=TensorSpec(shape=(None, None, 1024), dtype=tf.float32, name='input_28'), name='input_28', description=\"created by layer 'input_28'\"), but it was called on an input with incompatible shape (None, 1024).\n"
          ]
        },
        {
          "name": "stdout",
          "output_type": "stream",
          "text": [
            "57/57 [==============================] - 3s 14ms/step\n",
            "57/57 [==============================] - 1s 13ms/step\n",
            "113/113 [==============================] - 3s 23ms/step\n",
            "\n",
            "[0.23164039850234985, 958.0, 619.0, 1181.0, 842.0, 0.5941666960716248, 0.6074825525283813, 0.5322222113609314, 0.6908949017524719, 0.6470529437065125] \n",
            " [0.2530324459075928, 471.0, 408.0, 492.0, 429.0, 0.5350000262260437, 0.5358361601829529, 0.5233333110809326, 0.6706587076187134, 0.5564839839935303] \n",
            " [0.21024829149246216, 487.0, 211.0, 689.0, 413.0, 0.653333306312561, 0.6977077126502991, 0.5411111116409302, 0.7130008339881897, 0.7335265874862671] \n",
            "\n",
            "\n",
            "[0.23899134993553162, 1586.0, 1235.0, 565.0, 214.0, 0.5975000262260437, 0.5622119903564453, 0.8811110854148865, 0.6900174617767334, 0.6437436938285828] \n",
            " [0.2725549638271332, 811.0, 771.0, 129.0, 89.0, 0.5222222208976746, 0.5126422047615051, 0.9011111259460449, 0.6681597232818604, 0.5411098599433899] \n",
            " [0.2054276466369629, 775.0, 464.0, 436.0, 125.0, 0.6727777719497681, 0.6255044341087341, 0.8611111044883728, 0.7138211131095886, 0.7416352033615112] \n",
            "\n",
            "\n",
            "[0.23627400398254395, 1250.0, 843.0, 957.0, 550.0, 0.6130555272102356, 0.5972288846969604, 0.6944444179534912, 0.690461277961731, 0.6525059938430786] \n",
            " [0.2599959671497345, 684.0, 596.0, 304.0, 216.0, 0.5488888621330261, 0.534375011920929, 0.7599999904632568, 0.6666666865348816, 0.5707228183746338] \n",
            " [0.2125519961118698, 566.0, 247.0, 653.0, 334.0, 0.6772222518920898, 0.6961869597434998, 0.6288889050483704, 0.7191528677940369, 0.7418413162231445] \n",
            "\n",
            "\n"
          ]
        }
      ],
      "source": [
        "model1 = genModel(attention_merge)\n",
        "model2 = genModel(addition_merge)\n",
        "model3 = genModel(concatenate_merge)\n",
        "\n",
        "res1 = run(model1, 'model1.h5', '1')\n",
        "res2 = run(model2, 'model2.h5', '2')\n",
        "res3 = run(model3, 'model3.h5', '3')\n",
        "\n",
        "\n",
        "print()\n",
        "print(res1[0], '\\n', res1[1], '\\n', res1[2], '\\n\\n')\n",
        "print(res2[0], '\\n', res2[1], '\\n', res2[2], '\\n\\n')\n",
        "print(res3[0], '\\n', res3[1], '\\n', res3[2], '\\n\\n')\n",
        "\n"
      ]
    },
    {
      "cell_type": "markdown",
      "metadata": {
        "id": "xONqnMk4d5lr"
      },
      "source": [
        "The following snippet will print coherent result of the evaluation of each datasets."
      ]
    },
    {
      "cell_type": "code",
      "execution_count": null,
      "metadata": {
        "colab": {
          "base_uri": "https://localhost:8080/"
        },
        "id": "0MAAp87MBCze",
        "outputId": "f6151547-324a-4b36-c37f-d3fddb2e4307"
      },
      "outputs": [
        {
          "name": "stdout",
          "output_type": "stream",
          "text": [
            "loss: 0.23164039850234985 - tp: 958.0 - fp: 619.0 - tn: 1181.0 - fn: 842.0 - accuracy: 0.5941666960716248 - precision: 0.6074825525283813 - recall: 0.5322222113609314 - f1-score: 0.6908949017524719 - auc: 0.6470529437065125 - \n",
            "loss: 0.2530324459075928 - tp: 471.0 - fp: 408.0 - tn: 492.0 - fn: 429.0 - accuracy: 0.5350000262260437 - precision: 0.5358361601829529 - recall: 0.5233333110809326 - f1-score: 0.6706587076187134 - auc: 0.5564839839935303 - \n",
            "loss: 0.21024829149246216 - tp: 487.0 - fp: 211.0 - tn: 689.0 - fn: 413.0 - accuracy: 0.653333306312561 - precision: 0.6977077126502991 - recall: 0.5411111116409302 - f1-score: 0.7130008339881897 - auc: 0.7335265874862671 - \n",
            "\n",
            "loss: 0.23899134993553162 - tp: 1586.0 - fp: 1235.0 - tn: 565.0 - fn: 214.0 - accuracy: 0.5975000262260437 - precision: 0.5622119903564453 - recall: 0.8811110854148865 - f1-score: 0.6900174617767334 - auc: 0.6437436938285828 - \n",
            "loss: 0.2725549638271332 - tp: 811.0 - fp: 771.0 - tn: 129.0 - fn: 89.0 - accuracy: 0.5222222208976746 - precision: 0.5126422047615051 - recall: 0.9011111259460449 - f1-score: 0.6681597232818604 - auc: 0.5411098599433899 - \n",
            "loss: 0.2054276466369629 - tp: 775.0 - fp: 464.0 - tn: 436.0 - fn: 125.0 - accuracy: 0.6727777719497681 - precision: 0.6255044341087341 - recall: 0.8611111044883728 - f1-score: 0.7138211131095886 - auc: 0.7416352033615112 - \n",
            "\n",
            "loss: 0.23627400398254395 - tp: 1250.0 - fp: 843.0 - tn: 957.0 - fn: 550.0 - accuracy: 0.6130555272102356 - precision: 0.5972288846969604 - recall: 0.6944444179534912 - f1-score: 0.690461277961731 - auc: 0.6525059938430786 - \n",
            "loss: 0.2599959671497345 - tp: 684.0 - fp: 596.0 - tn: 304.0 - fn: 216.0 - accuracy: 0.5488888621330261 - precision: 0.534375011920929 - recall: 0.7599999904632568 - f1-score: 0.6666666865348816 - auc: 0.5707228183746338 - \n",
            "loss: 0.2125519961118698 - tp: 566.0 - fp: 247.0 - tn: 653.0 - fn: 334.0 - accuracy: 0.6772222518920898 - precision: 0.6961869597434998 - recall: 0.6288889050483704 - f1-score: 0.7191528677940369 - auc: 0.7418413162231445 - \n",
            "\n"
          ]
        }
      ],
      "source": [
        "def printing(results):\n",
        "\n",
        "  name = ['loss', 'tp', 'fp', 'tn', 'fn', 'accuracy', 'precision', 'recall', 'f1-score', 'auc']\n",
        "  for result in results:\n",
        "    op=''\n",
        "    for i in range(len(name)):\n",
        "      op+=name[i]+\": \"+ str(result[i]) +\" - \"\n",
        "    print(op)\n",
        "  print()\n",
        "\n",
        "\n",
        "\n",
        "\n",
        "printing(res1)\n",
        "printing(res2)\n",
        "printing(res3)\n",
        "\n"
      ]
    },
    {
      "cell_type": "code",
      "execution_count": null,
      "metadata": {
        "id": "-GLzNDzmBCze"
      },
      "outputs": [],
      "source": [
        "# modelpath = \"/content/gdrive/MyDrive/embeddings/MODELS/model6979.h5\"\n",
        "# model = tf.keras.models.load_model(modelpath, custom_objects={'contrastive_loss': contrastive_loss})\n",
        "\n",
        "# # Print the model summary\n",
        "# model.summary()"
      ]
    },
    {
      "cell_type": "code",
      "execution_count": null,
      "metadata": {
        "id": "3fWFi3nSBCze"
      },
      "outputs": [],
      "source": [
        "# # new_model = tf.keras.models.load_model('model1.h5', custom_objects={'contrastive_loss': contrastive_loss})\n",
        "\n",
        "# # run(new_model)\n",
        "# import shutil\n",
        "# source_path = \"/content/model2.h5\"\n",
        "# destination_path = \"/content/gdrive/MyDrive/embeddings/MODELS/model6965_66_732.h5\"\n",
        "# shutil.copyfile(source_path, destination_path)\n",
        "\n",
        "\n",
        "import os\n",
        "import shutil\n",
        "source_path = \"/content/\"\n",
        "destination_path = \"/content/gdrive/MyDrive/embeddings/MODELS/early\"\n",
        "for file in os.listdir(source_path):\n",
        "\n",
        "    # Get the full path of the file.\n",
        "    file_path = os.path.join(source_path, file)\n",
        "\n",
        "    # Copy or move the file to the destination path.\n",
        "    # Check if the file is a folder.\n",
        "    if not os.path.isdir(file_path):\n",
        "\n",
        "        # Copy or move the file to the destination path.\n",
        "        shutil.copy(file_path, destination_path)\n",
        "    else:\n",
        "        # Skip the folder.\n",
        "        continue"
      ]
    },
    {
      "cell_type": "markdown",
      "metadata": {
        "id": "8JV0ToKufCUX"
      },
      "source": [
        "# model - INTERMEDIATE MERGE"
      ]
    },
    {
      "cell_type": "code",
      "execution_count": null,
      "metadata": {
        "id": "7YhQKWFifCUk"
      },
      "outputs": [],
      "source": [
        "from tensorflow.keras.layers import Input, Reshape, Lambda, LSTM, concatenate, Dense, Dropout, Attention\n",
        "from tensorflow.keras.models import Model\n",
        "from tensorflow.keras import backend as K\n"
      ]
    },
    {
      "cell_type": "markdown",
      "metadata": {
        "id": "5iEsY3xNdBDQ"
      },
      "source": [
        "The following function `genModel()` generates classification model."
      ]
    },
    {
      "cell_type": "code",
      "execution_count": null,
      "metadata": {
        "id": "lgbJCFdsfCUl"
      },
      "outputs": [],
      "source": [
        "import tensorflow as tf\n",
        "import datetime\n",
        "\n",
        "def attention_merge(lstm_1, lstm_2):\n",
        "  attention = Attention()([lstm_1, lstm_2])\n",
        "  merged_lstm = attention * lstm_1 + (1 - attention) * lstm_2\n",
        "  return merged_lstm\n",
        "\n",
        "def addition_merge(lstm_1, lstm_2):\n",
        "  merged_lstm = lstm_1 + lstm_2\n",
        "  return merged_lstm\n",
        "\n",
        "def concatenate_merge(lstm_1, lstm_2):\n",
        "  merged_lstm = concatenate([lstm_1, lstm_2], axis=2)\n",
        "  return merged_lstm\n",
        "\n",
        "def genModel(merge):\n",
        "    input_1 = Input(shape=(None, feature_number))\n",
        "    input_2 = Input(shape=(None, feature_number))\n",
        "\n",
        "    # Reshape inputs to 3D tensors\n",
        "    lstm_input_1 = Reshape((-1, feature_number))(input_1)\n",
        "    lstm_input_2 = Reshape((-1, feature_number))(input_2)\n",
        "\n",
        "    lstm_1 = LSTM(units=256, return_sequences=True)(lstm_input_1)\n",
        "    lstm_2 = LSTM(units=256, return_sequences=True)(lstm_input_2)\n",
        "\n",
        "    lstm_1 = Reshape((1, lstm_1.shape[2]))(lstm_1)\n",
        "    lstm_2 = Reshape((1, lstm_2.shape[2]))(lstm_2)\n",
        "\n",
        "    lstm_1 = LSTM(units=256)(lstm_1)\n",
        "    lstm_2 = LSTM(units=256)(lstm_2)\n",
        "\n",
        "\n",
        "    # merged_lstm = attention_merge(lstm_1, lstm_2)\n",
        "    # merged_lstm = addition_merge(lstm_1, lstm_2)\n",
        "    # merged_lstm = concatenate_merge(lstm_1, lstm_2)\n",
        "    merged_lstm = merge(lstm_1, lstm_2)\n",
        "\n",
        "    # merged_lstm = Reshape((1, merged_lstm.shape[1]))(merged_lstm)\n",
        "\n",
        "    merged_lstm = LSTM(units=128)(merged_lstm)\n",
        "    merged_lstm = Dropout(rate=0.1)(merged_lstm)\n",
        "    merged_lstm = Dense(units=256, activation='relu')(merged_lstm)\n",
        "    merged_lstm = Dropout(rate=0.1)(merged_lstm)\n",
        "\n",
        "    merged_lstm = Dense(units=256, activation='relu')(merged_lstm)\n",
        "    merged_lstm = Reshape((1, merged_lstm.shape[1]))(merged_lstm)\n",
        "    merged_lstm = Dropout(rate=0.1)(merged_lstm)\n",
        "    merged_lstm = LSTM(units=128, activation='tanh')(merged_lstm)\n",
        "\n",
        "    merged_lstm = Dense(units=128, activation='relu')(merged_lstm)\n",
        "    merged_lstm = Reshape((1, merged_lstm.shape[1]))(merged_lstm)\n",
        "    merged_lstm = Dropout(rate=0.1)(merged_lstm)\n",
        "    merged_lstm = LSTM(units=256, activation='tanh')(merged_lstm)\n",
        "    # merged_lstm = Dropout(rate=0.1)(merged_lstm)\n",
        "\n",
        "\n",
        "    output_layer = Dense(units=1, activation='sigmoid')(merged_lstm)\n",
        "\n",
        "    model = Model(inputs=[input_1, input_2], outputs=output_layer)\n",
        "\n",
        "\n",
        "    return model\n"
      ]
    },
    {
      "cell_type": "markdown",
      "metadata": {
        "id": "IY4QArXrdBDh"
      },
      "source": [
        "The following function `run()` compiles and evaluates the model with 3 test datasets - Twitter dataset, Reddit Dataset, and their Combined Dataset. It also generates AUC-ROC curves of the datasets."
      ]
    },
    {
      "cell_type": "markdown",
      "metadata": {
        "id": "NokYO85kdBDh"
      },
      "source": [
        "The following are the function calls for generating model, compiling and evaluating them."
      ]
    },
    {
      "cell_type": "code",
      "execution_count": null,
      "metadata": {
        "id": "-Eqd_vdmfCUm"
      },
      "outputs": [],
      "source": [
        "import matplotlib.pyplot as plt\n",
        "from sklearn.metrics import auc, roc_curve, roc_auc_score\n",
        "def generate_auc_curve(y_true, y_pred_prob, model_name):\n",
        "    fpr, tpr, thresholds = roc_curve(y_true, y_pred_prob)\n",
        "    roc_auc = auc(fpr, tpr)\n",
        "\n",
        "    # Compute AUC scores for different thresholds\n",
        "    auc_scores = []\n",
        "    for threshold in thresholds:\n",
        "        y_pred_binary = (y_pred_prob >= threshold).astype(int)\n",
        "        auc_scores.append(roc_auc_score(y_true, y_pred_binary))\n",
        "\n",
        "    # Plot the AUC curve\n",
        "    plt.figure()\n",
        "    plt.plot(thresholds, auc_scores, label='AUC curve')\n",
        "    plt.xlabel('Threshold')\n",
        "    plt.ylabel('AUC score')\n",
        "    plt.title('AUC Curve - ' + model_name)\n",
        "    plt.legend(loc=\"lower right\")\n",
        "    plt.savefig( model_name + '__auc_curve.png')\n",
        "    plt.close()\n",
        "\n",
        "    return roc_auc\n",
        "\n",
        "\n",
        "def generate_ROC(model, x_test, y_test, name, n):\n",
        "    # Get predicted probabilities for ROC curve\n",
        "    y_pred_prob = model.predict([x_test[:, 0], x_test[:, 1]])\n",
        "\n",
        "\n",
        "    roc_auc = generate_auc_curve(y_test, y_pred_prob, name)\n",
        "\n",
        "    # Compute ROC curve and AUC score\n",
        "    fpr, tpr, thresholds = roc_curve(y_test, y_pred_prob)\n",
        "    roc_auc = roc_auc_score(y_test, y_pred_prob)\n",
        "\n",
        "    # Plot the ROC curve\n",
        "    plt.figure()\n",
        "    plt.plot(fpr, tpr, label='ROC curve (area = %0.2f)' % roc_auc)\n",
        "    plt.plot([0, 1], [0, 1], 'k--')\n",
        "    plt.xlim([0.0, 1.0])\n",
        "    plt.ylim([0.0, 1.05])\n",
        "    plt.xlabel('False Positive Rate')\n",
        "    plt.ylabel('True Positive Rate')\n",
        "    plt.title('Receiver Operating Characteristic')\n",
        "    plt.legend(loc=\"lower right\")\n",
        "\n",
        "    plt.savefig(name+'_roc_auc__'+n+'.png')\n",
        "    plt.close()\n",
        "\n",
        "\n",
        "\n",
        "def run(model, name, n):\n",
        "    name = '/content/gdrive/MyDrive/embeddings/MODELS/intermediate/'+name\n",
        "\n",
        "    opt = tf.keras.optimizers.Adam(learning_rate=1e-3)\n",
        "\n",
        "    metrics = [\n",
        "        tf.keras.metrics.TruePositives(name='tp'),\n",
        "        tf.keras.metrics.FalsePositives(name='fp'),\n",
        "        tf.keras.metrics.TrueNegatives(name='tn'),\n",
        "        tf.keras.metrics.FalseNegatives(name='fn'),\n",
        "        tf.keras.metrics.BinaryAccuracy(name='accuracy'),\n",
        "        tf.keras.metrics.Precision(name='precision'),\n",
        "        tf.keras.metrics.Recall(name='recall'),\n",
        "        tfa.metrics.F1Score(num_classes=2, average='micro', threshold=0.2555),\n",
        "        tf.keras.metrics.AUC(name='auc')\n",
        "    ]\n",
        "\n",
        "    # Compile the model\n",
        "    model.compile(optimizer=opt, loss=contrastive_loss, metrics=metrics)\n",
        "\n",
        "    # Train the model\n",
        "    history = model.fit(x=[x_train[:, 0], x_train[:, 1]], y=y_train, batch_size=256, epochs=1000,\n",
        "                        validation_split=0.3, callbacks=[early_stop])\n",
        "\n",
        "    # Evaluate the model on the test set\n",
        "    test_ = model.evaluate(x=[x_test_[:, 0], x_test_[:, 1]], y=y_test_)\n",
        "    test2 = model.evaluate(x=[x_test2[:, 0], x_test2[:, 1]], y=y_test2)\n",
        "    test = model.evaluate(x=[x_test[:, 0], x_test[:, 1]], y=y_test)\n",
        "\n",
        "    # Save the model\n",
        "    model.save(name)\n",
        "\n",
        "    generate_ROC(model, x_test, y_test, 'twitter', n)\n",
        "    generate_ROC(model, x_test2, y_test2, 'reddit', n)\n",
        "    generate_ROC(model, x_test_, y_test_, 'combined', n)\n",
        "\n",
        "\n",
        "\n",
        "    return [test_, test2, test]\n",
        "\n"
      ]
    },
    {
      "cell_type": "code",
      "execution_count": null,
      "metadata": {
        "colab": {
          "base_uri": "https://localhost:8080/"
        },
        "id": "l0VZJ94lfCUm",
        "outputId": "4f770658-dcba-4698-d33d-45b63b31ce50"
      },
      "outputs": [
        {
          "name": "stdout",
          "output_type": "stream",
          "text": [
            "Epoch 1/1000\n"
          ]
        },
        {
          "name": "stderr",
          "output_type": "stream",
          "text": [
            "WARNING:tensorflow:Model was constructed with shape (None, None, 1024) for input KerasTensor(type_spec=TensorSpec(shape=(None, None, 1024), dtype=tf.float32, name='input_29'), name='input_29', description=\"created by layer 'input_29'\"), but it was called on an input with incompatible shape (None, 1024).\n",
            "WARNING:tensorflow:Model was constructed with shape (None, None, 1024) for input KerasTensor(type_spec=TensorSpec(shape=(None, None, 1024), dtype=tf.float32, name='input_30'), name='input_30', description=\"created by layer 'input_30'\"), but it was called on an input with incompatible shape (None, 1024).\n",
            "WARNING:tensorflow:Model was constructed with shape (None, None, 1024) for input KerasTensor(type_spec=TensorSpec(shape=(None, None, 1024), dtype=tf.float32, name='input_29'), name='input_29', description=\"created by layer 'input_29'\"), but it was called on an input with incompatible shape (None, 1024).\n",
            "WARNING:tensorflow:Model was constructed with shape (None, None, 1024) for input KerasTensor(type_spec=TensorSpec(shape=(None, None, 1024), dtype=tf.float32, name='input_30'), name='input_30', description=\"created by layer 'input_30'\"), but it was called on an input with incompatible shape (None, 1024).\n"
          ]
        },
        {
          "name": "stdout",
          "output_type": "stream",
          "text": [
            "26/26 [==============================] - ETA: 0s - loss: 0.2500 - tp: 3257.0000 - fp: 3204.0000 - tn: 60.0000 - fn: 59.0000 - accuracy: 0.5041 - precision: 0.5041 - recall: 0.9822 - f1_score: 0.6702 - auc: 0.4875"
          ]
        },
        {
          "name": "stderr",
          "output_type": "stream",
          "text": [
            "WARNING:tensorflow:Model was constructed with shape (None, None, 1024) for input KerasTensor(type_spec=TensorSpec(shape=(None, None, 1024), dtype=tf.float32, name='input_29'), name='input_29', description=\"created by layer 'input_29'\"), but it was called on an input with incompatible shape (None, 1024).\n",
            "WARNING:tensorflow:Model was constructed with shape (None, None, 1024) for input KerasTensor(type_spec=TensorSpec(shape=(None, None, 1024), dtype=tf.float32, name='input_30'), name='input_30', description=\"created by layer 'input_30'\"), but it was called on an input with incompatible shape (None, 1024).\n"
          ]
        },
        {
          "name": "stdout",
          "output_type": "stream",
          "text": [
            "\b\b\b\b\b\b\b\b\b\b\b\b\b\b\b\b\b\b\b\b\b\b\b\b\b\b\b\b\b\b\b\b\b\b\b\b\b\b\b\b\b\b\b\b\b\b\b\b\b\b\b\b\b\b\b\b\b\b\b\b\b\b\b\b\b\b\b\b\b\b\b\b\b\b\b\b\b\b\b\b\b\b\b\b\b\b\b\b\b\b\b\b\b\b\b\b\b\b\b\b\b\b\b\b\b\b\b\b\b\b\b\b\b\b\b\b\b\b\b\b\b\b\b\b\b\b\b\b\b\b\b\b\b\b\b\b\b\b\b\b\b\b\b\b\b\b\b\b\b\b\b\b\b\b\b\b\b\b\b\b\b\b\b\b\b\b\b\b\b\b\b\b\b\b\b\b\b\b\b\b\b\b\b\b\b\b\b\b\b\b\b\b\b\b\b\b\b\b\b\b\b\b\b\b\b\b\b\b\b\b\b\b\r26/26 [==============================] - 29s 442ms/step - loss: 0.2500 - tp: 3257.0000 - fp: 3204.0000 - tn: 60.0000 - fn: 59.0000 - accuracy: 0.5041 - precision: 0.5041 - recall: 0.9822 - f1_score: 0.6702 - auc: 0.4875 - val_loss: 0.2501 - val_tp: 1384.0000 - val_fp: 1436.0000 - val_tn: 0.0000e+00 - val_fn: 0.0000e+00 - val_accuracy: 0.4908 - val_precision: 0.4908 - val_recall: 1.0000 - val_f1_score: 0.6584 - val_auc: 0.5000\n",
            "Epoch 2/1000\n",
            "26/26 [==============================] - 6s 226ms/step - loss: 0.2481 - tp: 2473.0000 - fp: 2279.0000 - tn: 985.0000 - fn: 843.0000 - accuracy: 0.5255 - precision: 0.5204 - recall: 0.7458 - f1_score: 0.6702 - auc: 0.5544 - val_loss: 0.2398 - val_tp: 390.0000 - val_fp: 214.0000 - val_tn: 1222.0000 - val_fn: 994.0000 - val_accuracy: 0.5716 - val_precision: 0.6457 - val_recall: 0.2818 - val_f1_score: 0.6584 - val_auc: 0.6492\n",
            "Epoch 3/1000\n",
            "26/26 [==============================] - 5s 188ms/step - loss: 0.2303 - tp: 2252.0000 - fp: 1536.0000 - tn: 1728.0000 - fn: 1064.0000 - accuracy: 0.6049 - precision: 0.5945 - recall: 0.6791 - f1_score: 0.6856 - auc: 0.6564 - val_loss: 0.2279 - val_tp: 1009.0000 - val_fp: 708.0000 - val_tn: 728.0000 - val_fn: 375.0000 - val_accuracy: 0.6160 - val_precision: 0.5877 - val_recall: 0.7290 - val_f1_score: 0.6730 - val_auc: 0.6717\n",
            "Epoch 4/1000\n",
            "26/26 [==============================] - 7s 276ms/step - loss: 0.2191 - tp: 2325.0000 - fp: 1363.0000 - tn: 1901.0000 - fn: 991.0000 - accuracy: 0.6422 - precision: 0.6304 - recall: 0.7011 - f1_score: 0.7003 - auc: 0.6955 - val_loss: 0.2279 - val_tp: 317.0000 - val_fp: 119.0000 - val_tn: 1317.0000 - val_fn: 1067.0000 - val_accuracy: 0.5794 - val_precision: 0.7271 - val_recall: 0.2290 - val_f1_score: 0.6918 - val_auc: 0.6861\n",
            "Epoch 5/1000\n",
            "26/26 [==============================] - 7s 268ms/step - loss: 0.2130 - tp: 2181.0000 - fp: 1164.0000 - tn: 2100.0000 - fn: 1135.0000 - accuracy: 0.6506 - precision: 0.6520 - recall: 0.6577 - f1_score: 0.7100 - auc: 0.7134 - val_loss: 0.2284 - val_tp: 1152.0000 - val_fp: 825.0000 - val_tn: 611.0000 - val_fn: 232.0000 - val_accuracy: 0.6252 - val_precision: 0.5827 - val_recall: 0.8324 - val_f1_score: 0.6860 - val_auc: 0.6954\n",
            "Epoch 6/1000\n",
            "26/26 [==============================] - 5s 188ms/step - loss: 0.2011 - tp: 2362.0000 - fp: 1183.0000 - tn: 2081.0000 - fn: 954.0000 - accuracy: 0.6752 - precision: 0.6663 - recall: 0.7123 - f1_score: 0.7166 - auc: 0.7503 - val_loss: 0.2210 - val_tp: 912.0000 - val_fp: 570.0000 - val_tn: 866.0000 - val_fn: 472.0000 - val_accuracy: 0.6305 - val_precision: 0.6154 - val_recall: 0.6590 - val_f1_score: 0.6914 - val_auc: 0.6852\n",
            "Epoch 7/1000\n",
            "26/26 [==============================] - 6s 232ms/step - loss: 0.1983 - tp: 2402.0000 - fp: 1142.0000 - tn: 2122.0000 - fn: 914.0000 - accuracy: 0.6875 - precision: 0.6778 - recall: 0.7244 - f1_score: 0.7193 - auc: 0.7600 - val_loss: 0.2328 - val_tp: 1015.0000 - val_fp: 645.0000 - val_tn: 791.0000 - val_fn: 369.0000 - val_accuracy: 0.6404 - val_precision: 0.6114 - val_recall: 0.7334 - val_f1_score: 0.6954 - val_auc: 0.6989\n",
            "Epoch 8/1000\n",
            "26/26 [==============================] - 8s 311ms/step - loss: 0.1871 - tp: 2389.0000 - fp: 963.0000 - tn: 2301.0000 - fn: 927.0000 - accuracy: 0.7128 - precision: 0.7127 - recall: 0.7204 - f1_score: 0.7336 - auc: 0.7877 - val_loss: 0.2367 - val_tp: 872.0000 - val_fp: 604.0000 - val_tn: 832.0000 - val_fn: 512.0000 - val_accuracy: 0.6043 - val_precision: 0.5908 - val_recall: 0.6301 - val_f1_score: 0.6789 - val_auc: 0.6635\n",
            "Epoch 9/1000\n",
            "26/26 [==============================] - 5s 188ms/step - loss: 0.1827 - tp: 2428.0000 - fp: 933.0000 - tn: 2331.0000 - fn: 888.0000 - accuracy: 0.7233 - precision: 0.7224 - recall: 0.7322 - f1_score: 0.7344 - auc: 0.7988 - val_loss: 0.2385 - val_tp: 1033.0000 - val_fp: 690.0000 - val_tn: 746.0000 - val_fn: 351.0000 - val_accuracy: 0.6309 - val_precision: 0.5995 - val_recall: 0.7464 - val_f1_score: 0.6999 - val_auc: 0.6876\n",
            "Epoch 10/1000\n",
            "26/26 [==============================] - 5s 212ms/step - loss: 0.1662 - tp: 2600.0000 - fp: 889.0000 - tn: 2375.0000 - fn: 716.0000 - accuracy: 0.7561 - precision: 0.7452 - recall: 0.7841 - f1_score: 0.7584 - auc: 0.8330 - val_loss: 0.2380 - val_tp: 850.0000 - val_fp: 557.0000 - val_tn: 879.0000 - val_fn: 534.0000 - val_accuracy: 0.6131 - val_precision: 0.6041 - val_recall: 0.6142 - val_f1_score: 0.6922 - val_auc: 0.6672\n",
            "Epoch 11/1000\n",
            "26/26 [==============================] - 8s 322ms/step - loss: 0.1621 - tp: 2675.0000 - fp: 890.0000 - tn: 2374.0000 - fn: 641.0000 - accuracy: 0.7673 - precision: 0.7504 - recall: 0.8067 - f1_score: 0.7697 - auc: 0.8396 - val_loss: 0.2489 - val_tp: 880.0000 - val_fp: 573.0000 - val_tn: 863.0000 - val_fn: 504.0000 - val_accuracy: 0.6181 - val_precision: 0.6056 - val_recall: 0.6358 - val_f1_score: 0.6768 - val_auc: 0.6674\n",
            "Epoch 12/1000\n",
            "26/26 [==============================] - 5s 193ms/step - loss: 0.1541 - tp: 2660.0000 - fp: 815.0000 - tn: 2449.0000 - fn: 656.0000 - accuracy: 0.7764 - precision: 0.7655 - recall: 0.8022 - f1_score: 0.7799 - auc: 0.8541 - val_loss: 0.2407 - val_tp: 1031.0000 - val_fp: 686.0000 - val_tn: 750.0000 - val_fn: 353.0000 - val_accuracy: 0.6316 - val_precision: 0.6005 - val_recall: 0.7449 - val_f1_score: 0.6879 - val_auc: 0.6777\n",
            "Epoch 13/1000\n",
            "26/26 [==============================] - 5s 187ms/step - loss: 0.1399 - tp: 2789.0000 - fp: 773.0000 - tn: 2491.0000 - fn: 527.0000 - accuracy: 0.8024 - precision: 0.7830 - recall: 0.8411 - f1_score: 0.8013 - auc: 0.8786 - val_loss: 0.2634 - val_tp: 962.0000 - val_fp: 605.0000 - val_tn: 831.0000 - val_fn: 422.0000 - val_accuracy: 0.6358 - val_precision: 0.6139 - val_recall: 0.6951 - val_f1_score: 0.6876 - val_auc: 0.6811\n",
            "Epoch 14/1000\n",
            "26/26 [==============================] - 8s 309ms/step - loss: 0.1269 - tp: 2823.0000 - fp: 667.0000 - tn: 2597.0000 - fn: 493.0000 - accuracy: 0.8237 - precision: 0.8089 - recall: 0.8513 - f1_score: 0.8133 - auc: 0.8982 - val_loss: 0.2635 - val_tp: 913.0000 - val_fp: 589.0000 - val_tn: 847.0000 - val_fn: 471.0000 - val_accuracy: 0.6241 - val_precision: 0.6079 - val_recall: 0.6597 - val_f1_score: 0.6729 - val_auc: 0.6777\n",
            "Epoch 15/1000\n",
            "26/26 [==============================] - 7s 262ms/step - loss: 0.1231 - tp: 2797.0000 - fp: 624.0000 - tn: 2640.0000 - fn: 519.0000 - accuracy: 0.8263 - precision: 0.8176 - recall: 0.8435 - f1_score: 0.8214 - auc: 0.9037 - val_loss: 0.2798 - val_tp: 785.0000 - val_fp: 487.0000 - val_tn: 949.0000 - val_fn: 599.0000 - val_accuracy: 0.6149 - val_precision: 0.6171 - val_recall: 0.5672 - val_f1_score: 0.6558 - val_auc: 0.6673\n",
            "Epoch 16/1000\n",
            "26/26 [==============================] - 5s 187ms/step - loss: 0.1087 - tp: 2896.0000 - fp: 552.0000 - tn: 2712.0000 - fn: 420.0000 - accuracy: 0.8523 - precision: 0.8399 - recall: 0.8733 - f1_score: 0.8453 - auc: 0.9220 - val_loss: 0.2882 - val_tp: 886.0000 - val_fp: 596.0000 - val_tn: 840.0000 - val_fn: 498.0000 - val_accuracy: 0.6121 - val_precision: 0.5978 - val_recall: 0.6402 - val_f1_score: 0.6592 - val_auc: 0.6605\n",
            "113/113 [==============================] - 3s 29ms/step - loss: 0.2379 - tp: 1124.0000 - fp: 829.0000 - tn: 971.0000 - fn: 676.0000 - accuracy: 0.5819 - precision: 0.5755 - recall: 0.6244 - f1_score: 0.6817 - auc: 0.6282\n"
          ]
        },
        {
          "name": "stderr",
          "output_type": "stream",
          "text": [
            "WARNING:tensorflow:Model was constructed with shape (None, None, 1024) for input KerasTensor(type_spec=TensorSpec(shape=(None, None, 1024), dtype=tf.float32, name='input_29'), name='input_29', description=\"created by layer 'input_29'\"), but it was called on an input with incompatible shape (None, 1024).\n",
            "WARNING:tensorflow:Model was constructed with shape (None, None, 1024) for input KerasTensor(type_spec=TensorSpec(shape=(None, None, 1024), dtype=tf.float32, name='input_30'), name='input_30', description=\"created by layer 'input_30'\"), but it was called on an input with incompatible shape (None, 1024).\n"
          ]
        },
        {
          "name": "stdout",
          "output_type": "stream",
          "text": [
            "57/57 [==============================] - 6s 19ms/step - loss: 0.2538 - tp: 579.0000 - fp: 499.0000 - tn: 401.0000 - fn: 321.0000 - accuracy: 0.5444 - precision: 0.5371 - recall: 0.6433 - f1_score: 0.6684 - auc: 0.5656\n",
            "57/57 [==============================] - 1s 19ms/step - loss: 0.2221 - tp: 553.0000 - fp: 333.0000 - tn: 567.0000 - fn: 347.0000 - accuracy: 0.6222 - precision: 0.6242 - recall: 0.6144 - f1_score: 0.6982 - auc: 0.6880\n"
          ]
        },
        {
          "name": "stderr",
          "output_type": "stream",
          "text": [
            "WARNING:tensorflow:Model was constructed with shape (None, None, 1024) for input KerasTensor(type_spec=TensorSpec(shape=(None, None, 1024), dtype=tf.float32, name='input_29'), name='input_29', description=\"created by layer 'input_29'\"), but it was called on an input with incompatible shape (None, 1024).\n",
            "WARNING:tensorflow:Model was constructed with shape (None, None, 1024) for input KerasTensor(type_spec=TensorSpec(shape=(None, None, 1024), dtype=tf.float32, name='input_30'), name='input_30', description=\"created by layer 'input_30'\"), but it was called on an input with incompatible shape (None, 1024).\n"
          ]
        },
        {
          "name": "stdout",
          "output_type": "stream",
          "text": [
            "57/57 [==============================] - 6s 32ms/step\n",
            "57/57 [==============================] - 1s 16ms/step\n",
            "113/113 [==============================] - 2s 16ms/step\n",
            "Epoch 1/1000\n"
          ]
        },
        {
          "name": "stderr",
          "output_type": "stream",
          "text": [
            "WARNING:tensorflow:Model was constructed with shape (None, None, 1024) for input KerasTensor(type_spec=TensorSpec(shape=(None, None, 1024), dtype=tf.float32, name='input_31'), name='input_31', description=\"created by layer 'input_31'\"), but it was called on an input with incompatible shape (None, 1024).\n",
            "WARNING:tensorflow:Model was constructed with shape (None, None, 1024) for input KerasTensor(type_spec=TensorSpec(shape=(None, None, 1024), dtype=tf.float32, name='input_32'), name='input_32', description=\"created by layer 'input_32'\"), but it was called on an input with incompatible shape (None, 1024).\n",
            "WARNING:tensorflow:Model was constructed with shape (None, None, 1024) for input KerasTensor(type_spec=TensorSpec(shape=(None, None, 1024), dtype=tf.float32, name='input_31'), name='input_31', description=\"created by layer 'input_31'\"), but it was called on an input with incompatible shape (None, 1024).\n",
            "WARNING:tensorflow:Model was constructed with shape (None, None, 1024) for input KerasTensor(type_spec=TensorSpec(shape=(None, None, 1024), dtype=tf.float32, name='input_32'), name='input_32', description=\"created by layer 'input_32'\"), but it was called on an input with incompatible shape (None, 1024).\n"
          ]
        },
        {
          "name": "stdout",
          "output_type": "stream",
          "text": [
            "26/26 [==============================] - ETA: 0s - loss: 0.2500 - tp: 2417.0000 - fp: 2382.0000 - tn: 882.0000 - fn: 899.0000 - accuracy: 0.5014 - precision: 0.5036 - recall: 0.7289 - f1_score: 0.6702 - auc: 0.4982"
          ]
        },
        {
          "name": "stderr",
          "output_type": "stream",
          "text": [
            "WARNING:tensorflow:Model was constructed with shape (None, None, 1024) for input KerasTensor(type_spec=TensorSpec(shape=(None, None, 1024), dtype=tf.float32, name='input_31'), name='input_31', description=\"created by layer 'input_31'\"), but it was called on an input with incompatible shape (None, 1024).\n",
            "WARNING:tensorflow:Model was constructed with shape (None, None, 1024) for input KerasTensor(type_spec=TensorSpec(shape=(None, None, 1024), dtype=tf.float32, name='input_32'), name='input_32', description=\"created by layer 'input_32'\"), but it was called on an input with incompatible shape (None, 1024).\n"
          ]
        },
        {
          "name": "stdout",
          "output_type": "stream",
          "text": [
            "\b\b\b\b\b\b\b\b\b\b\b\b\b\b\b\b\b\b\b\b\b\b\b\b\b\b\b\b\b\b\b\b\b\b\b\b\b\b\b\b\b\b\b\b\b\b\b\b\b\b\b\b\b\b\b\b\b\b\b\b\b\b\b\b\b\b\b\b\b\b\b\b\b\b\b\b\b\b\b\b\b\b\b\b\b\b\b\b\b\b\b\b\b\b\b\b\b\b\b\b\b\b\b\b\b\b\b\b\b\b\b\b\b\b\b\b\b\b\b\b\b\b\b\b\b\b\b\b\b\b\b\b\b\b\b\b\b\b\b\b\b\b\b\b\b\b\b\b\b\b\b\b\b\b\b\b\b\b\b\b\b\b\b\b\b\b\b\b\b\b\b\b\b\b\b\b\b\b\b\b\b\b\b\b\b\b\b\b\b\b\b\b\b\b\b\b\b\b\b\b\b\b\b\b\b\b\b\b\b\b\b\b\b\b\r26/26 [==============================] - 30s 495ms/step - loss: 0.2500 - tp: 2417.0000 - fp: 2382.0000 - tn: 882.0000 - fn: 899.0000 - accuracy: 0.5014 - precision: 0.5036 - recall: 0.7289 - f1_score: 0.6702 - auc: 0.4982 - val_loss: 0.2500 - val_tp: 1384.0000 - val_fp: 1436.0000 - val_tn: 0.0000e+00 - val_fn: 0.0000e+00 - val_accuracy: 0.4908 - val_precision: 0.4908 - val_recall: 1.0000 - val_f1_score: 0.6584 - val_auc: 0.5000\n",
            "Epoch 2/1000\n",
            "26/26 [==============================] - 5s 210ms/step - loss: 0.2487 - tp: 3142.0000 - fp: 2971.0000 - tn: 293.0000 - fn: 174.0000 - accuracy: 0.5220 - precision: 0.5140 - recall: 0.9475 - f1_score: 0.6702 - auc: 0.5565 - val_loss: 0.2372 - val_tp: 949.0000 - val_fp: 702.0000 - val_tn: 734.0000 - val_fn: 435.0000 - val_accuracy: 0.5968 - val_precision: 0.5748 - val_recall: 0.6857 - val_f1_score: 0.6584 - val_auc: 0.6507\n",
            "Epoch 3/1000\n",
            "26/26 [==============================] - 6s 248ms/step - loss: 0.2305 - tp: 2640.0000 - fp: 1852.0000 - tn: 1412.0000 - fn: 676.0000 - accuracy: 0.6158 - precision: 0.5877 - recall: 0.7961 - f1_score: 0.6932 - auc: 0.6490 - val_loss: 0.2267 - val_tp: 1232.0000 - val_fp: 953.0000 - val_tn: 483.0000 - val_fn: 152.0000 - val_accuracy: 0.6082 - val_precision: 0.5638 - val_recall: 0.8902 - val_f1_score: 0.6766 - val_auc: 0.6810\n",
            "Epoch 4/1000\n",
            "26/26 [==============================] - 7s 286ms/step - loss: 0.2211 - tp: 2549.0000 - fp: 1643.0000 - tn: 1621.0000 - fn: 767.0000 - accuracy: 0.6337 - precision: 0.6081 - recall: 0.7687 - f1_score: 0.7000 - auc: 0.6849 - val_loss: 0.2254 - val_tp: 778.0000 - val_fp: 460.0000 - val_tn: 976.0000 - val_fn: 606.0000 - val_accuracy: 0.6220 - val_precision: 0.6284 - val_recall: 0.5621 - val_f1_score: 0.7019 - val_auc: 0.6891\n",
            "Epoch 5/1000\n",
            "26/26 [==============================] - 5s 184ms/step - loss: 0.2152 - tp: 2570.0000 - fp: 1589.0000 - tn: 1675.0000 - fn: 746.0000 - accuracy: 0.6451 - precision: 0.6179 - recall: 0.7750 - f1_score: 0.7108 - auc: 0.7027 - val_loss: 0.2146 - val_tp: 1039.0000 - val_fp: 676.0000 - val_tn: 760.0000 - val_fn: 345.0000 - val_accuracy: 0.6379 - val_precision: 0.6058 - val_recall: 0.7507 - val_f1_score: 0.7028 - val_auc: 0.7037\n",
            "Epoch 6/1000\n",
            "26/26 [==============================] - 5s 192ms/step - loss: 0.2052 - tp: 2489.0000 - fp: 1319.0000 - tn: 1945.0000 - fn: 827.0000 - accuracy: 0.6739 - precision: 0.6536 - recall: 0.7506 - f1_score: 0.7212 - auc: 0.7385 - val_loss: 0.2151 - val_tp: 1077.0000 - val_fp: 700.0000 - val_tn: 736.0000 - val_fn: 307.0000 - val_accuracy: 0.6429 - val_precision: 0.6061 - val_recall: 0.7782 - val_f1_score: 0.6960 - val_auc: 0.7140\n",
            "Epoch 7/1000\n",
            "26/26 [==============================] - 8s 323ms/step - loss: 0.1979 - tp: 2478.0000 - fp: 1200.0000 - tn: 2064.0000 - fn: 838.0000 - accuracy: 0.6903 - precision: 0.6737 - recall: 0.7473 - f1_score: 0.7229 - auc: 0.7587 - val_loss: 0.2204 - val_tp: 1190.0000 - val_fp: 821.0000 - val_tn: 615.0000 - val_fn: 194.0000 - val_accuracy: 0.6401 - val_precision: 0.5917 - val_recall: 0.8598 - val_f1_score: 0.6971 - val_auc: 0.7204\n",
            "Epoch 8/1000\n",
            "26/26 [==============================] - 5s 202ms/step - loss: 0.1908 - tp: 2501.0000 - fp: 1136.0000 - tn: 2128.0000 - fn: 815.0000 - accuracy: 0.7035 - precision: 0.6877 - recall: 0.7542 - f1_score: 0.7360 - auc: 0.7772 - val_loss: 0.2250 - val_tp: 1240.0000 - val_fp: 883.0000 - val_tn: 553.0000 - val_fn: 144.0000 - val_accuracy: 0.6358 - val_precision: 0.5841 - val_recall: 0.8960 - val_f1_score: 0.6867 - val_auc: 0.7192\n",
            "Epoch 9/1000\n",
            "26/26 [==============================] - 5s 182ms/step - loss: 0.1797 - tp: 2540.0000 - fp: 1000.0000 - tn: 2264.0000 - fn: 776.0000 - accuracy: 0.7301 - precision: 0.7175 - recall: 0.7660 - f1_score: 0.7434 - auc: 0.8036 - val_loss: 0.2349 - val_tp: 1161.0000 - val_fp: 837.0000 - val_tn: 599.0000 - val_fn: 223.0000 - val_accuracy: 0.6241 - val_precision: 0.5811 - val_recall: 0.8389 - val_f1_score: 0.6953 - val_auc: 0.7089\n",
            "Epoch 10/1000\n",
            "26/26 [==============================] - 7s 283ms/step - loss: 0.1689 - tp: 2536.0000 - fp: 870.0000 - tn: 2394.0000 - fn: 780.0000 - accuracy: 0.7492 - precision: 0.7446 - recall: 0.7648 - f1_score: 0.7597 - auc: 0.8270 - val_loss: 0.2254 - val_tp: 1001.0000 - val_fp: 607.0000 - val_tn: 829.0000 - val_fn: 383.0000 - val_accuracy: 0.6489 - val_precision: 0.6225 - val_recall: 0.7233 - val_f1_score: 0.6998 - val_auc: 0.7125\n",
            "Epoch 11/1000\n",
            "26/26 [==============================] - 7s 252ms/step - loss: 0.1602 - tp: 2668.0000 - fp: 876.0000 - tn: 2388.0000 - fn: 648.0000 - accuracy: 0.7684 - precision: 0.7528 - recall: 0.8046 - f1_score: 0.7691 - auc: 0.8439 - val_loss: 0.2337 - val_tp: 1131.0000 - val_fp: 781.0000 - val_tn: 655.0000 - val_fn: 253.0000 - val_accuracy: 0.6333 - val_precision: 0.5915 - val_recall: 0.8172 - val_f1_score: 0.6908 - val_auc: 0.7093\n",
            "Epoch 12/1000\n",
            "26/26 [==============================] - 5s 186ms/step - loss: 0.1430 - tp: 2727.0000 - fp: 759.0000 - tn: 2505.0000 - fn: 589.0000 - accuracy: 0.7951 - precision: 0.7823 - recall: 0.8224 - f1_score: 0.7911 - auc: 0.8728 - val_loss: 0.2757 - val_tp: 707.0000 - val_fp: 414.0000 - val_tn: 1022.0000 - val_fn: 677.0000 - val_accuracy: 0.6131 - val_precision: 0.6307 - val_recall: 0.5108 - val_f1_score: 0.6464 - val_auc: 0.6804\n",
            "Epoch 13/1000\n",
            "26/26 [==============================] - 6s 241ms/step - loss: 0.1346 - tp: 2750.0000 - fp: 678.0000 - tn: 2586.0000 - fn: 566.0000 - accuracy: 0.8109 - precision: 0.8022 - recall: 0.8293 - f1_score: 0.8071 - auc: 0.8855 - val_loss: 0.2690 - val_tp: 1107.0000 - val_fp: 771.0000 - val_tn: 665.0000 - val_fn: 277.0000 - val_accuracy: 0.6284 - val_precision: 0.5895 - val_recall: 0.7999 - val_f1_score: 0.6908 - val_auc: 0.6770\n",
            "Epoch 14/1000\n",
            "26/26 [==============================] - 8s 296ms/step - loss: 0.1306 - tp: 2754.0000 - fp: 636.0000 - tn: 2628.0000 - fn: 562.0000 - accuracy: 0.8179 - precision: 0.8124 - recall: 0.8305 - f1_score: 0.8097 - auc: 0.8924 - val_loss: 0.2719 - val_tp: 921.0000 - val_fp: 570.0000 - val_tn: 866.0000 - val_fn: 463.0000 - val_accuracy: 0.6337 - val_precision: 0.6177 - val_recall: 0.6655 - val_f1_score: 0.6724 - val_auc: 0.6821\n",
            "Epoch 15/1000\n",
            "26/26 [==============================] - 5s 184ms/step - loss: 0.1020 - tp: 2946.0000 - fp: 525.0000 - tn: 2739.0000 - fn: 370.0000 - accuracy: 0.8640 - precision: 0.8487 - recall: 0.8884 - f1_score: 0.8534 - auc: 0.9280 - val_loss: 0.2789 - val_tp: 937.0000 - val_fp: 593.0000 - val_tn: 843.0000 - val_fn: 447.0000 - val_accuracy: 0.6312 - val_precision: 0.6124 - val_recall: 0.6770 - val_f1_score: 0.6681 - val_auc: 0.6736\n",
            "113/113 [==============================] - 2s 20ms/step - loss: 0.2332 - tp: 1285.0000 - fp: 917.0000 - tn: 883.0000 - fn: 515.0000 - accuracy: 0.6022 - precision: 0.5836 - recall: 0.7139 - f1_score: 0.6926 - auc: 0.6447\n"
          ]
        },
        {
          "name": "stderr",
          "output_type": "stream",
          "text": [
            "WARNING:tensorflow:Model was constructed with shape (None, None, 1024) for input KerasTensor(type_spec=TensorSpec(shape=(None, None, 1024), dtype=tf.float32, name='input_31'), name='input_31', description=\"created by layer 'input_31'\"), but it was called on an input with incompatible shape (None, 1024).\n",
            "WARNING:tensorflow:Model was constructed with shape (None, None, 1024) for input KerasTensor(type_spec=TensorSpec(shape=(None, None, 1024), dtype=tf.float32, name='input_32'), name='input_32', description=\"created by layer 'input_32'\"), but it was called on an input with incompatible shape (None, 1024).\n"
          ]
        },
        {
          "name": "stdout",
          "output_type": "stream",
          "text": [
            "57/57 [==============================] - 6s 18ms/step - loss: 0.2596 - tp: 688.0000 - fp: 631.0000 - tn: 269.0000 - fn: 212.0000 - accuracy: 0.5317 - precision: 0.5216 - recall: 0.7644 - f1_score: 0.6654 - auc: 0.5467\n",
            "57/57 [==============================] - 1s 22ms/step - loss: 0.2067 - tp: 597.0000 - fp: 286.0000 - tn: 614.0000 - fn: 303.0000 - accuracy: 0.6728 - precision: 0.6761 - recall: 0.6633 - f1_score: 0.7240 - auc: 0.7453\n"
          ]
        },
        {
          "name": "stderr",
          "output_type": "stream",
          "text": [
            "WARNING:tensorflow:Model was constructed with shape (None, None, 1024) for input KerasTensor(type_spec=TensorSpec(shape=(None, None, 1024), dtype=tf.float32, name='input_31'), name='input_31', description=\"created by layer 'input_31'\"), but it was called on an input with incompatible shape (None, 1024).\n",
            "WARNING:tensorflow:Model was constructed with shape (None, None, 1024) for input KerasTensor(type_spec=TensorSpec(shape=(None, None, 1024), dtype=tf.float32, name='input_32'), name='input_32', description=\"created by layer 'input_32'\"), but it was called on an input with incompatible shape (None, 1024).\n"
          ]
        },
        {
          "name": "stdout",
          "output_type": "stream",
          "text": [
            "57/57 [==============================] - 6s 27ms/step\n",
            "57/57 [==============================] - 1s 16ms/step\n",
            "113/113 [==============================] - 2s 17ms/step\n",
            "\n",
            "[0.2378811091184616, 1124.0, 829.0, 971.0, 676.0, 0.581944465637207, 0.5755248069763184, 0.6244444251060486, 0.6817288398742676, 0.6282253265380859] \n",
            " [0.25379738211631775, 579.0, 499.0, 401.0, 321.0, 0.5444444417953491, 0.5371057391166687, 0.6433333158493042, 0.6684309840202332, 0.5655809044837952] \n",
            " [0.22208000719547272, 553.0, 333.0, 567.0, 347.0, 0.6222222447395325, 0.6241534948348999, 0.6144444346427917, 0.6982441544532776, 0.6880043745040894] \n",
            "\n",
            "\n",
            "[0.2331540882587433, 1285.0, 917.0, 883.0, 515.0, 0.602222204208374, 0.5835604071617126, 0.7138888835906982, 0.6925579309463501, 0.6446882486343384] \n",
            " [0.259564608335495, 688.0, 631.0, 269.0, 212.0, 0.5316666960716248, 0.5216072797775269, 0.7644444704055786, 0.6654035449028015, 0.5466709733009338] \n",
            " [0.206743523478508, 597.0, 286.0, 614.0, 303.0, 0.6727777719497681, 0.6761041879653931, 0.6633333563804626, 0.7240018248558044, 0.7452629804611206] \n",
            "\n",
            "\n"
          ]
        }
      ],
      "source": [
        "model1 = genModel(attention_merge)\n",
        "model2 = genModel(addition_merge)\n",
        "# model3 = genModel(concatenate_merge)\n",
        "\n",
        "res1 = run(model1, 'model1.h5', '1')\n",
        "res2 = run(model2, 'model2.h5', '2')\n",
        "# res3 = run(model3, 'model3.h5', '3')\n",
        "\n",
        "\n",
        "print()\n",
        "print(res1[0], '\\n', res1[1], '\\n', res1[2], '\\n\\n')\n",
        "print(res2[0], '\\n', res2[1], '\\n', res2[2], '\\n\\n')\n",
        "# print(res3[0], '\\n', res3[1], '\\n', res3[2], '\\n\\n')\n",
        "\n"
      ]
    },
    {
      "cell_type": "markdown",
      "metadata": {
        "id": "7H3ro6vKd8wX"
      },
      "source": [
        "The following snippet will print coherent result of the evaluation of each datasets."
      ]
    },
    {
      "cell_type": "code",
      "execution_count": null,
      "metadata": {
        "colab": {
          "base_uri": "https://localhost:8080/"
        },
        "id": "YrFt7AadfCUn",
        "outputId": "19a9dc9a-485c-4197-e577-3d24fc4066f4"
      },
      "outputs": [
        {
          "name": "stdout",
          "output_type": "stream",
          "text": [
            "loss: 0.2378811091184616 - tp: 1124.0 - fp: 829.0 - tn: 971.0 - fn: 676.0 - accuracy: 0.581944465637207 - precision: 0.5755248069763184 - recall: 0.6244444251060486 - f1-score: 0.6817288398742676 - auc: 0.6282253265380859 - \n",
            "loss: 0.25379738211631775 - tp: 579.0 - fp: 499.0 - tn: 401.0 - fn: 321.0 - accuracy: 0.5444444417953491 - precision: 0.5371057391166687 - recall: 0.6433333158493042 - f1-score: 0.6684309840202332 - auc: 0.5655809044837952 - \n",
            "loss: 0.22208000719547272 - tp: 553.0 - fp: 333.0 - tn: 567.0 - fn: 347.0 - accuracy: 0.6222222447395325 - precision: 0.6241534948348999 - recall: 0.6144444346427917 - f1-score: 0.6982441544532776 - auc: 0.6880043745040894 - \n",
            "\n",
            "loss: 0.2331540882587433 - tp: 1285.0 - fp: 917.0 - tn: 883.0 - fn: 515.0 - accuracy: 0.602222204208374 - precision: 0.5835604071617126 - recall: 0.7138888835906982 - f1-score: 0.6925579309463501 - auc: 0.6446882486343384 - \n",
            "loss: 0.259564608335495 - tp: 688.0 - fp: 631.0 - tn: 269.0 - fn: 212.0 - accuracy: 0.5316666960716248 - precision: 0.5216072797775269 - recall: 0.7644444704055786 - f1-score: 0.6654035449028015 - auc: 0.5466709733009338 - \n",
            "loss: 0.206743523478508 - tp: 597.0 - fp: 286.0 - tn: 614.0 - fn: 303.0 - accuracy: 0.6727777719497681 - precision: 0.6761041879653931 - recall: 0.6633333563804626 - f1-score: 0.7240018248558044 - auc: 0.7452629804611206 - \n",
            "\n"
          ]
        }
      ],
      "source": [
        "def printing(results):\n",
        "\n",
        "  name = ['loss', 'tp', 'fp', 'tn', 'fn', 'accuracy', 'precision', 'recall', 'f1-score', 'auc']\n",
        "  for result in results:\n",
        "    op=''\n",
        "    for i in range(len(name)):\n",
        "      op+=name[i]+\": \"+ str(result[i]) +\" - \"\n",
        "    print(op)\n",
        "  print()\n",
        "\n",
        "\n",
        "\n",
        "\n",
        "printing(res1)\n",
        "printing(res2)\n",
        "# printing(res3)\n",
        "\n"
      ]
    },
    {
      "cell_type": "code",
      "execution_count": null,
      "metadata": {
        "id": "_fsfwPWlfCUn"
      },
      "outputs": [],
      "source": [
        "# modelpath = \"/content/gdrive/MyDrive/embeddings/MODELS/model6979.h5\"\n",
        "# model = tf.keras.models.load_model(modelpath, custom_objects={'contrastive_loss': contrastive_loss})\n",
        "\n",
        "# # Print the model summary\n",
        "# model.summary()"
      ]
    },
    {
      "cell_type": "code",
      "execution_count": null,
      "metadata": {
        "id": "RNZi4NoQfCUn"
      },
      "outputs": [],
      "source": [
        "# # new_model = tf.keras.models.load_model('model1.h5', custom_objects={'contrastive_loss': contrastive_loss})\n",
        "\n",
        "# # run(new_model)\n",
        "# import shutil\n",
        "# source_path = \"/content/model2.h5\"\n",
        "# destination_path = \"/content/gdrive/MyDrive/embeddings/MODELS/model6965_66_732.h5\"\n",
        "# shutil.copyfile(source_path, destination_path)\n",
        "\n",
        "\n",
        "import os\n",
        "import shutil\n",
        "source_path = \"/content/\"\n",
        "destination_path = \"/content/gdrive/MyDrive/embeddings/MODELS/intermediate\"\n",
        "for file in os.listdir(source_path):\n",
        "\n",
        "    # Get the full path of the file.\n",
        "    file_path = os.path.join(source_path, file)\n",
        "\n",
        "    # Copy or move the file to the destination path.\n",
        "    # Check if the file is a folder.\n",
        "    if not os.path.isdir(file_path):\n",
        "\n",
        "        # Copy or move the file to the destination path.\n",
        "        shutil.copy(file_path, destination_path)\n",
        "    else:\n",
        "        # Skip the folder.\n",
        "        continue"
      ]
    },
    {
      "cell_type": "markdown",
      "metadata": {
        "id": "zqXFJpZNgJo5"
      },
      "source": [
        "# model - late merge"
      ]
    },
    {
      "cell_type": "code",
      "execution_count": null,
      "metadata": {
        "id": "3_fP43OYgJo6"
      },
      "outputs": [],
      "source": [
        "from tensorflow.keras.layers import Input, Reshape, Lambda, LSTM, concatenate, Dense, Dropout, Attention\n",
        "from tensorflow.keras.models import Model\n",
        "from tensorflow.keras import backend as K"
      ]
    },
    {
      "cell_type": "markdown",
      "metadata": {
        "id": "Y_I0JI7Jee3X"
      },
      "source": [
        "The following function `genModel()` generates classification model."
      ]
    },
    {
      "cell_type": "code",
      "execution_count": null,
      "metadata": {
        "id": "xw6PbBPNgJo6"
      },
      "outputs": [],
      "source": [
        "import tensorflow as tf\n",
        "import datetime\n",
        "\n",
        "def attention_merge(lstm_1, lstm_2):\n",
        "  attention = Attention()([lstm_1, lstm_2])\n",
        "  merged_lstm = attention * lstm_1 + (1 - attention) * lstm_2\n",
        "  return merged_lstm\n",
        "\n",
        "def addition_merge(lstm_1, lstm_2):\n",
        "  merged_lstm = lstm_1 + lstm_2\n",
        "  return merged_lstm\n",
        "\n",
        "def concatenate_merge(lstm_1, lstm_2):\n",
        "  merged_lstm = concatenate([lstm_1, lstm_2], axis=2)\n",
        "  return merged_lstm\n",
        "\n",
        "def genModel(merge):\n",
        "    input_1 = Input(shape=(None, feature_number))\n",
        "    input_2 = Input(shape=(None, feature_number))\n",
        "\n",
        "    # Reshape inputs to 3D tensors\n",
        "    lstm_input_1 = Reshape((-1, feature_number))(input_1)\n",
        "    lstm_input_2 = Reshape((-1, feature_number))(input_2)\n",
        "\n",
        "    lstm_1 = LSTM(units=256, return_sequences=True)(lstm_input_1)\n",
        "    lstm_2 = LSTM(units=256, return_sequences=True)(lstm_input_2)\n",
        "\n",
        "    lstm_1 = Dense(units=256)(lstm_1)\n",
        "    lstm_2 = Dense(units=256)(lstm_2)\n",
        "\n",
        "    lstm_1 = Reshape((1, lstm_1.shape[2]))(lstm_1)\n",
        "    lstm_2 = Reshape((1, lstm_2.shape[2]))(lstm_2)\n",
        "\n",
        "    lstm_1 = LSTM(units=256, return_sequences=True, activation='tanh')(lstm_1)\n",
        "    lstm_2 = LSTM(units=256, return_sequences=True, activation='tanh')(lstm_2)\n",
        "\n",
        "    # merged_lstm = attention_merge(lstm_1, lstm_2)\n",
        "    # merged_lstm = addition_merge(lstm_1, lstm_2)\n",
        "    # merged_lstm = concatenate_merge(lstm_1, lstm_2)\n",
        "    merged_lstm = merge(lstm_1, lstm_2)\n",
        "    print(merged_lstm.shape)\n",
        "    merged_lstm = Reshape((1, merged_lstm.shape[2]))(merged_lstm)\n",
        "    merged_lstm = LSTM(units=256, activation='tanh')(merged_lstm)\n",
        "\n",
        "\n",
        "    output_layer = Dense(units=1, activation='sigmoid')(merged_lstm)\n",
        "\n",
        "    model = Model(inputs=[input_1, input_2], outputs=output_layer)\n",
        "\n",
        "\n",
        "    return model\n"
      ]
    },
    {
      "cell_type": "markdown",
      "metadata": {
        "id": "iD9Pl9-Tee3Y"
      },
      "source": [
        "The following function `run()` compiles and evaluates the model with 3 test datasets - Twitter dataset, Reddit Dataset, and their Combined Dataset."
      ]
    },
    {
      "cell_type": "code",
      "execution_count": null,
      "metadata": {
        "id": "C1TKbQ9SgJo7"
      },
      "outputs": [],
      "source": [
        "import matplotlib.pyplot as plt\n",
        "from sklearn.metrics import auc, roc_curve, roc_auc_score\n",
        "def generate_auc_curve(y_true, y_pred_prob, model_name):\n",
        "    fpr, tpr, thresholds = roc_curve(y_true, y_pred_prob)\n",
        "    roc_auc = auc(fpr, tpr)\n",
        "\n",
        "    # Compute AUC scores for different thresholds\n",
        "    auc_scores = []\n",
        "    for threshold in thresholds:\n",
        "        y_pred_binary = (y_pred_prob >= threshold).astype(int)\n",
        "        auc_scores.append(roc_auc_score(y_true, y_pred_binary))\n",
        "\n",
        "    # Plot the AUC curve\n",
        "    plt.figure()\n",
        "    plt.plot(thresholds, auc_scores, label='AUC curve')\n",
        "    plt.xlabel('Threshold')\n",
        "    plt.ylabel('AUC score')\n",
        "    plt.title('AUC Curve - ' + model_name)\n",
        "    plt.legend(loc=\"lower right\")\n",
        "    plt.savefig( model_name + '__auc_curve.png')\n",
        "    plt.close()\n",
        "\n",
        "    return roc_auc\n",
        "\n",
        "\n",
        "def generate_ROC(model, x_test, y_test, name, n):\n",
        "    # Get predicted probabilities for ROC curve\n",
        "    y_pred_prob = model.predict([x_test[:, 0], x_test[:, 1]])\n",
        "\n",
        "\n",
        "    roc_auc = generate_auc_curve(y_test, y_pred_prob, name)\n",
        "\n",
        "    # Compute ROC curve and AUC score\n",
        "    fpr, tpr, thresholds = roc_curve(y_test, y_pred_prob)\n",
        "    roc_auc = roc_auc_score(y_test, y_pred_prob)\n",
        "\n",
        "    # Plot the ROC curve\n",
        "    plt.figure()\n",
        "    plt.plot(fpr, tpr, label='ROC curve (area = %0.2f)' % roc_auc)\n",
        "    plt.plot([0, 1], [0, 1], 'k--')\n",
        "    plt.xlim([0.0, 1.0])\n",
        "    plt.ylim([0.0, 1.05])\n",
        "    plt.xlabel('False Positive Rate')\n",
        "    plt.ylabel('True Positive Rate')\n",
        "    plt.title('Receiver Operating Characteristic')\n",
        "    plt.legend(loc=\"lower right\")\n",
        "\n",
        "    plt.savefig(name+'_roc_auc__'+n+'.png')\n",
        "    plt.close()\n",
        "\n",
        "\n",
        "\n",
        "def run(model, name, n):\n",
        "\n",
        "    name = '/content/gdrive/MyDrive/embeddings/MODELS/late/'+name\n",
        "\n",
        "    opt = tf.keras.optimizers.Adam(learning_rate=1e-3)\n",
        "\n",
        "    metrics = [\n",
        "        tf.keras.metrics.TruePositives(name='tp'),\n",
        "        tf.keras.metrics.FalsePositives(name='fp'),\n",
        "        tf.keras.metrics.TrueNegatives(name='tn'),\n",
        "        tf.keras.metrics.FalseNegatives(name='fn'),\n",
        "        tf.keras.metrics.BinaryAccuracy(name='accuracy'),\n",
        "        tf.keras.metrics.Precision(name='precision'),\n",
        "        tf.keras.metrics.Recall(name='recall'),\n",
        "        tfa.metrics.F1Score(num_classes=2, average='micro', threshold=0.2555),\n",
        "        tf.keras.metrics.AUC(name='auc')\n",
        "    ]\n",
        "\n",
        "    # Compile the model\n",
        "    model.compile(optimizer=opt, loss=contrastive_loss, metrics=metrics)\n",
        "\n",
        "    # Train the model\n",
        "    history = model.fit(x=[x_train[:, 0], x_train[:, 1]], y=y_train, batch_size=256, epochs=1000,\n",
        "                        validation_split=0.3, callbacks=[early_stop])\n",
        "\n",
        "    # Evaluate the model on the test set\n",
        "    test_ = model.evaluate(x=[x_test_[:, 0], x_test_[:, 1]], y=y_test_)\n",
        "    test2 = model.evaluate(x=[x_test2[:, 0], x_test2[:, 1]], y=y_test2)\n",
        "    test = model.evaluate(x=[x_test[:, 0], x_test[:, 1]], y=y_test)\n",
        "\n",
        "    # Save the model\n",
        "    model.save(name)\n",
        "\n",
        "    generate_ROC(model, x_test, y_test, 'twitter', n)\n",
        "    generate_ROC(model, x_test2, y_test2, 'reddit', n)\n",
        "    generate_ROC(model, x_test_, y_test_, 'combined', n)\n",
        "\n",
        "\n",
        "\n",
        "    return [test_, test2, test]\n",
        "\n"
      ]
    },
    {
      "cell_type": "markdown",
      "metadata": {
        "id": "Htr40t9nee3Z"
      },
      "source": [
        "The following are the function calls for generating model, compiling and evaluating them."
      ]
    },
    {
      "cell_type": "code",
      "execution_count": null,
      "metadata": {
        "colab": {
          "base_uri": "https://localhost:8080/"
        },
        "id": "qXlj-GUBgJo8",
        "outputId": "0bb88f22-f561-4365-c110-e6275cefa7c1"
      },
      "outputs": [
        {
          "name": "stdout",
          "output_type": "stream",
          "text": [
            "(None, 1, 256)\n",
            "(None, 1, 256)\n",
            "(None, 1, 512)\n",
            "Epoch 1/1000\n"
          ]
        },
        {
          "name": "stderr",
          "output_type": "stream",
          "text": [
            "WARNING:tensorflow:Model was constructed with shape (None, None, 1024) for input KerasTensor(type_spec=TensorSpec(shape=(None, None, 1024), dtype=tf.float32, name='input_81'), name='input_81', description=\"created by layer 'input_81'\"), but it was called on an input with incompatible shape (None, 1024).\n",
            "WARNING:tensorflow:Model was constructed with shape (None, None, 1024) for input KerasTensor(type_spec=TensorSpec(shape=(None, None, 1024), dtype=tf.float32, name='input_82'), name='input_82', description=\"created by layer 'input_82'\"), but it was called on an input with incompatible shape (None, 1024).\n",
            "WARNING:tensorflow:Model was constructed with shape (None, None, 1024) for input KerasTensor(type_spec=TensorSpec(shape=(None, None, 1024), dtype=tf.float32, name='input_81'), name='input_81', description=\"created by layer 'input_81'\"), but it was called on an input with incompatible shape (None, 1024).\n",
            "WARNING:tensorflow:Model was constructed with shape (None, None, 1024) for input KerasTensor(type_spec=TensorSpec(shape=(None, None, 1024), dtype=tf.float32, name='input_82'), name='input_82', description=\"created by layer 'input_82'\"), but it was called on an input with incompatible shape (None, 1024).\n"
          ]
        },
        {
          "name": "stdout",
          "output_type": "stream",
          "text": [
            "26/26 [==============================] - ETA: 0s - loss: 0.2403 - tp: 2090.0000 - fp: 1585.0000 - tn: 1679.0000 - fn: 1226.0000 - accuracy: 0.5728 - precision: 0.5687 - recall: 0.6303 - f1_score: 0.6757 - auc: 0.6012"
          ]
        },
        {
          "name": "stderr",
          "output_type": "stream",
          "text": [
            "WARNING:tensorflow:Model was constructed with shape (None, None, 1024) for input KerasTensor(type_spec=TensorSpec(shape=(None, None, 1024), dtype=tf.float32, name='input_81'), name='input_81', description=\"created by layer 'input_81'\"), but it was called on an input with incompatible shape (None, 1024).\n",
            "WARNING:tensorflow:Model was constructed with shape (None, None, 1024) for input KerasTensor(type_spec=TensorSpec(shape=(None, None, 1024), dtype=tf.float32, name='input_82'), name='input_82', description=\"created by layer 'input_82'\"), but it was called on an input with incompatible shape (None, 1024).\n"
          ]
        },
        {
          "name": "stdout",
          "output_type": "stream",
          "text": [
            "\b\b\b\b\b\b\b\b\b\b\b\b\b\b\b\b\b\b\b\b\b\b\b\b\b\b\b\b\b\b\b\b\b\b\b\b\b\b\b\b\b\b\b\b\b\b\b\b\b\b\b\b\b\b\b\b\b\b\b\b\b\b\b\b\b\b\b\b\b\b\b\b\b\b\b\b\b\b\b\b\b\b\b\b\b\b\b\b\b\b\b\b\b\b\b\b\b\b\b\b\b\b\b\b\b\b\b\b\b\b\b\b\b\b\b\b\b\b\b\b\b\b\b\b\b\b\b\b\b\b\b\b\b\b\b\b\b\b\b\b\b\b\b\b\b\b\b\b\b\b\b\b\b\b\b\b\b\b\b\b\b\b\b\b\b\b\b\b\b\b\b\b\b\b\b\b\b\b\b\b\b\b\b\b\b\b\b\b\b\b\b\b\b\b\b\b\b\b\b\b\b\b\b\b\b\b\b\b\b\b\b\b\b\b\b\b\r26/26 [==============================] - 25s 407ms/step - loss: 0.2403 - tp: 2090.0000 - fp: 1585.0000 - tn: 1679.0000 - fn: 1226.0000 - accuracy: 0.5728 - precision: 0.5687 - recall: 0.6303 - f1_score: 0.6757 - auc: 0.6012 - val_loss: 0.2272 - val_tp: 980.0000 - val_fp: 709.0000 - val_tn: 727.0000 - val_fn: 404.0000 - val_accuracy: 0.6053 - val_precision: 0.5802 - val_recall: 0.7081 - val_f1_score: 0.6926 - val_auc: 0.6581\n",
            "Epoch 2/1000\n",
            "26/26 [==============================] - 6s 229ms/step - loss: 0.2270 - tp: 2587.0000 - fp: 1820.0000 - tn: 1444.0000 - fn: 729.0000 - accuracy: 0.6126 - precision: 0.5870 - recall: 0.7802 - f1_score: 0.6958 - auc: 0.6619 - val_loss: 0.2246 - val_tp: 1099.0000 - val_fp: 803.0000 - val_tn: 633.0000 - val_fn: 285.0000 - val_accuracy: 0.6142 - val_precision: 0.5778 - val_recall: 0.7941 - val_f1_score: 0.6896 - val_auc: 0.6694\n",
            "Epoch 3/1000\n",
            "26/26 [==============================] - 4s 168ms/step - loss: 0.2183 - tp: 2503.0000 - fp: 1560.0000 - tn: 1704.0000 - fn: 813.0000 - accuracy: 0.6394 - precision: 0.6160 - recall: 0.7548 - f1_score: 0.7046 - auc: 0.6943 - val_loss: 0.2222 - val_tp: 1052.0000 - val_fp: 754.0000 - val_tn: 682.0000 - val_fn: 332.0000 - val_accuracy: 0.6149 - val_precision: 0.5825 - val_recall: 0.7601 - val_f1_score: 0.6875 - val_auc: 0.6822\n",
            "Epoch 4/1000\n",
            "26/26 [==============================] - 5s 187ms/step - loss: 0.2130 - tp: 2455.0000 - fp: 1439.0000 - tn: 1825.0000 - fn: 861.0000 - accuracy: 0.6505 - precision: 0.6305 - recall: 0.7403 - f1_score: 0.7058 - auc: 0.7138 - val_loss: 0.2231 - val_tp: 1022.0000 - val_fp: 703.0000 - val_tn: 733.0000 - val_fn: 362.0000 - val_accuracy: 0.6223 - val_precision: 0.5925 - val_recall: 0.7384 - val_f1_score: 0.6920 - val_auc: 0.6866\n",
            "Epoch 5/1000\n",
            "26/26 [==============================] - 7s 289ms/step - loss: 0.2057 - tp: 2481.0000 - fp: 1332.0000 - tn: 1932.0000 - fn: 835.0000 - accuracy: 0.6707 - precision: 0.6507 - recall: 0.7482 - f1_score: 0.7151 - auc: 0.7370 - val_loss: 0.2205 - val_tp: 1013.0000 - val_fp: 676.0000 - val_tn: 760.0000 - val_fn: 371.0000 - val_accuracy: 0.6287 - val_precision: 0.5998 - val_recall: 0.7319 - val_f1_score: 0.6899 - val_auc: 0.6879\n",
            "Epoch 6/1000\n",
            "26/26 [==============================] - 5s 190ms/step - loss: 0.1955 - tp: 2443.0000 - fp: 1153.0000 - tn: 2111.0000 - fn: 873.0000 - accuracy: 0.6921 - precision: 0.6794 - recall: 0.7367 - f1_score: 0.7208 - auc: 0.7669 - val_loss: 0.2290 - val_tp: 582.0000 - val_fp: 322.0000 - val_tn: 1114.0000 - val_fn: 802.0000 - val_accuracy: 0.6014 - val_precision: 0.6438 - val_recall: 0.4205 - val_f1_score: 0.6950 - val_auc: 0.6772\n",
            "Epoch 7/1000\n",
            "26/26 [==============================] - 4s 168ms/step - loss: 0.1893 - tp: 2473.0000 - fp: 1127.0000 - tn: 2137.0000 - fn: 843.0000 - accuracy: 0.7006 - precision: 0.6869 - recall: 0.7458 - f1_score: 0.7288 - auc: 0.7813 - val_loss: 0.2349 - val_tp: 1142.0000 - val_fp: 849.0000 - val_tn: 587.0000 - val_fn: 242.0000 - val_accuracy: 0.6131 - val_precision: 0.5736 - val_recall: 0.8251 - val_f1_score: 0.6907 - val_auc: 0.6801\n",
            "Epoch 8/1000\n",
            "26/26 [==============================] - 6s 222ms/step - loss: 0.1808 - tp: 2528.0000 - fp: 997.0000 - tn: 2267.0000 - fn: 788.0000 - accuracy: 0.7287 - precision: 0.7172 - recall: 0.7624 - f1_score: 0.7364 - auc: 0.8033 - val_loss: 0.2371 - val_tp: 1060.0000 - val_fp: 726.0000 - val_tn: 710.0000 - val_fn: 324.0000 - val_accuracy: 0.6277 - val_precision: 0.5935 - val_recall: 0.7659 - val_f1_score: 0.6947 - val_auc: 0.6827\n",
            "Epoch 9/1000\n",
            "26/26 [==============================] - 8s 298ms/step - loss: 0.1649 - tp: 2619.0000 - fp: 938.0000 - tn: 2326.0000 - fn: 697.0000 - accuracy: 0.7515 - precision: 0.7363 - recall: 0.7898 - f1_score: 0.7601 - auc: 0.8365 - val_loss: 0.2384 - val_tp: 897.0000 - val_fp: 610.0000 - val_tn: 826.0000 - val_fn: 487.0000 - val_accuracy: 0.6110 - val_precision: 0.5952 - val_recall: 0.6481 - val_f1_score: 0.6863 - val_auc: 0.6603\n",
            "Epoch 10/1000\n",
            "26/26 [==============================] - 4s 164ms/step - loss: 0.1568 - tp: 2579.0000 - fp: 793.0000 - tn: 2471.0000 - fn: 737.0000 - accuracy: 0.7675 - precision: 0.7648 - recall: 0.7777 - f1_score: 0.7694 - auc: 0.8528 - val_loss: 0.2741 - val_tp: 1121.0000 - val_fp: 866.0000 - val_tn: 570.0000 - val_fn: 263.0000 - val_accuracy: 0.5996 - val_precision: 0.5642 - val_recall: 0.8100 - val_f1_score: 0.6842 - val_auc: 0.6550\n",
            "Epoch 11/1000\n",
            "26/26 [==============================] - 4s 169ms/step - loss: 0.1447 - tp: 2678.0000 - fp: 745.0000 - tn: 2519.0000 - fn: 638.0000 - accuracy: 0.7898 - precision: 0.7824 - recall: 0.8076 - f1_score: 0.7887 - auc: 0.8734 - val_loss: 0.2686 - val_tp: 1118.0000 - val_fp: 888.0000 - val_tn: 548.0000 - val_fn: 266.0000 - val_accuracy: 0.5908 - val_precision: 0.5573 - val_recall: 0.8078 - val_f1_score: 0.6799 - val_auc: 0.6432\n",
            "Epoch 12/1000\n",
            "26/26 [==============================] - 7s 277ms/step - loss: 0.1296 - tp: 2772.0000 - fp: 678.0000 - tn: 2586.0000 - fn: 544.0000 - accuracy: 0.8143 - precision: 0.8035 - recall: 0.8359 - f1_score: 0.8016 - auc: 0.8979 - val_loss: 0.2885 - val_tp: 660.0000 - val_fp: 381.0000 - val_tn: 1055.0000 - val_fn: 724.0000 - val_accuracy: 0.6082 - val_precision: 0.6340 - val_recall: 0.4769 - val_f1_score: 0.6228 - val_auc: 0.6607\n",
            "Epoch 13/1000\n",
            "26/26 [==============================] - 6s 222ms/step - loss: 0.1125 - tp: 2822.0000 - fp: 549.0000 - tn: 2715.0000 - fn: 494.0000 - accuracy: 0.8415 - precision: 0.8371 - recall: 0.8510 - f1_score: 0.8321 - auc: 0.9211 - val_loss: 0.3007 - val_tp: 1107.0000 - val_fp: 833.0000 - val_tn: 603.0000 - val_fn: 277.0000 - val_accuracy: 0.6064 - val_precision: 0.5706 - val_recall: 0.7999 - val_f1_score: 0.6742 - val_auc: 0.6556\n",
            "Epoch 14/1000\n",
            "26/26 [==============================] - 4s 168ms/step - loss: 0.1045 - tp: 2875.0000 - fp: 518.0000 - tn: 2746.0000 - fn: 441.0000 - accuracy: 0.8543 - precision: 0.8473 - recall: 0.8670 - f1_score: 0.8463 - auc: 0.9305 - val_loss: 0.2804 - val_tp: 822.0000 - val_fp: 548.0000 - val_tn: 888.0000 - val_fn: 562.0000 - val_accuracy: 0.6064 - val_precision: 0.6000 - val_recall: 0.5939 - val_f1_score: 0.6548 - val_auc: 0.6533\n",
            "Epoch 15/1000\n",
            "26/26 [==============================] - 5s 191ms/step - loss: 0.0865 - tp: 2967.0000 - fp: 434.0000 - tn: 2830.0000 - fn: 349.0000 - accuracy: 0.8810 - precision: 0.8724 - recall: 0.8948 - f1_score: 0.8747 - auc: 0.9489 - val_loss: 0.3020 - val_tp: 819.0000 - val_fp: 579.0000 - val_tn: 857.0000 - val_fn: 565.0000 - val_accuracy: 0.5943 - val_precision: 0.5858 - val_recall: 0.5918 - val_f1_score: 0.6341 - val_auc: 0.6315\n",
            "113/113 [==============================] - 2s 17ms/step - loss: 0.2354 - tp: 1203.0000 - fp: 874.0000 - tn: 926.0000 - fn: 597.0000 - accuracy: 0.5914 - precision: 0.5792 - recall: 0.6683 - f1_score: 0.6807 - auc: 0.6348\n"
          ]
        },
        {
          "name": "stderr",
          "output_type": "stream",
          "text": [
            "WARNING:tensorflow:Model was constructed with shape (None, None, 1024) for input KerasTensor(type_spec=TensorSpec(shape=(None, None, 1024), dtype=tf.float32, name='input_81'), name='input_81', description=\"created by layer 'input_81'\"), but it was called on an input with incompatible shape (None, 1024).\n",
            "WARNING:tensorflow:Model was constructed with shape (None, None, 1024) for input KerasTensor(type_spec=TensorSpec(shape=(None, None, 1024), dtype=tf.float32, name='input_82'), name='input_82', description=\"created by layer 'input_82'\"), but it was called on an input with incompatible shape (None, 1024).\n"
          ]
        },
        {
          "name": "stdout",
          "output_type": "stream",
          "text": [
            "57/57 [==============================] - 5s 17ms/step - loss: 0.2514 - tp: 649.0000 - fp: 548.0000 - tn: 352.0000 - fn: 251.0000 - accuracy: 0.5561 - precision: 0.5422 - recall: 0.7211 - f1_score: 0.6697 - auc: 0.5732\n",
            "57/57 [==============================] - 1s 17ms/step - loss: 0.2194 - tp: 554.0000 - fp: 326.0000 - tn: 574.0000 - fn: 346.0000 - accuracy: 0.6267 - precision: 0.6295 - recall: 0.6156 - f1_score: 0.6924 - auc: 0.6969\n"
          ]
        },
        {
          "name": "stderr",
          "output_type": "stream",
          "text": [
            "WARNING:tensorflow:Model was constructed with shape (None, None, 1024) for input KerasTensor(type_spec=TensorSpec(shape=(None, None, 1024), dtype=tf.float32, name='input_81'), name='input_81', description=\"created by layer 'input_81'\"), but it was called on an input with incompatible shape (None, 1024).\n",
            "WARNING:tensorflow:Model was constructed with shape (None, None, 1024) for input KerasTensor(type_spec=TensorSpec(shape=(None, None, 1024), dtype=tf.float32, name='input_82'), name='input_82', description=\"created by layer 'input_82'\"), but it was called on an input with incompatible shape (None, 1024).\n"
          ]
        },
        {
          "name": "stdout",
          "output_type": "stream",
          "text": [
            "57/57 [==============================] - 4s 24ms/step\n",
            "57/57 [==============================] - 1s 24ms/step\n",
            "113/113 [==============================] - 2s 15ms/step\n",
            "Epoch 1/1000\n"
          ]
        },
        {
          "name": "stderr",
          "output_type": "stream",
          "text": [
            "WARNING:tensorflow:Model was constructed with shape (None, None, 1024) for input KerasTensor(type_spec=TensorSpec(shape=(None, None, 1024), dtype=tf.float32, name='input_83'), name='input_83', description=\"created by layer 'input_83'\"), but it was called on an input with incompatible shape (None, 1024).\n",
            "WARNING:tensorflow:Model was constructed with shape (None, None, 1024) for input KerasTensor(type_spec=TensorSpec(shape=(None, None, 1024), dtype=tf.float32, name='input_84'), name='input_84', description=\"created by layer 'input_84'\"), but it was called on an input with incompatible shape (None, 1024).\n",
            "WARNING:tensorflow:Model was constructed with shape (None, None, 1024) for input KerasTensor(type_spec=TensorSpec(shape=(None, None, 1024), dtype=tf.float32, name='input_83'), name='input_83', description=\"created by layer 'input_83'\"), but it was called on an input with incompatible shape (None, 1024).\n",
            "WARNING:tensorflow:Model was constructed with shape (None, None, 1024) for input KerasTensor(type_spec=TensorSpec(shape=(None, None, 1024), dtype=tf.float32, name='input_84'), name='input_84', description=\"created by layer 'input_84'\"), but it was called on an input with incompatible shape (None, 1024).\n"
          ]
        },
        {
          "name": "stdout",
          "output_type": "stream",
          "text": [
            "26/26 [==============================] - ETA: 0s - loss: 0.2362 - tp: 2331.0000 - fp: 1737.0000 - tn: 1527.0000 - fn: 985.0000 - accuracy: 0.5863 - precision: 0.5730 - recall: 0.7030 - f1_score: 0.6820 - auc: 0.6228"
          ]
        },
        {
          "name": "stderr",
          "output_type": "stream",
          "text": [
            "WARNING:tensorflow:Model was constructed with shape (None, None, 1024) for input KerasTensor(type_spec=TensorSpec(shape=(None, None, 1024), dtype=tf.float32, name='input_83'), name='input_83', description=\"created by layer 'input_83'\"), but it was called on an input with incompatible shape (None, 1024).\n",
            "WARNING:tensorflow:Model was constructed with shape (None, None, 1024) for input KerasTensor(type_spec=TensorSpec(shape=(None, None, 1024), dtype=tf.float32, name='input_84'), name='input_84', description=\"created by layer 'input_84'\"), but it was called on an input with incompatible shape (None, 1024).\n"
          ]
        },
        {
          "name": "stdout",
          "output_type": "stream",
          "text": [
            "\b\b\b\b\b\b\b\b\b\b\b\b\b\b\b\b\b\b\b\b\b\b\b\b\b\b\b\b\b\b\b\b\b\b\b\b\b\b\b\b\b\b\b\b\b\b\b\b\b\b\b\b\b\b\b\b\b\b\b\b\b\b\b\b\b\b\b\b\b\b\b\b\b\b\b\b\b\b\b\b\b\b\b\b\b\b\b\b\b\b\b\b\b\b\b\b\b\b\b\b\b\b\b\b\b\b\b\b\b\b\b\b\b\b\b\b\b\b\b\b\b\b\b\b\b\b\b\b\b\b\b\b\b\b\b\b\b\b\b\b\b\b\b\b\b\b\b\b\b\b\b\b\b\b\b\b\b\b\b\b\b\b\b\b\b\b\b\b\b\b\b\b\b\b\b\b\b\b\b\b\b\b\b\b\b\b\b\b\b\b\b\b\b\b\b\b\b\b\b\b\b\b\b\b\b\b\b\b\b\b\b\b\b\b\b\r26/26 [==============================] - 21s 290ms/step - loss: 0.2362 - tp: 2331.0000 - fp: 1737.0000 - tn: 1527.0000 - fn: 985.0000 - accuracy: 0.5863 - precision: 0.5730 - recall: 0.7030 - f1_score: 0.6820 - auc: 0.6228 - val_loss: 0.2280 - val_tp: 1228.0000 - val_fp: 927.0000 - val_tn: 509.0000 - val_fn: 156.0000 - val_accuracy: 0.6160 - val_precision: 0.5698 - val_recall: 0.8873 - val_f1_score: 0.6747 - val_auc: 0.6787\n",
            "Epoch 2/1000\n",
            "26/26 [==============================] - 7s 266ms/step - loss: 0.2207 - tp: 2486.0000 - fp: 1602.0000 - tn: 1662.0000 - fn: 830.0000 - accuracy: 0.6304 - precision: 0.6081 - recall: 0.7497 - f1_score: 0.7020 - auc: 0.6846 - val_loss: 0.2225 - val_tp: 1194.0000 - val_fp: 882.0000 - val_tn: 554.0000 - val_fn: 190.0000 - val_accuracy: 0.6199 - val_precision: 0.5751 - val_recall: 0.8627 - val_f1_score: 0.6791 - val_auc: 0.7012\n",
            "Epoch 3/1000\n",
            "26/26 [==============================] - 6s 235ms/step - loss: 0.2116 - tp: 2475.0000 - fp: 1431.0000 - tn: 1833.0000 - fn: 841.0000 - accuracy: 0.6547 - precision: 0.6336 - recall: 0.7464 - f1_score: 0.7105 - auc: 0.7190 - val_loss: 0.2174 - val_tp: 986.0000 - val_fp: 660.0000 - val_tn: 776.0000 - val_fn: 398.0000 - val_accuracy: 0.6248 - val_precision: 0.5990 - val_recall: 0.7124 - val_f1_score: 0.6915 - val_auc: 0.6990\n",
            "Epoch 4/1000\n",
            "26/26 [==============================] - 4s 165ms/step - loss: 0.2026 - tp: 2478.0000 - fp: 1259.0000 - tn: 2005.0000 - fn: 838.0000 - accuracy: 0.6813 - precision: 0.6631 - recall: 0.7473 - f1_score: 0.7136 - auc: 0.7480 - val_loss: 0.2171 - val_tp: 674.0000 - val_fp: 323.0000 - val_tn: 1113.0000 - val_fn: 710.0000 - val_accuracy: 0.6337 - val_precision: 0.6760 - val_recall: 0.4870 - val_f1_score: 0.7087 - val_auc: 0.7131\n",
            "Epoch 5/1000\n",
            "26/26 [==============================] - 4s 168ms/step - loss: 0.1936 - tp: 2490.0000 - fp: 1117.0000 - tn: 2147.0000 - fn: 826.0000 - accuracy: 0.7047 - precision: 0.6903 - recall: 0.7509 - f1_score: 0.7257 - auc: 0.7712 - val_loss: 0.2153 - val_tp: 795.0000 - val_fp: 412.0000 - val_tn: 1024.0000 - val_fn: 589.0000 - val_accuracy: 0.6450 - val_precision: 0.6587 - val_recall: 0.5744 - val_f1_score: 0.7074 - val_auc: 0.7156\n",
            "Epoch 6/1000\n",
            "26/26 [==============================] - 7s 283ms/step - loss: 0.1812 - tp: 2598.0000 - fp: 1040.0000 - tn: 2224.0000 - fn: 718.0000 - accuracy: 0.7328 - precision: 0.7141 - recall: 0.7835 - f1_score: 0.7433 - auc: 0.8011 - val_loss: 0.2372 - val_tp: 1206.0000 - val_fp: 910.0000 - val_tn: 526.0000 - val_fn: 178.0000 - val_accuracy: 0.6142 - val_precision: 0.5699 - val_recall: 0.8714 - val_f1_score: 0.6803 - val_auc: 0.7109\n",
            "Epoch 7/1000\n",
            "26/26 [==============================] - 6s 217ms/step - loss: 0.1733 - tp: 2609.0000 - fp: 1000.0000 - tn: 2264.0000 - fn: 707.0000 - accuracy: 0.7406 - precision: 0.7229 - recall: 0.7868 - f1_score: 0.7520 - auc: 0.8178 - val_loss: 0.2251 - val_tp: 818.0000 - val_fp: 436.0000 - val_tn: 1000.0000 - val_fn: 566.0000 - val_accuracy: 0.6447 - val_precision: 0.6523 - val_recall: 0.5910 - val_f1_score: 0.6959 - val_auc: 0.7100\n",
            "Epoch 8/1000\n",
            "26/26 [==============================] - 4s 172ms/step - loss: 0.1672 - tp: 2561.0000 - fp: 903.0000 - tn: 2361.0000 - fn: 755.0000 - accuracy: 0.7480 - precision: 0.7393 - recall: 0.7723 - f1_score: 0.7624 - auc: 0.8314 - val_loss: 0.2315 - val_tp: 1106.0000 - val_fp: 729.0000 - val_tn: 707.0000 - val_fn: 278.0000 - val_accuracy: 0.6429 - val_precision: 0.6027 - val_recall: 0.7991 - val_f1_score: 0.6972 - val_auc: 0.7049\n",
            "Epoch 9/1000\n",
            "26/26 [==============================] - 5s 200ms/step - loss: 0.1408 - tp: 2762.0000 - fp: 763.0000 - tn: 2501.0000 - fn: 554.0000 - accuracy: 0.7998 - precision: 0.7835 - recall: 0.8329 - f1_score: 0.7968 - auc: 0.8771 - val_loss: 0.2412 - val_tp: 758.0000 - val_fp: 414.0000 - val_tn: 1022.0000 - val_fn: 626.0000 - val_accuracy: 0.6312 - val_precision: 0.6468 - val_recall: 0.5477 - val_f1_score: 0.6732 - val_auc: 0.6877\n",
            "Epoch 10/1000\n",
            "26/26 [==============================] - 8s 295ms/step - loss: 0.1298 - tp: 2798.0000 - fp: 662.0000 - tn: 2602.0000 - fn: 518.0000 - accuracy: 0.8207 - precision: 0.8087 - recall: 0.8438 - f1_score: 0.8142 - auc: 0.8929 - val_loss: 0.2715 - val_tp: 1168.0000 - val_fp: 832.0000 - val_tn: 604.0000 - val_fn: 216.0000 - val_accuracy: 0.6284 - val_precision: 0.5840 - val_recall: 0.8439 - val_f1_score: 0.6906 - val_auc: 0.6876\n",
            "Epoch 11/1000\n",
            "26/26 [==============================] - 5s 178ms/step - loss: 0.1164 - tp: 2875.0000 - fp: 617.0000 - tn: 2647.0000 - fn: 441.0000 - accuracy: 0.8392 - precision: 0.8233 - recall: 0.8670 - f1_score: 0.8272 - auc: 0.9125 - val_loss: 0.2695 - val_tp: 960.0000 - val_fp: 607.0000 - val_tn: 829.0000 - val_fn: 424.0000 - val_accuracy: 0.6344 - val_precision: 0.6126 - val_recall: 0.6936 - val_f1_score: 0.6828 - val_auc: 0.6750\n",
            "Epoch 12/1000\n",
            "26/26 [==============================] - 4s 167ms/step - loss: 0.1125 - tp: 2849.0000 - fp: 552.0000 - tn: 2712.0000 - fn: 467.0000 - accuracy: 0.8451 - precision: 0.8377 - recall: 0.8592 - f1_score: 0.8344 - auc: 0.9193 - val_loss: 0.2737 - val_tp: 973.0000 - val_fp: 594.0000 - val_tn: 842.0000 - val_fn: 411.0000 - val_accuracy: 0.6436 - val_precision: 0.6209 - val_recall: 0.7030 - val_f1_score: 0.6970 - val_auc: 0.6826\n",
            "Epoch 13/1000\n",
            "26/26 [==============================] - 6s 235ms/step - loss: 0.1035 - tp: 2935.0000 - fp: 551.0000 - tn: 2713.0000 - fn: 381.0000 - accuracy: 0.8584 - precision: 0.8419 - recall: 0.8851 - f1_score: 0.8513 - auc: 0.9284 - val_loss: 0.2794 - val_tp: 658.0000 - val_fp: 343.0000 - val_tn: 1093.0000 - val_fn: 726.0000 - val_accuracy: 0.6209 - val_precision: 0.6573 - val_recall: 0.4754 - val_f1_score: 0.6397 - val_auc: 0.6804\n",
            "Epoch 14/1000\n",
            "26/26 [==============================] - 7s 272ms/step - loss: 0.0763 - tp: 3034.0000 - fp: 385.0000 - tn: 2879.0000 - fn: 282.0000 - accuracy: 0.8986 - precision: 0.8874 - recall: 0.9150 - f1_score: 0.8880 - auc: 0.9577 - val_loss: 0.2940 - val_tp: 775.0000 - val_fp: 432.0000 - val_tn: 1004.0000 - val_fn: 609.0000 - val_accuracy: 0.6309 - val_precision: 0.6421 - val_recall: 0.5600 - val_f1_score: 0.6371 - val_auc: 0.6730\n",
            "Epoch 15/1000\n",
            "26/26 [==============================] - 4s 165ms/step - loss: 0.0678 - tp: 3063.0000 - fp: 337.0000 - tn: 2927.0000 - fn: 253.0000 - accuracy: 0.9103 - precision: 0.9009 - recall: 0.9237 - f1_score: 0.9083 - auc: 0.9639 - val_loss: 0.2917 - val_tp: 1062.0000 - val_fp: 707.0000 - val_tn: 729.0000 - val_fn: 322.0000 - val_accuracy: 0.6351 - val_precision: 0.6003 - val_recall: 0.7673 - val_f1_score: 0.6866 - val_auc: 0.6619\n",
            "113/113 [==============================] - 3s 25ms/step - loss: 0.2349 - tp: 961.0000 - fp: 586.0000 - tn: 1214.0000 - fn: 839.0000 - accuracy: 0.6042 - precision: 0.6212 - recall: 0.5339 - f1_score: 0.6882 - auc: 0.6597\n"
          ]
        },
        {
          "name": "stderr",
          "output_type": "stream",
          "text": [
            "WARNING:tensorflow:Model was constructed with shape (None, None, 1024) for input KerasTensor(type_spec=TensorSpec(shape=(None, None, 1024), dtype=tf.float32, name='input_83'), name='input_83', description=\"created by layer 'input_83'\"), but it was called on an input with incompatible shape (None, 1024).\n",
            "WARNING:tensorflow:Model was constructed with shape (None, None, 1024) for input KerasTensor(type_spec=TensorSpec(shape=(None, None, 1024), dtype=tf.float32, name='input_84'), name='input_84', description=\"created by layer 'input_84'\"), but it was called on an input with incompatible shape (None, 1024).\n"
          ]
        },
        {
          "name": "stdout",
          "output_type": "stream",
          "text": [
            "57/57 [==============================] - 6s 17ms/step - loss: 0.2564 - tp: 500.0000 - fp: 395.0000 - tn: 505.0000 - fn: 400.0000 - accuracy: 0.5583 - precision: 0.5587 - recall: 0.5556 - f1_score: 0.6614 - auc: 0.5714\n",
            "57/57 [==============================] - 1s 17ms/step - loss: 0.2134 - tp: 461.0000 - fp: 191.0000 - tn: 709.0000 - fn: 439.0000 - accuracy: 0.6500 - precision: 0.7071 - recall: 0.5122 - f1_score: 0.7195 - auc: 0.7478\n"
          ]
        },
        {
          "name": "stderr",
          "output_type": "stream",
          "text": [
            "WARNING:tensorflow:Model was constructed with shape (None, None, 1024) for input KerasTensor(type_spec=TensorSpec(shape=(None, None, 1024), dtype=tf.float32, name='input_83'), name='input_83', description=\"created by layer 'input_83'\"), but it was called on an input with incompatible shape (None, 1024).\n",
            "WARNING:tensorflow:Model was constructed with shape (None, None, 1024) for input KerasTensor(type_spec=TensorSpec(shape=(None, None, 1024), dtype=tf.float32, name='input_84'), name='input_84', description=\"created by layer 'input_84'\"), but it was called on an input with incompatible shape (None, 1024).\n"
          ]
        },
        {
          "name": "stdout",
          "output_type": "stream",
          "text": [
            "57/57 [==============================] - 3s 14ms/step\n",
            "57/57 [==============================] - 1s 23ms/step\n",
            "113/113 [==============================] - 3s 24ms/step\n",
            "Epoch 1/1000\n"
          ]
        },
        {
          "name": "stderr",
          "output_type": "stream",
          "text": [
            "WARNING:tensorflow:Model was constructed with shape (None, None, 1024) for input KerasTensor(type_spec=TensorSpec(shape=(None, None, 1024), dtype=tf.float32, name='input_85'), name='input_85', description=\"created by layer 'input_85'\"), but it was called on an input with incompatible shape (None, 1024).\n",
            "WARNING:tensorflow:Model was constructed with shape (None, None, 1024) for input KerasTensor(type_spec=TensorSpec(shape=(None, None, 1024), dtype=tf.float32, name='input_86'), name='input_86', description=\"created by layer 'input_86'\"), but it was called on an input with incompatible shape (None, 1024).\n",
            "WARNING:tensorflow:Model was constructed with shape (None, None, 1024) for input KerasTensor(type_spec=TensorSpec(shape=(None, None, 1024), dtype=tf.float32, name='input_85'), name='input_85', description=\"created by layer 'input_85'\"), but it was called on an input with incompatible shape (None, 1024).\n",
            "WARNING:tensorflow:Model was constructed with shape (None, None, 1024) for input KerasTensor(type_spec=TensorSpec(shape=(None, None, 1024), dtype=tf.float32, name='input_86'), name='input_86', description=\"created by layer 'input_86'\"), but it was called on an input with incompatible shape (None, 1024).\n"
          ]
        },
        {
          "name": "stdout",
          "output_type": "stream",
          "text": [
            "26/26 [==============================] - ETA: 0s - loss: 0.2439 - tp: 2279.0000 - fp: 1862.0000 - tn: 1402.0000 - fn: 1037.0000 - accuracy: 0.5594 - precision: 0.5504 - recall: 0.6873 - f1_score: 0.6705 - auc: 0.5845"
          ]
        },
        {
          "name": "stderr",
          "output_type": "stream",
          "text": [
            "WARNING:tensorflow:Model was constructed with shape (None, None, 1024) for input KerasTensor(type_spec=TensorSpec(shape=(None, None, 1024), dtype=tf.float32, name='input_85'), name='input_85', description=\"created by layer 'input_85'\"), but it was called on an input with incompatible shape (None, 1024).\n",
            "WARNING:tensorflow:Model was constructed with shape (None, None, 1024) for input KerasTensor(type_spec=TensorSpec(shape=(None, None, 1024), dtype=tf.float32, name='input_86'), name='input_86', description=\"created by layer 'input_86'\"), but it was called on an input with incompatible shape (None, 1024).\n"
          ]
        },
        {
          "name": "stdout",
          "output_type": "stream",
          "text": [
            "\b\b\b\b\b\b\b\b\b\b\b\b\b\b\b\b\b\b\b\b\b\b\b\b\b\b\b\b\b\b\b\b\b\b\b\b\b\b\b\b\b\b\b\b\b\b\b\b\b\b\b\b\b\b\b\b\b\b\b\b\b\b\b\b\b\b\b\b\b\b\b\b\b\b\b\b\b\b\b\b\b\b\b\b\b\b\b\b\b\b\b\b\b\b\b\b\b\b\b\b\b\b\b\b\b\b\b\b\b\b\b\b\b\b\b\b\b\b\b\b\b\b\b\b\b\b\b\b\b\b\b\b\b\b\b\b\b\b\b\b\b\b\b\b\b\b\b\b\b\b\b\b\b\b\b\b\b\b\b\b\b\b\b\b\b\b\b\b\b\b\b\b\b\b\b\b\b\b\b\b\b\b\b\b\b\b\b\b\b\b\b\b\b\b\b\b\b\b\b\b\b\b\b\b\b\b\b\b\b\b\b\b\b\b\b\b\r26/26 [==============================] - 22s 336ms/step - loss: 0.2439 - tp: 2279.0000 - fp: 1862.0000 - tn: 1402.0000 - fn: 1037.0000 - accuracy: 0.5594 - precision: 0.5504 - recall: 0.6873 - f1_score: 0.6705 - auc: 0.5845 - val_loss: 0.2279 - val_tp: 954.0000 - val_fp: 700.0000 - val_tn: 736.0000 - val_fn: 430.0000 - val_accuracy: 0.5993 - val_precision: 0.5768 - val_recall: 0.6893 - val_f1_score: 0.6863 - val_auc: 0.6518\n",
            "Epoch 2/1000\n",
            "26/26 [==============================] - 5s 187ms/step - loss: 0.2242 - tp: 2442.0000 - fp: 1595.0000 - tn: 1669.0000 - fn: 874.0000 - accuracy: 0.6248 - precision: 0.6049 - recall: 0.7364 - f1_score: 0.6980 - auc: 0.6695 - val_loss: 0.2250 - val_tp: 784.0000 - val_fp: 486.0000 - val_tn: 950.0000 - val_fn: 600.0000 - val_accuracy: 0.6149 - val_precision: 0.6173 - val_recall: 0.5665 - val_f1_score: 0.6983 - val_auc: 0.6784\n",
            "Epoch 3/1000\n",
            "26/26 [==============================] - 8s 293ms/step - loss: 0.2180 - tp: 2457.0000 - fp: 1521.0000 - tn: 1743.0000 - fn: 859.0000 - accuracy: 0.6383 - precision: 0.6176 - recall: 0.7410 - f1_score: 0.7043 - auc: 0.6965 - val_loss: 0.2185 - val_tp: 786.0000 - val_fp: 462.0000 - val_tn: 974.0000 - val_fn: 598.0000 - val_accuracy: 0.6241 - val_precision: 0.6298 - val_recall: 0.5679 - val_f1_score: 0.7022 - val_auc: 0.6983\n",
            "Epoch 4/1000\n",
            "26/26 [==============================] - 5s 209ms/step - loss: 0.2091 - tp: 2325.0000 - fp: 1321.0000 - tn: 1943.0000 - fn: 991.0000 - accuracy: 0.6486 - precision: 0.6377 - recall: 0.7011 - f1_score: 0.7105 - auc: 0.7259 - val_loss: 0.2143 - val_tp: 923.0000 - val_fp: 561.0000 - val_tn: 875.0000 - val_fn: 461.0000 - val_accuracy: 0.6376 - val_precision: 0.6220 - val_recall: 0.6669 - val_f1_score: 0.7052 - val_auc: 0.7094\n",
            "Epoch 5/1000\n",
            "26/26 [==============================] - 4s 174ms/step - loss: 0.1984 - tp: 2485.0000 - fp: 1194.0000 - tn: 2070.0000 - fn: 831.0000 - accuracy: 0.6922 - precision: 0.6755 - recall: 0.7494 - f1_score: 0.7192 - auc: 0.7594 - val_loss: 0.2156 - val_tp: 1025.0000 - val_fp: 653.0000 - val_tn: 783.0000 - val_fn: 359.0000 - val_accuracy: 0.6411 - val_precision: 0.6108 - val_recall: 0.7406 - val_f1_score: 0.6924 - val_auc: 0.7097\n",
            "Epoch 6/1000\n",
            "26/26 [==============================] - 6s 235ms/step - loss: 0.1874 - tp: 2493.0000 - fp: 1043.0000 - tn: 2221.0000 - fn: 823.0000 - accuracy: 0.7164 - precision: 0.7050 - recall: 0.7518 - f1_score: 0.7324 - auc: 0.7874 - val_loss: 0.2293 - val_tp: 798.0000 - val_fp: 418.0000 - val_tn: 1018.0000 - val_fn: 586.0000 - val_accuracy: 0.6440 - val_precision: 0.6562 - val_recall: 0.5766 - val_f1_score: 0.6863 - val_auc: 0.7048\n",
            "Epoch 7/1000\n",
            "26/26 [==============================] - 7s 283ms/step - loss: 0.1794 - tp: 2542.0000 - fp: 1020.0000 - tn: 2244.0000 - fn: 774.0000 - accuracy: 0.7274 - precision: 0.7136 - recall: 0.7666 - f1_score: 0.7408 - auc: 0.8057 - val_loss: 0.2510 - val_tp: 557.0000 - val_fp: 268.0000 - val_tn: 1168.0000 - val_fn: 827.0000 - val_accuracy: 0.6117 - val_precision: 0.6752 - val_recall: 0.4025 - val_f1_score: 0.6664 - val_auc: 0.7017\n",
            "Epoch 8/1000\n",
            "26/26 [==============================] - 4s 173ms/step - loss: 0.1662 - tp: 2556.0000 - fp: 835.0000 - tn: 2429.0000 - fn: 760.0000 - accuracy: 0.7576 - precision: 0.7538 - recall: 0.7708 - f1_score: 0.7593 - auc: 0.8334 - val_loss: 0.2336 - val_tp: 1052.0000 - val_fp: 667.0000 - val_tn: 769.0000 - val_fn: 332.0000 - val_accuracy: 0.6457 - val_precision: 0.6120 - val_recall: 0.7601 - val_f1_score: 0.6860 - val_auc: 0.7018\n",
            "Epoch 9/1000\n",
            "26/26 [==============================] - 5s 174ms/step - loss: 0.1521 - tp: 2655.0000 - fp: 752.0000 - tn: 2512.0000 - fn: 661.0000 - accuracy: 0.7853 - precision: 0.7793 - recall: 0.8007 - f1_score: 0.7822 - auc: 0.8584 - val_loss: 0.2369 - val_tp: 1054.0000 - val_fp: 687.0000 - val_tn: 749.0000 - val_fn: 330.0000 - val_accuracy: 0.6394 - val_precision: 0.6054 - val_recall: 0.7616 - val_f1_score: 0.6864 - val_auc: 0.6874\n",
            "Epoch 10/1000\n",
            "26/26 [==============================] - 7s 282ms/step - loss: 0.1292 - tp: 2834.0000 - fp: 677.0000 - tn: 2587.0000 - fn: 482.0000 - accuracy: 0.8239 - precision: 0.8072 - recall: 0.8546 - f1_score: 0.8028 - auc: 0.8961 - val_loss: 0.2625 - val_tp: 934.0000 - val_fp: 586.0000 - val_tn: 850.0000 - val_fn: 450.0000 - val_accuracy: 0.6326 - val_precision: 0.6145 - val_recall: 0.6749 - val_f1_score: 0.6805 - val_auc: 0.6787\n",
            "Epoch 11/1000\n",
            "26/26 [==============================] - 6s 236ms/step - loss: 0.1134 - tp: 2869.0000 - fp: 564.0000 - tn: 2700.0000 - fn: 447.0000 - accuracy: 0.8464 - precision: 0.8357 - recall: 0.8652 - f1_score: 0.8362 - auc: 0.9167 - val_loss: 0.2798 - val_tp: 1093.0000 - val_fp: 742.0000 - val_tn: 694.0000 - val_fn: 291.0000 - val_accuracy: 0.6337 - val_precision: 0.5956 - val_recall: 0.7897 - val_f1_score: 0.6843 - val_auc: 0.6722\n",
            "Epoch 12/1000\n",
            "26/26 [==============================] - 4s 172ms/step - loss: 0.1023 - tp: 2923.0000 - fp: 526.0000 - tn: 2738.0000 - fn: 393.0000 - accuracy: 0.8603 - precision: 0.8475 - recall: 0.8815 - f1_score: 0.8500 - auc: 0.9312 - val_loss: 0.2869 - val_tp: 1124.0000 - val_fp: 800.0000 - val_tn: 636.0000 - val_fn: 260.0000 - val_accuracy: 0.6241 - val_precision: 0.5842 - val_recall: 0.8121 - val_f1_score: 0.6852 - val_auc: 0.6790\n",
            "Epoch 13/1000\n",
            "26/26 [==============================] - 5s 201ms/step - loss: 0.0929 - tp: 2961.0000 - fp: 479.0000 - tn: 2785.0000 - fn: 355.0000 - accuracy: 0.8733 - precision: 0.8608 - recall: 0.8929 - f1_score: 0.8646 - auc: 0.9409 - val_loss: 0.2782 - val_tp: 940.0000 - val_fp: 585.0000 - val_tn: 851.0000 - val_fn: 444.0000 - val_accuracy: 0.6351 - val_precision: 0.6164 - val_recall: 0.6792 - val_f1_score: 0.6855 - val_auc: 0.6753\n",
            "Epoch 14/1000\n",
            "26/26 [==============================] - 8s 296ms/step - loss: 0.0723 - tp: 3066.0000 - fp: 362.0000 - tn: 2902.0000 - fn: 250.0000 - accuracy: 0.9070 - precision: 0.8944 - recall: 0.9246 - f1_score: 0.8914 - auc: 0.9599 - val_loss: 0.2931 - val_tp: 889.0000 - val_fp: 509.0000 - val_tn: 927.0000 - val_fn: 495.0000 - val_accuracy: 0.6440 - val_precision: 0.6359 - val_recall: 0.6423 - val_f1_score: 0.6594 - val_auc: 0.6816\n",
            "113/113 [==============================] - 2s 20ms/step - loss: 0.2358 - tp: 1166.0000 - fp: 779.0000 - tn: 1021.0000 - fn: 634.0000 - accuracy: 0.6075 - precision: 0.5995 - recall: 0.6478 - f1_score: 0.6885 - auc: 0.6505\n"
          ]
        },
        {
          "name": "stderr",
          "output_type": "stream",
          "text": [
            "WARNING:tensorflow:Model was constructed with shape (None, None, 1024) for input KerasTensor(type_spec=TensorSpec(shape=(None, None, 1024), dtype=tf.float32, name='input_85'), name='input_85', description=\"created by layer 'input_85'\"), but it was called on an input with incompatible shape (None, 1024).\n",
            "WARNING:tensorflow:Model was constructed with shape (None, None, 1024) for input KerasTensor(type_spec=TensorSpec(shape=(None, None, 1024), dtype=tf.float32, name='input_86'), name='input_86', description=\"created by layer 'input_86'\"), but it was called on an input with incompatible shape (None, 1024).\n"
          ]
        },
        {
          "name": "stdout",
          "output_type": "stream",
          "text": [
            "57/57 [==============================] - 6s 17ms/step - loss: 0.2622 - tp: 615.0000 - fp: 543.0000 - tn: 357.0000 - fn: 285.0000 - accuracy: 0.5400 - precision: 0.5311 - recall: 0.6833 - f1_score: 0.6654 - auc: 0.5586\n",
            "57/57 [==============================] - 1s 17ms/step - loss: 0.2094 - tp: 551.0000 - fp: 236.0000 - tn: 664.0000 - fn: 349.0000 - accuracy: 0.6750 - precision: 0.7001 - recall: 0.6122 - f1_score: 0.7154 - auc: 0.7441\n"
          ]
        },
        {
          "name": "stderr",
          "output_type": "stream",
          "text": [
            "WARNING:tensorflow:Model was constructed with shape (None, None, 1024) for input KerasTensor(type_spec=TensorSpec(shape=(None, None, 1024), dtype=tf.float32, name='input_85'), name='input_85', description=\"created by layer 'input_85'\"), but it was called on an input with incompatible shape (None, 1024).\n",
            "WARNING:tensorflow:Model was constructed with shape (None, None, 1024) for input KerasTensor(type_spec=TensorSpec(shape=(None, None, 1024), dtype=tf.float32, name='input_86'), name='input_86', description=\"created by layer 'input_86'\"), but it was called on an input with incompatible shape (None, 1024).\n"
          ]
        },
        {
          "name": "stdout",
          "output_type": "stream",
          "text": [
            "57/57 [==============================] - 4s 24ms/step\n",
            "57/57 [==============================] - 1s 24ms/step\n",
            "113/113 [==============================] - 2s 15ms/step\n",
            "\n",
            "[0.23542416095733643, 1203.0, 874.0, 926.0, 597.0, 0.5913888812065125, 0.5792007446289062, 0.6683333516120911, 0.6806526780128479, 0.6348376274108887] \n",
            " [0.25144073367118835, 649.0, 548.0, 352.0, 251.0, 0.5561110973358154, 0.542188823223114, 0.7211111187934875, 0.6696696877479553, 0.5731900930404663] \n",
            " [0.21940745413303375, 554.0, 326.0, 574.0, 346.0, 0.6266666650772095, 0.6295454502105713, 0.6155555844306946, 0.6924315690994263, 0.6968988180160522] \n",
            "\n",
            "\n",
            "[0.23493817448616028, 961.0, 586.0, 1214.0, 839.0, 0.6041666865348816, 0.6212023496627808, 0.5338888764381409, 0.6882177591323853, 0.6596600413322449] \n",
            " [0.2564334273338318, 500.0, 395.0, 505.0, 400.0, 0.5583333373069763, 0.5586591958999634, 0.5555555820465088, 0.6613986492156982, 0.5714172720909119] \n",
            " [0.21344280242919922, 461.0, 191.0, 709.0, 439.0, 0.6499999761581421, 0.7070552110671997, 0.5122222304344177, 0.7194841504096985, 0.7477703094482422] \n",
            "\n",
            "\n",
            "[0.23577073216438293, 1166.0, 779.0, 1021.0, 634.0, 0.6075000166893005, 0.5994858741760254, 0.647777795791626, 0.6884838342666626, 0.6505004167556763] \n",
            " [0.26217925548553467, 615.0, 543.0, 357.0, 285.0, 0.5400000214576721, 0.5310880541801453, 0.6833333373069763, 0.6653845906257629, 0.5585629940032959] \n",
            " [0.20936219394207, 551.0, 236.0, 664.0, 349.0, 0.675000011920929, 0.7001270651817322, 0.6122221946716309, 0.7154398560523987, 0.7440851330757141] \n",
            "\n",
            "\n"
          ]
        }
      ],
      "source": [
        "model1 = genModel(attention_merge)\n",
        "model2 = genModel(addition_merge)\n",
        "model3 = genModel(concatenate_merge)\n",
        "\n",
        "res1 = run(model1, 'model1.h5', '1')\n",
        "res2 = run(model2, 'model2.h5', '2')\n",
        "res3 = run(model3, 'model3.h5', '3')\n",
        "\n",
        "\n",
        "print()\n",
        "print(res1[0], '\\n', res1[1], '\\n', res1[2], '\\n\\n')\n",
        "print(res2[0], '\\n', res2[1], '\\n', res2[2], '\\n\\n')\n",
        "print(res3[0], '\\n', res3[1], '\\n', res3[2], '\\n\\n')\n",
        "\n"
      ]
    },
    {
      "cell_type": "markdown",
      "metadata": {
        "id": "u180HzKAeCd4"
      },
      "source": [
        "The following snippet will print coherent result of the evaluation of each datasets."
      ]
    },
    {
      "cell_type": "code",
      "execution_count": null,
      "metadata": {
        "colab": {
          "base_uri": "https://localhost:8080/"
        },
        "id": "29vUFRxngJo8",
        "outputId": "1f1b49ba-feaa-4c5c-f73c-e1f20c68907c"
      },
      "outputs": [
        {
          "name": "stdout",
          "output_type": "stream",
          "text": [
            "loss: 0.23542416095733643 - tp: 1203.0 - fp: 874.0 - tn: 926.0 - fn: 597.0 - accuracy: 0.5913888812065125 - precision: 0.5792007446289062 - recall: 0.6683333516120911 - f1-score: 0.6806526780128479 - auc: 0.6348376274108887 - \n",
            "loss: 0.25144073367118835 - tp: 649.0 - fp: 548.0 - tn: 352.0 - fn: 251.0 - accuracy: 0.5561110973358154 - precision: 0.542188823223114 - recall: 0.7211111187934875 - f1-score: 0.6696696877479553 - auc: 0.5731900930404663 - \n",
            "loss: 0.21940745413303375 - tp: 554.0 - fp: 326.0 - tn: 574.0 - fn: 346.0 - accuracy: 0.6266666650772095 - precision: 0.6295454502105713 - recall: 0.6155555844306946 - f1-score: 0.6924315690994263 - auc: 0.6968988180160522 - \n",
            "\n",
            "loss: 0.23493817448616028 - tp: 961.0 - fp: 586.0 - tn: 1214.0 - fn: 839.0 - accuracy: 0.6041666865348816 - precision: 0.6212023496627808 - recall: 0.5338888764381409 - f1-score: 0.6882177591323853 - auc: 0.6596600413322449 - \n",
            "loss: 0.2564334273338318 - tp: 500.0 - fp: 395.0 - tn: 505.0 - fn: 400.0 - accuracy: 0.5583333373069763 - precision: 0.5586591958999634 - recall: 0.5555555820465088 - f1-score: 0.6613986492156982 - auc: 0.5714172720909119 - \n",
            "loss: 0.21344280242919922 - tp: 461.0 - fp: 191.0 - tn: 709.0 - fn: 439.0 - accuracy: 0.6499999761581421 - precision: 0.7070552110671997 - recall: 0.5122222304344177 - f1-score: 0.7194841504096985 - auc: 0.7477703094482422 - \n",
            "\n",
            "loss: 0.23577073216438293 - tp: 1166.0 - fp: 779.0 - tn: 1021.0 - fn: 634.0 - accuracy: 0.6075000166893005 - precision: 0.5994858741760254 - recall: 0.647777795791626 - f1-score: 0.6884838342666626 - auc: 0.6505004167556763 - \n",
            "loss: 0.26217925548553467 - tp: 615.0 - fp: 543.0 - tn: 357.0 - fn: 285.0 - accuracy: 0.5400000214576721 - precision: 0.5310880541801453 - recall: 0.6833333373069763 - f1-score: 0.6653845906257629 - auc: 0.5585629940032959 - \n",
            "loss: 0.20936219394207 - tp: 551.0 - fp: 236.0 - tn: 664.0 - fn: 349.0 - accuracy: 0.675000011920929 - precision: 0.7001270651817322 - recall: 0.6122221946716309 - f1-score: 0.7154398560523987 - auc: 0.7440851330757141 - \n",
            "\n"
          ]
        }
      ],
      "source": [
        "def printing(results):\n",
        "\n",
        "  name = ['loss', 'tp', 'fp', 'tn', 'fn', 'accuracy', 'precision', 'recall', 'f1-score', 'auc']\n",
        "  for result in results:\n",
        "    op=''\n",
        "    for i in range(len(name)):\n",
        "      op+=name[i]+\": \"+ str(result[i]) +\" - \"\n",
        "    print(op)\n",
        "  print()\n",
        "\n",
        "\n",
        "\n",
        "\n",
        "printing(res1)\n",
        "printing(res2)\n",
        "printing(res3)\n",
        "\n"
      ]
    },
    {
      "cell_type": "code",
      "execution_count": null,
      "metadata": {
        "id": "2CYHcA8ugJo9"
      },
      "outputs": [],
      "source": [
        "# modelpath = \"/content/gdrive/MyDrive/embeddings/MODELS/model6979.h5\"\n",
        "# model = tf.keras.models.load_model(modelpath, custom_objects={'contrastive_loss': contrastive_loss})\n",
        "\n",
        "# # Print the model summary\n",
        "# model.summary()"
      ]
    },
    {
      "cell_type": "code",
      "execution_count": null,
      "metadata": {
        "id": "NLjUF_7cgJo9"
      },
      "outputs": [],
      "source": [
        "# # new_model = tf.keras.models.load_model('model1.h5', custom_objects={'contrastive_loss': contrastive_loss})\n",
        "\n",
        "# # run(new_model)\n",
        "# import shutil\n",
        "# source_path = \"/content/model2.h5\"\n",
        "# destination_path = \"/content/gdrive/MyDrive/embeddings/MODELS/model6965_66_732.h5\"\n",
        "# shutil.copyfile(source_path, destination_path)\n",
        "\n",
        "\n",
        "import os\n",
        "import shutil\n",
        "source_path = \"/content/\"\n",
        "destination_path = \"/content/gdrive/MyDrive/embeddings/MODELS/late\"\n",
        "for file in os.listdir(source_path):\n",
        "\n",
        "    # Get the full path of the file.\n",
        "    file_path = os.path.join(source_path, file)\n",
        "\n",
        "    # Copy or move the file to the destination path.\n",
        "    # Check if the file is a folder.\n",
        "    if not os.path.isdir(file_path):\n",
        "\n",
        "        # Copy or move the file to the destination path.\n",
        "        shutil.copy(file_path, destination_path)\n",
        "    else:\n",
        "        # Skip the folder.\n",
        "        continue"
      ]
    },
    {
      "cell_type": "markdown",
      "metadata": {
        "id": "zrxaGA37fERb"
      },
      "source": [
        "# model - cnn"
      ]
    },
    {
      "cell_type": "code",
      "execution_count": null,
      "metadata": {
        "id": "8ccerWFGfERc"
      },
      "outputs": [],
      "source": [
        "from tensorflow.keras.layers import Input, Reshape, Lambda, LSTM, concatenate, Dense, Dropout, Attention\n",
        "from tensorflow.keras.models import Model\n",
        "from tensorflow.keras import backend as K"
      ]
    },
    {
      "cell_type": "markdown",
      "metadata": {
        "id": "mS4Ak7GTei1c"
      },
      "source": [
        "The following function `genModel()` generates classification model."
      ]
    },
    {
      "cell_type": "code",
      "execution_count": null,
      "metadata": {
        "id": "NIEzVN14fERd"
      },
      "outputs": [],
      "source": [
        "import tensorflow as tf\n",
        "from tensorflow.keras.layers import Input, Conv1D, Dense, Dropout, concatenate, ZeroPadding1D, GlobalMaxPooling1D\n",
        "from tensorflow.keras.models import Model\n",
        "from tensorflow.keras.layers import Attention\n",
        "\n",
        "def attention_merge(lstm_1, lstm_2):\n",
        "  attention = Attention()([lstm_1, lstm_2])\n",
        "  merged_lstm = attention * lstm_1 + (1 - attention) * lstm_2\n",
        "  return merged_lstm\n",
        "\n",
        "def addition_merge(lstm_1, lstm_2):\n",
        "  merged_lstm = lstm_1 + lstm_2\n",
        "  return merged_lstm\n",
        "\n",
        "def concatenate_merge(lstm_1, lstm_2):\n",
        "  merged_lstm = concatenate([lstm_1, lstm_2], axis=2)\n",
        "  return merged_lstm\n",
        "\n",
        "def genModel(merge):\n",
        "    input_1 = Input(shape=(feature_number, 1))\n",
        "    input_2 = Input(shape=(feature_number, 1))\n",
        "\n",
        "    # CNN branches\n",
        "    cnn_branch_1 = Conv1D(filters=256, kernel_size=3, activation='relu')(input_1)\n",
        "    cnn_branch_2 = Conv1D(filters=256, kernel_size=3, activation='relu')(input_2)\n",
        "\n",
        "    # Merge branches\n",
        "    merged_cnn = merge(cnn_branch_1, cnn_branch_2)\n",
        "\n",
        "    # Apply ZeroPadding1D with 'same' padding to keep the shape unchanged\n",
        "    padded_cnn = ZeroPadding1D(padding=(1, 0))(merged_cnn)\n",
        "\n",
        "    # Dense layer\n",
        "    merged_cnn = Dense(units=256, activation='relu')(padded_cnn)\n",
        "    merged_cnn = Dropout(rate=0.2)(merged_cnn)\n",
        "\n",
        "    # CNN layer\n",
        "    merged_cnn = Conv1D(filters=128, kernel_size=3, activation='relu')(merged_cnn)\n",
        "\n",
        "    # Add GlobalMaxPooling1D before the output layer to change shape to (None, 256)\n",
        "    merged_cnn = GlobalMaxPooling1D()(merged_cnn)\n",
        "\n",
        "    # Output layer\n",
        "    output_layer = Dense(units=1, activation='sigmoid')(merged_cnn)\n",
        "\n",
        "    model = Model(inputs=[input_1, input_2], outputs=output_layer)\n",
        "\n",
        "    return model\n"
      ]
    },
    {
      "cell_type": "markdown",
      "metadata": {
        "id": "SGCxfBb-ei11"
      },
      "source": [
        "The following function `run()` compiles and evaluates the model with 3 test datasets - Twitter dataset, Reddit Dataset, and their Combined Dataset."
      ]
    },
    {
      "cell_type": "code",
      "execution_count": null,
      "metadata": {
        "id": "32giEhrbfERe"
      },
      "outputs": [],
      "source": [
        "import matplotlib.pyplot as plt\n",
        "from sklearn.metrics import auc, roc_curve, roc_auc_score\n",
        "def generate_auc_curve(y_true, y_pred_prob, model_name):\n",
        "    fpr, tpr, thresholds = roc_curve(y_true, y_pred_prob)\n",
        "    roc_auc = auc(fpr, tpr)\n",
        "\n",
        "    # Compute AUC scores for different thresholds\n",
        "    auc_scores = []\n",
        "    for threshold in thresholds:\n",
        "        y_pred_binary = (y_pred_prob >= threshold).astype(int)\n",
        "        auc_scores.append(roc_auc_score(y_true, y_pred_binary))\n",
        "\n",
        "    # Plot the AUC curve\n",
        "    plt.figure()\n",
        "    plt.plot(thresholds, auc_scores, label='AUC curve')\n",
        "    plt.xlabel('Threshold')\n",
        "    plt.ylabel('AUC score')\n",
        "    plt.title('AUC Curve - ' + model_name)\n",
        "    plt.legend(loc=\"lower right\")\n",
        "    plt.savefig( model_name + '__auc_curve.png')\n",
        "    plt.close()\n",
        "\n",
        "    return roc_auc\n",
        "\n",
        "\n",
        "def generate_ROC(model, x_test, y_test, name, n):\n",
        "    # Get predicted probabilities for ROC curve\n",
        "    y_pred_prob = model.predict([x_test[:, 0], x_test[:, 1]])\n",
        "\n",
        "\n",
        "    roc_auc = generate_auc_curve(y_test, y_pred_prob, name)\n",
        "\n",
        "    # Compute ROC curve and AUC score\n",
        "    fpr, tpr, thresholds = roc_curve(y_test, y_pred_prob)\n",
        "    roc_auc = roc_auc_score(y_test, y_pred_prob)\n",
        "\n",
        "    # Plot the ROC curve\n",
        "    plt.figure()\n",
        "    plt.plot(fpr, tpr, label='ROC curve (area = %0.2f)' % roc_auc)\n",
        "    plt.plot([0, 1], [0, 1], 'k--')\n",
        "    plt.xlim([0.0, 1.0])\n",
        "    plt.ylim([0.0, 1.05])\n",
        "    plt.xlabel('False Positive Rate')\n",
        "    plt.ylabel('True Positive Rate')\n",
        "    plt.title('Receiver Operating Characteristic')\n",
        "    plt.legend(loc=\"lower right\")\n",
        "\n",
        "    plt.savefig(name+'_roc_auc__'+n+'.png')\n",
        "    plt.close()\n",
        "\n",
        "\n",
        "\n",
        "def run(model, name, n):\n",
        "    name = '/content/gdrive/MyDrive/embeddings/MODELS/cnn/'+name\n",
        "    opt = tf.keras.optimizers.Adam(learning_rate=1e-3)\n",
        "\n",
        "    metrics = [\n",
        "        tf.keras.metrics.TruePositives(name='tp'),\n",
        "        tf.keras.metrics.FalsePositives(name='fp'),\n",
        "        tf.keras.metrics.TrueNegatives(name='tn'),\n",
        "        tf.keras.metrics.FalseNegatives(name='fn'),\n",
        "        tf.keras.metrics.BinaryAccuracy(name='accuracy'),\n",
        "        tf.keras.metrics.Precision(name='precision'),\n",
        "        tf.keras.metrics.Recall(name='recall'),\n",
        "        tfa.metrics.F1Score(num_classes=2, average='micro', threshold=0.2555),\n",
        "        tf.keras.metrics.AUC(name='auc')\n",
        "    ]\n",
        "\n",
        "    # Compile the model\n",
        "    model.compile(optimizer=opt, loss=contrastive_loss, metrics=metrics)\n",
        "\n",
        "    # Train the model\n",
        "    history = model.fit(x=[x_train[:, 0], x_train[:, 1]], y=y_train, batch_size=256, epochs=1000,\n",
        "                        validation_split=0.3, callbacks=[early_stop])\n",
        "\n",
        "    # Evaluate the model on the test set\n",
        "    test_ = model.evaluate(x=[x_test_[:, 0], x_test_[:, 1]], y=y_test_)\n",
        "    test2 = model.evaluate(x=[x_test2[:, 0], x_test2[:, 1]], y=y_test2)\n",
        "    test = model.evaluate(x=[x_test[:, 0], x_test[:, 1]], y=y_test)\n",
        "\n",
        "    # Save the model\n",
        "    model.save(name)\n",
        "\n",
        "    generate_ROC(model, x_test, y_test, 'twitter', n)\n",
        "    generate_ROC(model, x_test2, y_test2, 'reddit', n)\n",
        "    generate_ROC(model, x_test_, y_test_, 'combined', n)\n",
        "\n",
        "\n",
        "\n",
        "    return [test_, test2, test]\n",
        "\n"
      ]
    },
    {
      "cell_type": "code",
      "execution_count": null,
      "metadata": {
        "colab": {
          "base_uri": "https://localhost:8080/"
        },
        "id": "OETEdLXvfERf",
        "outputId": "8cfd19b3-56e6-440c-e3d1-3d525ddb5c57"
      },
      "outputs": [
        {
          "name": "stdout",
          "output_type": "stream",
          "text": [
            "Epoch 1/1000\n",
            "26/26 [==============================] - 414s 15s/step - loss: 0.2565 - tp: 1833.0000 - fp: 1812.0000 - tn: 1452.0000 - fn: 1483.0000 - accuracy: 0.4992 - precision: 0.5029 - recall: 0.5528 - f1_score: 0.6698 - auc: 0.4987 - val_loss: 0.2476 - val_tp: 763.0000 - val_fp: 667.0000 - val_tn: 769.0000 - val_fn: 621.0000 - val_accuracy: 0.5433 - val_precision: 0.5336 - val_recall: 0.5513 - val_f1_score: 0.6584 - val_auc: 0.5630\n",
            "Epoch 2/1000\n",
            "26/26 [==============================] - 375s 15s/step - loss: 0.2476 - tp: 1894.0000 - fp: 1577.0000 - tn: 1687.0000 - fn: 1422.0000 - accuracy: 0.5442 - precision: 0.5457 - recall: 0.5712 - f1_score: 0.6702 - auc: 0.5560 - val_loss: 0.2463 - val_tp: 509.0000 - val_fp: 406.0000 - val_tn: 1030.0000 - val_fn: 875.0000 - val_accuracy: 0.5457 - val_precision: 0.5563 - val_recall: 0.3678 - val_f1_score: 0.6584 - val_auc: 0.5747\n",
            "Epoch 3/1000\n",
            "26/26 [==============================] - 362s 14s/step - loss: 0.2479 - tp: 1893.0000 - fp: 1628.0000 - tn: 1636.0000 - fn: 1423.0000 - accuracy: 0.5363 - precision: 0.5376 - recall: 0.5709 - f1_score: 0.6702 - auc: 0.5514 - val_loss: 0.2480 - val_tp: 1296.0000 - val_fp: 1176.0000 - val_tn: 260.0000 - val_fn: 88.0000 - val_accuracy: 0.5518 - val_precision: 0.5243 - val_recall: 0.9364 - val_f1_score: 0.6584 - val_auc: 0.5942\n",
            "Epoch 4/1000\n",
            "26/26 [==============================] - 368s 14s/step - loss: 0.2466 - tp: 1943.0000 - fp: 1603.0000 - tn: 1661.0000 - fn: 1373.0000 - accuracy: 0.5477 - precision: 0.5479 - recall: 0.5859 - f1_score: 0.6702 - auc: 0.5652 - val_loss: 0.2429 - val_tp: 737.0000 - val_fp: 602.0000 - val_tn: 834.0000 - val_fn: 647.0000 - val_accuracy: 0.5571 - val_precision: 0.5504 - val_recall: 0.5325 - val_f1_score: 0.6584 - val_auc: 0.5950\n",
            "Epoch 5/1000\n",
            "26/26 [==============================] - 366s 14s/step - loss: 0.2444 - tp: 1996.0000 - fp: 1644.0000 - tn: 1620.0000 - fn: 1320.0000 - accuracy: 0.5495 - precision: 0.5484 - recall: 0.6019 - f1_score: 0.6702 - auc: 0.5812 - val_loss: 0.2430 - val_tp: 1052.0000 - val_fp: 860.0000 - val_tn: 576.0000 - val_fn: 332.0000 - val_accuracy: 0.5773 - val_precision: 0.5502 - val_recall: 0.7601 - val_f1_score: 0.6584 - val_auc: 0.5995\n",
            "Epoch 6/1000\n",
            "26/26 [==============================] - 370s 14s/step - loss: 0.2421 - tp: 2209.0000 - fp: 1727.0000 - tn: 1537.0000 - fn: 1107.0000 - accuracy: 0.5693 - precision: 0.5612 - recall: 0.6662 - f1_score: 0.6708 - auc: 0.6003 - val_loss: 0.2426 - val_tp: 1096.0000 - val_fp: 913.0000 - val_tn: 523.0000 - val_fn: 288.0000 - val_accuracy: 0.5741 - val_precision: 0.5455 - val_recall: 0.7919 - val_f1_score: 0.6584 - val_auc: 0.6054\n",
            "Epoch 7/1000\n",
            "26/26 [==============================] - 364s 14s/step - loss: 0.2437 - tp: 1985.0000 - fp: 1568.0000 - tn: 1696.0000 - fn: 1331.0000 - accuracy: 0.5594 - precision: 0.5587 - recall: 0.5986 - f1_score: 0.6707 - auc: 0.5846 - val_loss: 0.2399 - val_tp: 736.0000 - val_fp: 601.0000 - val_tn: 835.0000 - val_fn: 648.0000 - val_accuracy: 0.5571 - val_precision: 0.5505 - val_recall: 0.5318 - val_f1_score: 0.6586 - val_auc: 0.6052\n",
            "Epoch 8/1000\n",
            "26/26 [==============================] - 360s 14s/step - loss: 0.2414 - tp: 2002.0000 - fp: 1557.0000 - tn: 1707.0000 - fn: 1314.0000 - accuracy: 0.5637 - precision: 0.5625 - recall: 0.6037 - f1_score: 0.6713 - auc: 0.5987 - val_loss: 0.2394 - val_tp: 841.0000 - val_fp: 697.0000 - val_tn: 739.0000 - val_fn: 543.0000 - val_accuracy: 0.5603 - val_precision: 0.5468 - val_recall: 0.6077 - val_f1_score: 0.6605 - val_auc: 0.6030\n",
            "Epoch 9/1000\n",
            "26/26 [==============================] - 361s 14s/step - loss: 0.2391 - tp: 2107.0000 - fp: 1565.0000 - tn: 1699.0000 - fn: 1209.0000 - accuracy: 0.5784 - precision: 0.5738 - recall: 0.6354 - f1_score: 0.6727 - auc: 0.6118 - val_loss: 0.2377 - val_tp: 989.0000 - val_fp: 785.0000 - val_tn: 651.0000 - val_fn: 395.0000 - val_accuracy: 0.5816 - val_precision: 0.5575 - val_recall: 0.7146 - val_f1_score: 0.6605 - val_auc: 0.6174\n",
            "Epoch 10/1000\n",
            "26/26 [==============================] - 363s 14s/step - loss: 0.2371 - tp: 2205.0000 - fp: 1576.0000 - tn: 1688.0000 - fn: 1111.0000 - accuracy: 0.5916 - precision: 0.5832 - recall: 0.6650 - f1_score: 0.6728 - auc: 0.6238 - val_loss: 0.2403 - val_tp: 569.0000 - val_fp: 445.0000 - val_tn: 991.0000 - val_fn: 815.0000 - val_accuracy: 0.5532 - val_precision: 0.5611 - val_recall: 0.4111 - val_f1_score: 0.6778 - val_auc: 0.6098\n",
            "Epoch 11/1000\n",
            "26/26 [==============================] - 359s 14s/step - loss: 0.2352 - tp: 2238.0000 - fp: 1578.0000 - tn: 1686.0000 - fn: 1078.0000 - accuracy: 0.5964 - precision: 0.5865 - recall: 0.6749 - f1_score: 0.6763 - auc: 0.6299 - val_loss: 0.2364 - val_tp: 1050.0000 - val_fp: 840.0000 - val_tn: 596.0000 - val_fn: 334.0000 - val_accuracy: 0.5837 - val_precision: 0.5556 - val_recall: 0.7587 - val_f1_score: 0.6673 - val_auc: 0.6242\n",
            "Epoch 12/1000\n",
            "26/26 [==============================] - 361s 14s/step - loss: 0.2366 - tp: 2157.0000 - fp: 1570.0000 - tn: 1694.0000 - fn: 1159.0000 - accuracy: 0.5853 - precision: 0.5787 - recall: 0.6505 - f1_score: 0.6790 - auc: 0.6221 - val_loss: 0.2368 - val_tp: 630.0000 - val_fp: 461.0000 - val_tn: 975.0000 - val_fn: 754.0000 - val_accuracy: 0.5691 - val_precision: 0.5775 - val_recall: 0.4552 - val_f1_score: 0.6789 - val_auc: 0.6235\n",
            "Epoch 13/1000\n",
            "26/26 [==============================] - 362s 14s/step - loss: 0.2363 - tp: 2274.0000 - fp: 1643.0000 - tn: 1621.0000 - fn: 1042.0000 - accuracy: 0.5919 - precision: 0.5805 - recall: 0.6858 - f1_score: 0.6771 - auc: 0.6247 - val_loss: 0.2352 - val_tp: 995.0000 - val_fp: 796.0000 - val_tn: 640.0000 - val_fn: 389.0000 - val_accuracy: 0.5798 - val_precision: 0.5556 - val_recall: 0.7189 - val_f1_score: 0.6701 - val_auc: 0.6253\n",
            "Epoch 14/1000\n",
            "26/26 [==============================] - 362s 14s/step - loss: 0.2354 - tp: 2095.0000 - fp: 1509.0000 - tn: 1755.0000 - fn: 1221.0000 - accuracy: 0.5851 - precision: 0.5813 - recall: 0.6318 - f1_score: 0.6790 - auc: 0.6277 - val_loss: 0.2380 - val_tp: 1161.0000 - val_fp: 934.0000 - val_tn: 502.0000 - val_fn: 223.0000 - val_accuracy: 0.5897 - val_precision: 0.5542 - val_recall: 0.8389 - val_f1_score: 0.6668 - val_auc: 0.6305\n",
            "Epoch 15/1000\n",
            "26/26 [==============================] - 360s 14s/step - loss: 0.2336 - tp: 2278.0000 - fp: 1618.0000 - tn: 1646.0000 - fn: 1038.0000 - accuracy: 0.5964 - precision: 0.5847 - recall: 0.6870 - f1_score: 0.6809 - auc: 0.6354 - val_loss: 0.2372 - val_tp: 1169.0000 - val_fp: 937.0000 - val_tn: 499.0000 - val_fn: 215.0000 - val_accuracy: 0.5915 - val_precision: 0.5551 - val_recall: 0.8447 - val_f1_score: 0.6676 - val_auc: 0.6337\n",
            "Epoch 16/1000\n",
            "26/26 [==============================] - 358s 14s/step - loss: 0.2326 - tp: 2258.0000 - fp: 1579.0000 - tn: 1685.0000 - fn: 1058.0000 - accuracy: 0.5992 - precision: 0.5885 - recall: 0.6809 - f1_score: 0.6829 - auc: 0.6406 - val_loss: 0.2351 - val_tp: 1153.0000 - val_fp: 911.0000 - val_tn: 525.0000 - val_fn: 231.0000 - val_accuracy: 0.5950 - val_precision: 0.5586 - val_recall: 0.8331 - val_f1_score: 0.6680 - val_auc: 0.6421\n",
            "Epoch 17/1000\n",
            "26/26 [==============================] - 363s 14s/step - loss: 0.2324 - tp: 2325.0000 - fp: 1610.0000 - tn: 1654.0000 - fn: 991.0000 - accuracy: 0.6047 - precision: 0.5909 - recall: 0.7011 - f1_score: 0.6835 - auc: 0.6404 - val_loss: 0.2343 - val_tp: 1054.0000 - val_fp: 843.0000 - val_tn: 593.0000 - val_fn: 330.0000 - val_accuracy: 0.5840 - val_precision: 0.5556 - val_recall: 0.7616 - val_f1_score: 0.6762 - val_auc: 0.6334\n",
            "Epoch 18/1000\n",
            "26/26 [==============================] - 357s 14s/step - loss: 0.2321 - tp: 2172.0000 - fp: 1500.0000 - tn: 1764.0000 - fn: 1144.0000 - accuracy: 0.5982 - precision: 0.5915 - recall: 0.6550 - f1_score: 0.6846 - auc: 0.6428 - val_loss: 0.2338 - val_tp: 1102.0000 - val_fp: 870.0000 - val_tn: 566.0000 - val_fn: 282.0000 - val_accuracy: 0.5915 - val_precision: 0.5588 - val_recall: 0.7962 - val_f1_score: 0.6727 - val_auc: 0.6411\n",
            "Epoch 19/1000\n",
            "26/26 [==============================] - 364s 14s/step - loss: 0.2319 - tp: 2244.0000 - fp: 1593.0000 - tn: 1671.0000 - fn: 1072.0000 - accuracy: 0.5950 - precision: 0.5848 - recall: 0.6767 - f1_score: 0.6850 - auc: 0.6408 - val_loss: 0.2336 - val_tp: 1071.0000 - val_fp: 848.0000 - val_tn: 588.0000 - val_fn: 313.0000 - val_accuracy: 0.5883 - val_precision: 0.5581 - val_recall: 0.7738 - val_f1_score: 0.6753 - val_auc: 0.6373\n",
            "Epoch 20/1000\n",
            "26/26 [==============================] - 356s 14s/step - loss: 0.2312 - tp: 2279.0000 - fp: 1564.0000 - tn: 1700.0000 - fn: 1037.0000 - accuracy: 0.6047 - precision: 0.5930 - recall: 0.6873 - f1_score: 0.6831 - auc: 0.6468 - val_loss: 0.2340 - val_tp: 748.0000 - val_fp: 547.0000 - val_tn: 889.0000 - val_fn: 636.0000 - val_accuracy: 0.5805 - val_precision: 0.5776 - val_recall: 0.5405 - val_f1_score: 0.6823 - val_auc: 0.6331\n",
            "Epoch 21/1000\n",
            "26/26 [==============================] - 361s 14s/step - loss: 0.2321 - tp: 2173.0000 - fp: 1497.0000 - tn: 1767.0000 - fn: 1143.0000 - accuracy: 0.5988 - precision: 0.5921 - recall: 0.6553 - f1_score: 0.6840 - auc: 0.6419 - val_loss: 0.2312 - val_tp: 963.0000 - val_fp: 734.0000 - val_tn: 702.0000 - val_fn: 421.0000 - val_accuracy: 0.5904 - val_precision: 0.5675 - val_recall: 0.6958 - val_f1_score: 0.6755 - val_auc: 0.6450\n",
            "Epoch 22/1000\n",
            "26/26 [==============================] - 361s 14s/step - loss: 0.2281 - tp: 2220.0000 - fp: 1486.0000 - tn: 1778.0000 - fn: 1096.0000 - accuracy: 0.6076 - precision: 0.5990 - recall: 0.6695 - f1_score: 0.6859 - auc: 0.6621 - val_loss: 0.2344 - val_tp: 1156.0000 - val_fp: 907.0000 - val_tn: 529.0000 - val_fn: 228.0000 - val_accuracy: 0.5975 - val_precision: 0.5603 - val_recall: 0.8353 - val_f1_score: 0.6760 - val_auc: 0.6487\n",
            "Epoch 23/1000\n",
            "26/26 [==============================] - 362s 14s/step - loss: 0.2291 - tp: 2295.0000 - fp: 1532.0000 - tn: 1732.0000 - fn: 1021.0000 - accuracy: 0.6120 - precision: 0.5997 - recall: 0.6921 - f1_score: 0.6878 - auc: 0.6560 - val_loss: 0.2310 - val_tp: 1048.0000 - val_fp: 792.0000 - val_tn: 644.0000 - val_fn: 336.0000 - val_accuracy: 0.6000 - val_precision: 0.5696 - val_recall: 0.7572 - val_f1_score: 0.6748 - val_auc: 0.6515\n",
            "Epoch 24/1000\n",
            "26/26 [==============================] - 364s 14s/step - loss: 0.2284 - tp: 2293.0000 - fp: 1551.0000 - tn: 1713.0000 - fn: 1023.0000 - accuracy: 0.6088 - precision: 0.5965 - recall: 0.6915 - f1_score: 0.6867 - auc: 0.6578 - val_loss: 0.2308 - val_tp: 1069.0000 - val_fp: 825.0000 - val_tn: 611.0000 - val_fn: 315.0000 - val_accuracy: 0.5957 - val_precision: 0.5644 - val_recall: 0.7724 - val_f1_score: 0.6765 - val_auc: 0.6511\n",
            "Epoch 25/1000\n",
            "26/26 [==============================] - 360s 14s/step - loss: 0.2278 - tp: 2335.0000 - fp: 1536.0000 - tn: 1728.0000 - fn: 981.0000 - accuracy: 0.6175 - precision: 0.6032 - recall: 0.7042 - f1_score: 0.6884 - auc: 0.6605 - val_loss: 0.2293 - val_tp: 935.0000 - val_fp: 677.0000 - val_tn: 759.0000 - val_fn: 449.0000 - val_accuracy: 0.6007 - val_precision: 0.5800 - val_recall: 0.6756 - val_f1_score: 0.6804 - val_auc: 0.6504\n",
            "Epoch 26/1000\n",
            "26/26 [==============================] - 370s 14s/step - loss: 0.2270 - tp: 2192.0000 - fp: 1454.0000 - tn: 1810.0000 - fn: 1124.0000 - accuracy: 0.6082 - precision: 0.6012 - recall: 0.6610 - f1_score: 0.6883 - auc: 0.6648 - val_loss: 0.2359 - val_tp: 1238.0000 - val_fp: 962.0000 - val_tn: 474.0000 - val_fn: 146.0000 - val_accuracy: 0.6071 - val_precision: 0.5627 - val_recall: 0.8945 - val_f1_score: 0.6719 - val_auc: 0.6555\n",
            "Epoch 27/1000\n",
            "26/26 [==============================] - 360s 14s/step - loss: 0.2262 - tp: 2274.0000 - fp: 1486.0000 - tn: 1778.0000 - fn: 1042.0000 - accuracy: 0.6158 - precision: 0.6048 - recall: 0.6858 - f1_score: 0.6891 - auc: 0.6676 - val_loss: 0.2359 - val_tp: 1227.0000 - val_fp: 954.0000 - val_tn: 482.0000 - val_fn: 157.0000 - val_accuracy: 0.6060 - val_precision: 0.5626 - val_recall: 0.8866 - val_f1_score: 0.6732 - val_auc: 0.6548\n",
            "Epoch 28/1000\n",
            "26/26 [==============================] - 367s 14s/step - loss: 0.2277 - tp: 2309.0000 - fp: 1528.0000 - tn: 1736.0000 - fn: 1007.0000 - accuracy: 0.6147 - precision: 0.6018 - recall: 0.6963 - f1_score: 0.6891 - auc: 0.6619 - val_loss: 0.2328 - val_tp: 1149.0000 - val_fp: 893.0000 - val_tn: 543.0000 - val_fn: 235.0000 - val_accuracy: 0.6000 - val_precision: 0.5627 - val_recall: 0.8302 - val_f1_score: 0.6776 - val_auc: 0.6554\n",
            "Epoch 29/1000\n",
            "26/26 [==============================] - 363s 14s/step - loss: 0.2261 - tp: 2289.0000 - fp: 1470.0000 - tn: 1794.0000 - fn: 1027.0000 - accuracy: 0.6205 - precision: 0.6089 - recall: 0.6903 - f1_score: 0.6909 - auc: 0.6677 - val_loss: 0.2322 - val_tp: 1162.0000 - val_fp: 881.0000 - val_tn: 555.0000 - val_fn: 222.0000 - val_accuracy: 0.6089 - val_precision: 0.5688 - val_recall: 0.8396 - val_f1_score: 0.6766 - val_auc: 0.6581\n",
            "Epoch 30/1000\n",
            "26/26 [==============================] - 366s 14s/step - loss: 0.2290 - tp: 2182.0000 - fp: 1449.0000 - tn: 1815.0000 - fn: 1134.0000 - accuracy: 0.6074 - precision: 0.6009 - recall: 0.6580 - f1_score: 0.6892 - auc: 0.6586 - val_loss: 0.2334 - val_tp: 1191.0000 - val_fp: 918.0000 - val_tn: 518.0000 - val_fn: 193.0000 - val_accuracy: 0.6060 - val_precision: 0.5647 - val_recall: 0.8605 - val_f1_score: 0.6742 - val_auc: 0.6561\n",
            "Epoch 31/1000\n",
            "26/26 [==============================] - 400s 16s/step - loss: 0.2261 - tp: 2267.0000 - fp: 1429.0000 - tn: 1835.0000 - fn: 1049.0000 - accuracy: 0.6234 - precision: 0.6134 - recall: 0.6837 - f1_score: 0.6918 - auc: 0.6692 - val_loss: 0.2332 - val_tp: 1160.0000 - val_fp: 898.0000 - val_tn: 538.0000 - val_fn: 224.0000 - val_accuracy: 0.6021 - val_precision: 0.5637 - val_recall: 0.8382 - val_f1_score: 0.6771 - val_auc: 0.6555\n",
            "Epoch 32/1000\n",
            "26/26 [==============================] - 364s 14s/step - loss: 0.2249 - tp: 2223.0000 - fp: 1389.0000 - tn: 1875.0000 - fn: 1093.0000 - accuracy: 0.6228 - precision: 0.6154 - recall: 0.6704 - f1_score: 0.6919 - auc: 0.6729 - val_loss: 0.2288 - val_tp: 1065.0000 - val_fp: 797.0000 - val_tn: 639.0000 - val_fn: 319.0000 - val_accuracy: 0.6043 - val_precision: 0.5720 - val_recall: 0.7695 - val_f1_score: 0.6805 - val_auc: 0.6602\n",
            "Epoch 33/1000\n",
            "26/26 [==============================] - 362s 14s/step - loss: 0.2237 - tp: 2316.0000 - fp: 1467.0000 - tn: 1797.0000 - fn: 1000.0000 - accuracy: 0.6251 - precision: 0.6122 - recall: 0.6984 - f1_score: 0.6906 - auc: 0.6791 - val_loss: 0.2283 - val_tp: 819.0000 - val_fp: 550.0000 - val_tn: 886.0000 - val_fn: 565.0000 - val_accuracy: 0.6046 - val_precision: 0.5982 - val_recall: 0.5918 - val_f1_score: 0.6853 - val_auc: 0.6558\n",
            "Epoch 34/1000\n",
            "26/26 [==============================] - 368s 14s/step - loss: 0.2209 - tp: 2244.0000 - fp: 1331.0000 - tn: 1933.0000 - fn: 1072.0000 - accuracy: 0.6348 - precision: 0.6277 - recall: 0.6767 - f1_score: 0.6951 - auc: 0.6913 - val_loss: 0.2369 - val_tp: 1241.0000 - val_fp: 976.0000 - val_tn: 460.0000 - val_fn: 143.0000 - val_accuracy: 0.6032 - val_precision: 0.5598 - val_recall: 0.8967 - val_f1_score: 0.6740 - val_auc: 0.6601\n",
            "Epoch 35/1000\n",
            "26/26 [==============================] - 363s 14s/step - loss: 0.2215 - tp: 2412.0000 - fp: 1502.0000 - tn: 1762.0000 - fn: 904.0000 - accuracy: 0.6343 - precision: 0.6162 - recall: 0.7274 - f1_score: 0.6915 - auc: 0.6886 - val_loss: 0.2301 - val_tp: 631.0000 - val_fp: 379.0000 - val_tn: 1057.0000 - val_fn: 753.0000 - val_accuracy: 0.5986 - val_precision: 0.6248 - val_recall: 0.4559 - val_f1_score: 0.6846 - val_auc: 0.6604\n",
            "Epoch 36/1000\n",
            "26/26 [==============================] - 363s 14s/step - loss: 0.2242 - tp: 2107.0000 - fp: 1273.0000 - tn: 1991.0000 - fn: 1209.0000 - accuracy: 0.6228 - precision: 0.6234 - recall: 0.6354 - f1_score: 0.6936 - auc: 0.6773 - val_loss: 0.2319 - val_tp: 1157.0000 - val_fp: 888.0000 - val_tn: 548.0000 - val_fn: 227.0000 - val_accuracy: 0.6046 - val_precision: 0.5658 - val_recall: 0.8360 - val_f1_score: 0.6768 - val_auc: 0.6585\n",
            "Epoch 37/1000\n",
            "26/26 [==============================] - 366s 14s/step - loss: 0.2205 - tp: 2353.0000 - fp: 1425.0000 - tn: 1839.0000 - fn: 963.0000 - accuracy: 0.6371 - precision: 0.6228 - recall: 0.7096 - f1_score: 0.6948 - auc: 0.6933 - val_loss: 0.2322 - val_tp: 1163.0000 - val_fp: 881.0000 - val_tn: 555.0000 - val_fn: 221.0000 - val_accuracy: 0.6092 - val_precision: 0.5690 - val_recall: 0.8403 - val_f1_score: 0.6783 - val_auc: 0.6620\n",
            "Epoch 38/1000\n",
            "26/26 [==============================] - 364s 14s/step - loss: 0.2219 - tp: 2300.0000 - fp: 1369.0000 - tn: 1895.0000 - fn: 1016.0000 - accuracy: 0.6375 - precision: 0.6269 - recall: 0.6936 - f1_score: 0.6966 - auc: 0.6851 - val_loss: 0.2303 - val_tp: 1103.0000 - val_fp: 825.0000 - val_tn: 611.0000 - val_fn: 281.0000 - val_accuracy: 0.6078 - val_precision: 0.5721 - val_recall: 0.7970 - val_f1_score: 0.6793 - val_auc: 0.6618\n",
            "Epoch 39/1000\n",
            "26/26 [==============================] - 362s 14s/step - loss: 0.2181 - tp: 2373.0000 - fp: 1379.0000 - tn: 1885.0000 - fn: 943.0000 - accuracy: 0.6471 - precision: 0.6325 - recall: 0.7156 - f1_score: 0.6931 - auc: 0.7015 - val_loss: 0.2270 - val_tp: 1014.0000 - val_fp: 722.0000 - val_tn: 714.0000 - val_fn: 370.0000 - val_accuracy: 0.6128 - val_precision: 0.5841 - val_recall: 0.7327 - val_f1_score: 0.6812 - val_auc: 0.6658\n",
            "Epoch 40/1000\n",
            "26/26 [==============================] - 363s 14s/step - loss: 0.2168 - tp: 2299.0000 - fp: 1302.0000 - tn: 1962.0000 - fn: 1017.0000 - accuracy: 0.6476 - precision: 0.6384 - recall: 0.6933 - f1_score: 0.6983 - auc: 0.7060 - val_loss: 0.2315 - val_tp: 1153.0000 - val_fp: 879.0000 - val_tn: 557.0000 - val_fn: 231.0000 - val_accuracy: 0.6064 - val_precision: 0.5674 - val_recall: 0.8331 - val_f1_score: 0.6788 - val_auc: 0.6652\n",
            "Epoch 41/1000\n",
            "26/26 [==============================] - 404s 16s/step - loss: 0.2167 - tp: 2292.0000 - fp: 1302.0000 - tn: 1962.0000 - fn: 1024.0000 - accuracy: 0.6465 - precision: 0.6377 - recall: 0.6912 - f1_score: 0.6968 - auc: 0.7061 - val_loss: 0.2285 - val_tp: 1087.0000 - val_fp: 815.0000 - val_tn: 621.0000 - val_fn: 297.0000 - val_accuracy: 0.6057 - val_precision: 0.5715 - val_recall: 0.7854 - val_f1_score: 0.6827 - val_auc: 0.6664\n",
            "Epoch 42/1000\n",
            "26/26 [==============================] - 363s 14s/step - loss: 0.2163 - tp: 2343.0000 - fp: 1346.0000 - tn: 1918.0000 - fn: 973.0000 - accuracy: 0.6476 - precision: 0.6351 - recall: 0.7066 - f1_score: 0.6966 - auc: 0.7076 - val_loss: 0.2276 - val_tp: 993.0000 - val_fp: 708.0000 - val_tn: 728.0000 - val_fn: 391.0000 - val_accuracy: 0.6103 - val_precision: 0.5838 - val_recall: 0.7175 - val_f1_score: 0.6841 - val_auc: 0.6604\n",
            "Epoch 43/1000\n",
            "26/26 [==============================] - 358s 14s/step - loss: 0.2149 - tp: 2321.0000 - fp: 1297.0000 - tn: 1967.0000 - fn: 995.0000 - accuracy: 0.6517 - precision: 0.6415 - recall: 0.6999 - f1_score: 0.6975 - auc: 0.7126 - val_loss: 0.2267 - val_tp: 1027.0000 - val_fp: 741.0000 - val_tn: 695.0000 - val_fn: 357.0000 - val_accuracy: 0.6106 - val_precision: 0.5809 - val_recall: 0.7421 - val_f1_score: 0.6866 - val_auc: 0.6660\n",
            "Epoch 44/1000\n",
            "26/26 [==============================] - 364s 14s/step - loss: 0.2154 - tp: 2325.0000 - fp: 1318.0000 - tn: 1946.0000 - fn: 991.0000 - accuracy: 0.6491 - precision: 0.6382 - recall: 0.7011 - f1_score: 0.6982 - auc: 0.7106 - val_loss: 0.2348 - val_tp: 1181.0000 - val_fp: 903.0000 - val_tn: 533.0000 - val_fn: 203.0000 - val_accuracy: 0.6078 - val_precision: 0.5667 - val_recall: 0.8533 - val_f1_score: 0.6803 - val_auc: 0.6666\n",
            "Epoch 45/1000\n",
            "26/26 [==============================] - 361s 14s/step - loss: 0.2123 - tp: 2381.0000 - fp: 1327.0000 - tn: 1937.0000 - fn: 935.0000 - accuracy: 0.6562 - precision: 0.6421 - recall: 0.7180 - f1_score: 0.7006 - auc: 0.7196 - val_loss: 0.2266 - val_tp: 989.0000 - val_fp: 690.0000 - val_tn: 746.0000 - val_fn: 395.0000 - val_accuracy: 0.6152 - val_precision: 0.5890 - val_recall: 0.7146 - val_f1_score: 0.6854 - val_auc: 0.6659\n",
            "Epoch 46/1000\n",
            "26/26 [==============================] - 364s 14s/step - loss: 0.2143 - tp: 2319.0000 - fp: 1301.0000 - tn: 1963.0000 - fn: 997.0000 - accuracy: 0.6508 - precision: 0.6406 - recall: 0.6993 - f1_score: 0.6975 - auc: 0.7144 - val_loss: 0.2323 - val_tp: 1180.0000 - val_fp: 885.0000 - val_tn: 551.0000 - val_fn: 204.0000 - val_accuracy: 0.6138 - val_precision: 0.5714 - val_recall: 0.8526 - val_f1_score: 0.6783 - val_auc: 0.6679\n",
            "Epoch 47/1000\n",
            "26/26 [==============================] - 357s 14s/step - loss: 0.2148 - tp: 2315.0000 - fp: 1268.0000 - tn: 1996.0000 - fn: 1001.0000 - accuracy: 0.6552 - precision: 0.6461 - recall: 0.6981 - f1_score: 0.6990 - auc: 0.7128 - val_loss: 0.2273 - val_tp: 829.0000 - val_fp: 541.0000 - val_tn: 895.0000 - val_fn: 555.0000 - val_accuracy: 0.6113 - val_precision: 0.6051 - val_recall: 0.5990 - val_f1_score: 0.6868 - val_auc: 0.6641\n",
            "Epoch 48/1000\n",
            "26/26 [==============================] - 363s 14s/step - loss: 0.2115 - tp: 2312.0000 - fp: 1232.0000 - tn: 2032.0000 - fn: 1004.0000 - accuracy: 0.6602 - precision: 0.6524 - recall: 0.6972 - f1_score: 0.7032 - auc: 0.7228 - val_loss: 0.2269 - val_tp: 789.0000 - val_fp: 498.0000 - val_tn: 938.0000 - val_fn: 595.0000 - val_accuracy: 0.6124 - val_precision: 0.6131 - val_recall: 0.5701 - val_f1_score: 0.6838 - val_auc: 0.6679\n",
            "Epoch 49/1000\n",
            "26/26 [==============================] - 352s 14s/step - loss: 0.2110 - tp: 2328.0000 - fp: 1221.0000 - tn: 2043.0000 - fn: 988.0000 - accuracy: 0.6643 - precision: 0.6560 - recall: 0.7021 - f1_score: 0.6993 - auc: 0.7252 - val_loss: 0.2298 - val_tp: 1098.0000 - val_fp: 793.0000 - val_tn: 643.0000 - val_fn: 286.0000 - val_accuracy: 0.6174 - val_precision: 0.5806 - val_recall: 0.7934 - val_f1_score: 0.6842 - val_auc: 0.6671\n",
            "Epoch 50/1000\n",
            "26/26 [==============================] - 352s 14s/step - loss: 0.2075 - tp: 2422.0000 - fp: 1249.0000 - tn: 2015.0000 - fn: 894.0000 - accuracy: 0.6743 - precision: 0.6598 - recall: 0.7304 - f1_score: 0.7006 - auc: 0.7383 - val_loss: 0.2264 - val_tp: 982.0000 - val_fp: 664.0000 - val_tn: 772.0000 - val_fn: 402.0000 - val_accuracy: 0.6220 - val_precision: 0.5966 - val_recall: 0.7095 - val_f1_score: 0.6852 - val_auc: 0.6685\n",
            "Epoch 51/1000\n",
            "26/26 [==============================] - 356s 14s/step - loss: 0.2069 - tp: 2342.0000 - fp: 1166.0000 - tn: 2098.0000 - fn: 974.0000 - accuracy: 0.6748 - precision: 0.6676 - recall: 0.7063 - f1_score: 0.7046 - auc: 0.7384 - val_loss: 0.2288 - val_tp: 1056.0000 - val_fp: 768.0000 - val_tn: 668.0000 - val_fn: 328.0000 - val_accuracy: 0.6113 - val_precision: 0.5789 - val_recall: 0.7630 - val_f1_score: 0.6844 - val_auc: 0.6703\n",
            "Epoch 52/1000\n",
            "26/26 [==============================] - 354s 14s/step - loss: 0.2054 - tp: 2408.0000 - fp: 1220.0000 - tn: 2044.0000 - fn: 908.0000 - accuracy: 0.6766 - precision: 0.6637 - recall: 0.7262 - f1_score: 0.7060 - auc: 0.7431 - val_loss: 0.2261 - val_tp: 940.0000 - val_fp: 632.0000 - val_tn: 804.0000 - val_fn: 444.0000 - val_accuracy: 0.6184 - val_precision: 0.5980 - val_recall: 0.6792 - val_f1_score: 0.6861 - val_auc: 0.6712\n",
            "Epoch 53/1000\n",
            "26/26 [==============================] - 352s 14s/step - loss: 0.2036 - tp: 2393.0000 - fp: 1156.0000 - tn: 2108.0000 - fn: 923.0000 - accuracy: 0.6840 - precision: 0.6743 - recall: 0.7217 - f1_score: 0.7053 - auc: 0.7496 - val_loss: 0.2272 - val_tp: 904.0000 - val_fp: 602.0000 - val_tn: 834.0000 - val_fn: 480.0000 - val_accuracy: 0.6163 - val_precision: 0.6003 - val_recall: 0.6532 - val_f1_score: 0.6875 - val_auc: 0.6660\n",
            "Epoch 54/1000\n",
            "26/26 [==============================] - 356s 14s/step - loss: 0.2038 - tp: 2354.0000 - fp: 1144.0000 - tn: 2120.0000 - fn: 962.0000 - accuracy: 0.6799 - precision: 0.6730 - recall: 0.7099 - f1_score: 0.7057 - auc: 0.7474 - val_loss: 0.2301 - val_tp: 1076.0000 - val_fp: 752.0000 - val_tn: 684.0000 - val_fn: 308.0000 - val_accuracy: 0.6241 - val_precision: 0.5886 - val_recall: 0.7775 - val_f1_score: 0.6860 - val_auc: 0.6700\n",
            "Epoch 55/1000\n",
            "26/26 [==============================] - 351s 14s/step - loss: 0.2016 - tp: 2429.0000 - fp: 1178.0000 - tn: 2086.0000 - fn: 887.0000 - accuracy: 0.6862 - precision: 0.6734 - recall: 0.7325 - f1_score: 0.7056 - auc: 0.7539 - val_loss: 0.2280 - val_tp: 873.0000 - val_fp: 568.0000 - val_tn: 868.0000 - val_fn: 511.0000 - val_accuracy: 0.6174 - val_precision: 0.6058 - val_recall: 0.6308 - val_f1_score: 0.6906 - val_auc: 0.6647\n",
            "Epoch 56/1000\n",
            "26/26 [==============================] - 356s 14s/step - loss: 0.2002 - tp: 2430.0000 - fp: 1125.0000 - tn: 2139.0000 - fn: 886.0000 - accuracy: 0.6944 - precision: 0.6835 - recall: 0.7328 - f1_score: 0.7115 - auc: 0.7587 - val_loss: 0.2287 - val_tp: 939.0000 - val_fp: 657.0000 - val_tn: 779.0000 - val_fn: 445.0000 - val_accuracy: 0.6092 - val_precision: 0.5883 - val_recall: 0.6785 - val_f1_score: 0.6886 - val_auc: 0.6631\n",
            "Epoch 57/1000\n",
            "26/26 [==============================] - 356s 14s/step - loss: 0.1988 - tp: 2460.0000 - fp: 1158.0000 - tn: 2106.0000 - fn: 856.0000 - accuracy: 0.6939 - precision: 0.6799 - recall: 0.7419 - f1_score: 0.7066 - auc: 0.7639 - val_loss: 0.2272 - val_tp: 973.0000 - val_fp: 653.0000 - val_tn: 783.0000 - val_fn: 411.0000 - val_accuracy: 0.6227 - val_precision: 0.5984 - val_recall: 0.7030 - val_f1_score: 0.6875 - val_auc: 0.6701\n",
            "Epoch 58/1000\n",
            "26/26 [==============================] - 353s 14s/step - loss: 0.1980 - tp: 2429.0000 - fp: 1079.0000 - tn: 2185.0000 - fn: 887.0000 - accuracy: 0.7012 - precision: 0.6924 - recall: 0.7325 - f1_score: 0.7112 - auc: 0.7653 - val_loss: 0.2313 - val_tp: 1061.0000 - val_fp: 750.0000 - val_tn: 686.0000 - val_fn: 323.0000 - val_accuracy: 0.6195 - val_precision: 0.5859 - val_recall: 0.7666 - val_f1_score: 0.6803 - val_auc: 0.6659\n",
            "Epoch 59/1000\n",
            "26/26 [==============================] - 356s 14s/step - loss: 0.1978 - tp: 2421.0000 - fp: 1072.0000 - tn: 2192.0000 - fn: 895.0000 - accuracy: 0.7011 - precision: 0.6931 - recall: 0.7301 - f1_score: 0.7119 - auc: 0.7640 - val_loss: 0.2276 - val_tp: 968.0000 - val_fp: 635.0000 - val_tn: 801.0000 - val_fn: 416.0000 - val_accuracy: 0.6273 - val_precision: 0.6039 - val_recall: 0.6994 - val_f1_score: 0.6880 - val_auc: 0.6700\n",
            "Epoch 60/1000\n",
            "26/26 [==============================] - 355s 14s/step - loss: 0.1972 - tp: 2430.0000 - fp: 1111.0000 - tn: 2153.0000 - fn: 886.0000 - accuracy: 0.6965 - precision: 0.6862 - recall: 0.7328 - f1_score: 0.7141 - auc: 0.7652 - val_loss: 0.2292 - val_tp: 820.0000 - val_fp: 532.0000 - val_tn: 904.0000 - val_fn: 564.0000 - val_accuracy: 0.6113 - val_precision: 0.6065 - val_recall: 0.5925 - val_f1_score: 0.6897 - val_auc: 0.6659\n",
            "Epoch 61/1000\n",
            "26/26 [==============================] - 352s 14s/step - loss: 0.1923 - tp: 2459.0000 - fp: 1066.0000 - tn: 2198.0000 - fn: 857.0000 - accuracy: 0.7078 - precision: 0.6976 - recall: 0.7416 - f1_score: 0.7140 - auc: 0.7810 - val_loss: 0.2319 - val_tp: 1019.0000 - val_fp: 708.0000 - val_tn: 728.0000 - val_fn: 365.0000 - val_accuracy: 0.6195 - val_precision: 0.5900 - val_recall: 0.7363 - val_f1_score: 0.6912 - val_auc: 0.6639\n",
            "Epoch 62/1000\n",
            "26/26 [==============================] - 355s 14s/step - loss: 0.1924 - tp: 2412.0000 - fp: 1042.0000 - tn: 2222.0000 - fn: 904.0000 - accuracy: 0.7043 - precision: 0.6983 - recall: 0.7274 - f1_score: 0.7143 - auc: 0.7798 - val_loss: 0.2526 - val_tp: 1247.0000 - val_fp: 984.0000 - val_tn: 452.0000 - val_fn: 137.0000 - val_accuracy: 0.6025 - val_precision: 0.5589 - val_recall: 0.9010 - val_f1_score: 0.6805 - val_auc: 0.6653\n",
            "113/113 [==============================] - 47s 417ms/step - loss: 0.2435 - tp: 1156.0000 - fp: 864.0000 - tn: 936.0000 - fn: 644.0000 - accuracy: 0.5811 - precision: 0.5723 - recall: 0.6422 - f1_score: 0.6846 - auc: 0.6143\n",
            "57/57 [==============================] - 28s 443ms/step - loss: 0.2658 - tp: 604.0000 - fp: 561.0000 - tn: 339.0000 - fn: 296.0000 - accuracy: 0.5239 - precision: 0.5185 - recall: 0.6711 - f1_score: 0.6657 - auc: 0.5386\n",
            "57/57 [==============================] - 26s 447ms/step - loss: 0.2213 - tp: 552.0000 - fp: 303.0000 - tn: 597.0000 - fn: 348.0000 - accuracy: 0.6383 - precision: 0.6456 - recall: 0.6133 - f1_score: 0.7052 - auc: 0.6941\n",
            "57/57 [==============================] - 24s 408ms/step\n",
            "57/57 [==============================] - 23s 409ms/step\n",
            "113/113 [==============================] - 48s 428ms/step\n",
            "\n",
            "[0.2435319423675537, 1156.0, 864.0, 936.0, 644.0, 0.5811111330986023, 0.5722772479057312, 0.6422222256660461, 0.6846243739128113, 0.6142942905426025] \n",
            " [0.2657788395881653, 604.0, 561.0, 339.0, 296.0, 0.523888885974884, 0.518454909324646, 0.6711111068725586, 0.6656592488288879, 0.538554310798645] \n",
            " [0.22128507494926453, 552.0, 303.0, 597.0, 348.0, 0.6383333206176758, 0.6456140279769897, 0.6133333444595337, 0.7052069902420044, 0.6940963268280029] \n",
            "\n",
            "\n"
          ]
        }
      ],
      "source": [
        "# model1 = genModel(attention_merge)\n",
        "# model2 = genModel(addition_merge)\n",
        "model3 = genModel(concatenate_merge)\n",
        "\n",
        "# res1 = run(model1, 'model1.h5', '1')\n",
        "# res2 = run(model2, 'model2.h5', '2')\n",
        "res3 = run(model3, 'model3.h5', '3')\n",
        "\n",
        "\n",
        "print()\n",
        "# print(res1[0], '\\n', res1[1], '\\n', res1[2], '\\n\\n')\n",
        "# print(res2[0], '\\n', res2[1], '\\n', res2[2], '\\n\\n')\n",
        "print(res3[0], '\\n', res3[1], '\\n', res3[2], '\\n\\n')\n",
        "\n"
      ]
    },
    {
      "cell_type": "markdown",
      "metadata": {
        "id": "LUL9PAKLeIAe"
      },
      "source": [
        "The following snippet will print coherent result of the evaluation of each datasets."
      ]
    },
    {
      "cell_type": "code",
      "execution_count": null,
      "metadata": {
        "colab": {
          "base_uri": "https://localhost:8080/"
        },
        "id": "NqSpmn5OfERg",
        "outputId": "d4d8aba7-bb0a-40bd-95fc-b5619638168f"
      },
      "outputs": [
        {
          "name": "stdout",
          "output_type": "stream",
          "text": [
            "loss: 0.2435319423675537 - tp: 1156.0 - fp: 864.0 - tn: 936.0 - fn: 644.0 - accuracy: 0.5811111330986023 - precision: 0.5722772479057312 - recall: 0.6422222256660461 - f1-score: 0.6846243739128113 - auc: 0.6142942905426025 - \n",
            "loss: 0.2657788395881653 - tp: 604.0 - fp: 561.0 - tn: 339.0 - fn: 296.0 - accuracy: 0.523888885974884 - precision: 0.518454909324646 - recall: 0.6711111068725586 - f1-score: 0.6656592488288879 - auc: 0.538554310798645 - \n",
            "loss: 0.22128507494926453 - tp: 552.0 - fp: 303.0 - tn: 597.0 - fn: 348.0 - accuracy: 0.6383333206176758 - precision: 0.6456140279769897 - recall: 0.6133333444595337 - f1-score: 0.7052069902420044 - auc: 0.6940963268280029 - \n",
            "\n"
          ]
        }
      ],
      "source": [
        "def printing(results):\n",
        "\n",
        "  name = ['loss', 'tp', 'fp', 'tn', 'fn', 'accuracy', 'precision', 'recall', 'f1-score', 'auc']\n",
        "  for result in results:\n",
        "    op=''\n",
        "    for i in range(len(name)):\n",
        "      op+=name[i]+\": \"+ str(result[i]) +\" - \"\n",
        "    print(op)\n",
        "  print()\n",
        "\n",
        "\n",
        "\n",
        "\n",
        "# printing(res1)\n",
        "# printing(res2)\n",
        "printing(res3)\n",
        "\n"
      ]
    },
    {
      "cell_type": "code",
      "execution_count": null,
      "metadata": {
        "id": "MdUZRAhafERg"
      },
      "outputs": [],
      "source": [
        "# modelpath = \"/content/gdrive/MyDrive/embeddings/MODELS/model6979.h5\"\n",
        "# model = tf.keras.models.load_model(modelpath, custom_objects={'contrastive_loss': contrastive_loss})\n",
        "\n",
        "# # Print the model summary\n",
        "# model.summary()"
      ]
    },
    {
      "cell_type": "code",
      "execution_count": null,
      "metadata": {
        "id": "g5Bm8rsAfERh"
      },
      "outputs": [],
      "source": [
        "# # new_model = tf.keras.models.load_model('model1.h5', custom_objects={'contrastive_loss': contrastive_loss})\n",
        "\n",
        "# # run(new_model)\n",
        "# import shutil\n",
        "# source_path = \"/content/model2.h5\"\n",
        "# destination_path = \"/content/gdrive/MyDrive/embeddings/MODELS/model6965_66_732.h5\"\n",
        "# shutil.copyfile(source_path, destination_path)\n",
        "\n",
        "\n",
        "import os\n",
        "import shutil\n",
        "source_path = \"/content/\"\n",
        "destination_path = \"/content/gdrive/MyDrive/embeddings/MODELS/cnn\"\n",
        "for file in os.listdir(source_path):\n",
        "\n",
        "    # Get the full path of the file.\n",
        "    file_path = os.path.join(source_path, file)\n",
        "\n",
        "    # Copy or move the file to the destination path.\n",
        "    # Check if the file is a folder.\n",
        "    if not os.path.isdir(file_path):\n",
        "\n",
        "        # Copy or move the file to the destination path.\n",
        "        shutil.copy(file_path, destination_path)\n",
        "    else:\n",
        "        # Skip the folder.\n",
        "        continue"
      ]
    },
    {
      "cell_type": "markdown",
      "metadata": {
        "id": "0AvX_n9VL66_"
      },
      "source": [
        "# model - cnn2"
      ]
    },
    {
      "cell_type": "code",
      "execution_count": null,
      "metadata": {
        "id": "L6hKY-yaL67O"
      },
      "outputs": [],
      "source": [
        "from tensorflow.keras.layers import Input, Reshape, Lambda, LSTM, concatenate, Dense, Dropout, Attention\n",
        "from tensorflow.keras.models import Model\n",
        "from tensorflow.keras import backend as K"
      ]
    },
    {
      "cell_type": "markdown",
      "metadata": {
        "id": "jmthYFSkeoVn"
      },
      "source": [
        "The following function `genModel()` generates classification model."
      ]
    },
    {
      "cell_type": "code",
      "execution_count": null,
      "metadata": {
        "id": "yl597WmyL67O"
      },
      "outputs": [],
      "source": [
        "import tensorflow as tf\n",
        "from tensorflow.keras.layers import Input, Conv1D, Dense, Dropout, concatenate, ZeroPadding1D, GlobalMaxPooling1D\n",
        "from tensorflow.keras.models import Model\n",
        "from tensorflow.keras.layers import Attention\n",
        "\n",
        "def attention_merge(lstm_1, lstm_2):\n",
        "  attention = Attention()([lstm_1, lstm_2])\n",
        "  merged_lstm = attention * lstm_1 + (1 - attention) * lstm_2\n",
        "  return merged_lstm\n",
        "\n",
        "def addition_merge(lstm_1, lstm_2):\n",
        "  merged_lstm = lstm_1 + lstm_2\n",
        "  return merged_lstm\n",
        "\n",
        "def concatenate_merge(lstm_1, lstm_2):\n",
        "  merged_lstm = concatenate([lstm_1, lstm_2], axis=2)\n",
        "  return merged_lstm\n",
        "\n",
        "def genModel(merge):\n",
        "    input_1 = Input(shape=(feature_number, 1))\n",
        "    input_2 = Input(shape=(feature_number, 1))\n",
        "\n",
        "    # CNN branches\n",
        "    cnn_branch_1 = Conv1D(filters=256, kernel_size=3, activation='relu')(input_1)\n",
        "    cnn_branch_2 = Conv1D(filters=256, kernel_size=3, activation='relu')(input_2)\n",
        "\n",
        "    # Merge branches\n",
        "    merged_cnn = merge(cnn_branch_1, cnn_branch_2)\n",
        "\n",
        "    # Apply ZeroPadding1D with 'same' padding to keep the shape unchanged\n",
        "    padded_cnn = ZeroPadding1D(padding=(1, 0))(merged_cnn)\n",
        "\n",
        "    # Dense layer\n",
        "    merged_cnn = Dense(units=256, activation='relu')(padded_cnn)\n",
        "    merged_cnn = Dropout(rate=0.2)(merged_cnn)\n",
        "\n",
        "    # # CNN layer\n",
        "    # merged_cnn = Conv1D(filters=128, kernel_size=3, activation='relu')(merged_cnn)\n",
        "\n",
        "    # # Add GlobalMaxPooling1D before the output layer to change shape to (None, 256)\n",
        "    # merged_cnn = GlobalMaxPooling1D()(merged_cnn)\n",
        "\n",
        "    # Apply ZeroPadding1D with 'same' padding to keep the shape unchanged\n",
        "    padded_cnn = ZeroPadding1D(padding=(1, 0))(merged_cnn)\n",
        "\n",
        "    # Dense layer\n",
        "    merged_cnn = Dense(units=256, activation='relu')(padded_cnn)\n",
        "    merged_cnn = Dropout(rate=0.2)(merged_cnn)\n",
        "\n",
        "    merged_lstm = Reshape((merged_cnn.shape[1], merged_cnn.shape[2]))(merged_cnn)\n",
        "    merged_lstm = LSTM(units=256, activation='tanh')(merged_lstm)\n",
        "\n",
        "\n",
        "    # # CNN layer\n",
        "    # merged_cnn = Conv1D(filters=128, kernel_size=3, activation='relu')(merged_cnn)\n",
        "\n",
        "    # # Add GlobalMaxPooling1D before the output layer to change shape to (None, 256)\n",
        "    # merged_cnn = GlobalMaxPooling1D()(merged_cnn)\n",
        "\n",
        "    # Output layer\n",
        "    output_layer = Dense(units=1, activation='sigmoid')(merged_lstm)\n",
        "\n",
        "    model = Model(inputs=[input_1, input_2], outputs=output_layer)\n",
        "\n",
        "    return model\n"
      ]
    },
    {
      "cell_type": "markdown",
      "metadata": {
        "id": "ItixUIepeoV8"
      },
      "source": [
        "The following function `run()` compiles and evaluates the model with 3 test datasets - Twitter dataset, Reddit Dataset, and their Combined Dataset."
      ]
    },
    {
      "cell_type": "code",
      "execution_count": null,
      "metadata": {
        "id": "CpQ68k8cL67P"
      },
      "outputs": [],
      "source": [
        "import matplotlib.pyplot as plt\n",
        "from sklearn.metrics import auc, roc_curve, roc_auc_score\n",
        "def generate_auc_curve(y_true, y_pred_prob, model_name):\n",
        "    fpr, tpr, thresholds = roc_curve(y_true, y_pred_prob)\n",
        "    roc_auc = auc(fpr, tpr)\n",
        "\n",
        "    # Compute AUC scores for different thresholds\n",
        "    auc_scores = []\n",
        "    for threshold in thresholds:\n",
        "        y_pred_binary = (y_pred_prob >= threshold).astype(int)\n",
        "        auc_scores.append(roc_auc_score(y_true, y_pred_binary))\n",
        "\n",
        "    # Plot the AUC curve\n",
        "    plt.figure()\n",
        "    plt.plot(thresholds, auc_scores, label='AUC curve')\n",
        "    plt.xlabel('Threshold')\n",
        "    plt.ylabel('AUC score')\n",
        "    plt.title('AUC Curve - ' + model_name)\n",
        "    plt.legend(loc=\"lower right\")\n",
        "    plt.savefig( model_name + '__auc_curve.png')\n",
        "    plt.close()\n",
        "\n",
        "    return roc_auc\n",
        "\n",
        "\n",
        "def generate_ROC(model, x_test, y_test, name, n):\n",
        "    # Get predicted probabilities for ROC curve\n",
        "    y_pred_prob = model.predict([x_test[:, 0], x_test[:, 1]])\n",
        "\n",
        "\n",
        "    roc_auc = generate_auc_curve(y_test, y_pred_prob, name)\n",
        "\n",
        "    # Compute ROC curve and AUC score\n",
        "    fpr, tpr, thresholds = roc_curve(y_test, y_pred_prob)\n",
        "    roc_auc = roc_auc_score(y_test, y_pred_prob)\n",
        "\n",
        "    # Plot the ROC curve\n",
        "    plt.figure()\n",
        "    plt.plot(fpr, tpr, label='ROC curve (area = %0.2f)' % roc_auc)\n",
        "    plt.plot([0, 1], [0, 1], 'k--')\n",
        "    plt.xlim([0.0, 1.0])\n",
        "    plt.ylim([0.0, 1.05])\n",
        "    plt.xlabel('False Positive Rate')\n",
        "    plt.ylabel('True Positive Rate')\n",
        "    plt.title('Receiver Operating Characteristic')\n",
        "    plt.legend(loc=\"lower right\")\n",
        "\n",
        "    plt.savefig(name+'_roc_auc__'+n+'.png')\n",
        "    plt.close()\n",
        "\n",
        "\n",
        "\n",
        "def run(model, name, n):\n",
        "    name = '/content/gdrive/MyDrive/embeddings/MODELS/cnn_lstm/'+name\n",
        "    opt = tf.keras.optimizers.Adam(learning_rate=1e-3)\n",
        "\n",
        "    metrics = [\n",
        "        tf.keras.metrics.TruePositives(name='tp'),\n",
        "        tf.keras.metrics.FalsePositives(name='fp'),\n",
        "        tf.keras.metrics.TrueNegatives(name='tn'),\n",
        "        tf.keras.metrics.FalseNegatives(name='fn'),\n",
        "        tf.keras.metrics.BinaryAccuracy(name='accuracy'),\n",
        "        tf.keras.metrics.Precision(name='precision'),\n",
        "        tf.keras.metrics.Recall(name='recall'),\n",
        "        tfa.metrics.F1Score(num_classes=2, average='micro', threshold=0.2555),\n",
        "        tf.keras.metrics.AUC(name='auc')\n",
        "    ]\n",
        "\n",
        "    # Compile the model\n",
        "    model.compile(optimizer=opt, loss=contrastive_loss, metrics=metrics)\n",
        "\n",
        "    # Train the model\n",
        "    history = model.fit(x=[x_train[:, 0], x_train[:, 1]], y=y_train, batch_size=256, epochs=1000,\n",
        "                        validation_split=0.3, callbacks=[early_stop])\n",
        "\n",
        "    # Evaluate the model on the test set\n",
        "    test_ = model.evaluate(x=[x_test_[:, 0], x_test_[:, 1]], y=y_test_)\n",
        "    test2 = model.evaluate(x=[x_test2[:, 0], x_test2[:, 1]], y=y_test2)\n",
        "    test = model.evaluate(x=[x_test[:, 0], x_test[:, 1]], y=y_test)\n",
        "\n",
        "    # Save the model\n",
        "    model.save(name)\n",
        "\n",
        "    generate_ROC(model, x_test, y_test, 'twitter', n)\n",
        "    generate_ROC(model, x_test2, y_test2, 'reddit', n)\n",
        "    generate_ROC(model, x_test_, y_test_, 'combined', n)\n",
        "\n",
        "\n",
        "\n",
        "    return [test_, test2, test]\n",
        "\n"
      ]
    },
    {
      "cell_type": "markdown",
      "metadata": {
        "id": "-H_rZTjWeoV8"
      },
      "source": [
        "The following are the function calls for generating model, compiling and evaluating them."
      ]
    },
    {
      "cell_type": "code",
      "execution_count": null,
      "metadata": {
        "colab": {
          "base_uri": "https://localhost:8080/"
        },
        "id": "JvQyUBB-L67P",
        "outputId": "7f22f435-f776-44e3-f8b3-43f067f722d8"
      },
      "outputs": [
        {
          "name": "stdout",
          "output_type": "stream",
          "text": [
            "Epoch 1/1000\n",
            "26/26 [==============================] - 20s 668ms/step - loss: 0.2297 - tp: 2235.0000 - fp: 1463.0000 - tn: 1801.0000 - fn: 1081.0000 - accuracy: 0.6134 - precision: 0.6044 - recall: 0.6740 - f1_score: 0.6861 - auc: 0.6588 - val_loss: 0.2334 - val_tp: 816.0000 - val_fp: 563.0000 - val_tn: 873.0000 - val_fn: 568.0000 - val_accuracy: 0.5989 - val_precision: 0.5917 - val_recall: 0.5896 - val_f1_score: 0.6733 - val_auc: 0.6420\n",
            "Epoch 2/1000\n",
            "26/26 [==============================] - 16s 633ms/step - loss: 0.2255 - tp: 2270.0000 - fp: 1467.0000 - tn: 1797.0000 - fn: 1046.0000 - accuracy: 0.6181 - precision: 0.6074 - recall: 0.6846 - f1_score: 0.6890 - auc: 0.6750 - val_loss: 0.2353 - val_tp: 970.0000 - val_fp: 745.0000 - val_tn: 691.0000 - val_fn: 414.0000 - val_accuracy: 0.5890 - val_precision: 0.5656 - val_recall: 0.7009 - val_f1_score: 0.6716 - val_auc: 0.6371\n",
            "Epoch 3/1000\n",
            "26/26 [==============================] - 16s 621ms/step - loss: 0.2239 - tp: 2370.0000 - fp: 1462.0000 - tn: 1802.0000 - fn: 946.0000 - accuracy: 0.6340 - precision: 0.6185 - recall: 0.7147 - f1_score: 0.6907 - auc: 0.6807 - val_loss: 0.2352 - val_tp: 1006.0000 - val_fp: 767.0000 - val_tn: 669.0000 - val_fn: 378.0000 - val_accuracy: 0.5940 - val_precision: 0.5674 - val_recall: 0.7269 - val_f1_score: 0.6736 - val_auc: 0.6434\n",
            "Epoch 4/1000\n",
            "26/26 [==============================] - 16s 608ms/step - loss: 0.2259 - tp: 2244.0000 - fp: 1414.0000 - tn: 1850.0000 - fn: 1072.0000 - accuracy: 0.6222 - precision: 0.6134 - recall: 0.6767 - f1_score: 0.6875 - auc: 0.6719 - val_loss: 0.2374 - val_tp: 1053.0000 - val_fp: 835.0000 - val_tn: 601.0000 - val_fn: 331.0000 - val_accuracy: 0.5865 - val_precision: 0.5577 - val_recall: 0.7608 - val_f1_score: 0.6730 - val_auc: 0.6366\n",
            "Epoch 5/1000\n",
            "26/26 [==============================] - 16s 617ms/step - loss: 0.2221 - tp: 2367.0000 - fp: 1442.0000 - tn: 1822.0000 - fn: 949.0000 - accuracy: 0.6366 - precision: 0.6214 - recall: 0.7138 - f1_score: 0.6915 - auc: 0.6882 - val_loss: 0.2357 - val_tp: 975.0000 - val_fp: 739.0000 - val_tn: 697.0000 - val_fn: 409.0000 - val_accuracy: 0.5929 - val_precision: 0.5688 - val_recall: 0.7045 - val_f1_score: 0.6725 - val_auc: 0.6402\n",
            "Epoch 6/1000\n",
            "26/26 [==============================] - 16s 625ms/step - loss: 0.2216 - tp: 2392.0000 - fp: 1497.0000 - tn: 1767.0000 - fn: 924.0000 - accuracy: 0.6321 - precision: 0.6151 - recall: 0.7214 - f1_score: 0.6956 - auc: 0.6887 - val_loss: 0.2352 - val_tp: 933.0000 - val_fp: 704.0000 - val_tn: 732.0000 - val_fn: 451.0000 - val_accuracy: 0.5904 - val_precision: 0.5699 - val_recall: 0.6741 - val_f1_score: 0.6705 - val_auc: 0.6362\n",
            "Epoch 7/1000\n",
            "26/26 [==============================] - 16s 630ms/step - loss: 0.2173 - tp: 2391.0000 - fp: 1397.0000 - tn: 1867.0000 - fn: 925.0000 - accuracy: 0.6471 - precision: 0.6312 - recall: 0.7210 - f1_score: 0.6994 - auc: 0.7019 - val_loss: 0.2355 - val_tp: 880.0000 - val_fp: 635.0000 - val_tn: 801.0000 - val_fn: 504.0000 - val_accuracy: 0.5961 - val_precision: 0.5809 - val_recall: 0.6358 - val_f1_score: 0.6697 - val_auc: 0.6410\n",
            "Epoch 8/1000\n",
            "26/26 [==============================] - 16s 626ms/step - loss: 0.2163 - tp: 2380.0000 - fp: 1328.0000 - tn: 1936.0000 - fn: 936.0000 - accuracy: 0.6559 - precision: 0.6419 - recall: 0.7177 - f1_score: 0.7019 - auc: 0.7079 - val_loss: 0.2392 - val_tp: 1030.0000 - val_fp: 824.0000 - val_tn: 612.0000 - val_fn: 354.0000 - val_accuracy: 0.5823 - val_precision: 0.5556 - val_recall: 0.7442 - val_f1_score: 0.6723 - val_auc: 0.6420\n",
            "Epoch 9/1000\n",
            "26/26 [==============================] - 16s 623ms/step - loss: 0.2187 - tp: 2452.0000 - fp: 1455.0000 - tn: 1809.0000 - fn: 864.0000 - accuracy: 0.6476 - precision: 0.6276 - recall: 0.7394 - f1_score: 0.6992 - auc: 0.6978 - val_loss: 0.2338 - val_tp: 938.0000 - val_fp: 694.0000 - val_tn: 742.0000 - val_fn: 446.0000 - val_accuracy: 0.5957 - val_precision: 0.5748 - val_recall: 0.6777 - val_f1_score: 0.6746 - val_auc: 0.6471\n",
            "Epoch 10/1000\n",
            "26/26 [==============================] - 16s 622ms/step - loss: 0.2140 - tp: 2442.0000 - fp: 1381.0000 - tn: 1883.0000 - fn: 874.0000 - accuracy: 0.6573 - precision: 0.6388 - recall: 0.7364 - f1_score: 0.7026 - auc: 0.7146 - val_loss: 0.2351 - val_tp: 860.0000 - val_fp: 611.0000 - val_tn: 825.0000 - val_fn: 524.0000 - val_accuracy: 0.5975 - val_precision: 0.5846 - val_recall: 0.6214 - val_f1_score: 0.6697 - val_auc: 0.6376\n",
            "Epoch 11/1000\n",
            "26/26 [==============================] - 16s 623ms/step - loss: 0.2126 - tp: 2372.0000 - fp: 1289.0000 - tn: 1975.0000 - fn: 944.0000 - accuracy: 0.6606 - precision: 0.6479 - recall: 0.7153 - f1_score: 0.7039 - auc: 0.7191 - val_loss: 0.2387 - val_tp: 1097.0000 - val_fp: 890.0000 - val_tn: 546.0000 - val_fn: 287.0000 - val_accuracy: 0.5826 - val_precision: 0.5521 - val_recall: 0.7926 - val_f1_score: 0.6686 - val_auc: 0.6414\n",
            "113/113 [==============================] - 5s 43ms/step - loss: 0.2416 - tp: 991.0000 - fp: 738.0000 - tn: 1062.0000 - fn: 809.0000 - accuracy: 0.5703 - precision: 0.5732 - recall: 0.5506 - f1_score: 0.6749 - auc: 0.6046\n",
            "57/57 [==============================] - 5s 43ms/step - loss: 0.2517 - tp: 497.0000 - fp: 442.0000 - tn: 458.0000 - fn: 403.0000 - accuracy: 0.5306 - precision: 0.5293 - recall: 0.5522 - f1_score: 0.6654 - auc: 0.5493\n",
            "57/57 [==============================] - 2s 41ms/step - loss: 0.2316 - tp: 494.0000 - fp: 296.0000 - tn: 604.0000 - fn: 406.0000 - accuracy: 0.6100 - precision: 0.6253 - recall: 0.5489 - f1_score: 0.6849 - auc: 0.6583\n",
            "57/57 [==============================] - 2s 34ms/step\n",
            "57/57 [==============================] - 2s 36ms/step\n",
            "113/113 [==============================] - 4s 35ms/step\n",
            "\n",
            "[0.24160857498645782, 991.0, 738.0, 1062.0, 809.0, 0.570277750492096, 0.5731636881828308, 0.5505555272102356, 0.6748797297477722, 0.6046134233474731] \n",
            " [0.2516593039035797, 497.0, 442.0, 458.0, 403.0, 0.5305555462837219, 0.5292865037918091, 0.5522222518920898, 0.6654163002967834, 0.5493259429931641] \n",
            " [0.23155774176120758, 494.0, 296.0, 604.0, 406.0, 0.6100000143051147, 0.6253164410591125, 0.5488888621330261, 0.6848557591438293, 0.6583308577537537] \n",
            "\n",
            "\n"
          ]
        }
      ],
      "source": [
        "# model1 = genModel(attention_merge)\n",
        "# model2 = genModel(addition_merge)\n",
        "# model3 = genModel(concatenate_merge)\n",
        "\n",
        "# res1 = run(model1, 'model1.h5', '1')\n",
        "# res2 = run(model2, 'model2.h5', '2')\n",
        "res3 = run(model3, 'model3.h5', '3')\n",
        "\n",
        "\n",
        "print()\n",
        "# print(res1[0], '\\n', res1[1], '\\n', res1[2], '\\n\\n')\n",
        "# print(res2[0], '\\n', res2[1], '\\n', res2[2], '\\n\\n')\n",
        "print(res3[0], '\\n', res3[1], '\\n', res3[2], '\\n\\n')\n",
        "\n"
      ]
    },
    {
      "cell_type": "markdown",
      "metadata": {
        "id": "uPMwuko4eMNM"
      },
      "source": [
        "The following snippet will print coherent result of the evaluation of each datasets."
      ]
    },
    {
      "cell_type": "code",
      "execution_count": null,
      "metadata": {
        "colab": {
          "base_uri": "https://localhost:8080/"
        },
        "id": "zXn-_L7OL67Q",
        "outputId": "18b6aa6e-9fe5-455e-8129-c6bdbd93775d"
      },
      "outputs": [
        {
          "name": "stdout",
          "output_type": "stream",
          "text": [
            "loss: 0.24160857498645782 - tp: 991.0 - fp: 738.0 - tn: 1062.0 - fn: 809.0 - accuracy: 0.570277750492096 - precision: 0.5731636881828308 - recall: 0.5505555272102356 - f1-score: 0.6748797297477722 - auc: 0.6046134233474731 - \n",
            "loss: 0.2516593039035797 - tp: 497.0 - fp: 442.0 - tn: 458.0 - fn: 403.0 - accuracy: 0.5305555462837219 - precision: 0.5292865037918091 - recall: 0.5522222518920898 - f1-score: 0.6654163002967834 - auc: 0.5493259429931641 - \n",
            "loss: 0.23155774176120758 - tp: 494.0 - fp: 296.0 - tn: 604.0 - fn: 406.0 - accuracy: 0.6100000143051147 - precision: 0.6253164410591125 - recall: 0.5488888621330261 - f1-score: 0.6848557591438293 - auc: 0.6583308577537537 - \n",
            "\n"
          ]
        }
      ],
      "source": [
        "def printing(results):\n",
        "\n",
        "  name = ['loss', 'tp', 'fp', 'tn', 'fn', 'accuracy', 'precision', 'recall', 'f1-score', 'auc']\n",
        "  for result in results:\n",
        "    op=''\n",
        "    for i in range(len(name)):\n",
        "      op+=name[i]+\": \"+ str(result[i]) +\" - \"\n",
        "    print(op)\n",
        "  print()\n",
        "\n",
        "\n",
        "\n",
        "\n",
        "# printing(res1)\n",
        "# printing(res2)\n",
        "printing(res3)\n",
        "\n"
      ]
    },
    {
      "cell_type": "code",
      "execution_count": null,
      "metadata": {
        "id": "eFxR-xlGL67Q"
      },
      "outputs": [],
      "source": [
        "# modelpath = \"/content/gdrive/MyDrive/embeddings/MODELS/model6979.h5\"\n",
        "# model = tf.keras.models.load_model(modelpath, custom_objects={'contrastive_loss': contrastive_loss})\n",
        "\n",
        "# # Print the model summary\n",
        "# model.summary()"
      ]
    },
    {
      "cell_type": "code",
      "execution_count": null,
      "metadata": {
        "id": "AlFhY8ooL67R"
      },
      "outputs": [],
      "source": [
        "# # new_model = tf.keras.models.load_model('model1.h5', custom_objects={'contrastive_loss': contrastive_loss})\n",
        "\n",
        "# # run(new_model)\n",
        "# import shutil\n",
        "# source_path = \"/content/model2.h5\"\n",
        "# destination_path = \"/content/gdrive/MyDrive/embeddings/MODELS/model6965_66_732.h5\"\n",
        "# shutil.copyfile(source_path, destination_path)\n",
        "\n",
        "\n",
        "import os\n",
        "import shutil\n",
        "source_path = \"/content/\"\n",
        "destination_path = \"/content/gdrive/MyDrive/embeddings/MODELS/cnn_lstm\"\n",
        "for file in os.listdir(source_path):\n",
        "\n",
        "    # Get the full path of the file.\n",
        "    file_path = os.path.join(source_path, file)\n",
        "\n",
        "    # Copy or move the file to the destination path.\n",
        "    # Check if the file is a folder.\n",
        "    if not os.path.isdir(file_path):\n",
        "\n",
        "        # Copy or move the file to the destination path.\n",
        "        shutil.copy(file_path, destination_path)\n",
        "    else:\n",
        "        # Skip the folder.\n",
        "        continue"
      ]
    },
    {
      "cell_type": "markdown",
      "metadata": {
        "id": "Y15huWXAWJQY"
      },
      "source": [
        "# model - cnn 3"
      ]
    },
    {
      "cell_type": "code",
      "execution_count": null,
      "metadata": {
        "id": "YUWjHlhBWJQb"
      },
      "outputs": [],
      "source": [
        "from tensorflow.keras.layers import Input, Reshape, Lambda, LSTM, concatenate, Dense, Dropout, Attention\n",
        "from tensorflow.keras.models import Model\n",
        "from tensorflow.keras import backend as K"
      ]
    },
    {
      "cell_type": "markdown",
      "metadata": {
        "id": "Qo6JcDbcetK0"
      },
      "source": [
        "The following function `genModel()` generates classification model."
      ]
    },
    {
      "cell_type": "code",
      "execution_count": null,
      "metadata": {
        "id": "MFcSs25wWJQc"
      },
      "outputs": [],
      "source": [
        "def attention_merge(lstm_1, lstm_2):\n",
        "  attention = Attention()([lstm_1, lstm_2])\n",
        "  merged_lstm = attention * lstm_1 + (1 - attention) * lstm_2\n",
        "  return merged_lstm\n",
        "\n",
        "def addition_merge(lstm_1, lstm_2):\n",
        "  merged_lstm = lstm_1 + lstm_2\n",
        "  return merged_lstm\n",
        "\n",
        "def concatenate_merge(lstm_1, lstm_2):\n",
        "  merged_lstm = concatenate([lstm_1, lstm_2], axis=2)\n",
        "  return merged_lstm\n",
        "\n",
        "def genModel(merge):\n",
        "    input_1 = Input(shape=(None, feature_number))\n",
        "    input_2 = Input(shape=(None, feature_number))\n",
        "\n",
        "    # Reshape inputs to 3D tensors\n",
        "    lstm_input_1 = Reshape((-1, feature_number))(input_1)\n",
        "    lstm_input_2 = Reshape((-1, feature_number))(input_2)\n",
        "\n",
        "    lstm_1 = LSTM(units=256, return_sequences=True)(lstm_input_1)\n",
        "    lstm_2 = LSTM(units=256, return_sequences=True)(lstm_input_2)\n",
        "\n",
        "    # Merge branches\n",
        "    merged_cnn = merge(lstm_1, lstm_2)\n",
        "\n",
        "    # Apply ZeroPadding1D with 'same' padding to keep the shape unchanged\n",
        "    padded_cnn = ZeroPadding1D(padding=(1, 0))(merged_cnn)\n",
        "\n",
        "    # Dense layer\n",
        "    merged_cnn = Dense(units=256, activation='relu')(padded_cnn)\n",
        "    merged_cnn = Dropout(rate=0.2)(merged_cnn)\n",
        "    merged_cnn = Reshape((8, 64))(merged_cnn)\n",
        "    print(merged_cnn.shape)\n",
        "    # CNN layer\n",
        "    merged_cnn = Conv1D(filters=128, kernel_size=3, activation='relu')(merged_cnn)\n",
        "\n",
        "    # Add GlobalMaxPooling1D before the output layer to change shape to (None, 256)\n",
        "    merged_cnn = GlobalMaxPooling1D()(merged_cnn)\n",
        "\n",
        "    # Output layer\n",
        "    output_layer = Dense(units=1, activation='sigmoid')(merged_cnn)\n",
        "\n",
        "    model = Model(inputs=[input_1, input_2], outputs=output_layer)\n",
        "\n",
        "    return model\n"
      ]
    },
    {
      "cell_type": "markdown",
      "metadata": {
        "id": "MP0LuSXyetLC"
      },
      "source": [
        "The following function `run()` compiles and evaluates the model with 3 test datasets - Twitter dataset, Reddit Dataset, and their Combined Dataset."
      ]
    },
    {
      "cell_type": "code",
      "execution_count": null,
      "metadata": {
        "id": "V62gBfRVWJQe"
      },
      "outputs": [],
      "source": [
        "import matplotlib.pyplot as plt\n",
        "from sklearn.metrics import auc, roc_curve, roc_auc_score\n",
        "def generate_auc_curve(y_true, y_pred_prob, model_name):\n",
        "    fpr, tpr, thresholds = roc_curve(y_true, y_pred_prob)\n",
        "    roc_auc = auc(fpr, tpr)\n",
        "\n",
        "    # Compute AUC scores for different thresholds\n",
        "    auc_scores = []\n",
        "    for threshold in thresholds:\n",
        "        y_pred_binary = (y_pred_prob >= threshold).astype(int)\n",
        "        auc_scores.append(roc_auc_score(y_true, y_pred_binary))\n",
        "\n",
        "    # Plot the AUC curve\n",
        "    plt.figure()\n",
        "    plt.plot(thresholds, auc_scores, label='AUC curve')\n",
        "    plt.xlabel('Threshold')\n",
        "    plt.ylabel('AUC score')\n",
        "    plt.title('AUC Curve - ' + model_name)\n",
        "    plt.legend(loc=\"lower right\")\n",
        "    plt.savefig( model_name + '__auc_curve.png')\n",
        "    plt.close()\n",
        "\n",
        "    return roc_auc\n",
        "\n",
        "\n",
        "def generate_ROC(model, x_test, y_test, name, n):\n",
        "    # Get predicted probabilities for ROC curve\n",
        "    y_pred_prob = model.predict([x_test[:, 0], x_test[:, 1]])\n",
        "\n",
        "\n",
        "    roc_auc = generate_auc_curve(y_test, y_pred_prob, name)\n",
        "\n",
        "    # Compute ROC curve and AUC score\n",
        "    fpr, tpr, thresholds = roc_curve(y_test, y_pred_prob)\n",
        "    roc_auc = roc_auc_score(y_test, y_pred_prob)\n",
        "\n",
        "    # Plot the ROC curve\n",
        "    plt.figure()\n",
        "    plt.plot(fpr, tpr, label='ROC curve (area = %0.2f)' % roc_auc)\n",
        "    plt.plot([0, 1], [0, 1], 'k--')\n",
        "    plt.xlim([0.0, 1.0])\n",
        "    plt.ylim([0.0, 1.05])\n",
        "    plt.xlabel('False Positive Rate')\n",
        "    plt.ylabel('True Positive Rate')\n",
        "    plt.title('Receiver Operating Characteristic')\n",
        "    plt.legend(loc=\"lower right\")\n",
        "\n",
        "    plt.savefig(name+'_roc_auc__'+n+'.png')\n",
        "    plt.close()\n",
        "\n",
        "\n",
        "\n",
        "def run(model, name, n):\n",
        "    name = '/content/gdrive/MyDrive/embeddings/MODELS/cnn/'+name\n",
        "    opt = tf.keras.optimizers.Adam(learning_rate=1e-3)\n",
        "\n",
        "    metrics = [\n",
        "        tf.keras.metrics.TruePositives(name='tp'),\n",
        "        tf.keras.metrics.FalsePositives(name='fp'),\n",
        "        tf.keras.metrics.TrueNegatives(name='tn'),\n",
        "        tf.keras.metrics.FalseNegatives(name='fn'),\n",
        "        tf.keras.metrics.BinaryAccuracy(name='accuracy'),\n",
        "        tf.keras.metrics.Precision(name='precision'),\n",
        "        tf.keras.metrics.Recall(name='recall'),\n",
        "        tfa.metrics.F1Score(num_classes=2, average='micro', threshold=0.2555),\n",
        "        tf.keras.metrics.AUC(name='auc')\n",
        "    ]\n",
        "\n",
        "    # Compile the model\n",
        "    model.compile(optimizer=opt, loss=contrastive_loss, metrics=metrics)\n",
        "\n",
        "    # Train the model\n",
        "    history = model.fit(x=[x_train[:, 0], x_train[:, 1]], y=y_train, batch_size=256, epochs=1000,\n",
        "                        validation_split=0.3, callbacks=[early_stop])\n",
        "\n",
        "    # Evaluate the model on the test set\n",
        "    test_ = model.evaluate(x=[x_test_[:, 0], x_test_[:, 1]], y=y_test_)\n",
        "    test2 = model.evaluate(x=[x_test2[:, 0], x_test2[:, 1]], y=y_test2)\n",
        "    test = model.evaluate(x=[x_test[:, 0], x_test[:, 1]], y=y_test)\n",
        "\n",
        "    # Save the model\n",
        "    model.save(name)\n",
        "\n",
        "    generate_ROC(model, x_test, y_test, 'twitter', n)\n",
        "    generate_ROC(model, x_test2, y_test2, 'reddit', n)\n",
        "    generate_ROC(model, x_test_, y_test_, 'combined', n)\n",
        "\n",
        "\n",
        "\n",
        "    return [test_, test2, test]\n",
        "\n"
      ]
    },
    {
      "cell_type": "markdown",
      "metadata": {
        "id": "6BqNafMHetLC"
      },
      "source": [
        "The following are the function calls for generating model, compiling and evaluating them."
      ]
    },
    {
      "cell_type": "code",
      "execution_count": null,
      "metadata": {
        "colab": {
          "base_uri": "https://localhost:8080/"
        },
        "id": "VjskD641WJQf",
        "outputId": "a947d2d3-0aad-43c0-8d15-200a2fc5b1c8"
      },
      "outputs": [
        {
          "name": "stdout",
          "output_type": "stream",
          "text": [
            "(None, 8, 64)\n",
            "Epoch 1/1000\n"
          ]
        },
        {
          "name": "stderr",
          "output_type": "stream",
          "text": [
            "WARNING:tensorflow:Model was constructed with shape (None, None, 1024) for input KerasTensor(type_spec=TensorSpec(shape=(None, None, 1024), dtype=tf.float32, name='input_7'), name='input_7', description=\"created by layer 'input_7'\"), but it was called on an input with incompatible shape (None, 1024).\n",
            "WARNING:tensorflow:Model was constructed with shape (None, None, 1024) for input KerasTensor(type_spec=TensorSpec(shape=(None, None, 1024), dtype=tf.float32, name='input_8'), name='input_8', description=\"created by layer 'input_8'\"), but it was called on an input with incompatible shape (None, 1024).\n",
            "WARNING:tensorflow:Model was constructed with shape (None, None, 1024) for input KerasTensor(type_spec=TensorSpec(shape=(None, None, 1024), dtype=tf.float32, name='input_7'), name='input_7', description=\"created by layer 'input_7'\"), but it was called on an input with incompatible shape (None, 1024).\n",
            "WARNING:tensorflow:Model was constructed with shape (None, None, 1024) for input KerasTensor(type_spec=TensorSpec(shape=(None, None, 1024), dtype=tf.float32, name='input_8'), name='input_8', description=\"created by layer 'input_8'\"), but it was called on an input with incompatible shape (None, 1024).\n"
          ]
        },
        {
          "name": "stdout",
          "output_type": "stream",
          "text": [
            "26/26 [==============================] - ETA: 0s - loss: 0.2420 - tp: 2047.0000 - fp: 1648.0000 - tn: 1616.0000 - fn: 1269.0000 - accuracy: 0.5567 - precision: 0.5540 - recall: 0.6173 - f1_score: 0.6758 - auc: 0.5875"
          ]
        },
        {
          "name": "stderr",
          "output_type": "stream",
          "text": [
            "WARNING:tensorflow:Model was constructed with shape (None, None, 1024) for input KerasTensor(type_spec=TensorSpec(shape=(None, None, 1024), dtype=tf.float32, name='input_7'), name='input_7', description=\"created by layer 'input_7'\"), but it was called on an input with incompatible shape (None, 1024).\n",
            "WARNING:tensorflow:Model was constructed with shape (None, None, 1024) for input KerasTensor(type_spec=TensorSpec(shape=(None, None, 1024), dtype=tf.float32, name='input_8'), name='input_8', description=\"created by layer 'input_8'\"), but it was called on an input with incompatible shape (None, 1024).\n"
          ]
        },
        {
          "name": "stdout",
          "output_type": "stream",
          "text": [
            "\b\b\b\b\b\b\b\b\b\b\b\b\b\b\b\b\b\b\b\b\b\b\b\b\b\b\b\b\b\b\b\b\b\b\b\b\b\b\b\b\b\b\b\b\b\b\b\b\b\b\b\b\b\b\b\b\b\b\b\b\b\b\b\b\b\b\b\b\b\b\b\b\b\b\b\b\b\b\b\b\b\b\b\b\b\b\b\b\b\b\b\b\b\b\b\b\b\b\b\b\b\b\b\b\b\b\b\b\b\b\b\b\b\b\b\b\b\b\b\b\b\b\b\b\b\b\b\b\b\b\b\b\b\b\b\b\b\b\b\b\b\b\b\b\b\b\b\b\b\b\b\b\b\b\b\b\b\b\b\b\b\b\b\b\b\b\b\b\b\b\b\b\b\b\b\b\b\b\b\b\b\b\b\b\b\b\b\b\b\b\b\b\b\b\b\b\b\b\b\b\b\b\b\b\b\b\b\b\b\b\b\b\b\b\b\b\r26/26 [==============================] - 22s 131ms/step - loss: 0.2420 - tp: 2047.0000 - fp: 1648.0000 - tn: 1616.0000 - fn: 1269.0000 - accuracy: 0.5567 - precision: 0.5540 - recall: 0.6173 - f1_score: 0.6758 - auc: 0.5875 - val_loss: 0.2267 - val_tp: 1134.0000 - val_fp: 846.0000 - val_tn: 590.0000 - val_fn: 250.0000 - val_accuracy: 0.6113 - val_precision: 0.5727 - val_recall: 0.8194 - val_f1_score: 0.6793 - val_auc: 0.6706\n",
            "Epoch 2/1000\n",
            "26/26 [==============================] - 1s 23ms/step - loss: 0.2228 - tp: 2412.0000 - fp: 1569.0000 - tn: 1695.0000 - fn: 904.0000 - accuracy: 0.6242 - precision: 0.6059 - recall: 0.7274 - f1_score: 0.6971 - auc: 0.6776 - val_loss: 0.2209 - val_tp: 851.0000 - val_fp: 514.0000 - val_tn: 922.0000 - val_fn: 533.0000 - val_accuracy: 0.6287 - val_precision: 0.6234 - val_recall: 0.6149 - val_f1_score: 0.7023 - val_auc: 0.6909\n",
            "Epoch 3/1000\n",
            "26/26 [==============================] - 1s 24ms/step - loss: 0.2167 - tp: 2352.0000 - fp: 1421.0000 - tn: 1843.0000 - fn: 964.0000 - accuracy: 0.6375 - precision: 0.6234 - recall: 0.7093 - f1_score: 0.7063 - auc: 0.7002 - val_loss: 0.2162 - val_tp: 1071.0000 - val_fp: 717.0000 - val_tn: 719.0000 - val_fn: 313.0000 - val_accuracy: 0.6348 - val_precision: 0.5990 - val_recall: 0.7738 - val_f1_score: 0.6945 - val_auc: 0.7070\n",
            "Epoch 4/1000\n",
            "26/26 [==============================] - 1s 25ms/step - loss: 0.2079 - tp: 2402.0000 - fp: 1316.0000 - tn: 1948.0000 - fn: 914.0000 - accuracy: 0.6611 - precision: 0.6460 - recall: 0.7244 - f1_score: 0.7124 - auc: 0.7297 - val_loss: 0.2131 - val_tp: 1034.0000 - val_fp: 640.0000 - val_tn: 796.0000 - val_fn: 350.0000 - val_accuracy: 0.6489 - val_precision: 0.6177 - val_recall: 0.7471 - val_f1_score: 0.6999 - val_auc: 0.7148\n",
            "Epoch 5/1000\n",
            "26/26 [==============================] - 1s 27ms/step - loss: 0.2129 - tp: 2436.0000 - fp: 1465.0000 - tn: 1799.0000 - fn: 880.0000 - accuracy: 0.6436 - precision: 0.6245 - recall: 0.7346 - f1_score: 0.7118 - auc: 0.7136 - val_loss: 0.2212 - val_tp: 1219.0000 - val_fp: 869.0000 - val_tn: 567.0000 - val_fn: 165.0000 - val_accuracy: 0.6333 - val_precision: 0.5838 - val_recall: 0.8808 - val_f1_score: 0.6967 - val_auc: 0.7160\n",
            "Epoch 6/1000\n",
            "26/26 [==============================] - 1s 24ms/step - loss: 0.1982 - tp: 2435.0000 - fp: 1181.0000 - tn: 2083.0000 - fn: 881.0000 - accuracy: 0.6866 - precision: 0.6734 - recall: 0.7343 - f1_score: 0.7174 - auc: 0.7593 - val_loss: 0.2163 - val_tp: 1099.0000 - val_fp: 714.0000 - val_tn: 722.0000 - val_fn: 285.0000 - val_accuracy: 0.6457 - val_precision: 0.6062 - val_recall: 0.7941 - val_f1_score: 0.7019 - val_auc: 0.7177\n",
            "Epoch 7/1000\n",
            "26/26 [==============================] - 1s 36ms/step - loss: 0.1882 - tp: 2469.0000 - fp: 1054.0000 - tn: 2210.0000 - fn: 847.0000 - accuracy: 0.7111 - precision: 0.7008 - recall: 0.7446 - f1_score: 0.7283 - auc: 0.7860 - val_loss: 0.2212 - val_tp: 1056.0000 - val_fp: 667.0000 - val_tn: 769.0000 - val_fn: 328.0000 - val_accuracy: 0.6472 - val_precision: 0.6129 - val_recall: 0.7630 - val_f1_score: 0.7028 - val_auc: 0.7119\n",
            "Epoch 8/1000\n",
            "26/26 [==============================] - 1s 51ms/step - loss: 0.1801 - tp: 2526.0000 - fp: 1022.0000 - tn: 2242.0000 - fn: 790.0000 - accuracy: 0.7246 - precision: 0.7120 - recall: 0.7618 - f1_score: 0.7418 - auc: 0.8039 - val_loss: 0.2191 - val_tp: 938.0000 - val_fp: 545.0000 - val_tn: 891.0000 - val_fn: 446.0000 - val_accuracy: 0.6486 - val_precision: 0.6325 - val_recall: 0.6777 - val_f1_score: 0.7086 - val_auc: 0.7104\n",
            "Epoch 9/1000\n",
            "26/26 [==============================] - 2s 63ms/step - loss: 0.1673 - tp: 2577.0000 - fp: 892.0000 - tn: 2372.0000 - fn: 739.0000 - accuracy: 0.7521 - precision: 0.7429 - recall: 0.7771 - f1_score: 0.7572 - auc: 0.8318 - val_loss: 0.2224 - val_tp: 947.0000 - val_fp: 578.0000 - val_tn: 858.0000 - val_fn: 437.0000 - val_accuracy: 0.6401 - val_precision: 0.6210 - val_recall: 0.6842 - val_f1_score: 0.7037 - val_auc: 0.7061\n",
            "Epoch 10/1000\n",
            "26/26 [==============================] - 1s 39ms/step - loss: 0.1510 - tp: 2709.0000 - fp: 775.0000 - tn: 2489.0000 - fn: 607.0000 - accuracy: 0.7900 - precision: 0.7776 - recall: 0.8169 - f1_score: 0.7737 - auc: 0.8612 - val_loss: 0.2331 - val_tp: 865.0000 - val_fp: 482.0000 - val_tn: 954.0000 - val_fn: 519.0000 - val_accuracy: 0.6450 - val_precision: 0.6422 - val_recall: 0.6250 - val_f1_score: 0.6942 - val_auc: 0.7024\n",
            "Epoch 11/1000\n",
            "26/26 [==============================] - 1s 28ms/step - loss: 0.1334 - tp: 2767.0000 - fp: 670.0000 - tn: 2594.0000 - fn: 549.0000 - accuracy: 0.8147 - precision: 0.8051 - recall: 0.8344 - f1_score: 0.8004 - auc: 0.8900 - val_loss: 0.2457 - val_tp: 861.0000 - val_fp: 517.0000 - val_tn: 919.0000 - val_fn: 523.0000 - val_accuracy: 0.6312 - val_precision: 0.6248 - val_recall: 0.6221 - val_f1_score: 0.6897 - val_auc: 0.6919\n",
            "Epoch 12/1000\n",
            "26/26 [==============================] - 1s 29ms/step - loss: 0.1200 - tp: 2826.0000 - fp: 569.0000 - tn: 2695.0000 - fn: 490.0000 - accuracy: 0.8391 - precision: 0.8324 - recall: 0.8522 - f1_score: 0.8210 - auc: 0.9078 - val_loss: 0.2574 - val_tp: 1019.0000 - val_fp: 652.0000 - val_tn: 784.0000 - val_fn: 365.0000 - val_accuracy: 0.6394 - val_precision: 0.6098 - val_recall: 0.7363 - val_f1_score: 0.6843 - val_auc: 0.6909\n",
            "Epoch 13/1000\n",
            "26/26 [==============================] - 1s 28ms/step - loss: 0.1140 - tp: 2860.0000 - fp: 593.0000 - tn: 2671.0000 - fn: 456.0000 - accuracy: 0.8406 - precision: 0.8283 - recall: 0.8625 - f1_score: 0.8320 - auc: 0.9178 - val_loss: 0.2568 - val_tp: 994.0000 - val_fp: 632.0000 - val_tn: 804.0000 - val_fn: 390.0000 - val_accuracy: 0.6376 - val_precision: 0.6113 - val_recall: 0.7182 - val_f1_score: 0.6926 - val_auc: 0.6863\n",
            "Epoch 14/1000\n",
            "26/26 [==============================] - 1s 29ms/step - loss: 0.0930 - tp: 2950.0000 - fp: 443.0000 - tn: 2821.0000 - fn: 366.0000 - accuracy: 0.8771 - precision: 0.8694 - recall: 0.8896 - f1_score: 0.8593 - auc: 0.9416 - val_loss: 0.2680 - val_tp: 992.0000 - val_fp: 643.0000 - val_tn: 793.0000 - val_fn: 392.0000 - val_accuracy: 0.6330 - val_precision: 0.6067 - val_recall: 0.7168 - val_f1_score: 0.6885 - val_auc: 0.6827\n",
            "113/113 [==============================] - 1s 13ms/step - loss: 0.2320 - tp: 1342.0000 - fp: 964.0000 - tn: 836.0000 - fn: 458.0000 - accuracy: 0.6050 - precision: 0.5820 - recall: 0.7456 - f1_score: 0.6952 - auc: 0.6519\n"
          ]
        },
        {
          "name": "stderr",
          "output_type": "stream",
          "text": [
            "WARNING:tensorflow:Model was constructed with shape (None, None, 1024) for input KerasTensor(type_spec=TensorSpec(shape=(None, None, 1024), dtype=tf.float32, name='input_7'), name='input_7', description=\"created by layer 'input_7'\"), but it was called on an input with incompatible shape (None, 1024).\n",
            "WARNING:tensorflow:Model was constructed with shape (None, None, 1024) for input KerasTensor(type_spec=TensorSpec(shape=(None, None, 1024), dtype=tf.float32, name='input_8'), name='input_8', description=\"created by layer 'input_8'\"), but it was called on an input with incompatible shape (None, 1024).\n"
          ]
        },
        {
          "name": "stdout",
          "output_type": "stream",
          "text": [
            "57/57 [==============================] - 3s 11ms/step - loss: 0.2633 - tp: 668.0000 - fp: 617.0000 - tn: 283.0000 - fn: 232.0000 - accuracy: 0.5283 - precision: 0.5198 - recall: 0.7422 - f1_score: 0.6692 - auc: 0.5506\n",
            "57/57 [==============================] - 1s 11ms/step - loss: 0.2006 - tp: 674.0000 - fp: 347.0000 - tn: 553.0000 - fn: 226.0000 - accuracy: 0.6817 - precision: 0.6601 - recall: 0.7489 - f1_score: 0.7240 - auc: 0.7481\n"
          ]
        },
        {
          "name": "stderr",
          "output_type": "stream",
          "text": [
            "WARNING:tensorflow:Model was constructed with shape (None, None, 1024) for input KerasTensor(type_spec=TensorSpec(shape=(None, None, 1024), dtype=tf.float32, name='input_7'), name='input_7', description=\"created by layer 'input_7'\"), but it was called on an input with incompatible shape (None, 1024).\n",
            "WARNING:tensorflow:Model was constructed with shape (None, None, 1024) for input KerasTensor(type_spec=TensorSpec(shape=(None, None, 1024), dtype=tf.float32, name='input_8'), name='input_8', description=\"created by layer 'input_8'\"), but it was called on an input with incompatible shape (None, 1024).\n"
          ]
        },
        {
          "name": "stdout",
          "output_type": "stream",
          "text": [
            "57/57 [==============================] - 1s 3ms/step\n",
            "57/57 [==============================] - 0s 4ms/step\n",
            "113/113 [==============================] - 1s 5ms/step\n",
            "\n",
            "[0.2319716364145279, 1342.0, 964.0, 836.0, 458.0, 0.6050000190734863, 0.5819600820541382, 0.745555579662323, 0.6951532959938049, 0.6518998742103577] \n",
            " [0.263330340385437, 668.0, 617.0, 283.0, 232.0, 0.528333306312561, 0.5198443531990051, 0.742222249507904, 0.6691728830337524, 0.5505944490432739] \n",
            " [0.2006130963563919, 674.0, 347.0, 553.0, 226.0, 0.6816666722297668, 0.6601371169090271, 0.7488889098167419, 0.724008321762085, 0.7480543255805969] \n",
            "\n",
            "\n"
          ]
        }
      ],
      "source": [
        "# model1 = genModel(attention_merge)\n",
        "# model2 = genModel(addition_merge)\n",
        "model3 = genModel(concatenate_merge)\n",
        "\n",
        "# res1 = run(model1, 'model1.h5', '1')\n",
        "# res2 = run(model2, 'model2.h5', '2')\n",
        "res3 = run(model3, 'model3.h5', '3')\n",
        "\n",
        "\n",
        "print()\n",
        "# print(res1[0], '\\n', res1[1], '\\n', res1[2], '\\n\\n')\n",
        "# print(res2[0], '\\n', res2[1], '\\n', res2[2], '\\n\\n')\n",
        "print(res3[0], '\\n', res3[1], '\\n', res3[2], '\\n\\n')\n",
        "\n"
      ]
    },
    {
      "cell_type": "markdown",
      "metadata": {
        "id": "3PbBUn8tePdk"
      },
      "source": [
        "The following snippet will print coherent result of the evaluation of each datasets."
      ]
    },
    {
      "cell_type": "code",
      "execution_count": null,
      "metadata": {
        "colab": {
          "base_uri": "https://localhost:8080/"
        },
        "id": "MKBa_vcpWJQg",
        "outputId": "95b1da44-d0b5-432a-f58d-773a9bcea802"
      },
      "outputs": [
        {
          "name": "stdout",
          "output_type": "stream",
          "text": [
            "loss: 0.2319716364145279 - tp: 1342.0 - fp: 964.0 - tn: 836.0 - fn: 458.0 - accuracy: 0.6050000190734863 - precision: 0.5819600820541382 - recall: 0.745555579662323 - f1-score: 0.6951532959938049 - auc: 0.6518998742103577 - \n",
            "loss: 0.263330340385437 - tp: 668.0 - fp: 617.0 - tn: 283.0 - fn: 232.0 - accuracy: 0.528333306312561 - precision: 0.5198443531990051 - recall: 0.742222249507904 - f1-score: 0.6691728830337524 - auc: 0.5505944490432739 - \n",
            "loss: 0.2006130963563919 - tp: 674.0 - fp: 347.0 - tn: 553.0 - fn: 226.0 - accuracy: 0.6816666722297668 - precision: 0.6601371169090271 - recall: 0.7488889098167419 - f1-score: 0.724008321762085 - auc: 0.7480543255805969 - \n",
            "\n"
          ]
        }
      ],
      "source": [
        "def printing(results):\n",
        "\n",
        "  name = ['loss', 'tp', 'fp', 'tn', 'fn', 'accuracy', 'precision', 'recall', 'f1-score', 'auc']\n",
        "  for result in results:\n",
        "    op=''\n",
        "    for i in range(len(name)):\n",
        "      op+=name[i]+\": \"+ str(result[i]) +\" - \"\n",
        "    print(op)\n",
        "  print()\n",
        "\n",
        "\n",
        "\n",
        "\n",
        "# printing(res1)\n",
        "# printing(res2)\n",
        "printing(res3)\n",
        "\n"
      ]
    },
    {
      "cell_type": "code",
      "execution_count": null,
      "metadata": {
        "id": "JJge1qE5WJQh"
      },
      "outputs": [],
      "source": [
        "# modelpath = \"/content/gdrive/MyDrive/embeddings/MODELS/model6979.h5\"\n",
        "# model = tf.keras.models.load_model(modelpath, custom_objects={'contrastive_loss': contrastive_loss})\n",
        "\n",
        "# # Print the model summary\n",
        "# model.summary()"
      ]
    },
    {
      "cell_type": "code",
      "execution_count": null,
      "metadata": {
        "id": "U-fiYbeKWJQh"
      },
      "outputs": [],
      "source": [
        "# # new_model = tf.keras.models.load_model('model1.h5', custom_objects={'contrastive_loss': contrastive_loss})\n",
        "\n",
        "# # run(new_model)\n",
        "# import shutil\n",
        "# source_path = \"/content/model2.h5\"\n",
        "# destination_path = \"/content/gdrive/MyDrive/embeddings/MODELS/model6965_66_732.h5\"\n",
        "# shutil.copyfile(source_path, destination_path)\n",
        "\n",
        "\n",
        "import os\n",
        "import shutil\n",
        "source_path = \"/content/\"\n",
        "destination_path = \"/content/gdrive/MyDrive/embeddings/MODELS/cnn_lstm2/\"\n",
        "for file in os.listdir(source_path):\n",
        "\n",
        "    # Get the full path of the file.\n",
        "    file_path = os.path.join(source_path, file)\n",
        "\n",
        "    # Copy or move the file to the destination path.\n",
        "    # Check if the file is a folder.\n",
        "    if not os.path.isdir(file_path):\n",
        "\n",
        "        # Copy or move the file to the destination path.\n",
        "        shutil.copy(file_path, destination_path)\n",
        "    else:\n",
        "        # Skip the folder.\n",
        "        continue"
      ]
    }
  ],
  "metadata": {
    "accelerator": "GPU",
    "colab": {
      "collapsed_sections": [
        "8md3dGQC4qaY",
        "TkyWqVCO5F9f",
        "NPtXTNbSeqUG",
        "X04RZXAQW2SB",
        "tn_PcZYH5j69",
        "Q9BDWwAKPAFg",
        "_Idw2vUO7Iqp",
        "HiiLF_gEn66G",
        "r5myuaxil4AG"
      ],
      "gpuType": "T4",
      "provenance": []
    },
    "kernelspec": {
      "display_name": "Python 3",
      "name": "python3"
    },
    "language_info": {
      "name": "python"
    }
  },
  "nbformat": 4,
  "nbformat_minor": 0
}
